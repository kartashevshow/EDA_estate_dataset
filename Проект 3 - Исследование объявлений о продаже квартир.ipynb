{
 "cells": [
  {
   "cell_type": "markdown",
   "metadata": {},
   "source": [
    "# Исследование объявлений о продаже квартир\n",
    "\n",
    "В вашем распоряжении данные сервиса Яндекс.Недвижимость — архив объявлений о продаже квартир в Санкт-Петербурге и соседних населённых пунктов за несколько лет. Нужно научиться определять рыночную стоимость объектов недвижимости. Ваша задача — установить параметры. Это позволит построить автоматизированную систему: она отследит аномалии и мошенническую деятельность. \n",
    "\n",
    "По каждой квартире на продажу доступны два вида данных. Первые вписаны пользователем, вторые — получены автоматически на основе картографических данных. Например, расстояние до центра, аэропорта, ближайшего парка и водоёма. "
   ]
  },
  {
   "cell_type": "markdown",
   "metadata": {},
   "source": [
    "### Изучим общую информацию о данных. "
   ]
  },
  {
   "cell_type": "code",
   "execution_count": 91,
   "metadata": {},
   "outputs": [],
   "source": [
    "import seaborn as sbrn"
   ]
  },
  {
   "cell_type": "code",
   "execution_count": 1,
   "metadata": {},
   "outputs": [
    {
     "name": "stdout",
     "output_type": "stream",
     "text": [
      "   total_images  last_price  total_area first_day_exposition  rooms  \\\n",
      "0            20  13000000.0      108.00  2019-03-07T00:00:00      3   \n",
      "1             7   3350000.0       40.40  2018-12-04T00:00:00      1   \n",
      "2            10   5196000.0       56.00  2015-08-20T00:00:00      2   \n",
      "3             0  64900000.0      159.00  2015-07-24T00:00:00      3   \n",
      "4             2  10000000.0      100.00  2018-06-19T00:00:00      2   \n",
      "5            10   2890000.0       30.40  2018-09-10T00:00:00      1   \n",
      "6             6   3700000.0       37.30  2017-11-02T00:00:00      1   \n",
      "7             5   7915000.0       71.60  2019-04-18T00:00:00      2   \n",
      "8            20   2900000.0       33.16  2018-05-23T00:00:00      1   \n",
      "9            18   5400000.0       61.00  2017-02-26T00:00:00      3   \n",
      "\n",
      "   ceiling_height  floors_total  living_area  floor is_apartment  ...  \\\n",
      "0            2.70          16.0        51.00      8          NaN  ...   \n",
      "1             NaN          11.0        18.60      1          NaN  ...   \n",
      "2             NaN           5.0        34.30      4          NaN  ...   \n",
      "3             NaN          14.0          NaN      9          NaN  ...   \n",
      "4            3.03          14.0        32.00     13          NaN  ...   \n",
      "5             NaN          12.0        14.40      5          NaN  ...   \n",
      "6             NaN          26.0        10.60      6          NaN  ...   \n",
      "7             NaN          24.0          NaN     22          NaN  ...   \n",
      "8             NaN          27.0        15.43     26          NaN  ...   \n",
      "9            2.50           9.0        43.60      7          NaN  ...   \n",
      "\n",
      "   kitchen_area  balcony              locality_name  airports_nearest  \\\n",
      "0         25.00      NaN            Санкт-Петербург           18863.0   \n",
      "1         11.00      2.0             посёлок Шушары           12817.0   \n",
      "2          8.30      0.0            Санкт-Петербург           21741.0   \n",
      "3           NaN      0.0            Санкт-Петербург           28098.0   \n",
      "4         41.00      NaN            Санкт-Петербург           31856.0   \n",
      "5          9.10      NaN  городской посёлок Янино-1               NaN   \n",
      "6         14.40      1.0          посёлок Парголово           52996.0   \n",
      "7         18.90      2.0            Санкт-Петербург           23982.0   \n",
      "8          8.81      NaN             посёлок Мурино               NaN   \n",
      "9          6.50      2.0            Санкт-Петербург           50898.0   \n",
      "\n",
      "  cityCenters_nearest  parks_around3000  parks_nearest  ponds_around3000  \\\n",
      "0             16028.0               1.0          482.0               2.0   \n",
      "1             18603.0               0.0            NaN               0.0   \n",
      "2             13933.0               1.0           90.0               2.0   \n",
      "3              6800.0               2.0           84.0               3.0   \n",
      "4              8098.0               2.0          112.0               1.0   \n",
      "5                 NaN               NaN            NaN               NaN   \n",
      "6             19143.0               0.0            NaN               0.0   \n",
      "7             11634.0               0.0            NaN               0.0   \n",
      "8                 NaN               NaN            NaN               NaN   \n",
      "9             15008.0               0.0            NaN               0.0   \n",
      "\n",
      "   ponds_nearest  days_exposition  \n",
      "0          755.0              NaN  \n",
      "1            NaN             81.0  \n",
      "2          574.0            558.0  \n",
      "3          234.0            424.0  \n",
      "4           48.0            121.0  \n",
      "5            NaN             55.0  \n",
      "6            NaN            155.0  \n",
      "7            NaN              NaN  \n",
      "8            NaN            189.0  \n",
      "9            NaN            289.0  \n",
      "\n",
      "[10 rows x 22 columns]\n"
     ]
    }
   ],
   "source": [
    "import pandas as pd\n",
    "data = pd.read_csv('/datasets/real_estate_data.csv', sep = '\\t')\n",
    "\n",
    "print(data.head(10))"
   ]
  },
  {
   "cell_type": "code",
   "execution_count": 2,
   "metadata": {},
   "outputs": [
    {
     "name": "stdout",
     "output_type": "stream",
     "text": [
      "<class 'pandas.core.frame.DataFrame'>\n",
      "RangeIndex: 23699 entries, 0 to 23698\n",
      "Data columns (total 22 columns):\n",
      " #   Column                Non-Null Count  Dtype  \n",
      "---  ------                --------------  -----  \n",
      " 0   total_images          23699 non-null  int64  \n",
      " 1   last_price            23699 non-null  float64\n",
      " 2   total_area            23699 non-null  float64\n",
      " 3   first_day_exposition  23699 non-null  object \n",
      " 4   rooms                 23699 non-null  int64  \n",
      " 5   ceiling_height        14504 non-null  float64\n",
      " 6   floors_total          23613 non-null  float64\n",
      " 7   living_area           21796 non-null  float64\n",
      " 8   floor                 23699 non-null  int64  \n",
      " 9   is_apartment          2775 non-null   object \n",
      " 10  studio                23699 non-null  bool   \n",
      " 11  open_plan             23699 non-null  bool   \n",
      " 12  kitchen_area          21421 non-null  float64\n",
      " 13  balcony               12180 non-null  float64\n",
      " 14  locality_name         23650 non-null  object \n",
      " 15  airports_nearest      18157 non-null  float64\n",
      " 16  cityCenters_nearest   18180 non-null  float64\n",
      " 17  parks_around3000      18181 non-null  float64\n",
      " 18  parks_nearest         8079 non-null   float64\n",
      " 19  ponds_around3000      18181 non-null  float64\n",
      " 20  ponds_nearest         9110 non-null   float64\n",
      " 21  days_exposition       20518 non-null  float64\n",
      "dtypes: bool(2), float64(14), int64(3), object(3)\n",
      "memory usage: 3.7+ MB\n"
     ]
    }
   ],
   "source": [
    "data.info()"
   ]
  },
  {
   "cell_type": "code",
   "execution_count": 3,
   "metadata": {},
   "outputs": [
    {
     "data": {
      "text/plain": [
       "array([[<AxesSubplot:title={'center':'total_images'}>,\n",
       "        <AxesSubplot:title={'center':'last_price'}>,\n",
       "        <AxesSubplot:title={'center':'total_area'}>,\n",
       "        <AxesSubplot:title={'center':'rooms'}>],\n",
       "       [<AxesSubplot:title={'center':'ceiling_height'}>,\n",
       "        <AxesSubplot:title={'center':'floors_total'}>,\n",
       "        <AxesSubplot:title={'center':'living_area'}>,\n",
       "        <AxesSubplot:title={'center':'floor'}>],\n",
       "       [<AxesSubplot:title={'center':'kitchen_area'}>,\n",
       "        <AxesSubplot:title={'center':'balcony'}>,\n",
       "        <AxesSubplot:title={'center':'airports_nearest'}>,\n",
       "        <AxesSubplot:title={'center':'cityCenters_nearest'}>],\n",
       "       [<AxesSubplot:title={'center':'parks_around3000'}>,\n",
       "        <AxesSubplot:title={'center':'parks_nearest'}>,\n",
       "        <AxesSubplot:title={'center':'ponds_around3000'}>,\n",
       "        <AxesSubplot:title={'center':'ponds_nearest'}>],\n",
       "       [<AxesSubplot:title={'center':'days_exposition'}>, <AxesSubplot:>,\n",
       "        <AxesSubplot:>, <AxesSubplot:>]], dtype=object)"
      ]
     },
     "execution_count": 3,
     "metadata": {},
     "output_type": "execute_result"
    },
    {
     "data": {
      "image/png": "[encoded data removed]",
      "text/plain": [
       "<Figure size 1080x1440 with 20 Axes>"
      ]
     },
     "metadata": {
      "needs_background": "light"
     },
     "output_type": "display_data"
    }
   ],
   "source": [
    "#Посмотрим на распределение числовых данных в наборе данных\n",
    "data.hist(figsize = (15, 20))"
   ]
  },
  {
   "cell_type": "markdown",
   "metadata": {},
   "source": [
    "### Предобработка данных"
   ]
  },
  {
   "cell_type": "markdown",
   "metadata": {},
   "source": [
    "Проверим основную информацию по набору данных. Проверим где есть пропуски. и какая доля пропусков в каждом столбце."
   ]
  },
  {
   "cell_type": "code",
   "execution_count": 4,
   "metadata": {},
   "outputs": [
    {
     "data": {
      "text/plain": [
       "is_apartment            88.290645\n",
       "parks_nearest           65.909954\n",
       "ponds_nearest           61.559559\n",
       "balcony                 48.605426\n",
       "ceiling_height          38.799105\n",
       "airports_nearest        23.384953\n",
       "cityCenters_nearest     23.287902\n",
       "ponds_around3000        23.283683\n",
       "parks_around3000        23.283683\n",
       "days_exposition         13.422507\n",
       "kitchen_area             9.612220\n",
       "living_area              8.029875\n",
       "floors_total             0.362885\n",
       "locality_name            0.206760\n",
       "total_images             0.000000\n",
       "last_price               0.000000\n",
       "studio                   0.000000\n",
       "floor                    0.000000\n",
       "rooms                    0.000000\n",
       "first_day_exposition     0.000000\n",
       "total_area               0.000000\n",
       "open_plan                0.000000\n",
       "dtype: float64"
      ]
     },
     "execution_count": 4,
     "metadata": {},
     "output_type": "execute_result"
    }
   ],
   "source": [
    "(data\n",
    "    .isna()\n",
    "    .mean()\n",
    "    .sort_values(ascending = False)*100)\n",
    "\n"
   ]
  },
  {
   "cell_type": "markdown",
   "metadata": {},
   "source": [
    "#### **Обработка пропусков, аномалий и изменение типов данных:**\n",
    "\n",
    "Внаборе данных 23699 строк, 21 столбец.\n"
   ]
  },
  {
   "cell_type": "markdown",
   "metadata": {},
   "source": [
    "- **`rooms`**\n",
    "В стом столбце большая часть данных располагается в диапазоне 0 - 5 комнат. Квартиры с количеством комнат от 5 встречаются значительно реже. \n",
    "6 комнаятных квартир почти 300 штук, поэтому их как аномальные отбрасывать не будем. А вот квартиры с количеством комнат от 7 отбросим как аномальные."
   ]
  },
  {
   "cell_type": "code",
   "execution_count": 5,
   "metadata": {},
   "outputs": [],
   "source": [
    "#data['rooms'].hist()\n",
    "#data['rooms'].hist(range = (7,15))"
   ]
  },
  {
   "cell_type": "code",
   "execution_count": 6,
   "metadata": {},
   "outputs": [],
   "source": [
    "data = data.loc[data['rooms'] <= 6]"
   ]
  },
  {
   "cell_type": "markdown",
   "metadata": {},
   "source": [
    "- **`is_apartment`**\n",
    "\n",
    "Больше всего пропусков в столбце `is_apartment`. Пропуски в этом столбце оставляем как есть. Скорее - всего пользователь не указывает, что продает апартаменты. Иметь в таблице на 23699 строк всего 50 значений **True** очень странно. \n",
    "\n",
    "Тип данных в этом столбце - строка. Изменим тип данных на булев тип."
   ]
  },
  {
   "cell_type": "code",
   "execution_count": 7,
   "metadata": {},
   "outputs": [
    {
     "data": {
      "text/plain": [
       "False    2721\n",
       "True       49\n",
       "Name: is_apartment, dtype: int64"
      ]
     },
     "execution_count": 7,
     "metadata": {},
     "output_type": "execute_result"
    }
   ],
   "source": [
    "data['is_apartment'].value_counts()"
   ]
  },
  {
   "cell_type": "markdown",
   "metadata": {},
   "source": [
    "##### **`parks_nearest`**\n",
    "\n",
    "Для заполнения пропусков в этой колонке, было бы разумно сгруппировать набор данных по столбцу `locality_name` и для всех городских поселений, исключая Санкт - Петербург и городские поселения с малым количеством количеством объявлений найти медианное растояние до парка. Этот вариант был бы рабочим, если бы парк располагался в географическом центре города. Поэтому пропуски в стом столбце не получистся заменить.\n",
    "Причины может быть две: в населенном пункте нет парка, либо пропуск появился в результате технической ошибки. Вряд ли пользователи сами указывают расстояние до близжайших парков, при добавлении объявления. Скорее - всего данные в этом столбце расчитываются автоматически, в зависимости от географического расположения продаваемого объекта, и географического расположения парка в населенном пункте.\n",
    "Будет разумно, если вместо столбца с расстояниями до ближайшего парка в м. использовать столбец с указанием времени пешей ходьбы до ближайшего парка со следующими категориями: \n",
    "- Парк в 5 минутах \n",
    "- Парк в 10 минутах\n",
    "- Парк в 15 минутах\n",
    "- Парк в 20 минутах\n",
    "- Нет парков в пешей доступности (там, где пропуски и везде, где время пешком >20 минут)\n",
    "\n",
    "*(Для расчета примем скорость ходьбы - 4 км/ч (66,67 м/мин))*"
   ]
  },
  {
   "cell_type": "code",
   "execution_count": null,
   "metadata": {},
   "outputs": [],
   "source": []
  },
  {
   "cell_type": "code",
   "execution_count": 8,
   "metadata": {},
   "outputs": [
    {
     "data": {
      "text/plain": [
       "count    8015.000000\n",
       "mean      491.208734\n",
       "std       342.906455\n",
       "min         1.000000\n",
       "25%       288.000000\n",
       "50%       455.000000\n",
       "75%       613.000000\n",
       "max      3190.000000\n",
       "Name: parks_nearest, dtype: float64"
      ]
     },
     "execution_count": 8,
     "metadata": {},
     "output_type": "execute_result"
    }
   ],
   "source": [
    "#Помотрим нет ли в столбце аномалных значений\n",
    "data['parks_nearest'].describe() "
   ]
  },
  {
   "cell_type": "code",
   "execution_count": 9,
   "metadata": {},
   "outputs": [
    {
     "data": {
      "text/plain": [
       "Нет парков в пешей доступности    15970\n",
       "Парк в 15 минутах пешком           4041\n",
       "Парк в 5 минутах пешком            2508\n",
       "Парк в 20 минутах пешком           1090\n",
       "Name: walk_to_park, dtype: int64"
      ]
     },
     "execution_count": 9,
     "metadata": {},
     "output_type": "execute_result"
    }
   ],
   "source": [
    "#Заменим пропуски на большие числа, чтобы значения в столбцах укладывались в логику функции:\n",
    "data['parks_nearest'] = data['parks_nearest'].fillna(999999)\n",
    "\n",
    "#Судя по тому, что минимальное значение == 1, можно предположить, что отсутствие значений в этом столце означает что парков поблизости нет\n",
    "def walk_to_park(distance):\n",
    "    walk_speed = 66.67\n",
    "    time = distance/walk_speed\n",
    "    if time <= 5:\n",
    "        walking_time = \"Парк в 5 минутах пешком\"\n",
    "    elif time <= 10 and time < 5:\n",
    "        walking_time = \"Парк в 10 минутах пешком\"\n",
    "    elif time <= 15 and time < 10:\n",
    "        walking_time = \"Парк в 15 минутах пешком\"\n",
    "    elif time <= 15 and time < 20:\n",
    "        walking_time = \"Парк в 20 минутах пешком\"\n",
    "    else:\n",
    "        walking_time = \"Нет парков в пешей доступности\"\n",
    "    return walking_time\n",
    "\n",
    "data['walk_to_park'] = data['parks_nearest'].apply(walk_to_park)\n",
    "\n",
    "#Проверим все ли ок\n",
    "data['walk_to_park'].value_counts()\n",
    "#Похоже, что значение в этом столбце указывается при наличии парка на расстоянии 3000 м. \n",
    "#В случае, если парка на этом расстоянии нет, то в даных появляется пропуск. Логика не нарушена. "
   ]
  },
  {
   "cell_type": "markdown",
   "metadata": {},
   "source": [
    "##### **`ponds_nearest`**\n",
    "\n",
    "С этим столбцом ситуация аналогична столбцу `parks_nearest` тоже заменим пропуски на категории."
   ]
  },
  {
   "cell_type": "code",
   "execution_count": 10,
   "metadata": {},
   "outputs": [
    {
     "data": {
      "text/plain": [
       "count    9055.000000\n",
       "mean      518.614467\n",
       "std       277.707602\n",
       "min        13.000000\n",
       "25%       295.000000\n",
       "50%       503.000000\n",
       "75%       730.000000\n",
       "max      1344.000000\n",
       "Name: ponds_nearest, dtype: float64"
      ]
     },
     "execution_count": 10,
     "metadata": {},
     "output_type": "execute_result"
    }
   ],
   "source": [
    "#Помотрим нет ли в столбце аномалных значений\n",
    "data['ponds_nearest'].describe()"
   ]
  },
  {
   "cell_type": "code",
   "execution_count": 11,
   "metadata": {},
   "outputs": [
    {
     "data": {
      "text/plain": [
       "Нет водоемов в пешей доступности    14903\n",
       "Водоем в 15 минутах пешком           3651\n",
       "Водоем в 5 минутах пешком            2616\n",
       "Водоем в 20 минутах пешком           2439\n",
       "Name: walk_to_pound, dtype: int64"
      ]
     },
     "execution_count": 11,
     "metadata": {},
     "output_type": "execute_result"
    }
   ],
   "source": [
    "#Заменим пропуски на большие числа, чтобыпри выполнении функции сохранялась логика:\n",
    "data['ponds_nearest'] = data['ponds_nearest'].fillna(999999)\n",
    "\n",
    "#Судя по тому, что минимальное значение == 1, можно предположить, что отсутствие значений в этом столце означает что водоемлв поблизости нет\n",
    "def walk_to_pound(distance):\n",
    "    walk_speed = 66.67\n",
    "    time = distance/walk_speed\n",
    "    if time <= 5:\n",
    "        walking_time = \"Водоем в 5 минутах пешком\"\n",
    "    elif time <= 10 and time < 5:\n",
    "        walking_time = \"Водоем в 10 минутах пешком\"\n",
    "    elif time <= 15 and time < 10:\n",
    "        walking_time = \"Водоем в 15 минутах пешком\"\n",
    "    elif time <= 15 and time < 20:\n",
    "        walking_time = \"Водоем в 20 минутах пешком\"\n",
    "    else:\n",
    "        walking_time = \"Нет водоемов в пешей доступности\"\n",
    "    return walking_time\n",
    "\n",
    "data['walk_to_pound'] = data['ponds_nearest'].apply(walk_to_pound)\n",
    "\n",
    "#Проверим все ли ок\n",
    "data['walk_to_pound'].value_counts()"
   ]
  },
  {
   "cell_type": "markdown",
   "metadata": {},
   "source": [
    "<div class=\"alert alert-success\">\n",
    "\n",
    "**✔️ Комментарий ревьюера ✔️**\n",
    "   \n",
    "   Интересный способ👍\n",
    "\n",
    "</div>\n"
   ]
  },
  {
   "cell_type": "markdown",
   "metadata": {},
   "source": [
    "##### **`balcony`**\n",
    "\n",
    "Как было сказано в преамбуле задания - пропущенные значения скорее - всего означают то, что балкона в квартире просто нет. Поэтому пропущенные значения стоит заменить на 0. \n",
    "\n",
    "Так как количество балконов это целое число - изменим тип данных на \"int\"."
   ]
  },
  {
   "cell_type": "code",
   "execution_count": 12,
   "metadata": {},
   "outputs": [
    {
     "data": {
      "text/html": [
       "<div>\n",
       "<style scoped>\n",
       "    .dataframe tbody tr th:only-of-type {\n",
       "        vertical-align: middle;\n",
       "    }\n",
       "\n",
       "    .dataframe tbody tr th {\n",
       "        vertical-align: top;\n",
       "    }\n",
       "\n",
       "    .dataframe thead th {\n",
       "        text-align: right;\n",
       "    }\n",
       "</style>\n",
       "<table border=\"1\" class=\"dataframe\">\n",
       "  <thead>\n",
       "    <tr style=\"text-align: right;\">\n",
       "      <th>balcony</th>\n",
       "      <th>0</th>\n",
       "      <th>1</th>\n",
       "      <th>2</th>\n",
       "      <th>3</th>\n",
       "      <th>4</th>\n",
       "      <th>5</th>\n",
       "    </tr>\n",
       "    <tr>\n",
       "      <th>rooms</th>\n",
       "      <th></th>\n",
       "      <th></th>\n",
       "      <th></th>\n",
       "      <th></th>\n",
       "      <th></th>\n",
       "      <th></th>\n",
       "    </tr>\n",
       "  </thead>\n",
       "  <tbody>\n",
       "    <tr>\n",
       "      <th>0</th>\n",
       "      <td>83.0</td>\n",
       "      <td>29.0</td>\n",
       "      <td>85.0</td>\n",
       "      <td>NaN</td>\n",
       "      <td>NaN</td>\n",
       "      <td>NaN</td>\n",
       "    </tr>\n",
       "    <tr>\n",
       "      <th>1</th>\n",
       "      <td>5048.0</td>\n",
       "      <td>1472.0</td>\n",
       "      <td>1484.0</td>\n",
       "      <td>2.0</td>\n",
       "      <td>16.0</td>\n",
       "      <td>25.0</td>\n",
       "    </tr>\n",
       "    <tr>\n",
       "      <th>2</th>\n",
       "      <td>5079.0</td>\n",
       "      <td>1547.0</td>\n",
       "      <td>1149.0</td>\n",
       "      <td>21.0</td>\n",
       "      <td>61.0</td>\n",
       "      <td>83.0</td>\n",
       "    </tr>\n",
       "    <tr>\n",
       "      <th>3</th>\n",
       "      <td>3779.0</td>\n",
       "      <td>916.0</td>\n",
       "      <td>829.0</td>\n",
       "      <td>41.0</td>\n",
       "      <td>83.0</td>\n",
       "      <td>166.0</td>\n",
       "    </tr>\n",
       "    <tr>\n",
       "      <th>4</th>\n",
       "      <td>880.0</td>\n",
       "      <td>156.0</td>\n",
       "      <td>91.0</td>\n",
       "      <td>12.0</td>\n",
       "      <td>18.0</td>\n",
       "      <td>23.0</td>\n",
       "    </tr>\n",
       "    <tr>\n",
       "      <th>5</th>\n",
       "      <td>252.0</td>\n",
       "      <td>44.0</td>\n",
       "      <td>16.0</td>\n",
       "      <td>4.0</td>\n",
       "      <td>5.0</td>\n",
       "      <td>5.0</td>\n",
       "    </tr>\n",
       "    <tr>\n",
       "      <th>6</th>\n",
       "      <td>84.0</td>\n",
       "      <td>17.0</td>\n",
       "      <td>4.0</td>\n",
       "      <td>NaN</td>\n",
       "      <td>NaN</td>\n",
       "      <td>NaN</td>\n",
       "    </tr>\n",
       "  </tbody>\n",
       "</table>\n",
       "</div>"
      ],
      "text/plain": [
       "balcony       0       1       2     3     4      5\n",
       "rooms                                             \n",
       "0          83.0    29.0    85.0   NaN   NaN    NaN\n",
       "1        5048.0  1472.0  1484.0   2.0  16.0   25.0\n",
       "2        5079.0  1547.0  1149.0  21.0  61.0   83.0\n",
       "3        3779.0   916.0   829.0  41.0  83.0  166.0\n",
       "4         880.0   156.0    91.0  12.0  18.0   23.0\n",
       "5         252.0    44.0    16.0   4.0   5.0    5.0\n",
       "6          84.0    17.0     4.0   NaN   NaN    NaN"
      ]
     },
     "execution_count": 12,
     "metadata": {},
     "output_type": "execute_result"
    }
   ],
   "source": [
    "#Заменим пропуски нулями и посмотрим на распределение количества балконов \n",
    "data['balcony'] = data['balcony'].fillna(0)\n",
    "#data['balcony'].hist()\n",
    "# в целом все ок, основную часть данных составляют 0-2'балконные квартиры. А вот 3-5 балконов это уже итересно. \n",
    "#Посмотрим на количество балконов в разрезе колиества комнат\n",
    "\n",
    "#Изменим тип данных на 'int'\n",
    "data['balcony'] = data['balcony'].astype(int)\n",
    "\n",
    "\n",
    "data.pivot_table(index = 'rooms', columns = 'balcony', values = 'floor', aggfunc = 'count')\n",
    "#Интересно выглядят 1к кв. и 2к кв., в которых количество балконов в 2 раза превышае колиество комнат. \n",
    "#Думаю будет разумно удалить из данных строки в которых количество балконов выглядит странно:\n",
    "#rooms == 1, balcony > 2; \n",
    "#rooms == 2, balcony > 2; \n",
    "#В остальных случаях могут иметь место большие квартиры с нестандартными планировками. Так что остальное оставляем"
   ]
  },
  {
   "cell_type": "code",
   "execution_count": 13,
   "metadata": {},
   "outputs": [
    {
     "data": {
      "text/plain": [
       "23401"
      ]
     },
     "execution_count": 13,
     "metadata": {},
     "output_type": "execute_result"
    }
   ],
   "source": [
    "def remove_balcony_anomalies(df):\n",
    "    rooms = df['rooms']\n",
    "    balcony = df['balcony']\n",
    "    \n",
    "    if (rooms == 2 or rooms == 1) and balcony > 2:\n",
    "        flag = 'remove'\n",
    "    else:\n",
    "        flag = 'ok'\n",
    "    return flag\n",
    "\n",
    "data['flag_balcony'] = data.apply(remove_balcony_anomalies, axis = 1)\n",
    "data['flag_balcony'].value_counts()\n",
    "\n",
    "data = data.loc[data['flag_balcony'] == 'ok']\n",
    "len(data)"
   ]
  },
  {
   "cell_type": "markdown",
   "metadata": {},
   "source": [
    "##### **`ceiling_height`**\n",
    "\n",
    "Пропуски в этом столбце скорее - всего обусловлены тем, что пользователи не указывают высоту потолков в квартире. Заменить их стоит на медианное значение высоты полоков по всему набору данных в зависимости от количества комнат в квартире."
   ]
  },
  {
   "cell_type": "code",
   "execution_count": 14,
   "metadata": {},
   "outputs": [
    {
     "data": {
      "text/plain": [
       "count    14283.000000\n",
       "mean         2.758654\n",
       "std          0.921569\n",
       "min          1.000000\n",
       "25%          2.510000\n",
       "50%          2.650000\n",
       "75%          2.800000\n",
       "max         32.000000\n",
       "Name: ceiling_height, dtype: float64"
      ]
     },
     "execution_count": 14,
     "metadata": {},
     "output_type": "execute_result"
    }
   ],
   "source": [
    "#Посмотрим основную информацию о солбце данных\n",
    "data['ceiling_height'].describe()\n",
    "#В этом столбце наблюдается явные выбросы посмотрим на гистограмме"
   ]
  },
  {
   "cell_type": "code",
   "execution_count": 15,
   "metadata": {},
   "outputs": [
    {
     "data": {
      "text/plain": [
       "<AxesSubplot:>"
      ]
     },
     "execution_count": 15,
     "metadata": {},
     "output_type": "execute_result"
    },
    {
     "data": {
      "image/png": "[encoded data removed]",
      "text/plain": [
       "<Figure size 432x288 with 1 Axes>"
      ]
     },
     "metadata": {
      "needs_background": "light"
     },
     "output_type": "display_data"
    }
   ],
   "source": [
    "#Большая часть данных расположена в диапазоне 2 - 4 м, но встречаются отдельные квартиры с восотой потолков 5-7 м. Логиеск они соответствуют цене и ощей площади. Их оставляем.\n",
    "#Значения больше 7 м будем считать аномальными.\n",
    "#data['ceiling_height'].hist()\n",
    "\n",
    "data['ceiling_height'].hist(range = (1,10))\n"
   ]
  },
  {
   "cell_type": "code",
   "execution_count": 16,
   "metadata": {},
   "outputs": [
    {
     "data": {
      "image/png": "[encoded data removed]",
      "text/plain": [
       "<Figure size 432x288 with 1 Axes>"
      ]
     },
     "metadata": {
      "needs_background": "light"
     },
     "output_type": "display_data"
    }
   ],
   "source": [
    "#посмотрим на срез данных где высота потолков больше 7м\n",
    "data['ceiling_height'].hist(range = (7, 100))\n",
    "#Аномальных значений не так много. Всего одно объявление с высотой 100 м. Его мы отбросим. \n",
    "data = data.query('ceiling_height != 100')"
   ]
  },
  {
   "cell_type": "markdown",
   "metadata": {},
   "source": [
    "Строки с высотой потолков от 7м до 19м можно отбросить, но я заменю на медианные по похожим по количеству комнат квартирам, поскольку такие значения логически не сопоставляются с площадью квартиры и ценой. \n",
    "Строки со значениями высоты от 20 заменим на значения в 10 раз меньше, поскольку пользователь мог ошибиться.\n"
   ]
  },
  {
   "cell_type": "code",
   "execution_count": 17,
   "metadata": {},
   "outputs": [
    {
     "data": {
      "text/plain": [
       "ceiling_height  total_area  last_price\n",
       "8.0             30.0        1400000.0     1\n",
       "                54.0        5350000.0     1\n",
       "27.5            42.0        4900000.0     1\n",
       "27.0            98.0        4000000.0     1\n",
       "                58.0        3800000.0     1\n",
       "                56.0        3900000.0     1\n",
       "                54.0        2500000.0     1\n",
       "                45.0        8000000.0     1\n",
       "                44.0        2450000.0     1\n",
       "                25.0        3000000.0     1\n",
       "26.0            50.0        4400000.0     1\n",
       "25.0            55.2        3600000.0     1\n",
       "                45.0        4300000.0     1\n",
       "                44.4        3300000.0     1\n",
       "                43.0        3750000.0     1\n",
       "                42.0        3950000.0     1\n",
       "                37.0        1950000.0     1\n",
       "                35.0        1700000.0     1\n",
       "24.0            30.5        3850000.0     1\n",
       "22.6            60.0        5950000.0     1\n",
       "20.0            92.9        6700000.0     1\n",
       "14.0            56.4        5600000.0     1\n",
       "10.3            45.0        5300000.0     1\n",
       "8.3             45.0        5650000.0     1\n",
       "8.0             67.0        5600000.0     1\n",
       "32.0            75.0        2900000.0     1\n",
       "dtype: int64"
      ]
     },
     "execution_count": 17,
     "metadata": {},
     "output_type": "execute_result"
    }
   ],
   "source": [
    "data.loc[data['ceiling_height'] >= 7, ['ceiling_height', 'total_area', 'last_price']].value_counts()"
   ]
  },
  {
   "cell_type": "code",
   "execution_count": 18,
   "metadata": {},
   "outputs": [
    {
     "data": {
      "text/html": [
       "<div>\n",
       "<style scoped>\n",
       "    .dataframe tbody tr th:only-of-type {\n",
       "        vertical-align: middle;\n",
       "    }\n",
       "\n",
       "    .dataframe tbody tr th {\n",
       "        vertical-align: top;\n",
       "    }\n",
       "\n",
       "    .dataframe thead th {\n",
       "        text-align: right;\n",
       "    }\n",
       "</style>\n",
       "<table border=\"1\" class=\"dataframe\">\n",
       "  <thead>\n",
       "    <tr style=\"text-align: right;\">\n",
       "      <th></th>\n",
       "      <th>rooms</th>\n",
       "      <th>ceiling_height</th>\n",
       "    </tr>\n",
       "  </thead>\n",
       "  <tbody>\n",
       "    <tr>\n",
       "      <th>0</th>\n",
       "      <td>0</td>\n",
       "      <td>2.75</td>\n",
       "    </tr>\n",
       "    <tr>\n",
       "      <th>1</th>\n",
       "      <td>1</td>\n",
       "      <td>2.64</td>\n",
       "    </tr>\n",
       "    <tr>\n",
       "      <th>2</th>\n",
       "      <td>2</td>\n",
       "      <td>2.60</td>\n",
       "    </tr>\n",
       "    <tr>\n",
       "      <th>3</th>\n",
       "      <td>3</td>\n",
       "      <td>2.65</td>\n",
       "    </tr>\n",
       "    <tr>\n",
       "      <th>4</th>\n",
       "      <td>4</td>\n",
       "      <td>2.80</td>\n",
       "    </tr>\n",
       "    <tr>\n",
       "      <th>5</th>\n",
       "      <td>5</td>\n",
       "      <td>3.10</td>\n",
       "    </tr>\n",
       "    <tr>\n",
       "      <th>6</th>\n",
       "      <td>6</td>\n",
       "      <td>3.20</td>\n",
       "    </tr>\n",
       "  </tbody>\n",
       "</table>\n",
       "</div>"
      ],
      "text/plain": [
       "   rooms  ceiling_height\n",
       "0      0            2.75\n",
       "1      1            2.64\n",
       "2      2            2.60\n",
       "3      3            2.65\n",
       "4      4            2.80\n",
       "5      5            3.10\n",
       "6      6            3.20"
      ]
     },
     "execution_count": 18,
     "metadata": {},
     "output_type": "execute_result"
    }
   ],
   "source": [
    "#Сохраним в отдельный набор данных медианную высоту потолков по квартирам с определеным количеством комнат\n",
    "median_ceiling_height = data.pivot_table(index = 'rooms', values = 'ceiling_height', aggfunc = 'median').reset_index()\n",
    "median_ceiling_height"
   ]
  },
  {
   "cell_type": "code",
   "execution_count": 19,
   "metadata": {},
   "outputs": [],
   "source": [
    "#Напишем функцию для замены аномальных значений. Те значения которые больше 20м, будут уменьшены в 10 раз.\n",
    "#Значения от 7 до 19 м заменим на нули, чтобы на следующем шаге сделать замену.\n",
    "def correct_ceiling_height(row):\n",
    "    if row >= 20:\n",
    "        row = row/10\n",
    "    elif row >= 7 and row <= 19:\n",
    "        row = 0\n",
    "    return row\n",
    "\n",
    "data['ceiling_height'] = data['ceiling_height'].apply(correct_ceiling_height)"
   ]
  },
  {
   "cell_type": "markdown",
   "metadata": {},
   "source": [
    "Для заполнения пропусков сделаем следующее:\n",
    "\n",
    "**1** Все пропуски заменим на 0.\n",
    "\n",
    "**2**. Сгруппируем данные о высоте потолков по столбцу с количеством комнат и вычислим медианную высоту потолка в каждой категории (уже сделано).\n",
    "\n",
    "**3**. Заменим 0 на медианную высоту потолка в зависимости от количества комнат.\n"
   ]
  },
  {
   "cell_type": "code",
   "execution_count": 20,
   "metadata": {},
   "outputs": [],
   "source": [
    "data['ceiling_height'] = data['ceiling_height'].fillna(0)\n",
    "#Убил целый день на эту функцию. Получилась капитальная (но работающая) грязь. \n",
    "#Подскажи плиз как можно сделать замену изящнее :((\n",
    "\n",
    "def get_ceiling_height(row):\n",
    "    rooms_number = row['rooms']\n",
    "    ceiling_height = row['ceiling_height']\n",
    "    \n",
    "    if ceiling_height == 0:\n",
    "        for index in range(0, len(median_ceiling_height)):\n",
    "            if rooms_number == median_ceiling_height.loc[index, ['rooms']].item():\n",
    "                ceiling_height = median_ceiling_height.loc[index, ['ceiling_height']].item()\n",
    "    return ceiling_height\n",
    "\n",
    "data['ceiling_height'] = data.apply(get_ceiling_height, axis = 1)\n",
    "#Проверим все ли ок:\n",
    "#data['ceiling_height'].hist()\n",
    "#Квартиры с высотой потолков до 2 м отбросим как аномальные\n",
    "data = data.loc[data['ceiling_height'] >=2]\n",
    "#¯\\_(ツ)_/¯"
   ]
  },
  {
   "cell_type": "markdown",
   "metadata": {},
   "source": [
    "##### **`airports_nearest`**\n",
    "\n",
    "Ситуация аналогична стобцам `ponds_nearest` и `parks_nearest`. Вместо столбца с расстояними, добавим столбец со следующими категориями:\n",
    "- Аэропорт в 10 минутах на общественном транспорте\n",
    "- Аэропорт в 20 минутах на общественном транспорте\n",
    "- Аэропорт в 30 минутах на общественном транспорте\n",
    "\n",
    "*Примем среднюю скорость объественного транспорта - 60 км/ч (1000 м/мин)"
   ]
  },
  {
   "cell_type": "code",
   "execution_count": 21,
   "metadata": {},
   "outputs": [
    {
     "data": {
      "text/plain": [
       "Нет аэропорта поблизости               18088\n",
       "30 минут на общественном транспорт      5003\n",
       "10 минут на общественном транспорте      307\n",
       "Name: ride_to_airport, dtype: int64"
      ]
     },
     "execution_count": 21,
     "metadata": {},
     "output_type": "execute_result"
    }
   ],
   "source": [
    "#Заменим пропуски на большие числа, чтобы значения в столбцах укладывались в логику функции:\n",
    "data['airports_nearest'] = data['airports_nearest'].fillna(999999)\n",
    "\n",
    "#Судя по тому, что минимальное значение == 1, можно предположить, что отсутствие значений в этом столце означает что парков поблизости нет\n",
    "def ride_to_airport(distance):\n",
    "    speed = 1000\n",
    "    time = distance/speed\n",
    "    if time <= 10:\n",
    "        ride_time = \"10 минут на общественном транспорте\"\n",
    "    elif time <= 20 and time < 10:\n",
    "        ride_time = \"20 минут на общественном транспорт\"\n",
    "    elif time <= 30 and time < 20:\n",
    "        ride_time = \"30 минут на общественном транспорт\"\n",
    "    else:\n",
    "        ride_time = \"Нет аэропорта поблизости\"\n",
    "    return ride_time\n",
    "\n",
    "data['ride_to_airport'] = data['airports_nearest'].apply(ride_to_airport)\n",
    "\n",
    "#Проверим все ли ок\n",
    "data['ride_to_airport'].value_counts()"
   ]
  },
  {
   "cell_type": "markdown",
   "metadata": {},
   "source": [
    "##### **`cityCenters_nearest`**\n",
    "\n",
    "Пропуски в этом столбце скорее - всего обусловлены технической ошибкой, поскольку пользователь не указывает вручную расстояние до центра города при добавлении объявления. Думаю, что расстояние до центра города определяется автоматически на основании географического расположения продаваемого объекта и географического центра города. Заменить пропуски в этом столбце вряд ли получится, посколько нет ни координат, ни адреса, ни каких-либо косвенных признаков, позволивших бы определить расположение объекта относительно центра города. \n",
    "Так что оставляем как есть."
   ]
  },
  {
   "cell_type": "code",
   "execution_count": 22,
   "metadata": {},
   "outputs": [
    {
     "data": {
      "text/plain": [
       "locality_name          \n",
       "Санкт-Петербург            15433\n",
       "посёлок Шушары               432\n",
       "Пушкин                       365\n",
       "Колпино                      333\n",
       "посёлок Парголово            326\n",
       "Петергоф                     200\n",
       "Сестрорецк                   181\n",
       "Красное Село                 175\n",
       "Ломоносов                    132\n",
       "Кронштадт                     94\n",
       "посёлок Металлострой          66\n",
       "посёлок Стрельна              44\n",
       "Павловск                      38\n",
       "Зеленогорск                   24\n",
       "посёлок Понтонный             20\n",
       "посёлок Сапёрный               6\n",
       "посёлок Молодёжное             5\n",
       "посёлок Репино                 4\n",
       "посёлок Песочный               3\n",
       "посёлок Лисий Нос              2\n",
       "посёлок Усть-Ижора             2\n",
       "посёлок Александровская        2\n",
       "поселок Мурино                 2\n",
       "посёлок Левашово               1\n",
       "посёлок Петро-Славянка         1\n",
       "посёлок Белоостров             1\n",
       "поселок Лисий Нос              1\n",
       "посёлок Щеглово                1\n",
       "dtype: int64"
      ]
     },
     "execution_count": 22,
     "metadata": {},
     "output_type": "execute_result"
    }
   ],
   "source": [
    "#Проверим для каких поселений расчитано расстояние до центра города\n",
    "data.loc[data['cityCenters_nearest'] > 0, ['locality_name']].value_counts()\n",
    "\n",
    "#О! Расстояние до центра рассчитано для Санкт - Петербурга. Разделим данные на 3 категории: \n",
    "#Будем считать, что все, что насстоянии до 5000 м - СПб - центр\n",
    "#Все остальное - СПб\n",
    "#Везде, где пропуски - ЛО"
   ]
  },
  {
   "cell_type": "code",
   "execution_count": 23,
   "metadata": {},
   "outputs": [],
   "source": [
    "def get_location_categoty(row):\n",
    "    max_distance = data['cityCenters_nearest'].max()\n",
    "    location =data['locality_name']\n",
    "    if row <= 5000:\n",
    "        return 'СПб - Центр'\n",
    "    elif row > 5000 and row <= max_distance:\n",
    "        return 'СПб'\n",
    "    else:\n",
    "        return 'ЛО'\n",
    "    \n",
    "data['location_category'] = data['cityCenters_nearest'].apply(get_location_categoty)"
   ]
  },
  {
   "cell_type": "markdown",
   "metadata": {},
   "source": [
    "##### **`ponds_around3000`** и **`parks_around3000`**\n",
    "\n",
    "Пропуски в этих столбцах обусловлены технической ошибкой, поскольку количество пропусков в них одинаковое и не равно количеству пропусках ни в одном другом столбце набора данных. \n",
    "Можно было бы предположить, что пропуски обусловлены отсутствием парков поблизости, но в столбце почти 6тыс. нулей. Так что оставляем как есть.\n",
    "\n",
    "Тип данных изменим на 'int' не представляется возможным, поскольку тип данных у пропусков - 'float'. Заполнить пропуски нет возможности, отбросить тоже нельзя. Так что оставляем как есть."
   ]
  },
  {
   "cell_type": "code",
   "execution_count": 24,
   "metadata": {},
   "outputs": [
    {
     "data": {
      "text/plain": [
       "0.0    8966\n",
       "1.0    5645\n",
       "2.0    1855\n",
       "3.0    1470\n",
       "Name: ponds_around3000, dtype: int64"
      ]
     },
     "execution_count": 24,
     "metadata": {},
     "output_type": "execute_result"
    }
   ],
   "source": [
    "data['ponds_around3000'].value_counts()"
   ]
  },
  {
   "cell_type": "code",
   "execution_count": 25,
   "metadata": {},
   "outputs": [
    {
     "data": {
      "text/plain": [
       "0.0    10003\n",
       "1.0     5587\n",
       "2.0     1715\n",
       "3.0      631\n",
       "Name: parks_around3000, dtype: int64"
      ]
     },
     "execution_count": 25,
     "metadata": {},
     "output_type": "execute_result"
    }
   ],
   "source": [
    "data['parks_around3000'].value_counts()"
   ]
  },
  {
   "cell_type": "markdown",
   "metadata": {},
   "source": [
    "##### `days_exposition`   \n",
    "\n",
    "Т.к. минимальное значение в столбце == 1, то пропуски в этом столбце могут быть обусловлены тем, что объект на момент выгрузки не был продан. Пропуски оставляем как есть.\n",
    "\n",
    "Чтобы изменить тип данных на целое цисло, нужно заменить пропуски на нули. Логика от этого не нарушится. 0 дней с момента продажи = квартира еще не продана."
   ]
  },
  {
   "cell_type": "code",
   "execution_count": 26,
   "metadata": {},
   "outputs": [
    {
     "data": {
      "text/plain": [
       "count    20283.000000\n",
       "mean       180.695706\n",
       "std        219.458137\n",
       "min          1.000000\n",
       "25%         45.000000\n",
       "50%         95.000000\n",
       "75%        231.000000\n",
       "max       1572.000000\n",
       "Name: days_exposition, dtype: float64"
      ]
     },
     "execution_count": 26,
     "metadata": {},
     "output_type": "execute_result"
    }
   ],
   "source": [
    "data['days_exposition'].describe()"
   ]
  },
  {
   "cell_type": "code",
   "execution_count": 27,
   "metadata": {},
   "outputs": [],
   "source": [
    "data['days_exposition'] = data['days_exposition'].fillna(0).astype('int')"
   ]
  },
  {
   "cell_type": "code",
   "execution_count": 28,
   "metadata": {},
   "outputs": [
    {
     "data": {
      "image/png": "[encoded data removed]",
      "text/plain": [
       "<Figure size 432x288 with 1 Axes>"
      ]
     },
     "metadata": {
      "needs_background": "light"
     },
     "output_type": "display_data"
    }
   ],
   "source": [
    "#Квартиры, которые продавались больше 800 дней будем считать аномальными.  Отбросим их.\n",
    "data['days_exposition'].hist()\n",
    "data = data.loc[data['days_exposition'] < 800]"
   ]
  },
  {
   "cell_type": "markdown",
   "metadata": {},
   "source": [
    "##### `kitchen_area`    \n",
    "Пропуски в этом столце обусловлены тем, что пользователи при размещении объявления не указывают проладь кухни. Для того, чтобы заполнить пропуски, сгруппируем квартиры по кличеству комнат и в каждой группе найдем медиану."
   ]
  },
  {
   "cell_type": "code",
   "execution_count": 29,
   "metadata": {},
   "outputs": [
    {
     "data": {
      "text/plain": [
       "count    20588.000000\n",
       "mean        10.455615\n",
       "std          5.697454\n",
       "min          1.300000\n",
       "25%          7.000000\n",
       "50%          9.000000\n",
       "75%         11.950000\n",
       "max        107.000000\n",
       "Name: kitchen_area, dtype: float64"
      ]
     },
     "execution_count": 29,
     "metadata": {},
     "output_type": "execute_result"
    }
   ],
   "source": [
    "data['kitchen_area'].describe()"
   ]
  },
  {
   "cell_type": "code",
   "execution_count": 30,
   "metadata": {},
   "outputs": [
    {
     "data": {
      "text/plain": [
       "<AxesSubplot:>"
      ]
     },
     "execution_count": 30,
     "metadata": {},
     "output_type": "execute_result"
    },
    {
     "data": {
      "image/png": "[encoded data removed]",
      "text/plain": [
       "<Figure size 432x288 with 1 Axes>"
      ]
     },
     "metadata": {
      "needs_background": "light"
     },
     "output_type": "display_data"
    }
   ],
   "source": [
    "data['kitchen_area'].hist()"
   ]
  },
  {
   "cell_type": "markdown",
   "metadata": {},
   "source": [
    "На гистограмме видно, что большая часть значений расположина в диапазоне 1-20 м2. Проверим каким общим площадям и количеству комнат соответствуют квартиры с площадью кухни 1-4 м2:"
   ]
  },
  {
   "cell_type": "code",
   "execution_count": 31,
   "metadata": {},
   "outputs": [
    {
     "data": {
      "text/html": [
       "<div>\n",
       "<style scoped>\n",
       "    .dataframe tbody tr th:only-of-type {\n",
       "        vertical-align: middle;\n",
       "    }\n",
       "\n",
       "    .dataframe tbody tr th {\n",
       "        vertical-align: top;\n",
       "    }\n",
       "\n",
       "    .dataframe thead th {\n",
       "        text-align: right;\n",
       "    }\n",
       "</style>\n",
       "<table border=\"1\" class=\"dataframe\">\n",
       "  <thead>\n",
       "    <tr style=\"text-align: right;\">\n",
       "      <th></th>\n",
       "      <th>locality_name</th>\n",
       "      <th>kitchen_area</th>\n",
       "      <th>total_area</th>\n",
       "      <th>rooms</th>\n",
       "    </tr>\n",
       "  </thead>\n",
       "  <tbody>\n",
       "    <tr>\n",
       "      <th>906</th>\n",
       "      <td>Санкт-Петербург</td>\n",
       "      <td>2.00</td>\n",
       "      <td>27.00</td>\n",
       "      <td>1</td>\n",
       "    </tr>\n",
       "    <tr>\n",
       "      <th>1853</th>\n",
       "      <td>посёлок Песочный</td>\n",
       "      <td>4.00</td>\n",
       "      <td>38.30</td>\n",
       "      <td>2</td>\n",
       "    </tr>\n",
       "    <tr>\n",
       "      <th>2165</th>\n",
       "      <td>посёлок Мурино</td>\n",
       "      <td>3.00</td>\n",
       "      <td>25.00</td>\n",
       "      <td>1</td>\n",
       "    </tr>\n",
       "    <tr>\n",
       "      <th>3078</th>\n",
       "      <td>Санкт-Петербург</td>\n",
       "      <td>3.20</td>\n",
       "      <td>43.00</td>\n",
       "      <td>2</td>\n",
       "    </tr>\n",
       "    <tr>\n",
       "      <th>3195</th>\n",
       "      <td>Санкт-Петербург</td>\n",
       "      <td>3.80</td>\n",
       "      <td>25.60</td>\n",
       "      <td>1</td>\n",
       "    </tr>\n",
       "    <tr>\n",
       "      <th>4777</th>\n",
       "      <td>поселок Мурино</td>\n",
       "      <td>4.00</td>\n",
       "      <td>28.20</td>\n",
       "      <td>1</td>\n",
       "    </tr>\n",
       "    <tr>\n",
       "      <th>5193</th>\n",
       "      <td>Санкт-Петербург</td>\n",
       "      <td>4.00</td>\n",
       "      <td>27.00</td>\n",
       "      <td>1</td>\n",
       "    </tr>\n",
       "    <tr>\n",
       "      <th>6084</th>\n",
       "      <td>Тихвин</td>\n",
       "      <td>3.00</td>\n",
       "      <td>18.00</td>\n",
       "      <td>1</td>\n",
       "    </tr>\n",
       "    <tr>\n",
       "      <th>6262</th>\n",
       "      <td>Санкт-Петербург</td>\n",
       "      <td>2.00</td>\n",
       "      <td>24.00</td>\n",
       "      <td>2</td>\n",
       "    </tr>\n",
       "    <tr>\n",
       "      <th>6544</th>\n",
       "      <td>Санкт-Петербург</td>\n",
       "      <td>4.00</td>\n",
       "      <td>20.30</td>\n",
       "      <td>1</td>\n",
       "    </tr>\n",
       "    <tr>\n",
       "      <th>6810</th>\n",
       "      <td>поселок Углово</td>\n",
       "      <td>4.00</td>\n",
       "      <td>29.00</td>\n",
       "      <td>2</td>\n",
       "    </tr>\n",
       "    <tr>\n",
       "      <th>7047</th>\n",
       "      <td>Санкт-Петербург</td>\n",
       "      <td>3.80</td>\n",
       "      <td>21.00</td>\n",
       "      <td>1</td>\n",
       "    </tr>\n",
       "    <tr>\n",
       "      <th>7950</th>\n",
       "      <td>Санкт-Петербург</td>\n",
       "      <td>2.89</td>\n",
       "      <td>66.40</td>\n",
       "      <td>2</td>\n",
       "    </tr>\n",
       "    <tr>\n",
       "      <th>8605</th>\n",
       "      <td>поселок Мурино</td>\n",
       "      <td>4.00</td>\n",
       "      <td>28.00</td>\n",
       "      <td>1</td>\n",
       "    </tr>\n",
       "    <tr>\n",
       "      <th>8623</th>\n",
       "      <td>Санкт-Петербург</td>\n",
       "      <td>4.00</td>\n",
       "      <td>25.50</td>\n",
       "      <td>1</td>\n",
       "    </tr>\n",
       "    <tr>\n",
       "      <th>8712</th>\n",
       "      <td>Санкт-Петербург</td>\n",
       "      <td>3.70</td>\n",
       "      <td>42.70</td>\n",
       "      <td>2</td>\n",
       "    </tr>\n",
       "    <tr>\n",
       "      <th>8729</th>\n",
       "      <td>Пушкин</td>\n",
       "      <td>2.40</td>\n",
       "      <td>18.40</td>\n",
       "      <td>1</td>\n",
       "    </tr>\n",
       "    <tr>\n",
       "      <th>8889</th>\n",
       "      <td>Санкт-Петербург</td>\n",
       "      <td>4.00</td>\n",
       "      <td>27.00</td>\n",
       "      <td>1</td>\n",
       "    </tr>\n",
       "    <tr>\n",
       "      <th>9138</th>\n",
       "      <td>Санкт-Петербург</td>\n",
       "      <td>2.00</td>\n",
       "      <td>23.29</td>\n",
       "      <td>1</td>\n",
       "    </tr>\n",
       "    <tr>\n",
       "      <th>9266</th>\n",
       "      <td>Выборг</td>\n",
       "      <td>4.00</td>\n",
       "      <td>34.00</td>\n",
       "      <td>2</td>\n",
       "    </tr>\n",
       "    <tr>\n",
       "      <th>9873</th>\n",
       "      <td>Санкт-Петербург</td>\n",
       "      <td>4.00</td>\n",
       "      <td>35.00</td>\n",
       "      <td>1</td>\n",
       "    </tr>\n",
       "    <tr>\n",
       "      <th>10058</th>\n",
       "      <td>посёлок Шушары</td>\n",
       "      <td>3.50</td>\n",
       "      <td>25.00</td>\n",
       "      <td>1</td>\n",
       "    </tr>\n",
       "    <tr>\n",
       "      <th>10208</th>\n",
       "      <td>Санкт-Петербург</td>\n",
       "      <td>3.00</td>\n",
       "      <td>17.00</td>\n",
       "      <td>1</td>\n",
       "    </tr>\n",
       "    <tr>\n",
       "      <th>10882</th>\n",
       "      <td>Санкт-Петербург</td>\n",
       "      <td>4.00</td>\n",
       "      <td>26.00</td>\n",
       "      <td>1</td>\n",
       "    </tr>\n",
       "    <tr>\n",
       "      <th>11033</th>\n",
       "      <td>Санкт-Петербург</td>\n",
       "      <td>2.00</td>\n",
       "      <td>32.00</td>\n",
       "      <td>1</td>\n",
       "    </tr>\n",
       "    <tr>\n",
       "      <th>11475</th>\n",
       "      <td>деревня Яльгелево</td>\n",
       "      <td>3.80</td>\n",
       "      <td>40.80</td>\n",
       "      <td>2</td>\n",
       "    </tr>\n",
       "    <tr>\n",
       "      <th>12370</th>\n",
       "      <td>Санкт-Петербург</td>\n",
       "      <td>3.50</td>\n",
       "      <td>59.20</td>\n",
       "      <td>2</td>\n",
       "    </tr>\n",
       "    <tr>\n",
       "      <th>12474</th>\n",
       "      <td>Санкт-Петербург</td>\n",
       "      <td>4.00</td>\n",
       "      <td>58.00</td>\n",
       "      <td>3</td>\n",
       "    </tr>\n",
       "    <tr>\n",
       "      <th>12595</th>\n",
       "      <td>Санкт-Петербург</td>\n",
       "      <td>3.40</td>\n",
       "      <td>44.40</td>\n",
       "      <td>2</td>\n",
       "    </tr>\n",
       "    <tr>\n",
       "      <th>12783</th>\n",
       "      <td>Санкт-Петербург</td>\n",
       "      <td>4.00</td>\n",
       "      <td>26.00</td>\n",
       "      <td>1</td>\n",
       "    </tr>\n",
       "    <tr>\n",
       "      <th>13814</th>\n",
       "      <td>Санкт-Петербург</td>\n",
       "      <td>3.00</td>\n",
       "      <td>28.00</td>\n",
       "      <td>1</td>\n",
       "    </tr>\n",
       "    <tr>\n",
       "      <th>14183</th>\n",
       "      <td>Санкт-Петербург</td>\n",
       "      <td>3.50</td>\n",
       "      <td>47.00</td>\n",
       "      <td>2</td>\n",
       "    </tr>\n",
       "    <tr>\n",
       "      <th>14515</th>\n",
       "      <td>Санкт-Петербург</td>\n",
       "      <td>4.00</td>\n",
       "      <td>26.00</td>\n",
       "      <td>1</td>\n",
       "    </tr>\n",
       "    <tr>\n",
       "      <th>14836</th>\n",
       "      <td>посёлок Стрельна</td>\n",
       "      <td>3.30</td>\n",
       "      <td>45.00</td>\n",
       "      <td>2</td>\n",
       "    </tr>\n",
       "    <tr>\n",
       "      <th>15014</th>\n",
       "      <td>Санкт-Петербург</td>\n",
       "      <td>3.00</td>\n",
       "      <td>28.30</td>\n",
       "      <td>1</td>\n",
       "    </tr>\n",
       "    <tr>\n",
       "      <th>15586</th>\n",
       "      <td>Кронштадт</td>\n",
       "      <td>4.00</td>\n",
       "      <td>31.00</td>\n",
       "      <td>1</td>\n",
       "    </tr>\n",
       "    <tr>\n",
       "      <th>16367</th>\n",
       "      <td>Санкт-Петербург</td>\n",
       "      <td>2.00</td>\n",
       "      <td>25.70</td>\n",
       "      <td>1</td>\n",
       "    </tr>\n",
       "    <tr>\n",
       "      <th>16383</th>\n",
       "      <td>Санкт-Петербург</td>\n",
       "      <td>4.00</td>\n",
       "      <td>56.00</td>\n",
       "      <td>3</td>\n",
       "    </tr>\n",
       "    <tr>\n",
       "      <th>17424</th>\n",
       "      <td>Санкт-Петербург</td>\n",
       "      <td>3.00</td>\n",
       "      <td>26.69</td>\n",
       "      <td>1</td>\n",
       "    </tr>\n",
       "    <tr>\n",
       "      <th>17739</th>\n",
       "      <td>Санкт-Петербург</td>\n",
       "      <td>4.00</td>\n",
       "      <td>58.00</td>\n",
       "      <td>3</td>\n",
       "    </tr>\n",
       "    <tr>\n",
       "      <th>17834</th>\n",
       "      <td>посёлок Мурино</td>\n",
       "      <td>2.30</td>\n",
       "      <td>34.70</td>\n",
       "      <td>1</td>\n",
       "    </tr>\n",
       "    <tr>\n",
       "      <th>18066</th>\n",
       "      <td>Санкт-Петербург</td>\n",
       "      <td>3.00</td>\n",
       "      <td>23.80</td>\n",
       "      <td>1</td>\n",
       "    </tr>\n",
       "    <tr>\n",
       "      <th>18427</th>\n",
       "      <td>Санкт-Петербург</td>\n",
       "      <td>4.00</td>\n",
       "      <td>25.00</td>\n",
       "      <td>1</td>\n",
       "    </tr>\n",
       "    <tr>\n",
       "      <th>19642</th>\n",
       "      <td>Санкт-Петербург</td>\n",
       "      <td>2.00</td>\n",
       "      <td>14.00</td>\n",
       "      <td>1</td>\n",
       "    </tr>\n",
       "    <tr>\n",
       "      <th>19729</th>\n",
       "      <td>Ломоносов</td>\n",
       "      <td>4.00</td>\n",
       "      <td>29.00</td>\n",
       "      <td>1</td>\n",
       "    </tr>\n",
       "    <tr>\n",
       "      <th>20217</th>\n",
       "      <td>Санкт-Петербург</td>\n",
       "      <td>1.30</td>\n",
       "      <td>28.50</td>\n",
       "      <td>1</td>\n",
       "    </tr>\n",
       "    <tr>\n",
       "      <th>20321</th>\n",
       "      <td>Санкт-Петербург</td>\n",
       "      <td>4.00</td>\n",
       "      <td>34.00</td>\n",
       "      <td>2</td>\n",
       "    </tr>\n",
       "    <tr>\n",
       "      <th>21158</th>\n",
       "      <td>Санкт-Петербург</td>\n",
       "      <td>4.00</td>\n",
       "      <td>26.20</td>\n",
       "      <td>1</td>\n",
       "    </tr>\n",
       "    <tr>\n",
       "      <th>21419</th>\n",
       "      <td>Санкт-Петербург</td>\n",
       "      <td>2.00</td>\n",
       "      <td>20.00</td>\n",
       "      <td>1</td>\n",
       "    </tr>\n",
       "    <tr>\n",
       "      <th>21889</th>\n",
       "      <td>посёлок Песочный</td>\n",
       "      <td>4.00</td>\n",
       "      <td>38.00</td>\n",
       "      <td>2</td>\n",
       "    </tr>\n",
       "    <tr>\n",
       "      <th>22839</th>\n",
       "      <td>Санкт-Петербург</td>\n",
       "      <td>4.00</td>\n",
       "      <td>27.00</td>\n",
       "      <td>1</td>\n",
       "    </tr>\n",
       "    <tr>\n",
       "      <th>22849</th>\n",
       "      <td>посёлок Шушары</td>\n",
       "      <td>4.00</td>\n",
       "      <td>25.00</td>\n",
       "      <td>1</td>\n",
       "    </tr>\n",
       "    <tr>\n",
       "      <th>23110</th>\n",
       "      <td>посёлок Стрельна</td>\n",
       "      <td>4.00</td>\n",
       "      <td>34.00</td>\n",
       "      <td>2</td>\n",
       "    </tr>\n",
       "    <tr>\n",
       "      <th>23498</th>\n",
       "      <td>Высоцк</td>\n",
       "      <td>3.50</td>\n",
       "      <td>54.00</td>\n",
       "      <td>2</td>\n",
       "    </tr>\n",
       "  </tbody>\n",
       "</table>\n",
       "</div>"
      ],
      "text/plain": [
       "           locality_name  kitchen_area  total_area  rooms\n",
       "906      Санкт-Петербург          2.00       27.00      1\n",
       "1853    посёлок Песочный          4.00       38.30      2\n",
       "2165      посёлок Мурино          3.00       25.00      1\n",
       "3078     Санкт-Петербург          3.20       43.00      2\n",
       "3195     Санкт-Петербург          3.80       25.60      1\n",
       "4777      поселок Мурино          4.00       28.20      1\n",
       "5193     Санкт-Петербург          4.00       27.00      1\n",
       "6084              Тихвин          3.00       18.00      1\n",
       "6262     Санкт-Петербург          2.00       24.00      2\n",
       "6544     Санкт-Петербург          4.00       20.30      1\n",
       "6810      поселок Углово          4.00       29.00      2\n",
       "7047     Санкт-Петербург          3.80       21.00      1\n",
       "7950     Санкт-Петербург          2.89       66.40      2\n",
       "8605      поселок Мурино          4.00       28.00      1\n",
       "8623     Санкт-Петербург          4.00       25.50      1\n",
       "8712     Санкт-Петербург          3.70       42.70      2\n",
       "8729              Пушкин          2.40       18.40      1\n",
       "8889     Санкт-Петербург          4.00       27.00      1\n",
       "9138     Санкт-Петербург          2.00       23.29      1\n",
       "9266              Выборг          4.00       34.00      2\n",
       "9873     Санкт-Петербург          4.00       35.00      1\n",
       "10058     посёлок Шушары          3.50       25.00      1\n",
       "10208    Санкт-Петербург          3.00       17.00      1\n",
       "10882    Санкт-Петербург          4.00       26.00      1\n",
       "11033    Санкт-Петербург          2.00       32.00      1\n",
       "11475  деревня Яльгелево          3.80       40.80      2\n",
       "12370    Санкт-Петербург          3.50       59.20      2\n",
       "12474    Санкт-Петербург          4.00       58.00      3\n",
       "12595    Санкт-Петербург          3.40       44.40      2\n",
       "12783    Санкт-Петербург          4.00       26.00      1\n",
       "13814    Санкт-Петербург          3.00       28.00      1\n",
       "14183    Санкт-Петербург          3.50       47.00      2\n",
       "14515    Санкт-Петербург          4.00       26.00      1\n",
       "14836   посёлок Стрельна          3.30       45.00      2\n",
       "15014    Санкт-Петербург          3.00       28.30      1\n",
       "15586          Кронштадт          4.00       31.00      1\n",
       "16367    Санкт-Петербург          2.00       25.70      1\n",
       "16383    Санкт-Петербург          4.00       56.00      3\n",
       "17424    Санкт-Петербург          3.00       26.69      1\n",
       "17739    Санкт-Петербург          4.00       58.00      3\n",
       "17834     посёлок Мурино          2.30       34.70      1\n",
       "18066    Санкт-Петербург          3.00       23.80      1\n",
       "18427    Санкт-Петербург          4.00       25.00      1\n",
       "19642    Санкт-Петербург          2.00       14.00      1\n",
       "19729          Ломоносов          4.00       29.00      1\n",
       "20217    Санкт-Петербург          1.30       28.50      1\n",
       "20321    Санкт-Петербург          4.00       34.00      2\n",
       "21158    Санкт-Петербург          4.00       26.20      1\n",
       "21419    Санкт-Петербург          2.00       20.00      1\n",
       "21889   посёлок Песочный          4.00       38.00      2\n",
       "22839    Санкт-Петербург          4.00       27.00      1\n",
       "22849     посёлок Шушары          4.00       25.00      1\n",
       "23110   посёлок Стрельна          4.00       34.00      2\n",
       "23498             Высоцк          3.50       54.00      2"
      ]
     },
     "execution_count": 31,
     "metadata": {},
     "output_type": "execute_result"
    }
   ],
   "source": [
    "data.loc[data['kitchen_area'] <= 4, ['locality_name', 'kitchen_area', 'total_area', 'rooms']]"
   ]
  },
  {
   "cell_type": "markdown",
   "metadata": {},
   "source": [
    "Такие площади кухонь выглядят весьма странно. Эти данные, конечно, аномальные, однако чего только не бывает в старом фонде, так что оставляем как есть. \n",
    "Посмотрим что с площадями от 50 м2:"
   ]
  },
  {
   "cell_type": "code",
   "execution_count": 32,
   "metadata": {},
   "outputs": [
    {
     "data": {
      "text/html": [
       "<div>\n",
       "<style scoped>\n",
       "    .dataframe tbody tr th:only-of-type {\n",
       "        vertical-align: middle;\n",
       "    }\n",
       "\n",
       "    .dataframe tbody tr th {\n",
       "        vertical-align: top;\n",
       "    }\n",
       "\n",
       "    .dataframe thead th {\n",
       "        text-align: right;\n",
       "    }\n",
       "</style>\n",
       "<table border=\"1\" class=\"dataframe\">\n",
       "  <thead>\n",
       "    <tr style=\"text-align: right;\">\n",
       "      <th></th>\n",
       "      <th>locality_name</th>\n",
       "      <th>kitchen_area</th>\n",
       "      <th>total_area</th>\n",
       "      <th>rooms</th>\n",
       "      <th>last_price</th>\n",
       "      <th>open_plan</th>\n",
       "    </tr>\n",
       "  </thead>\n",
       "  <tbody>\n",
       "    <tr>\n",
       "      <th>51</th>\n",
       "      <td>Санкт-Петербург</td>\n",
       "      <td>50.0</td>\n",
       "      <td>161.0</td>\n",
       "      <td>3</td>\n",
       "      <td>45000000.0</td>\n",
       "      <td>False</td>\n",
       "    </tr>\n",
       "    <tr>\n",
       "      <th>492</th>\n",
       "      <td>Санкт-Петербург</td>\n",
       "      <td>77.0</td>\n",
       "      <td>216.0</td>\n",
       "      <td>4</td>\n",
       "      <td>95000000.0</td>\n",
       "      <td>False</td>\n",
       "    </tr>\n",
       "    <tr>\n",
       "      <th>511</th>\n",
       "      <td>посёлок Мурино</td>\n",
       "      <td>50.0</td>\n",
       "      <td>69.0</td>\n",
       "      <td>1</td>\n",
       "      <td>5950000.0</td>\n",
       "      <td>False</td>\n",
       "    </tr>\n",
       "    <tr>\n",
       "      <th>656</th>\n",
       "      <td>Санкт-Петербург</td>\n",
       "      <td>50.0</td>\n",
       "      <td>131.0</td>\n",
       "      <td>3</td>\n",
       "      <td>18500000.0</td>\n",
       "      <td>False</td>\n",
       "    </tr>\n",
       "    <tr>\n",
       "      <th>793</th>\n",
       "      <td>Санкт-Петербург</td>\n",
       "      <td>50.0</td>\n",
       "      <td>310.0</td>\n",
       "      <td>4</td>\n",
       "      <td>135000000.0</td>\n",
       "      <td>False</td>\n",
       "    </tr>\n",
       "    <tr>\n",
       "      <th>1026</th>\n",
       "      <td>Санкт-Петербург</td>\n",
       "      <td>63.0</td>\n",
       "      <td>310.0</td>\n",
       "      <td>5</td>\n",
       "      <td>155000000.0</td>\n",
       "      <td>False</td>\n",
       "    </tr>\n",
       "    <tr>\n",
       "      <th>1085</th>\n",
       "      <td>Санкт-Петербург</td>\n",
       "      <td>66.0</td>\n",
       "      <td>323.0</td>\n",
       "      <td>5</td>\n",
       "      <td>75000000.0</td>\n",
       "      <td>False</td>\n",
       "    </tr>\n",
       "    <tr>\n",
       "      <th>2356</th>\n",
       "      <td>Санкт-Петербург</td>\n",
       "      <td>50.0</td>\n",
       "      <td>128.0</td>\n",
       "      <td>3</td>\n",
       "      <td>50000000.0</td>\n",
       "      <td>False</td>\n",
       "    </tr>\n",
       "    <tr>\n",
       "      <th>2489</th>\n",
       "      <td>Санкт-Петербург</td>\n",
       "      <td>100.7</td>\n",
       "      <td>255.0</td>\n",
       "      <td>3</td>\n",
       "      <td>12500000.0</td>\n",
       "      <td>False</td>\n",
       "    </tr>\n",
       "    <tr>\n",
       "      <th>3561</th>\n",
       "      <td>Санкт-Петербург</td>\n",
       "      <td>60.0</td>\n",
       "      <td>115.0</td>\n",
       "      <td>3</td>\n",
       "      <td>12300000.0</td>\n",
       "      <td>False</td>\n",
       "    </tr>\n",
       "    <tr>\n",
       "      <th>4320</th>\n",
       "      <td>Санкт-Петербург</td>\n",
       "      <td>56.2</td>\n",
       "      <td>146.3</td>\n",
       "      <td>3</td>\n",
       "      <td>19700000.0</td>\n",
       "      <td>False</td>\n",
       "    </tr>\n",
       "    <tr>\n",
       "      <th>5042</th>\n",
       "      <td>Пушкин</td>\n",
       "      <td>50.0</td>\n",
       "      <td>380.0</td>\n",
       "      <td>6</td>\n",
       "      <td>35000000.0</td>\n",
       "      <td>False</td>\n",
       "    </tr>\n",
       "    <tr>\n",
       "      <th>5135</th>\n",
       "      <td>Санкт-Петербург</td>\n",
       "      <td>50.0</td>\n",
       "      <td>110.0</td>\n",
       "      <td>2</td>\n",
       "      <td>23500000.0</td>\n",
       "      <td>False</td>\n",
       "    </tr>\n",
       "    <tr>\n",
       "      <th>6021</th>\n",
       "      <td>Санкт-Петербург</td>\n",
       "      <td>51.0</td>\n",
       "      <td>117.4</td>\n",
       "      <td>2</td>\n",
       "      <td>16830000.0</td>\n",
       "      <td>False</td>\n",
       "    </tr>\n",
       "    <tr>\n",
       "      <th>6193</th>\n",
       "      <td>Санкт-Петербург</td>\n",
       "      <td>70.0</td>\n",
       "      <td>230.0</td>\n",
       "      <td>4</td>\n",
       "      <td>24300000.0</td>\n",
       "      <td>False</td>\n",
       "    </tr>\n",
       "    <tr>\n",
       "      <th>6621</th>\n",
       "      <td>Санкт-Петербург</td>\n",
       "      <td>50.0</td>\n",
       "      <td>488.0</td>\n",
       "      <td>5</td>\n",
       "      <td>99000000.0</td>\n",
       "      <td>False</td>\n",
       "    </tr>\n",
       "    <tr>\n",
       "      <th>8261</th>\n",
       "      <td>Санкт-Петербург</td>\n",
       "      <td>58.4</td>\n",
       "      <td>123.2</td>\n",
       "      <td>1</td>\n",
       "      <td>36000000.0</td>\n",
       "      <td>False</td>\n",
       "    </tr>\n",
       "    <tr>\n",
       "      <th>8709</th>\n",
       "      <td>Санкт-Петербург</td>\n",
       "      <td>51.0</td>\n",
       "      <td>105.0</td>\n",
       "      <td>2</td>\n",
       "      <td>24500000.0</td>\n",
       "      <td>False</td>\n",
       "    </tr>\n",
       "    <tr>\n",
       "      <th>10001</th>\n",
       "      <td>Санкт-Петербург</td>\n",
       "      <td>50.0</td>\n",
       "      <td>119.0</td>\n",
       "      <td>3</td>\n",
       "      <td>49500000.0</td>\n",
       "      <td>False</td>\n",
       "    </tr>\n",
       "    <tr>\n",
       "      <th>10789</th>\n",
       "      <td>Санкт-Петербург</td>\n",
       "      <td>56.0</td>\n",
       "      <td>151.6</td>\n",
       "      <td>4</td>\n",
       "      <td>38900000.0</td>\n",
       "      <td>False</td>\n",
       "    </tr>\n",
       "    <tr>\n",
       "      <th>10867</th>\n",
       "      <td>Санкт-Петербург</td>\n",
       "      <td>87.2</td>\n",
       "      <td>177.9</td>\n",
       "      <td>3</td>\n",
       "      <td>56844500.0</td>\n",
       "      <td>False</td>\n",
       "    </tr>\n",
       "    <tr>\n",
       "      <th>11723</th>\n",
       "      <td>Санкт-Петербург</td>\n",
       "      <td>51.8</td>\n",
       "      <td>127.1</td>\n",
       "      <td>3</td>\n",
       "      <td>32500000.0</td>\n",
       "      <td>False</td>\n",
       "    </tr>\n",
       "    <tr>\n",
       "      <th>13139</th>\n",
       "      <td>Санкт-Петербург</td>\n",
       "      <td>62.0</td>\n",
       "      <td>288.0</td>\n",
       "      <td>5</td>\n",
       "      <td>55000000.0</td>\n",
       "      <td>False</td>\n",
       "    </tr>\n",
       "    <tr>\n",
       "      <th>13845</th>\n",
       "      <td>Санкт-Петербург</td>\n",
       "      <td>60.0</td>\n",
       "      <td>250.0</td>\n",
       "      <td>5</td>\n",
       "      <td>65000000.0</td>\n",
       "      <td>False</td>\n",
       "    </tr>\n",
       "    <tr>\n",
       "      <th>14088</th>\n",
       "      <td>Санкт-Петербург</td>\n",
       "      <td>56.0</td>\n",
       "      <td>402.0</td>\n",
       "      <td>6</td>\n",
       "      <td>51000000.0</td>\n",
       "      <td>False</td>\n",
       "    </tr>\n",
       "    <tr>\n",
       "      <th>14644</th>\n",
       "      <td>Санкт-Петербург</td>\n",
       "      <td>75.0</td>\n",
       "      <td>150.0</td>\n",
       "      <td>4</td>\n",
       "      <td>47000000.0</td>\n",
       "      <td>False</td>\n",
       "    </tr>\n",
       "    <tr>\n",
       "      <th>14794</th>\n",
       "      <td>Санкт-Петербург</td>\n",
       "      <td>54.3</td>\n",
       "      <td>222.6</td>\n",
       "      <td>4</td>\n",
       "      <td>76837000.0</td>\n",
       "      <td>False</td>\n",
       "    </tr>\n",
       "    <tr>\n",
       "      <th>14900</th>\n",
       "      <td>Пушкин</td>\n",
       "      <td>62.5</td>\n",
       "      <td>125.6</td>\n",
       "      <td>2</td>\n",
       "      <td>25900000.0</td>\n",
       "      <td>False</td>\n",
       "    </tr>\n",
       "    <tr>\n",
       "      <th>15780</th>\n",
       "      <td>Пушкин</td>\n",
       "      <td>64.0</td>\n",
       "      <td>119.6</td>\n",
       "      <td>3</td>\n",
       "      <td>12990000.0</td>\n",
       "      <td>False</td>\n",
       "    </tr>\n",
       "    <tr>\n",
       "      <th>16239</th>\n",
       "      <td>Санкт-Петербург</td>\n",
       "      <td>93.2</td>\n",
       "      <td>181.1</td>\n",
       "      <td>3</td>\n",
       "      <td>82400000.0</td>\n",
       "      <td>False</td>\n",
       "    </tr>\n",
       "    <tr>\n",
       "      <th>16647</th>\n",
       "      <td>Санкт-Петербург</td>\n",
       "      <td>72.0</td>\n",
       "      <td>145.0</td>\n",
       "      <td>3</td>\n",
       "      <td>122000000.0</td>\n",
       "      <td>False</td>\n",
       "    </tr>\n",
       "    <tr>\n",
       "      <th>16797</th>\n",
       "      <td>Санкт-Петербург</td>\n",
       "      <td>93.0</td>\n",
       "      <td>146.0</td>\n",
       "      <td>2</td>\n",
       "      <td>65850000.0</td>\n",
       "      <td>False</td>\n",
       "    </tr>\n",
       "    <tr>\n",
       "      <th>16964</th>\n",
       "      <td>Санкт-Петербург</td>\n",
       "      <td>55.7</td>\n",
       "      <td>101.3</td>\n",
       "      <td>3</td>\n",
       "      <td>16500000.0</td>\n",
       "      <td>False</td>\n",
       "    </tr>\n",
       "    <tr>\n",
       "      <th>17038</th>\n",
       "      <td>Санкт-Петербург</td>\n",
       "      <td>56.0</td>\n",
       "      <td>170.0</td>\n",
       "      <td>4</td>\n",
       "      <td>41900000.0</td>\n",
       "      <td>False</td>\n",
       "    </tr>\n",
       "    <tr>\n",
       "      <th>17563</th>\n",
       "      <td>Санкт-Петербург</td>\n",
       "      <td>54.2</td>\n",
       "      <td>167.5</td>\n",
       "      <td>3</td>\n",
       "      <td>24500000.0</td>\n",
       "      <td>False</td>\n",
       "    </tr>\n",
       "    <tr>\n",
       "      <th>17912</th>\n",
       "      <td>Санкт-Петербург</td>\n",
       "      <td>64.0</td>\n",
       "      <td>166.0</td>\n",
       "      <td>3</td>\n",
       "      <td>135000000.0</td>\n",
       "      <td>False</td>\n",
       "    </tr>\n",
       "    <tr>\n",
       "      <th>18447</th>\n",
       "      <td>Санкт-Петербург</td>\n",
       "      <td>65.0</td>\n",
       "      <td>187.0</td>\n",
       "      <td>5</td>\n",
       "      <td>21800000.0</td>\n",
       "      <td>False</td>\n",
       "    </tr>\n",
       "    <tr>\n",
       "      <th>19130</th>\n",
       "      <td>Санкт-Петербург</td>\n",
       "      <td>63.0</td>\n",
       "      <td>153.0</td>\n",
       "      <td>3</td>\n",
       "      <td>40000000.0</td>\n",
       "      <td>False</td>\n",
       "    </tr>\n",
       "    <tr>\n",
       "      <th>19267</th>\n",
       "      <td>Санкт-Петербург</td>\n",
       "      <td>50.0</td>\n",
       "      <td>153.6</td>\n",
       "      <td>3</td>\n",
       "      <td>74000000.0</td>\n",
       "      <td>False</td>\n",
       "    </tr>\n",
       "    <tr>\n",
       "      <th>19382</th>\n",
       "      <td>Санкт-Петербург</td>\n",
       "      <td>53.0</td>\n",
       "      <td>109.0</td>\n",
       "      <td>2</td>\n",
       "      <td>20786000.0</td>\n",
       "      <td>False</td>\n",
       "    </tr>\n",
       "    <tr>\n",
       "      <th>19499</th>\n",
       "      <td>Пушкин</td>\n",
       "      <td>64.0</td>\n",
       "      <td>118.0</td>\n",
       "      <td>3</td>\n",
       "      <td>8000000.0</td>\n",
       "      <td>False</td>\n",
       "    </tr>\n",
       "    <tr>\n",
       "      <th>19977</th>\n",
       "      <td>Санкт-Петербург</td>\n",
       "      <td>54.0</td>\n",
       "      <td>283.3</td>\n",
       "      <td>5</td>\n",
       "      <td>33000000.0</td>\n",
       "      <td>False</td>\n",
       "    </tr>\n",
       "    <tr>\n",
       "      <th>20215</th>\n",
       "      <td>Санкт-Петербург</td>\n",
       "      <td>107.0</td>\n",
       "      <td>249.7</td>\n",
       "      <td>3</td>\n",
       "      <td>85000000.0</td>\n",
       "      <td>False</td>\n",
       "    </tr>\n",
       "    <tr>\n",
       "      <th>20273</th>\n",
       "      <td>Санкт-Петербург</td>\n",
       "      <td>55.5</td>\n",
       "      <td>460.8</td>\n",
       "      <td>6</td>\n",
       "      <td>20000000.0</td>\n",
       "      <td>False</td>\n",
       "    </tr>\n",
       "    <tr>\n",
       "      <th>20499</th>\n",
       "      <td>Санкт-Петербург</td>\n",
       "      <td>53.0</td>\n",
       "      <td>152.0</td>\n",
       "      <td>4</td>\n",
       "      <td>20950000.0</td>\n",
       "      <td>False</td>\n",
       "    </tr>\n",
       "    <tr>\n",
       "      <th>20636</th>\n",
       "      <td>Санкт-Петербург</td>\n",
       "      <td>50.2</td>\n",
       "      <td>135.0</td>\n",
       "      <td>3</td>\n",
       "      <td>13500000.0</td>\n",
       "      <td>False</td>\n",
       "    </tr>\n",
       "    <tr>\n",
       "      <th>20871</th>\n",
       "      <td>Санкт-Петербург</td>\n",
       "      <td>58.0</td>\n",
       "      <td>140.0</td>\n",
       "      <td>4</td>\n",
       "      <td>21500000.0</td>\n",
       "      <td>False</td>\n",
       "    </tr>\n",
       "    <tr>\n",
       "      <th>21923</th>\n",
       "      <td>Санкт-Петербург</td>\n",
       "      <td>50.0</td>\n",
       "      <td>235.0</td>\n",
       "      <td>5</td>\n",
       "      <td>115490000.0</td>\n",
       "      <td>False</td>\n",
       "    </tr>\n",
       "    <tr>\n",
       "      <th>22980</th>\n",
       "      <td>Санкт-Петербург</td>\n",
       "      <td>65.0</td>\n",
       "      <td>155.4</td>\n",
       "      <td>3</td>\n",
       "      <td>24500000.0</td>\n",
       "      <td>False</td>\n",
       "    </tr>\n",
       "  </tbody>\n",
       "</table>\n",
       "</div>"
      ],
      "text/plain": [
       "         locality_name  kitchen_area  total_area  rooms   last_price  \\\n",
       "51     Санкт-Петербург          50.0       161.0      3   45000000.0   \n",
       "492    Санкт-Петербург          77.0       216.0      4   95000000.0   \n",
       "511     посёлок Мурино          50.0        69.0      1    5950000.0   \n",
       "656    Санкт-Петербург          50.0       131.0      3   18500000.0   \n",
       "793    Санкт-Петербург          50.0       310.0      4  135000000.0   \n",
       "1026   Санкт-Петербург          63.0       310.0      5  155000000.0   \n",
       "1085   Санкт-Петербург          66.0       323.0      5   75000000.0   \n",
       "2356   Санкт-Петербург          50.0       128.0      3   50000000.0   \n",
       "2489   Санкт-Петербург         100.7       255.0      3   12500000.0   \n",
       "3561   Санкт-Петербург          60.0       115.0      3   12300000.0   \n",
       "4320   Санкт-Петербург          56.2       146.3      3   19700000.0   \n",
       "5042            Пушкин          50.0       380.0      6   35000000.0   \n",
       "5135   Санкт-Петербург          50.0       110.0      2   23500000.0   \n",
       "6021   Санкт-Петербург          51.0       117.4      2   16830000.0   \n",
       "6193   Санкт-Петербург          70.0       230.0      4   24300000.0   \n",
       "6621   Санкт-Петербург          50.0       488.0      5   99000000.0   \n",
       "8261   Санкт-Петербург          58.4       123.2      1   36000000.0   \n",
       "8709   Санкт-Петербург          51.0       105.0      2   24500000.0   \n",
       "10001  Санкт-Петербург          50.0       119.0      3   49500000.0   \n",
       "10789  Санкт-Петербург          56.0       151.6      4   38900000.0   \n",
       "10867  Санкт-Петербург          87.2       177.9      3   56844500.0   \n",
       "11723  Санкт-Петербург          51.8       127.1      3   32500000.0   \n",
       "13139  Санкт-Петербург          62.0       288.0      5   55000000.0   \n",
       "13845  Санкт-Петербург          60.0       250.0      5   65000000.0   \n",
       "14088  Санкт-Петербург          56.0       402.0      6   51000000.0   \n",
       "14644  Санкт-Петербург          75.0       150.0      4   47000000.0   \n",
       "14794  Санкт-Петербург          54.3       222.6      4   76837000.0   \n",
       "14900           Пушкин          62.5       125.6      2   25900000.0   \n",
       "15780           Пушкин          64.0       119.6      3   12990000.0   \n",
       "16239  Санкт-Петербург          93.2       181.1      3   82400000.0   \n",
       "16647  Санкт-Петербург          72.0       145.0      3  122000000.0   \n",
       "16797  Санкт-Петербург          93.0       146.0      2   65850000.0   \n",
       "16964  Санкт-Петербург          55.7       101.3      3   16500000.0   \n",
       "17038  Санкт-Петербург          56.0       170.0      4   41900000.0   \n",
       "17563  Санкт-Петербург          54.2       167.5      3   24500000.0   \n",
       "17912  Санкт-Петербург          64.0       166.0      3  135000000.0   \n",
       "18447  Санкт-Петербург          65.0       187.0      5   21800000.0   \n",
       "19130  Санкт-Петербург          63.0       153.0      3   40000000.0   \n",
       "19267  Санкт-Петербург          50.0       153.6      3   74000000.0   \n",
       "19382  Санкт-Петербург          53.0       109.0      2   20786000.0   \n",
       "19499           Пушкин          64.0       118.0      3    8000000.0   \n",
       "19977  Санкт-Петербург          54.0       283.3      5   33000000.0   \n",
       "20215  Санкт-Петербург         107.0       249.7      3   85000000.0   \n",
       "20273  Санкт-Петербург          55.5       460.8      6   20000000.0   \n",
       "20499  Санкт-Петербург          53.0       152.0      4   20950000.0   \n",
       "20636  Санкт-Петербург          50.2       135.0      3   13500000.0   \n",
       "20871  Санкт-Петербург          58.0       140.0      4   21500000.0   \n",
       "21923  Санкт-Петербург          50.0       235.0      5  115490000.0   \n",
       "22980  Санкт-Петербург          65.0       155.4      3   24500000.0   \n",
       "\n",
       "       open_plan  \n",
       "51         False  \n",
       "492        False  \n",
       "511        False  \n",
       "656        False  \n",
       "793        False  \n",
       "1026       False  \n",
       "1085       False  \n",
       "2356       False  \n",
       "2489       False  \n",
       "3561       False  \n",
       "4320       False  \n",
       "5042       False  \n",
       "5135       False  \n",
       "6021       False  \n",
       "6193       False  \n",
       "6621       False  \n",
       "8261       False  \n",
       "8709       False  \n",
       "10001      False  \n",
       "10789      False  \n",
       "10867      False  \n",
       "11723      False  \n",
       "13139      False  \n",
       "13845      False  \n",
       "14088      False  \n",
       "14644      False  \n",
       "14794      False  \n",
       "14900      False  \n",
       "15780      False  \n",
       "16239      False  \n",
       "16647      False  \n",
       "16797      False  \n",
       "16964      False  \n",
       "17038      False  \n",
       "17563      False  \n",
       "17912      False  \n",
       "18447      False  \n",
       "19130      False  \n",
       "19267      False  \n",
       "19382      False  \n",
       "19499      False  \n",
       "19977      False  \n",
       "20215      False  \n",
       "20273      False  \n",
       "20499      False  \n",
       "20636      False  \n",
       "20871      False  \n",
       "21923      False  \n",
       "22980      False  "
      ]
     },
     "execution_count": 32,
     "metadata": {},
     "output_type": "execute_result"
    }
   ],
   "source": [
    "data.loc[data['kitchen_area'] >= 50, ['locality_name', 'kitchen_area', 'total_area', 'rooms', 'last_price', 'open_plan']]\n",
    "#50 метровая кухня в Муринской однушке это интересно.\n",
    "#В остальном все логически объяснимо - населенные пункты с множеством квартир с нестандарстной планировкой, высокая цена и большая площадь\n",
    "#Оставляем как есть. Не вижу причины удалять или заменять аномальные значения."
   ]
  },
  {
   "cell_type": "code",
   "execution_count": 33,
   "metadata": {},
   "outputs": [
    {
     "data": {
      "text/html": [
       "<div>\n",
       "<style scoped>\n",
       "    .dataframe tbody tr th:only-of-type {\n",
       "        vertical-align: middle;\n",
       "    }\n",
       "\n",
       "    .dataframe tbody tr th {\n",
       "        vertical-align: top;\n",
       "    }\n",
       "\n",
       "    .dataframe thead th {\n",
       "        text-align: right;\n",
       "    }\n",
       "</style>\n",
       "<table border=\"1\" class=\"dataframe\">\n",
       "  <thead>\n",
       "    <tr style=\"text-align: right;\">\n",
       "      <th></th>\n",
       "      <th>rooms</th>\n",
       "      <th>kitchen_area</th>\n",
       "    </tr>\n",
       "  </thead>\n",
       "  <tbody>\n",
       "    <tr>\n",
       "      <th>0</th>\n",
       "      <td>1</td>\n",
       "      <td>9.00</td>\n",
       "    </tr>\n",
       "    <tr>\n",
       "      <th>1</th>\n",
       "      <td>2</td>\n",
       "      <td>8.60</td>\n",
       "    </tr>\n",
       "    <tr>\n",
       "      <th>2</th>\n",
       "      <td>3</td>\n",
       "      <td>9.50</td>\n",
       "    </tr>\n",
       "    <tr>\n",
       "      <th>3</th>\n",
       "      <td>4</td>\n",
       "      <td>11.00</td>\n",
       "    </tr>\n",
       "    <tr>\n",
       "      <th>4</th>\n",
       "      <td>5</td>\n",
       "      <td>15.00</td>\n",
       "    </tr>\n",
       "    <tr>\n",
       "      <th>5</th>\n",
       "      <td>6</td>\n",
       "      <td>19.75</td>\n",
       "    </tr>\n",
       "  </tbody>\n",
       "</table>\n",
       "</div>"
      ],
      "text/plain": [
       "   rooms  kitchen_area\n",
       "0      1          9.00\n",
       "1      2          8.60\n",
       "2      3          9.50\n",
       "3      4         11.00\n",
       "4      5         15.00\n",
       "5      6         19.75"
      ]
     },
     "execution_count": 33,
     "metadata": {},
     "output_type": "execute_result"
    }
   ],
   "source": [
    "#Сохраним в отдельный набор данных медианную площадь кухонь по квартирам с определеным количеством комнат\n",
    "median_kitchen_area = data.pivot_table(index = 'rooms', values = 'kitchen_area', aggfunc = 'median').reset_index()\n",
    "median_kitchen_area"
   ]
  },
  {
   "cell_type": "code",
   "execution_count": 34,
   "metadata": {},
   "outputs": [
    {
     "data": {
      "text/plain": [
       "0"
      ]
     },
     "execution_count": 34,
     "metadata": {},
     "output_type": "execute_result"
    }
   ],
   "source": [
    "#Сделаем ту же грязь что и с высотой потолков)))\n",
    "data['kitchen_area'] = data['kitchen_area'].fillna(0)\n",
    "\n",
    "def get_kitchen_area(row):\n",
    "    rooms_number = row['rooms']\n",
    "    kitchen_area = row['kitchen_area']\n",
    "    \n",
    "    if kitchen_area == 0:\n",
    "        for index in range(0, len(median_kitchen_area)):\n",
    "            if rooms_number == median_kitchen_area.loc[index, ['rooms']].item():\n",
    "                kitchen_area = median_kitchen_area.loc[index, ['kitchen_area']].item()\n",
    "    return kitchen_area\n",
    "\n",
    "data['kitchen_area'] = data.apply(get_kitchen_area, axis = 1)\n",
    "#Проверим все ли ок:\n",
    "data['kitchen_area'].isna().sum()\n",
    "#¯\\_(ツ)_/¯ ¯\\_(ツ)_/¯"
   ]
  },
  {
   "cell_type": "code",
   "execution_count": 35,
   "metadata": {},
   "outputs": [
    {
     "data": {
      "text/plain": [
       "<AxesSubplot:title={'center':'3 rooms'}, ylabel='Frequency'>"
      ]
     },
     "metadata": {},
     "output_type": "display_data"
    },
    {
     "data": {
      "text/plain": [
       "<AxesSubplot:title={'center':'1 rooms'}, ylabel='Frequency'>"
      ]
     },
     "metadata": {},
     "output_type": "display_data"
    },
    {
     "data": {
      "text/plain": [
       "<AxesSubplot:title={'center':'2 rooms'}, ylabel='Frequency'>"
      ]
     },
     "metadata": {},
     "output_type": "display_data"
    },
    {
     "data": {
      "text/plain": [
       "<AxesSubplot:title={'center':'4 rooms'}, ylabel='Frequency'>"
      ]
     },
     "metadata": {},
     "output_type": "display_data"
    },
    {
     "data": {
      "text/plain": [
       "<AxesSubplot:title={'center':'5 rooms'}, ylabel='Frequency'>"
      ]
     },
     "metadata": {},
     "output_type": "display_data"
    },
    {
     "data": {
      "text/plain": [
       "<AxesSubplot:title={'center':'6 rooms'}, ylabel='Frequency'>"
      ]
     },
     "metadata": {},
     "output_type": "display_data"
    },
    {
     "data": {
      "text/plain": [
       "<AxesSubplot:title={'center':'0 rooms'}, ylabel='Frequency'>"
      ]
     },
     "metadata": {},
     "output_type": "display_data"
    },
    {
     "data": {
      "image/png": "[encoded data removed]",
      "text/plain": [
       "<Figure size 432x288 with 1 Axes>"
      ]
     },
     "metadata": {
      "needs_background": "light"
     },
     "output_type": "display_data"
    },
    {
     "data": {
      "image/png": "[encoded data removed]",
      "text/plain": [
       "<Figure size 432x288 with 1 Axes>"
      ]
     },
     "metadata": {
      "needs_background": "light"
     },
     "output_type": "display_data"
    },
    {
     "data": {
      "image/png": "[encoded data removed]",
      "text/plain": [
       "<Figure size 432x288 with 1 Axes>"
      ]
     },
     "metadata": {
      "needs_background": "light"
     },
     "output_type": "display_data"
    },
    {
     "data": {
      "image/png": "[encoded data removed]",
      "text/plain": [
       "<Figure size 432x288 with 1 Axes>"
      ]
     },
     "metadata": {
      "needs_background": "light"
     },
     "output_type": "display_data"
    },
    {
     "data": {
      "image/png": "[encoded data removed]",
      "text/plain": [
       "<Figure size 432x288 with 1 Axes>"
      ]
     },
     "metadata": {
      "needs_background": "light"
     },
     "output_type": "display_data"
    },
    {
     "data": {
      "image/png": "[encoded data removed]",
      "text/plain": [
       "<Figure size 432x288 with 1 Axes>"
      ]
     },
     "metadata": {
      "needs_background": "light"
     },
     "output_type": "display_data"
    },
    {
     "data": {
      "image/png": "[encoded data removed]",
      "text/plain": [
       "<Figure size 432x288 with 1 Axes>"
      ]
     },
     "metadata": {
      "needs_background": "light"
     },
     "output_type": "display_data"
    }
   ],
   "source": [
    "#Посмотрим на распределение отношения площади кухни к общей площади квартиры\n",
    "data['kitchen_percent'] = data['kitchen_area']/data['total_area']\n",
    "#Посмотрим как распределяется соотношение в зависимости от количества окмнат в квартире\n",
    "\n",
    "for rooms in data['rooms'].unique():\n",
    "    title = str(rooms) + ' rooms'\n",
    "    display(data.loc[data['rooms'] == rooms, ['kitchen_percent']].plot(y = 'kitchen_percent', kind = 'hist', bins = 10, title = title))\n",
    "    #Для однокомнатных, отбросим квартиры, где соотношение кухни и общей площади <10%\n",
    "    #То же сделаем для двухкомнатных квартир\n",
    "    #Думаю остальные трогать не стоит, тк квартиры с большим количеством комнат вряд ли имеют стандартную планировку.\n",
    "\n",
    "    \n",
    "#data['kitchen_percent'].hist(range=(0,0.1))"
   ]
  },
  {
   "cell_type": "code",
   "execution_count": 36,
   "metadata": {},
   "outputs": [
    {
     "data": {
      "text/plain": [
       "22307"
      ]
     },
     "execution_count": 36,
     "metadata": {},
     "output_type": "execute_result"
    }
   ],
   "source": [
    "def remove_kitchen_anomalies(df):\n",
    "    rooms = df['rooms']\n",
    "    kitchen_percent = df['kitchen_percent']\n",
    "    \n",
    "    if (rooms == 2 or rooms == 1) and kitchen_percent <= 0.1:\n",
    "        flag = 'remove'\n",
    "    else:\n",
    "        flag = 'ok'\n",
    "        return flag\n",
    "\n",
    "data['flag_kitchen'] = data.apply(remove_kitchen_anomalies, axis = 1)\n",
    "data['flag_kitchen'].value_counts()\n",
    "\n",
    "data = data.loc[data['flag_kitchen'] == 'ok']\n",
    "#Откинем, пожалуй еще и те квартиры, где соотношение кухни и площади меньше 0,08\n",
    "data = data.loc[data['kitchen_percent'] > 0.08]\n",
    "len(data)"
   ]
  },
  {
   "cell_type": "markdown",
   "metadata": {},
   "source": [
    "##### `living_area`\n",
    "Тут пропуски обусловлены тем, что польователи не указывают жилую площадь, когда публикуют объявление. Можно было бы вычислить жилую площадь как разность общей площади и всей остальное (санузел, корридор, кухня), но таких данных в наборе нет. Так что единственный \n"
   ]
  },
  {
   "cell_type": "code",
   "execution_count": 37,
   "metadata": {},
   "outputs": [
    {
     "data": {
      "text/plain": [
       "count    20549.000000\n",
       "mean        33.343643\n",
       "std         18.651451\n",
       "min          2.000000\n",
       "25%         18.500000\n",
       "50%         30.000000\n",
       "75%         42.000000\n",
       "max        300.000000\n",
       "Name: living_area, dtype: float64"
      ]
     },
     "execution_count": 37,
     "metadata": {},
     "output_type": "execute_result"
    }
   ],
   "source": [
    "data['living_area'].describe()"
   ]
  },
  {
   "cell_type": "code",
   "execution_count": 38,
   "metadata": {},
   "outputs": [
    {
     "data": {
      "text/plain": [
       "<AxesSubplot:>"
      ]
     },
     "execution_count": 38,
     "metadata": {},
     "output_type": "execute_result"
    },
    {
     "data": {
      "image/png": "[encoded data removed]",
      "text/plain": [
       "<Figure size 432x288 with 1 Axes>"
      ]
     },
     "metadata": {
      "needs_background": "light"
     },
     "output_type": "display_data"
    }
   ],
   "source": [
    "data['living_area'].hist()\n",
    "#Основная часть данных раполагается в диапазоне 2 - 150 м2. \n",
    "#Проверим насколько сопоставляются с общей площадью квартиры, с жилой площадью до 20 м2 и от 150 м2"
   ]
  },
  {
   "cell_type": "code",
   "execution_count": 39,
   "metadata": {},
   "outputs": [
    {
     "data": {
      "text/html": [
       "<div>\n",
       "<style scoped>\n",
       "    .dataframe tbody tr th:only-of-type {\n",
       "        vertical-align: middle;\n",
       "    }\n",
       "\n",
       "    .dataframe tbody tr th {\n",
       "        vertical-align: top;\n",
       "    }\n",
       "\n",
       "    .dataframe thead th {\n",
       "        text-align: right;\n",
       "    }\n",
       "</style>\n",
       "<table border=\"1\" class=\"dataframe\">\n",
       "  <thead>\n",
       "    <tr style=\"text-align: right;\">\n",
       "      <th></th>\n",
       "      <th>total_area</th>\n",
       "      <th>living_area</th>\n",
       "      <th>last_price</th>\n",
       "      <th>rooms</th>\n",
       "    </tr>\n",
       "  </thead>\n",
       "  <tbody>\n",
       "    <tr>\n",
       "      <th>114</th>\n",
       "      <td>21.40</td>\n",
       "      <td>8.3</td>\n",
       "      <td>4000000.0</td>\n",
       "      <td>1</td>\n",
       "    </tr>\n",
       "    <tr>\n",
       "      <th>680</th>\n",
       "      <td>43.00</td>\n",
       "      <td>9.0</td>\n",
       "      <td>7200000.0</td>\n",
       "      <td>1</td>\n",
       "    </tr>\n",
       "    <tr>\n",
       "      <th>1326</th>\n",
       "      <td>52.00</td>\n",
       "      <td>9.0</td>\n",
       "      <td>8100000.0</td>\n",
       "      <td>2</td>\n",
       "    </tr>\n",
       "    <tr>\n",
       "      <th>2309</th>\n",
       "      <td>62.40</td>\n",
       "      <td>8.4</td>\n",
       "      <td>4200000.0</td>\n",
       "      <td>2</td>\n",
       "    </tr>\n",
       "    <tr>\n",
       "      <th>3242</th>\n",
       "      <td>41.00</td>\n",
       "      <td>3.0</td>\n",
       "      <td>4440000.0</td>\n",
       "      <td>1</td>\n",
       "    </tr>\n",
       "    <tr>\n",
       "      <th>4100</th>\n",
       "      <td>34.80</td>\n",
       "      <td>9.0</td>\n",
       "      <td>5300000.0</td>\n",
       "      <td>1</td>\n",
       "    </tr>\n",
       "    <tr>\n",
       "      <th>4542</th>\n",
       "      <td>18.00</td>\n",
       "      <td>9.0</td>\n",
       "      <td>3300000.0</td>\n",
       "      <td>1</td>\n",
       "    </tr>\n",
       "    <tr>\n",
       "      <th>7312</th>\n",
       "      <td>27.00</td>\n",
       "      <td>9.0</td>\n",
       "      <td>3400000.0</td>\n",
       "      <td>2</td>\n",
       "    </tr>\n",
       "    <tr>\n",
       "      <th>8325</th>\n",
       "      <td>52.00</td>\n",
       "      <td>9.0</td>\n",
       "      <td>4800000.0</td>\n",
       "      <td>2</td>\n",
       "    </tr>\n",
       "    <tr>\n",
       "      <th>13915</th>\n",
       "      <td>52.00</td>\n",
       "      <td>2.0</td>\n",
       "      <td>6350000.0</td>\n",
       "      <td>2</td>\n",
       "    </tr>\n",
       "    <tr>\n",
       "      <th>15833</th>\n",
       "      <td>33.00</td>\n",
       "      <td>9.0</td>\n",
       "      <td>4600000.0</td>\n",
       "      <td>1</td>\n",
       "    </tr>\n",
       "    <tr>\n",
       "      <th>16431</th>\n",
       "      <td>31.00</td>\n",
       "      <td>6.0</td>\n",
       "      <td>3799000.0</td>\n",
       "      <td>1</td>\n",
       "    </tr>\n",
       "    <tr>\n",
       "      <th>17248</th>\n",
       "      <td>33.00</td>\n",
       "      <td>8.9</td>\n",
       "      <td>5300000.0</td>\n",
       "      <td>1</td>\n",
       "    </tr>\n",
       "    <tr>\n",
       "      <th>19251</th>\n",
       "      <td>33.00</td>\n",
       "      <td>6.5</td>\n",
       "      <td>4050000.0</td>\n",
       "      <td>1</td>\n",
       "    </tr>\n",
       "    <tr>\n",
       "      <th>19620</th>\n",
       "      <td>33.00</td>\n",
       "      <td>9.0</td>\n",
       "      <td>4300000.0</td>\n",
       "      <td>1</td>\n",
       "    </tr>\n",
       "    <tr>\n",
       "      <th>20994</th>\n",
       "      <td>50.60</td>\n",
       "      <td>8.0</td>\n",
       "      <td>8900000.0</td>\n",
       "      <td>2</td>\n",
       "    </tr>\n",
       "    <tr>\n",
       "      <th>21505</th>\n",
       "      <td>35.30</td>\n",
       "      <td>8.5</td>\n",
       "      <td>4100000.0</td>\n",
       "      <td>1</td>\n",
       "    </tr>\n",
       "    <tr>\n",
       "      <th>21908</th>\n",
       "      <td>46.30</td>\n",
       "      <td>9.8</td>\n",
       "      <td>5300000.0</td>\n",
       "      <td>1</td>\n",
       "    </tr>\n",
       "    <tr>\n",
       "      <th>21943</th>\n",
       "      <td>77.60</td>\n",
       "      <td>5.4</td>\n",
       "      <td>6100000.0</td>\n",
       "      <td>4</td>\n",
       "    </tr>\n",
       "    <tr>\n",
       "      <th>22252</th>\n",
       "      <td>37.40</td>\n",
       "      <td>9.0</td>\n",
       "      <td>3340000.0</td>\n",
       "      <td>1</td>\n",
       "    </tr>\n",
       "    <tr>\n",
       "      <th>22473</th>\n",
       "      <td>33.26</td>\n",
       "      <td>9.1</td>\n",
       "      <td>3490304.0</td>\n",
       "      <td>2</td>\n",
       "    </tr>\n",
       "    <tr>\n",
       "      <th>23208</th>\n",
       "      <td>37.00</td>\n",
       "      <td>8.0</td>\n",
       "      <td>4800000.0</td>\n",
       "      <td>1</td>\n",
       "    </tr>\n",
       "    <tr>\n",
       "      <th>23574</th>\n",
       "      <td>139.00</td>\n",
       "      <td>3.0</td>\n",
       "      <td>64990000.0</td>\n",
       "      <td>3</td>\n",
       "    </tr>\n",
       "  </tbody>\n",
       "</table>\n",
       "</div>"
      ],
      "text/plain": [
       "       total_area  living_area  last_price  rooms\n",
       "114         21.40          8.3   4000000.0      1\n",
       "680         43.00          9.0   7200000.0      1\n",
       "1326        52.00          9.0   8100000.0      2\n",
       "2309        62.40          8.4   4200000.0      2\n",
       "3242        41.00          3.0   4440000.0      1\n",
       "4100        34.80          9.0   5300000.0      1\n",
       "4542        18.00          9.0   3300000.0      1\n",
       "7312        27.00          9.0   3400000.0      2\n",
       "8325        52.00          9.0   4800000.0      2\n",
       "13915       52.00          2.0   6350000.0      2\n",
       "15833       33.00          9.0   4600000.0      1\n",
       "16431       31.00          6.0   3799000.0      1\n",
       "17248       33.00          8.9   5300000.0      1\n",
       "19251       33.00          6.5   4050000.0      1\n",
       "19620       33.00          9.0   4300000.0      1\n",
       "20994       50.60          8.0   8900000.0      2\n",
       "21505       35.30          8.5   4100000.0      1\n",
       "21908       46.30          9.8   5300000.0      1\n",
       "21943       77.60          5.4   6100000.0      4\n",
       "22252       37.40          9.0   3340000.0      1\n",
       "22473       33.26          9.1   3490304.0      2\n",
       "23208       37.00          8.0   4800000.0      1\n",
       "23574      139.00          3.0  64990000.0      3"
      ]
     },
     "execution_count": 39,
     "metadata": {},
     "output_type": "execute_result"
    }
   ],
   "source": [
    "#data.loc[(data['living_area'] < 10) | (data['living_area'] > 200), ['total_area', 'living_area', 'last_price']]\n",
    "#С большими площадями все ок. Подробнее проверим малые жилые площади\n",
    "data.loc[data['living_area'] < 10, ['total_area', 'living_area', 'last_price', 'rooms']]\n",
    "#Честно говоря, весь срез выглядит странно. Могу еще поверить в малую жилую площадь в квартирах до 20 м2. Остальное выглядит не очень праавдоподобно."
   ]
  },
  {
   "cell_type": "markdown",
   "metadata": {},
   "source": [
    "Думаю что вряд ли жилая площадь квартиры может быть больше чем в 2 раза ниже, чем общая площадь. Поэтому строки, где это соотношение не соблюдается, будем считать аномальными и удалим из набора данных. Можно было бы заменить их на медианные значения в зависимости от количества комнат, но пришлось бы делить квартиры на категории в зависимости от площади, но я и так сижу на этом этапе уже неделю. Так что просто откидываем, а пропуски заменяем на медианы."
   ]
  },
  {
   "cell_type": "code",
   "execution_count": 40,
   "metadata": {},
   "outputs": [
    {
     "data": {
      "text/html": [
       "<div>\n",
       "<style scoped>\n",
       "    .dataframe tbody tr th:only-of-type {\n",
       "        vertical-align: middle;\n",
       "    }\n",
       "\n",
       "    .dataframe tbody tr th {\n",
       "        vertical-align: top;\n",
       "    }\n",
       "\n",
       "    .dataframe thead th {\n",
       "        text-align: right;\n",
       "    }\n",
       "</style>\n",
       "<table border=\"1\" class=\"dataframe\">\n",
       "  <thead>\n",
       "    <tr style=\"text-align: right;\">\n",
       "      <th></th>\n",
       "      <th>rooms</th>\n",
       "      <th>living_area</th>\n",
       "    </tr>\n",
       "  </thead>\n",
       "  <tbody>\n",
       "    <tr>\n",
       "      <th>0</th>\n",
       "      <td>1</td>\n",
       "      <td>17.60</td>\n",
       "    </tr>\n",
       "    <tr>\n",
       "      <th>1</th>\n",
       "      <td>2</td>\n",
       "      <td>30.40</td>\n",
       "    </tr>\n",
       "    <tr>\n",
       "      <th>2</th>\n",
       "      <td>3</td>\n",
       "      <td>44.90</td>\n",
       "    </tr>\n",
       "    <tr>\n",
       "      <th>3</th>\n",
       "      <td>4</td>\n",
       "      <td>62.50</td>\n",
       "    </tr>\n",
       "    <tr>\n",
       "      <th>4</th>\n",
       "      <td>5</td>\n",
       "      <td>89.55</td>\n",
       "    </tr>\n",
       "    <tr>\n",
       "      <th>5</th>\n",
       "      <td>6</td>\n",
       "      <td>123.60</td>\n",
       "    </tr>\n",
       "  </tbody>\n",
       "</table>\n",
       "</div>"
      ],
      "text/plain": [
       "   rooms  living_area\n",
       "0      1        17.60\n",
       "1      2        30.40\n",
       "2      3        44.90\n",
       "3      4        62.50\n",
       "4      5        89.55\n",
       "5      6       123.60"
      ]
     },
     "execution_count": 40,
     "metadata": {},
     "output_type": "execute_result"
    }
   ],
   "source": [
    "median_living_area = data.pivot_table(index = 'rooms', values = 'living_area', aggfunc = 'median').reset_index()\n",
    "median_living_area"
   ]
  },
  {
   "cell_type": "code",
   "execution_count": 41,
   "metadata": {},
   "outputs": [
    {
     "data": {
      "text/plain": [
       "0"
      ]
     },
     "execution_count": 41,
     "metadata": {},
     "output_type": "execute_result"
    }
   ],
   "source": [
    "#Снова делаем грязь\n",
    "data['living_area'] = data['living_area'].fillna(0)\n",
    "\n",
    "def get_living_area(row):\n",
    "    rooms_number = row['rooms']\n",
    "    living_area = row['living_area']\n",
    "    \n",
    "    if living_area == 0:\n",
    "        for index in range(0, len(median_living_area)):\n",
    "            if rooms_number == median_living_area.loc[index, ['rooms']].item():\n",
    "                living_area = median_living_area.loc[index, ['living_area']].item()\n",
    "    return living_area\n",
    "\n",
    "data['living_area'] = data.apply(get_living_area, axis = 1)\n",
    "#Проверим все ли ок:\n",
    "data['living_area'].isna().sum()\n",
    "#¯\\_(ツ)_/¯ ¯\\_(ツ)_/¯ ¯\\_(ツ)_/¯"
   ]
  },
  {
   "cell_type": "code",
   "execution_count": 42,
   "metadata": {},
   "outputs": [
    {
     "data": {
      "text/plain": [
       "<AxesSubplot:>"
      ]
     },
     "execution_count": 42,
     "metadata": {},
     "output_type": "execute_result"
    },
    {
     "data": {
      "image/png": "[encoded data removed]",
      "text/plain": [
       "<Figure size 432x288 with 1 Axes>"
      ]
     },
     "metadata": {
      "needs_background": "light"
     },
     "output_type": "display_data"
    }
   ],
   "source": [
    "#Проверим соотношение жилой и общей площади в квартирах\n",
    "data['livind_area_percent'] = data['living_area']/ data['total_area']\n",
    "data['livind_area_percent'].hist()\n",
    "#Опа, нормальное распределение. Попробую воспользоваться понятием квартилей и межквартильным размахом: \n",
    "#Попробуем удалить все, что выходит за пределы 1,5*межквартильный размаха"
   ]
  },
  {
   "cell_type": "code",
   "execution_count": 43,
   "metadata": {},
   "outputs": [
    {
     "data": {
      "text/plain": [
       "220"
      ]
     },
     "execution_count": 43,
     "metadata": {},
     "output_type": "execute_result"
    }
   ],
   "source": [
    "def get_clean_data(col):\n",
    "    q1 = data[col].quantile(0.25)\n",
    "    q3 = data[col].quantile(0.75)\n",
    "    iqr = q3 - q1\n",
    "    data_clean = data.loc[(data[col]  < q3 + 1.5*iqr) & (data[col]  > q1 - 1.5*iqr)]\n",
    "    return data_clean\n",
    "\n",
    "len(data) - len(get_clean_data('livind_area_percent'))\n",
    "#Думаю 244 строк это не большяа потеря. Оставим так. Если бы не этот метод, то я бы просто откинул все, где livind_area_percent < 0.2 и livind_area_percent >= 1 "
   ]
  },
  {
   "cell_type": "code",
   "execution_count": 44,
   "metadata": {},
   "outputs": [],
   "source": [
    "data = get_clean_data('livind_area_percent')"
   ]
  },
  {
   "cell_type": "markdown",
   "metadata": {},
   "source": [
    "##### `floors_total` и `locality_name`.\n",
    "\n",
    "Тут пропуски ничем не заменить. Был бы столбец с адресом, то можно было бы восстановить оба столбца. Полагаю, что оба этих стобца заполняются автоматически, так что пропуски тут это скорее - всего техническая ошибка. Количество пропусков и там и там небольшое, так что отбросим пропущенные значения."
   ]
  },
  {
   "cell_type": "code",
   "execution_count": 45,
   "metadata": {},
   "outputs": [
    {
     "data": {
      "text/plain": [
       "78"
      ]
     },
     "metadata": {},
     "output_type": "display_data"
    },
    {
     "data": {
      "text/plain": [
       "46"
      ]
     },
     "metadata": {},
     "output_type": "display_data"
    }
   ],
   "source": [
    "display(data['floors_total'].isna().sum())\n",
    "display(data['locality_name'].isna().sum())"
   ]
  },
  {
   "cell_type": "code",
   "execution_count": 46,
   "metadata": {},
   "outputs": [],
   "source": [
    "data = data.dropna(subset=['floors_total', 'locality_name']).reset_index(drop = True)"
   ]
  },
  {
   "cell_type": "markdown",
   "metadata": {},
   "source": [
    "##### `first_day_exposition`\n",
    "Тут тип данных почему - то строка. Изменим на дату."
   ]
  },
  {
   "cell_type": "code",
   "execution_count": 47,
   "metadata": {},
   "outputs": [
    {
     "data": {
      "text/plain": [
       "0       2019-03-07\n",
       "1       2018-12-04\n",
       "2       2015-08-20\n",
       "3       2018-06-19\n",
       "4       2018-09-10\n",
       "           ...    \n",
       "21959   2017-03-21\n",
       "21960   2018-01-15\n",
       "21961   2018-02-11\n",
       "21962   2017-03-28\n",
       "21963   2017-07-21\n",
       "Name: first_day_exposition, Length: 21964, dtype: datetime64[ns]"
      ]
     },
     "execution_count": 47,
     "metadata": {},
     "output_type": "execute_result"
    }
   ],
   "source": [
    "data['first_day_exposition']= pd.to_datetime(data['first_day_exposition'], format='%Y-%m-%dT%H:%M:%S')\n",
    "data['first_day_exposition']"
   ]
  },
  {
   "cell_type": "markdown",
   "metadata": {},
   "source": [
    "##### `last_price`"
   ]
  },
  {
   "cell_type": "code",
   "execution_count": 48,
   "metadata": {},
   "outputs": [
    {
     "data": {
      "text/plain": [
       "count    2.196400e+04\n",
       "mean     6.076474e+06\n",
       "std      7.454031e+06\n",
       "min      1.219000e+04\n",
       "25%      3.400000e+06\n",
       "50%      4.600000e+06\n",
       "75%      6.596500e+06\n",
       "max      3.300000e+08\n",
       "Name: last_price, dtype: float64"
      ]
     },
     "execution_count": 48,
     "metadata": {},
     "output_type": "execute_result"
    }
   ],
   "source": [
    "data['last_price'].describe()"
   ]
  },
  {
   "cell_type": "code",
   "execution_count": 49,
   "metadata": {},
   "outputs": [
    {
     "data": {
      "text/plain": [
       "<AxesSubplot:>"
      ]
     },
     "execution_count": 49,
     "metadata": {},
     "output_type": "execute_result"
    },
    {
     "data": {
      "image/png": "[encoded data removed]",
      "text/plain": [
       "<Figure size 432x288 with 1 Axes>"
      ]
     },
     "metadata": {
      "needs_background": "light"
     },
     "output_type": "display_data"
    }
   ],
   "source": [
    "data['last_price'].hist(range = (0, 1000000))\n",
    "#Квартир с ценой до 1млн.руб. совсем мало. Посмотрим на этот срез.  Может они находятся в глубокой ленинградской области"
   ]
  },
  {
   "cell_type": "code",
   "execution_count": 50,
   "metadata": {},
   "outputs": [
    {
     "data": {
      "text/plain": [
       "0        13000.0\n",
       "1         3350.0\n",
       "2         5196.0\n",
       "3        10000.0\n",
       "4         2890.0\n",
       "          ...   \n",
       "21959     9700.0\n",
       "21960     3100.0\n",
       "21961     2500.0\n",
       "21962    11475.0\n",
       "21963     1350.0\n",
       "Name: last_price_thousands, Length: 21964, dtype: float64"
      ]
     },
     "execution_count": 50,
     "metadata": {},
     "output_type": "execute_result"
    }
   ],
   "source": [
    "#Ну да, в целом так и получается\n",
    "data.loc[data['last_price'] <= 1000000,['last_price', 'total_area', 'locality_name']].head(50)\n",
    "#Работать с такими большими числами не удобно, так что создадим новый столбец и запишем туда цену в тыс.руб.\n",
    "data['last_price_thousands'] = (data['last_price']/1000).round(decimals = 2)\n",
    "data['last_price_thousands']"
   ]
  },
  {
   "cell_type": "code",
   "execution_count": 88,
   "metadata": {},
   "outputs": [
    {
     "data": {
      "text/plain": [
       "total_images                  0\n",
       "last_price                    0\n",
       "total_area                    0\n",
       "first_day_exposition          0\n",
       "rooms                         0\n",
       "ceiling_height                0\n",
       "floors_total                  0\n",
       "living_area                   0\n",
       "floor                         0\n",
       "is_apartment              19409\n",
       "studio                        0\n",
       "open_plan                     0\n",
       "kitchen_area                  0\n",
       "balcony                       0\n",
       "locality_name                 0\n",
       "airports_nearest              0\n",
       "cityCenters_nearest        5173\n",
       "parks_around3000           5172\n",
       "parks_nearest                 0\n",
       "ponds_around3000           5172\n",
       "ponds_nearest                 0\n",
       "days_exposition               0\n",
       "walk_to_park                  0\n",
       "walk_to_pound                 0\n",
       "flag_balcony                  0\n",
       "ride_to_airport               0\n",
       "location_category             0\n",
       "kitchen_percent               0\n",
       "flag_kitchen                  0\n",
       "livind_area_percent           0\n",
       "last_price_thousands          0\n",
       "price_per_sqm                 0\n",
       "week_day                      0\n",
       "month                         0\n",
       "year                          0\n",
       "wich_floor                    0\n",
       "cityCenters_nearest_km     5173\n",
       "dtype: int64"
      ]
     },
     "execution_count": 88,
     "metadata": {},
     "output_type": "execute_result"
    }
   ],
   "source": [
    "#Посмотрим что по итогу получилось\n",
    "data.isna().sum()"
   ]
  },
  {
   "cell_type": "markdown",
   "metadata": {},
   "source": [
    "#### Убираем неявные дубликаты из столбца с названием населенного пункта."
   ]
  },
  {
   "cell_type": "code",
   "execution_count": 52,
   "metadata": {},
   "outputs": [],
   "source": [
    "#Напишем функцию, которая будет разбивать название каждого населенного пункта и оставлять только слова, содержащие заглавные буквы\n",
    "def extract_city_name(row):\n",
    "    city_name = [row for row in row.split(\" \") if row.istitle()]\n",
    "    return \" \".join(city_name)\n",
    "\n",
    "data['locality_name'] = data['locality_name'].apply(extract_city_name)\n"
   ]
  },
  {
   "cell_type": "markdown",
   "metadata": {},
   "source": [
    "### Добавим в таблицу новые столбцы"
   ]
  },
  {
   "cell_type": "code",
   "execution_count": 53,
   "metadata": {},
   "outputs": [],
   "source": [
    "#Цена одного м2:\n",
    "data['price_per_sqm'] = data['last_price']/data['total_area']\n",
    "#День недели\n",
    "data['week_day'] = data['first_day_exposition'].dt.weekday\n",
    "#Месяц\n",
    "data['month'] = data['first_day_exposition'].dt.month \n",
    "#Год\n",
    "data['year'] = data['first_day_exposition'].dt.year "
   ]
  },
  {
   "cell_type": "code",
   "execution_count": 54,
   "metadata": {},
   "outputs": [
    {
     "data": {
      "text/plain": [
       "Другой       16176\n",
       "Последний     3073\n",
       "Первый        2715\n",
       "Name: wich_floor, dtype: int64"
      ]
     },
     "execution_count": 54,
     "metadata": {},
     "output_type": "execute_result"
    }
   ],
   "source": [
    "#Какой этаж?\n",
    "def get_floor(data):\n",
    "    floor = data['floor']\n",
    "    floors_total = data['floors_total']\n",
    "    \n",
    "    if floor == 1:\n",
    "        return 'Первый'\n",
    "    elif floor == floors_total:\n",
    "        return 'Последний'\n",
    "    else:\n",
    "        return 'Другой'\n",
    "    \n",
    "data['wich_floor'] = data.apply(get_floor, axis = 1)\n",
    "data['wich_floor'].value_counts()"
   ]
  },
  {
   "cell_type": "code",
   "execution_count": 55,
   "metadata": {},
   "outputs": [
    {
     "data": {
      "text/plain": [
       "0        16.0\n",
       "1        19.0\n",
       "2        14.0\n",
       "3         8.0\n",
       "4         NaN\n",
       "         ... \n",
       "21959     4.0\n",
       "21960     NaN\n",
       "21961     NaN\n",
       "21962    10.0\n",
       "21963     NaN\n",
       "Name: cityCenters_nearest_km, Length: 21964, dtype: float64"
      ]
     },
     "execution_count": 55,
     "metadata": {},
     "output_type": "execute_result"
    }
   ],
   "source": [
    "#Расстояние до центра в км\n",
    "data['cityCenters_nearest_km'] = (data['cityCenters_nearest']/1000).round(decimals = 0)\n",
    "data['cityCenters_nearest_km']"
   ]
  },
  {
   "cell_type": "markdown",
   "metadata": {},
   "source": [
    "<div class=\"alert alert-success\">\n",
    "\n",
    "**✔️ Комментарий ревьюера ✔️**\n",
    "   \n",
    "   В данном блоке все верно👍\n",
    "\n",
    "</div>\n"
   ]
  },
  {
   "cell_type": "markdown",
   "metadata": {},
   "source": [
    "### Проведите исследовательский анализ данных"
   ]
  },
  {
   "cell_type": "markdown",
   "metadata": {},
   "source": [
    "####  `total_area`"
   ]
  },
  {
   "cell_type": "code",
   "execution_count": 56,
   "metadata": {},
   "outputs": [
    {
     "data": {
      "text/plain": [
       "<AxesSubplot:>"
      ]
     },
     "execution_count": 56,
     "metadata": {},
     "output_type": "execute_result"
    },
    {
     "data": {
      "image/png": "[encoded data removed]",
      "text/plain": [
       "<Figure size 432x288 with 1 Axes>"
      ]
     },
     "metadata": {
      "needs_background": "light"
     },
     "output_type": "display_data"
    }
   ],
   "source": [
    "#data['total_area'].hist()\n",
    "data['total_area'].hist(range=(0,120))\n",
    "#data['total_area'].hist(range=(120,300))\n",
    "#data['total_area'].hist(range=(300,900))"
   ]
  },
  {
   "cell_type": "code",
   "execution_count": 57,
   "metadata": {},
   "outputs": [
    {
     "data": {
      "text/plain": [
       "count    21964.000000\n",
       "mean        58.197684\n",
       "std         28.533981\n",
       "min         12.000000\n",
       "25%         40.000000\n",
       "50%         51.200000\n",
       "75%         68.000000\n",
       "max        491.000000\n",
       "Name: total_area, dtype: float64"
      ]
     },
     "execution_count": 57,
     "metadata": {},
     "output_type": "execute_result"
    }
   ],
   "source": [
    "data['total_area'].describe()"
   ]
  },
  {
   "cell_type": "markdown",
   "metadata": {},
   "source": [
    "На гистограмме видно, что подавляющая часть квартир в диапазоне 12 - 200 м2. \n",
    "\n",
    "- Средняя площадь - 60 м2.\n",
    "- Медианная площадь - 52 м2.\n",
    "- Больше всего квартир с площадью  12 - 120 м2.\n",
    "- Меньше квартир с  лощадью в диапазоне 120 - 300 м2\n",
    "- Реже всего встречаются квартиры с площадью в диапазоне 300 - 900 м2."
   ]
  },
  {
   "cell_type": "markdown",
   "metadata": {},
   "source": [
    "####  `living_area`"
   ]
  },
  {
   "cell_type": "code",
   "execution_count": 58,
   "metadata": {},
   "outputs": [
    {
     "data": {
      "text/plain": [
       "<AxesSubplot:>"
      ]
     },
     "execution_count": 58,
     "metadata": {},
     "output_type": "execute_result"
    },
    {
     "data": {
      "image/png": "[encoded data removed]",
      "text/plain": [
       "<Figure size 432x288 with 1 Axes>"
      ]
     },
     "metadata": {
      "needs_background": "light"
     },
     "output_type": "display_data"
    }
   ],
   "source": [
    "#data['living_area'].hist()\n",
    "data['living_area'].hist(range=(0,120))\n",
    "#data['living_area'].hist(range=(120,300))\n",
    "#data['living_area'].hist(range=(300,800))"
   ]
  },
  {
   "cell_type": "code",
   "execution_count": 59,
   "metadata": {},
   "outputs": [
    {
     "data": {
      "text/plain": [
       "count    21964.000000\n",
       "mean        33.186850\n",
       "std         18.320867\n",
       "min          8.300000\n",
       "25%         18.300000\n",
       "50%         30.000000\n",
       "75%         42.000000\n",
       "max        300.000000\n",
       "Name: living_area, dtype: float64"
      ]
     },
     "execution_count": 59,
     "metadata": {},
     "output_type": "execute_result"
    }
   ],
   "source": [
    "data['living_area'].describe()"
   ]
  },
  {
   "cell_type": "markdown",
   "metadata": {},
   "source": [
    "Гистограмма распределения жилой площади практически повторяет гистограмму значения общей площади, но значения по оси абсцисс в смещено в 2 раза, что говорит, что в среднем жилая площадь составляет половину общей площади квартиры.\n",
    "\n",
    "- Средняя жилая площадь - 34.3 м2.\n",
    "- Медианная жилая площадь - 30 м2.\n",
    "- Больше всего квартир с жилой площадью  8 - 80 м2.\n",
    "- Меньше квартир с жилой площадью в диапазоне 120 - 300 м2\n",
    "- Реже всего встречаются квартиры с жилой площадью в диапазоне 300 - 400 м2."
   ]
  },
  {
   "cell_type": "markdown",
   "metadata": {},
   "source": [
    "####  `kitchen_area`"
   ]
  },
  {
   "cell_type": "code",
   "execution_count": 60,
   "metadata": {},
   "outputs": [
    {
     "data": {
      "text/plain": [
       "<AxesSubplot:>"
      ]
     },
     "execution_count": 60,
     "metadata": {},
     "output_type": "execute_result"
    },
    {
     "data": {
      "image/png": "[encoded data removed]",
      "text/plain": [
       "<Figure size 432x288 with 1 Axes>"
      ]
     },
     "metadata": {
      "needs_background": "light"
     },
     "output_type": "display_data"
    }
   ],
   "source": [
    "#data['kitchen_area'].hist()\n",
    "#data['kitchen_area'].hist(range=(0,30))\n",
    "#data['kitchen_area'].hist(range=(30, 60))\n",
    "data['kitchen_area'].hist(range=(60,120))"
   ]
  },
  {
   "cell_type": "code",
   "execution_count": 61,
   "metadata": {},
   "outputs": [
    {
     "data": {
      "text/plain": [
       "count    21964.000000\n",
       "mean        10.302481\n",
       "std          5.374951\n",
       "min          2.000000\n",
       "25%          7.200000\n",
       "50%          9.000000\n",
       "75%         11.300000\n",
       "max        107.000000\n",
       "Name: kitchen_area, dtype: float64"
      ]
     },
     "execution_count": 61,
     "metadata": {},
     "output_type": "execute_result"
    }
   ],
   "source": [
    "data['kitchen_area'].describe()"
   ]
  },
  {
   "cell_type": "markdown",
   "metadata": {},
   "source": [
    "Гистограмма распределения площади кухни похожа на предыдущие. Значения по оси абсцисс в смещено в 10 раз, можно предположить, что в среднем, кухня составляет 1/10 площад всей квартиры.\n",
    "\n",
    "- Медианная площадь кухни - 9 м2.\n",
    "- Средняя площадь кухни - 10.4 м2.\n",
    "- Больше всего квартир с кухней от 3 до 20 м2.\n",
    "- Меньше квартир в с кухней в диапазоне 30 - 60 м2.\n",
    "- Реже всего продаются квартиры с площадью кухни от 60 м2.\n"
   ]
  },
  {
   "cell_type": "markdown",
   "metadata": {},
   "source": [
    "#### `last_price`"
   ]
  },
  {
   "cell_type": "code",
   "execution_count": 62,
   "metadata": {},
   "outputs": [
    {
     "data": {
      "text/plain": [
       "<AxesSubplot:>"
      ]
     },
     "execution_count": 62,
     "metadata": {},
     "output_type": "execute_result"
    },
    {
     "data": {
      "image/png": "[encoded data removed]",
      "text/plain": [
       "<Figure size 432x288 with 1 Axes>"
      ]
     },
     "metadata": {
      "needs_background": "light"
     },
     "output_type": "display_data"
    }
   ],
   "source": [
    "data['last_price_thousands'].hist(range = (0, 10000))"
   ]
  },
  {
   "cell_type": "code",
   "execution_count": 63,
   "metadata": {},
   "outputs": [
    {
     "data": {
      "text/plain": [
       "count     21964.000000\n",
       "mean       6076.474477\n",
       "std        7454.031186\n",
       "min          12.190000\n",
       "25%        3400.000000\n",
       "50%        4600.000000\n",
       "75%        6596.500000\n",
       "max      330000.000000\n",
       "Name: last_price_thousands, dtype: float64"
      ]
     },
     "execution_count": 63,
     "metadata": {},
     "output_type": "execute_result"
    }
   ],
   "source": [
    "data['last_price_thousands'].describe()"
   ]
  },
  {
   "cell_type": "markdown",
   "metadata": {},
   "source": [
    "- БОльшая часть цен располагается в диапазоне 3 - 8 млн.руб.\n",
    "- Квартиры с ценой до 3 и от 8 млн.руб встречаются реже.\n",
    "- Медианная цена квартиры - 4.6 млн.руб\n",
    "- Средняя цена - 6.2 млн.руб"
   ]
  },
  {
   "cell_type": "markdown",
   "metadata": {},
   "source": [
    "#### `rooms`"
   ]
  },
  {
   "cell_type": "code",
   "execution_count": 64,
   "metadata": {},
   "outputs": [],
   "source": [
    "#data['rooms'].hist()\n",
    "#data['rooms'].hist(range = (0,4))\n",
    "#data['rooms'].hist(range = (5,15))\n"
   ]
  },
  {
   "cell_type": "code",
   "execution_count": 65,
   "metadata": {},
   "outputs": [
    {
     "data": {
      "text/plain": [
       "count    21964.000000\n",
       "mean         2.038290\n",
       "std          0.968492\n",
       "min          1.000000\n",
       "25%          1.000000\n",
       "50%          2.000000\n",
       "75%          3.000000\n",
       "max          6.000000\n",
       "Name: rooms, dtype: float64"
      ]
     },
     "execution_count": 65,
     "metadata": {},
     "output_type": "execute_result"
    }
   ],
   "source": [
    "data['rooms'].describe()"
   ]
  },
  {
   "cell_type": "markdown",
   "metadata": {},
   "source": [
    "- Медианное количество комнат - 2.\n",
    "- Среднее количество комнат - 2.\n",
    "- Больше всего продаеся квартир с 1-3 комнатами\n",
    "- Значительно реже - с количеством комнат 4 - 15"
   ]
  },
  {
   "cell_type": "markdown",
   "metadata": {},
   "source": [
    "#### `ceiling_height`"
   ]
  },
  {
   "cell_type": "code",
   "execution_count": 66,
   "metadata": {},
   "outputs": [
    {
     "data": {
      "text/plain": [
       "<AxesSubplot:>"
      ]
     },
     "execution_count": 66,
     "metadata": {},
     "output_type": "execute_result"
    },
    {
     "data": {
      "image/png": "[encoded data removed]",
      "text/plain": [
       "<Figure size 432x288 with 1 Axes>"
      ]
     },
     "metadata": {
      "needs_background": "light"
     },
     "output_type": "display_data"
    }
   ],
   "source": [
    "data['ceiling_height'].hist()\n",
    "#data['ceiling_height'].hist(range=(0,4))"
   ]
  },
  {
   "cell_type": "code",
   "execution_count": 67,
   "metadata": {},
   "outputs": [
    {
     "data": {
      "text/plain": [
       "count    21964.000000\n",
       "mean         2.685976\n",
       "std          0.214724\n",
       "min          2.000000\n",
       "25%          2.600000\n",
       "50%          2.640000\n",
       "75%          2.700000\n",
       "max          6.000000\n",
       "Name: ceiling_height, dtype: float64"
      ]
     },
     "execution_count": 67,
     "metadata": {},
     "output_type": "execute_result"
    }
   ],
   "source": [
    "data['ceiling_height'].describe()"
   ]
  },
  {
   "cell_type": "markdown",
   "metadata": {},
   "source": [
    "Большая часть данных распределена в диапазоне 2 - 3,5 м.\n",
    "\n",
    "- Медианная высота потолков - 2,64 м.\n",
    "- Средняя высота потолков - 2,7 м.\n",
    "- Больше всего квартир с высотой потолков 2 - 3,5 м.\n",
    "- Значительно меньше квартир с высоток потолков от 3,5 м."
   ]
  },
  {
   "cell_type": "markdown",
   "metadata": {},
   "source": [
    "#### `floor`"
   ]
  },
  {
   "cell_type": "code",
   "execution_count": 68,
   "metadata": {},
   "outputs": [
    {
     "data": {
      "text/plain": [
       "<AxesSubplot:>"
      ]
     },
     "execution_count": 68,
     "metadata": {},
     "output_type": "execute_result"
    },
    {
     "data": {
      "image/png": "[encoded data removed]",
      "text/plain": [
       "<Figure size 432x288 with 1 Axes>"
      ]
     },
     "metadata": {
      "needs_background": "light"
     },
     "output_type": "display_data"
    }
   ],
   "source": [
    "#data['floor'].hist()\n",
    "#data['floor'].hist(range = (0, 12))\n",
    "data['floor'].hist(range = (12, 35))"
   ]
  },
  {
   "cell_type": "code",
   "execution_count": 69,
   "metadata": {},
   "outputs": [
    {
     "data": {
      "text/plain": [
       "count    21964.000000\n",
       "mean         5.860453\n",
       "std          4.846415\n",
       "min          1.000000\n",
       "25%          2.000000\n",
       "50%          4.000000\n",
       "75%          8.000000\n",
       "max         33.000000\n",
       "Name: floor, dtype: float64"
      ]
     },
     "execution_count": 69,
     "metadata": {},
     "output_type": "execute_result"
    }
   ],
   "source": [
    "data['floor'].describe()"
   ]
  },
  {
   "cell_type": "markdown",
   "metadata": {},
   "source": [
    "Больше всего квартир находятся на 1 - 12 этажах, что логично: среди построенных домов больше всего 5-9 этажный. Среди построенных недавно - много домов, где больше 9 этажей.\n",
    "\n",
    "- В среднем квартиры располагаются на 6 этаже\n",
    "- Медианный этаж - 4\n",
    "- Чаще всего встречаются квартиры на 1 - 12 этажах\n",
    "- на 12+ этажах квартир меньше всего"
   ]
  },
  {
   "cell_type": "markdown",
   "metadata": {},
   "source": [
    "#### `wich_floor`"
   ]
  },
  {
   "cell_type": "code",
   "execution_count": 70,
   "metadata": {},
   "outputs": [
    {
     "data": {
      "text/plain": [
       "Другой       16176\n",
       "Последний     3073\n",
       "Первый        2715\n",
       "Name: wich_floor, dtype: int64"
      ]
     },
     "execution_count": 70,
     "metadata": {},
     "output_type": "execute_result"
    }
   ],
   "source": [
    "data['wich_floor'].value_counts()"
   ]
  },
  {
   "cell_type": "markdown",
   "metadata": {},
   "source": [
    "- Больше всего квартир продается на не первом и не последних этажах.\n",
    "- Количество квартир на первом и на последих этажах примерно одинаковое."
   ]
  },
  {
   "cell_type": "markdown",
   "metadata": {},
   "source": [
    "#### `floors_total`"
   ]
  },
  {
   "cell_type": "code",
   "execution_count": 71,
   "metadata": {},
   "outputs": [
    {
     "data": {
      "text/plain": [
       "<AxesSubplot:>"
      ]
     },
     "execution_count": 71,
     "metadata": {},
     "output_type": "execute_result"
    },
    {
     "data": {
      "image/png": "[encoded data removed]",
      "text/plain": [
       "<Figure size 432x288 with 1 Axes>"
      ]
     },
     "metadata": {
      "needs_background": "light"
     },
     "output_type": "display_data"
    }
   ],
   "source": [
    "data['floors_total'].hist()"
   ]
  },
  {
   "cell_type": "code",
   "execution_count": 72,
   "metadata": {},
   "outputs": [
    {
     "data": {
      "text/plain": [
       "count    21964.000000\n",
       "mean        10.669049\n",
       "std          6.571956\n",
       "min          1.000000\n",
       "25%          5.000000\n",
       "50%          9.000000\n",
       "75%         16.000000\n",
       "max         60.000000\n",
       "Name: floors_total, dtype: float64"
      ]
     },
     "execution_count": 72,
     "metadata": {},
     "output_type": "execute_result"
    }
   ],
   "source": [
    "data['floors_total'].describe()"
   ]
  },
  {
   "cell_type": "markdown",
   "metadata": {},
   "source": [
    "- Медианная высота дома, в котором продается квартира - 9 этажей.\n",
    "- Средняя высота дома - 10 этажей\n",
    "- Большая часть объявлений рахмешено в домах, где 1 - 20 этажей.\n",
    "- Значительно меньше объявлений в домах от 20 этажей.\n"
   ]
  },
  {
   "cell_type": "markdown",
   "metadata": {},
   "source": [
    "#### `cityCenters_nearest`"
   ]
  },
  {
   "cell_type": "code",
   "execution_count": 73,
   "metadata": {},
   "outputs": [
    {
     "data": {
      "text/plain": [
       "<AxesSubplot:>"
      ]
     },
     "execution_count": 73,
     "metadata": {},
     "output_type": "execute_result"
    },
    {
     "data": {
      "image/png": "[encoded data removed]",
      "text/plain": [
       "<Figure size 432x288 with 1 Axes>"
      ]
     },
     "metadata": {
      "needs_background": "light"
     },
     "output_type": "display_data"
    }
   ],
   "source": [
    "data['cityCenters_nearest_km'].hist()"
   ]
  },
  {
   "cell_type": "code",
   "execution_count": 74,
   "metadata": {},
   "outputs": [
    {
     "data": {
      "text/plain": [
       "count    16791.000000\n",
       "mean     14393.745816\n",
       "std       8580.316356\n",
       "min        181.000000\n",
       "25%       9632.000000\n",
       "50%      13223.000000\n",
       "75%      16362.500000\n",
       "max      65952.000000\n",
       "Name: cityCenters_nearest, dtype: float64"
      ]
     },
     "execution_count": 74,
     "metadata": {},
     "output_type": "execute_result"
    }
   ],
   "source": [
    "data['cityCenters_nearest'].describe()"
   ]
  },
  {
   "cell_type": "code",
   "execution_count": 75,
   "metadata": {},
   "outputs": [
    {
     "data": {
      "text/plain": [
       "СПб            15043\n",
       "ЛО              5173\n",
       "СПб - Центр     1748\n",
       "Name: location_category, dtype: int64"
      ]
     },
     "execution_count": 75,
     "metadata": {},
     "output_type": "execute_result"
    }
   ],
   "source": [
    "data['location_category'].value_counts()"
   ]
  },
  {
   "cell_type": "markdown",
   "metadata": {},
   "source": [
    "- Медианное расстояние до центра города - 13.2 км\n",
    "- Среднее расстояние до центра - 14,3 км.\n",
    "- Большая часть квартир, продаваемых в Санкт - Петербурге, находится на расстоянии до 20 км от центра\n",
    "- Значительно меньше квартир на расстоянии от 20 км до центра.\n",
    "- Больше всего объявлений из Санкт - Петребурга и ближайших пригородов."
   ]
  },
  {
   "cell_type": "markdown",
   "metadata": {},
   "source": [
    "#### `airports_nearest`"
   ]
  },
  {
   "cell_type": "code",
   "execution_count": 76,
   "metadata": {},
   "outputs": [
    {
     "data": {
      "text/plain": [
       "<AxesSubplot:>"
      ]
     },
     "execution_count": 76,
     "metadata": {},
     "output_type": "execute_result"
    },
    {
     "data": {
      "image/png": "[encoded data removed]",
      "text/plain": [
       "<Figure size 432x288 with 1 Axes>"
      ]
     },
     "metadata": {
      "needs_background": "light"
     },
     "output_type": "display_data"
    }
   ],
   "source": [
    "data['airports_nearest'].hist(range=(0, 100000))"
   ]
  },
  {
   "cell_type": "code",
   "execution_count": 77,
   "metadata": {},
   "outputs": [
    {
     "data": {
      "text/plain": [
       "Нет аэропорта поблизости               16924\n",
       "30 минут на общественном транспорт      4755\n",
       "10 минут на общественном транспорте      285\n",
       "Name: ride_to_airport, dtype: int64"
      ]
     },
     "execution_count": 77,
     "metadata": {},
     "output_type": "execute_result"
    }
   ],
   "source": [
    "data['ride_to_airport'].value_counts()"
   ]
  },
  {
   "cell_type": "code",
   "execution_count": 78,
   "metadata": {},
   "outputs": [
    {
     "data": {
      "text/plain": [
       "count     21964.000000\n",
       "mean     258406.721681\n",
       "std      412717.770789\n",
       "min           0.000000\n",
       "25%       21036.000000\n",
       "50%       33792.000000\n",
       "75%       55456.500000\n",
       "max      999999.000000\n",
       "Name: airports_nearest, dtype: float64"
      ]
     },
     "execution_count": 78,
     "metadata": {},
     "output_type": "execute_result"
    }
   ],
   "source": [
    "data['airports_nearest'].describe()"
   ]
  },
  {
   "cell_type": "markdown",
   "metadata": {},
   "source": [
    "- Большая часть квартир находится на расстоянии от 10 до 60 км до аэропорта.\n",
    "- Медианное расстояние до аэропорта - 33.7 км\n",
    "- Среднее расстояние до аэропорта - 25.7 км."
   ]
  },
  {
   "cell_type": "markdown",
   "metadata": {},
   "source": [
    "#### `day`, `month`, `year`"
   ]
  },
  {
   "cell_type": "code",
   "execution_count": 79,
   "metadata": {},
   "outputs": [
    {
     "data": {
      "text/plain": [
       "<AxesSubplot:>"
      ]
     },
     "execution_count": 79,
     "metadata": {},
     "output_type": "execute_result"
    },
    {
     "data": {
      "image/png": "[encoded data removed]",
      "text/plain": [
       "<Figure size 1080x360 with 1 Axes>"
      ]
     },
     "metadata": {
      "needs_background": "light"
     },
     "output_type": "display_data"
    }
   ],
   "source": [
    "data['week_day'].hist(bins = 7, figsize = (15,5))"
   ]
  },
  {
   "cell_type": "markdown",
   "metadata": {},
   "source": [
    "Из гистограммы видно, что в основном пользователи выкладывают объявления в будние дни. Больше всего - в четверг. Меньше всего - в воскресенье."
   ]
  },
  {
   "cell_type": "code",
   "execution_count": 80,
   "metadata": {},
   "outputs": [
    {
     "data": {
      "text/plain": [
       "<AxesSubplot:>"
      ]
     },
     "execution_count": 80,
     "metadata": {},
     "output_type": "execute_result"
    },
    {
     "data": {
      "image/png": "[encoded data removed]",
      "text/plain": [
       "<Figure size 1080x360 with 1 Axes>"
      ]
     },
     "metadata": {
      "needs_background": "light"
     },
     "output_type": "display_data"
    }
   ],
   "source": [
    "data['month'].hist(bins = 12, figsize = (15,5))"
   ]
  },
  {
   "cell_type": "markdown",
   "metadata": {},
   "source": [
    "Чаще всего объявления выкладывают в марте. Реже всего - в июне."
   ]
  },
  {
   "cell_type": "code",
   "execution_count": 81,
   "metadata": {},
   "outputs": [
    {
     "data": {
      "text/plain": [
       "<AxesSubplot:>"
      ]
     },
     "execution_count": 81,
     "metadata": {},
     "output_type": "execute_result"
    },
    {
     "data": {
      "image/png": "[encoded data removed]",
      "text/plain": [
       "<Figure size 1080x360 with 1 Axes>"
      ]
     },
     "metadata": {
      "needs_background": "light"
     },
     "output_type": "display_data"
    }
   ],
   "source": [
    "data['year'].hist(figsize = (15,5))"
   ]
  },
  {
   "cell_type": "markdown",
   "metadata": {},
   "source": [
    "Меньше всего объявлений было выложено в 2014 - 2016 годах. С 2017 года количество размещаемых объявлений значительно выросло. В 2019 количество объявлений упало до уровня 2016 года. Полагаю, э тосвязано с тем, что выгрузка была сделала в середине 2019 года."
   ]
  },
  {
   "cell_type": "markdown",
   "metadata": {},
   "source": [
    "<div class=\"alert alert-success\">\n",
    "✔️ Комментарий ревьюера ✔️ \n",
    "\n",
    "Хороший результат. Хочу добавить, что обычно размеры двухкомнатных квартир составляют от 50 до 100 квадратных метров, что и соответствует проведенному анализу.\n",
    "    \n",
    "Могу посоветовать на будущее хорошую статью по оформлению графиков:\n",
    "    https://devpractice.ru/matplotlib-lesson-3-3-text-elements/    \n",
    "        \n",
    "    \n",
    "    \n",
    "</div>"
   ]
  },
  {
   "cell_type": "markdown",
   "metadata": {},
   "source": [
    "#### `days_exposition`"
   ]
  },
  {
   "cell_type": "code",
   "execution_count": 82,
   "metadata": {},
   "outputs": [
    {
     "data": {
      "text/plain": [
       "<AxesSubplot:>"
      ]
     },
     "execution_count": 82,
     "metadata": {},
     "output_type": "execute_result"
    },
    {
     "data": {
      "image/png": "[encoded data removed]",
      "text/plain": [
       "<Figure size 1080x360 with 1 Axes>"
      ]
     },
     "metadata": {
      "needs_background": "light"
     },
     "output_type": "display_data"
    }
   ],
   "source": [
    "data.boxplot('days_exposition', figsize = (15,5))"
   ]
  },
  {
   "cell_type": "code",
   "execution_count": 83,
   "metadata": {},
   "outputs": [
    {
     "data": {
      "text/plain": [
       "<AxesSubplot:>"
      ]
     },
     "execution_count": 83,
     "metadata": {},
     "output_type": "execute_result"
    },
    {
     "data": {
      "image/png": "[encoded data removed]",
      "text/plain": [
       "<Figure size 1080x360 with 1 Axes>"
      ]
     },
     "metadata": {
      "needs_background": "light"
     },
     "output_type": "display_data"
    }
   ],
   "source": [
    "#data['days_exposition'].hist(figsize = (15,5))\n",
    "data['days_exposition'].hist(range = (1, 100), bins = 20, figsize = (15,5))"
   ]
  },
  {
   "cell_type": "code",
   "execution_count": 84,
   "metadata": {},
   "outputs": [
    {
     "data": {
      "text/plain": [
       "count    21964.000000\n",
       "mean       134.401885\n",
       "std        162.010617\n",
       "min          0.000000\n",
       "25%         21.000000\n",
       "50%         70.000000\n",
       "75%        183.000000\n",
       "max        799.000000\n",
       "Name: days_exposition, dtype: float64"
      ]
     },
     "execution_count": 84,
     "metadata": {},
     "output_type": "execute_result"
    }
   ],
   "source": [
    "data['days_exposition'].describe()"
   ]
  },
  {
   "cell_type": "code",
   "execution_count": 85,
   "metadata": {},
   "outputs": [
    {
     "data": {
      "image/png": "[encoded data removed]",
      "text/plain": [
       "<Figure size 432x288 with 1 Axes>"
      ]
     },
     "metadata": {
      "needs_background": "light"
     },
     "output_type": "display_data"
    },
    {
     "data": {
      "image/png": "[encoded data removed]",
      "text/plain": [
       "<Figure size 432x288 with 1 Axes>"
      ]
     },
     "metadata": {
      "needs_background": "light"
     },
     "output_type": "display_data"
    },
    {
     "data": {
      "image/png": "[encoded data removed]",
      "text/plain": [
       "<Figure size 432x288 with 1 Axes>"
      ]
     },
     "metadata": {
      "needs_background": "light"
     },
     "output_type": "display_data"
    },
    {
     "data": {
      "image/png": "[encoded data removed]",
      "text/plain": [
       "<Figure size 432x288 with 1 Axes>"
      ]
     },
     "metadata": {
      "needs_background": "light"
     },
     "output_type": "display_data"
    },
    {
     "data": {
      "image/png": "[encoded data removed]",
      "text/plain": [
       "<Figure size 432x288 with 1 Axes>"
      ]
     },
     "metadata": {
      "needs_background": "light"
     },
     "output_type": "display_data"
    },
    {
     "data": {
      "image/png": "[encoded data removed]",
      "text/plain": [
       "<Figure size 432x288 with 1 Axes>"
      ]
     },
     "metadata": {
      "needs_background": "light"
     },
     "output_type": "display_data"
    }
   ],
   "source": [
    "for rooms in data['rooms'].unique():\n",
    "    title = str(rooms) + ' rooms'\n",
    "    data.loc[data['rooms'] == rooms, ['days_exposition']].plot(y = 'days_exposition', kind = 'hist', bins = 10, title = title)"
   ]
  },
  {
   "cell_type": "markdown",
   "metadata": {},
   "source": [
    "- В основном квартиры продаются за период до 183 дней. \n",
    "- Медианный срок продажи квартиры - 70 дней. \n",
    "- В среднем квартира продается за 134 дня.\n",
    "- Быстрой можно назвать продажу квартиры до 40 дней. \n",
    "- В районе 45, 60 и 85 дней виден необычный рост чтсла проданных квартир.\n",
    "- Квартиры с 1 - 3 комнатами продаются примерноза одно и то же время. Далее, по мере увеличения количества комнат, срок продажи растет. \n",
    "- Аномально большие сроки продажи квартир могут быть обусловлены как действительно долгой продажей квартиры, так и тем, что пользователь может забыть закрыть объявление в случае успешной продажи."
   ]
  },
  {
   "cell_type": "code",
   "execution_count": 86,
   "metadata": {},
   "outputs": [
    {
     "ename": "NameError",
     "evalue": "name 'sbrn' is not defined",
     "output_type": "error",
     "traceback": [
      "\u001b[0;31m---------------------------------------------------------------------------\u001b[0m",
      "\u001b[0;31mNameError\u001b[0m                                 Traceback (most recent call last)",
      "\u001b[0;32m/tmp/ipykernel_121/1870697219.py\u001b[0m in \u001b[0;36m<module>\u001b[0;34m\u001b[0m\n\u001b[1;32m      1\u001b[0m \u001b[0;31m#Посмотрим что влияет на скоросро продажм квартиры\u001b[0m\u001b[0;34m\u001b[0m\u001b[0;34m\u001b[0m\u001b[0;34m\u001b[0m\u001b[0m\n\u001b[0;32m----> 2\u001b[0;31m \u001b[0msbrn\u001b[0m\u001b[0;34m.\u001b[0m\u001b[0mheatmap\u001b[0m\u001b[0;34m(\u001b[0m\u001b[0mdata\u001b[0m\u001b[0;34m.\u001b[0m\u001b[0mcorr\u001b[0m\u001b[0;34m(\u001b[0m\u001b[0;34m)\u001b[0m\u001b[0;34m[\u001b[0m\u001b[0;34m[\u001b[0m\u001b[0;34m'days_exposition'\u001b[0m\u001b[0;34m]\u001b[0m\u001b[0;34m]\u001b[0m\u001b[0;34m)\u001b[0m\u001b[0;34m\u001b[0m\u001b[0;34m\u001b[0m\u001b[0m\n\u001b[0m\u001b[1;32m      3\u001b[0m \u001b[0;31m#Вот тут не совсем понятно. Получается практически ничего не оказывает влияние на срок продажи квартиры.\u001b[0m\u001b[0;34m\u001b[0m\u001b[0;34m\u001b[0m\u001b[0;34m\u001b[0m\u001b[0m\n\u001b[1;32m      4\u001b[0m \u001b[0;31m#Я ожидал, что будет зависимость хотя бы от цены. Либо я гле-то ошибся в процессе решения, либо в наборе остались +- рыночные предложения\u001b[0m\u001b[0;34m\u001b[0m\u001b[0;34m\u001b[0m\u001b[0;34m\u001b[0m\u001b[0m\n",
      "\u001b[0;31mNameError\u001b[0m: name 'sbrn' is not defined"
     ]
    }
   ],
   "source": [
    "#Посмотрим что влияет на скоросро продажм квартиры\n",
    "sbrn.heatmap(data.corr()[['days_exposition']])\n",
    "#Вот тут не совсем понятно. Получается практически ничего не оказывает влияние на срок продажи квартиры. \n",
    "#Я ожидал, что будет зависимость хотя бы от цены. Либо я гле-то ошибся в процессе решения, либо в наборе остались +- рыночные предложения"
   ]
  },
  {
   "cell_type": "markdown",
   "metadata": {},
   "source": [
    "#### Влияние на цену различных факторов"
   ]
  },
  {
   "cell_type": "code",
   "execution_count": 116,
   "metadata": {},
   "outputs": [
    {
     "data": {
      "text/html": [
       "<div>\n",
       "<style scoped>\n",
       "    .dataframe tbody tr th:only-of-type {\n",
       "        vertical-align: middle;\n",
       "    }\n",
       "\n",
       "    .dataframe tbody tr th {\n",
       "        vertical-align: top;\n",
       "    }\n",
       "\n",
       "    .dataframe thead th {\n",
       "        text-align: right;\n",
       "    }\n",
       "</style>\n",
       "<table border=\"1\" class=\"dataframe\">\n",
       "  <thead>\n",
       "    <tr style=\"text-align: right;\">\n",
       "      <th></th>\n",
       "      <th>last_price</th>\n",
       "    </tr>\n",
       "  </thead>\n",
       "  <tbody>\n",
       "    <tr>\n",
       "      <th>last_price</th>\n",
       "      <td>1.000000</td>\n",
       "    </tr>\n",
       "    <tr>\n",
       "      <th>total_area</th>\n",
       "      <td>0.669481</td>\n",
       "    </tr>\n",
       "    <tr>\n",
       "      <th>living_area</th>\n",
       "      <td>0.579938</td>\n",
       "    </tr>\n",
       "    <tr>\n",
       "      <th>kitchen_area</th>\n",
       "      <td>0.532082</td>\n",
       "    </tr>\n",
       "    <tr>\n",
       "      <th>rooms</th>\n",
       "      <td>0.374984</td>\n",
       "    </tr>\n",
       "    <tr>\n",
       "      <th>week_day</th>\n",
       "      <td>-0.007604</td>\n",
       "    </tr>\n",
       "    <tr>\n",
       "      <th>month</th>\n",
       "      <td>-0.007229</td>\n",
       "    </tr>\n",
       "    <tr>\n",
       "      <th>year</th>\n",
       "      <td>-0.027326</td>\n",
       "    </tr>\n",
       "  </tbody>\n",
       "</table>\n",
       "</div>"
      ],
      "text/plain": [
       "              last_price\n",
       "last_price      1.000000\n",
       "total_area      0.669481\n",
       "living_area     0.579938\n",
       "kitchen_area    0.532082\n",
       "rooms           0.374984\n",
       "week_day       -0.007604\n",
       "month          -0.007229\n",
       "year           -0.027326"
      ]
     },
     "execution_count": 116,
     "metadata": {},
     "output_type": "execute_result"
    }
   ],
   "source": [
    "#Создадим срез данных с интересующими нас столбцами\n",
    "data_cut = data[['last_price', \n",
    "                 'total_area', \n",
    "                 'living_area', \n",
    "                 'kitchen_area', \n",
    "                 'rooms', \n",
    "                 'wich_floor', \n",
    "                 'week_day', \n",
    "                 'month', \n",
    "                 'year']]\n",
    "data_cut.corr()[['last_price']]"
   ]
  },
  {
   "cell_type": "markdown",
   "metadata": {},
   "source": [
    "Общая площадь, жилая площадь и площадь кухни оказывают наиболее существенное влияние на стоимость квартиры. Самое больше значение оказывает общая площадь квартиры, что логично. Жилая площадь и площадь кухни влияют в меньшей степени, однако если вычистить данные более тщательно, то думаю, можно привести коэффициент корреляции этих переменных примерно к одному значению, поскольку все они связаны друг между другом.\n",
    "\n",
    "Количество комнат влияет меньше, чем общая площадь. Это странно. Ожидалось, что коэффициент корреляции между количеством комнат и стоимостью квартиры будет выше, так как количество комнат сильно влияет на общую и жилую площадь квартиры. Возможно где - то не удалил аномальные значения и из-за этого сбился коэффициент корреляции.\n",
    "\n",
    "День, месяц и год, когда объявление размещалось практически не влияет на стоимость квартиры."
   ]
  },
  {
   "cell_type": "code",
   "execution_count": 94,
   "metadata": {},
   "outputs": [
    {
     "data": {
      "text/plain": [
       "<AxesSubplot:>"
      ]
     },
     "execution_count": 94,
     "metadata": {},
     "output_type": "execute_result"
    },
    {
     "data": {
      "image/png": "[encoded data removed]",
      "text/plain": [
       "<Figure size 432x288 with 2 Axes>"
      ]
     },
     "metadata": {
      "needs_background": "light"
     },
     "output_type": "display_data"
    }
   ],
   "source": [
    "#Посмтроим Heatmap для красоты. plotting.scatter_matrix решил не строить, так как этот график не очень удобно читается.\n",
    "sbrn.heatmap(data_cut.corr()[['last_price']])"
   ]
  },
  {
   "cell_type": "code",
   "execution_count": 119,
   "metadata": {},
   "outputs": [],
   "source": [
    "#Посмотрим как менялась медианная цена квартир с каждым годом\n",
    "median_year = (data\n",
    "               .groupby('year')['last_price_thousands']\n",
    "               .median()\n",
    "               .reset_index())"
   ]
  },
  {
   "cell_type": "markdown",
   "metadata": {},
   "source": [
    "Интерсно получается, в 2014 году медианная цена квартиры была выше, чем в последующие годы. Полагаю это связано с тем, что в 2014 годы были введены санкции, что сказалось на стоимости строительства жилья, а значит и на итоговой стоимости квартир. С 2015 года ситуация стабилизировалаь и стоимость недвижимости упала."
   ]
  },
  {
   "cell_type": "code",
   "execution_count": 108,
   "metadata": {},
   "outputs": [],
   "source": [
    "#Посмотрим как влияет на цену квартиры месяц размещения объявления\n",
    "median_month = (data\n",
    "                .groupby('month')['last_price_thousands']\n",
    "                .median()\n",
    "                .reset_index())\n",
    "\n",
    "median_year = (data\n",
    "               .groupby('year')['last_price_thousands']\n",
    "               .median()\n",
    "               .reset_index())\n",
    "\n",
    "median_week_day = (data\n",
    "                   .groupby('week_day')['last_price_thousands']\n",
    "                   .median()\n",
    "                   .reset_index())\n"
   ]
  },
  {
   "cell_type": "code",
   "execution_count": 121,
   "metadata": {},
   "outputs": [
    {
     "data": {
      "text/plain": [
       "<seaborn.axisgrid.PairGrid at 0x7fe9998d1ee0>"
      ]
     },
     "execution_count": 121,
     "metadata": {},
     "output_type": "execute_result"
    },
    {
     "data": {
      "image/png": "[encoded data removed]",
      "text/plain": [
       "<Figure size 1080x216 with 5 Axes>"
      ]
     },
     "metadata": {
      "needs_background": "light"
     },
     "output_type": "display_data"
    }
   ],
   "source": [
    "sbrn.pairplot(\n",
    "    data,\n",
    "    kind = 'scatter',\n",
    "    x_vars=['total_area', \n",
    "            'living_area', \n",
    "            'kitchen_area', \n",
    "            'rooms', \n",
    "            'wich_floor'],\n",
    "    y_vars=[\"last_price_thousands\"],\n",
    "    height=3)"
   ]
  },
  {
   "cell_type": "markdown",
   "metadata": {},
   "source": [
    "На графике видно, что цена зависит от площади квартиры и количества комнат. Чем больше комнат в квартире, тем выше цена. Это логично. На графике стоимость пятикомнатных шестикомнатных квартир несколько выбивается из этой логики. Это связано с тем, что пятикомнатных и шестикомнатных квартир в набор данных значительно меньше чем всех прочих.\n",
    "\n",
    "Квартиры на первых этажах стоят меньше всего. В остальном стоимость квартир не зависит от этажа, на котором она располагается."
   ]
  },
  {
   "cell_type": "code",
   "execution_count": 122,
   "metadata": {},
   "outputs": [
    {
     "data": {
      "text/plain": [
       "1    7704\n",
       "2    7441\n",
       "3    5484\n",
       "4    1019\n",
       "5     241\n",
       "6      75\n",
       "Name: rooms, dtype: int64"
      ]
     },
     "execution_count": 122,
     "metadata": {},
     "output_type": "execute_result"
    }
   ],
   "source": [
    "data['rooms'].value_counts()"
   ]
  },
  {
   "cell_type": "code",
   "execution_count": 123,
   "metadata": {},
   "outputs": [
    {
     "data": {
      "text/plain": [
       "<seaborn.axisgrid.PairGrid at 0x7fe997c05490>"
      ]
     },
     "execution_count": 123,
     "metadata": {},
     "output_type": "execute_result"
    },
    {
     "data": {
      "image/png": "[encoded data removed]",
      "text/plain": [
       "<Figure size 864x288 with 3 Axes>"
      ]
     },
     "metadata": {
      "needs_background": "light"
     },
     "output_type": "display_data"
    }
   ],
   "source": [
    "sbrn.pairplot(\n",
    "    data,\n",
    "    kind = 'scatter',\n",
    "    x_vars=[\"week_day\", \"month\", \"year\"],\n",
    "    y_vars=[\"last_price_thousands\"],\n",
    "    height=4)"
   ]
  },
  {
   "cell_type": "markdown",
   "metadata": {},
   "source": [
    "На графике видно, что цена практически не зависит от того, в какой день недели было ращмещено объявление. Весной и в декабре квартиры стоят несколько дороже. Осенью цена квартир самая низкая. Самые дорогие квартиры были размещены в 2017 году. Квартиры с самой низкой ценой - в 2014 году."
   ]
  },
  {
   "cell_type": "markdown",
   "metadata": {},
   "source": [
    "#### Средняя цена одного квадратного метра в 10 населённых пунктах с наибольшим числом объявлений. "
   ]
  },
  {
   "cell_type": "code",
   "execution_count": null,
   "metadata": {},
   "outputs": [],
   "source": [
    "#Топ 10 населенных пунктов по количеству объявлений:\n",
    "(data\n",
    "    .pivot_table(index = 'locality_name', values = 'price_per_sqm', aggfunc = ('count', 'mean'))\n",
    "    .round(decimals = 2)\n",
    "    .sort_values(by = 'count', ascending = False)\n",
    "    .reset_index()\n",
    "    .rename(columns = {'locality_name' : 'Населенный пункт', \n",
    "                                'count' : 'Количество объявлений', \n",
    "                                'mean' : 'Средняя цена за м2'})\n",
    "    .head(10))\n"
   ]
  },
  {
   "cell_type": "code",
   "execution_count": null,
   "metadata": {},
   "outputs": [],
   "source": [
    "#Топ 10 населенных пунктов с самой низкой стоимостью 1 м2:\n",
    "\n",
    "(data\n",
    "    .pivot_table(index = 'locality_name', values = 'price_per_sqm', aggfunc = ('count', 'mean'))\n",
    "    .round(decimals = 2)\n",
    "    .sort_values(by = 'mean', ascending = True)\n",
    "    .reset_index()\n",
    "    .rename(columns = {'locality_name' : 'Населенный пункт', \n",
    "                                'count' : 'Количество объявлений', \n",
    "                                'mean' : 'Средняя цена за м2'})\n",
    "    .head(10))"
   ]
  },
  {
   "cell_type": "markdown",
   "metadata": {},
   "source": [
    "#### Вычисление стоимость каждого киллометра удаления от центра и влияние удаленности от центра на стоимость квартиры"
   ]
  },
  {
   "cell_type": "code",
   "execution_count": null,
   "metadata": {},
   "outputs": [],
   "source": [
    "#Cтоимость каждого киллометра удаления от центра\n",
    "far_from_center = (data.loc[(data['locality_name'] == 'Санкт-Петербург') & \n",
    "                            (data['cityCenters_nearest_km'] >= 0), ['locality_name',\n",
    "                                                 'last_price',\n",
    "                                                 'price_per_sqm', \n",
    "                                                 'total_area', \n",
    "                                                 'rooms', \n",
    "                                                 'cityCenters_nearest_km']]\n",
    "                   .sort_values('cityCenters_nearest_km')\n",
    "                   .pivot_table(index = 'cityCenters_nearest_km', values = 'price_per_sqm', aggfunc = 'median')\n",
    "                   .round(decimals = 2)\n",
    "                   .reset_index()\n",
    "                   .rename(columns = {'cityCenters_nearest_km' : 'Расстояние до центра, км', \n",
    "                                   'price_per_sqm' : 'Медианная цена за м2'}))\n",
    "far_from_center"
   ]
  },
  {
   "cell_type": "code",
   "execution_count": null,
   "metadata": {},
   "outputs": [],
   "source": [
    "#Средняя стоимость каждого км удаления от центра:\n",
    "mean_center_km = far_from_center['Медианная цена за м2'].mean()\n",
    "print(f'При удалении от центра СПб, стоимость одного квадратного метра в среднем снижается на - {mean_center_km.round(decimals = 2)} рубелй каждый километр.')"
   ]
  },
  {
   "cell_type": "code",
   "execution_count": null,
   "metadata": {},
   "outputs": [],
   "source": [
    "#Влияние удаленности от центра на цену квартиры\n",
    "(data.loc[(data['locality_name'] == 'Санкт-Петербург') & \n",
    "         (data['cityCenters_nearest_km'] >= 0), ['locality_name',\n",
    "                                                 'last_price',\n",
    "                                                 'price_per_sqm', \n",
    "                                                 'total_area', \n",
    "                                                 'rooms', \n",
    "                                                 'cityCenters_nearest_km']]\n",
    "    .sort_values('cityCenters_nearest_km')\n",
    "    .pivot_table(index = 'cityCenters_nearest_km', values = 'price_per_sqm', aggfunc = 'median')\n",
    "    .round(decimals = 2)\n",
    "    .reset_index()\n",
    "    .plot(x = 'cityCenters_nearest_km', y = 'price_per_sqm', kind = 'bar', figsize = (15,5)))"
   ]
  },
  {
   "cell_type": "markdown",
   "metadata": {},
   "source": [
    "На графике видно, что стоимость одного м2 постепенно снижается по мере удаления от центра. Однако на промежутках 4 - 6 км от центра наблюдается рост стоимость одного м2. Скорее - всего это связано с тем, что определяется расстояние не от исторического, а от географического центра города. \n",
    "\n",
    "Согласно гуглу - географический центр города - в районе Гостинного двора. На расстоянии 4-6 км как раз располагается Петроградский район, где стоимость одного м2 жилья достаточно высока. \n",
    "\n",
    "На участке 6 - 8 цена падает. Как раз за петроградским районом следует район черной речки, где много типового советского жилья.\n",
    "\n",
    "Пик на расстоянии 27 км скорее - всего связан с тем, что в этот радиус попадает пригород свысокой стоимостью недвижимости: Сестрорецк, Пушкин, Павловск, Петергоф."
   ]
  },
  {
   "cell_type": "markdown",
   "metadata": {},
   "source": [
    "### Общий вывод"
   ]
  },
  {
   "cell_type": "markdown",
   "metadata": {},
   "source": [
    "Из набора данных, можно сделать вывод, что в основном на продажу выставляются двухкомнатные квартиры площадью 50 м2. Больше всего объявлений в Санкт - Петербурге и его пригородах. Остальные объявления из Ленинградской области. Средняя высота потолка в продаваемой квартире 2,5 м. Квартиры с 1 - 3 комнатами продаются в основнмо до 100 дней. Далее, по мере увеличесния количества комнат, срок продажи растет. Цена квартиры практически не зависит от того, в какой день недели размещается объявление. Весной и в декабре квартиры стоят несколько дороже. Осенью цена квартир самая низкая. Самые дорогие квартиры были размещены в 2017 году. Квартиры с самой низкой ценой - в 2014 году.\n",
    "\n",
    "Квартиры на первых этажах стоят меньше всего. В остальном стоимость квартир не зависит от этажа, на котором она располагается.\n",
    "\n",
    "На стоимость жилья в большей степени влияет его площадь. \n",
    "Самые дорогие квартиры в  центре Санкт - Петребрга, на расстоянии до 8 км от центра, и в ближайших пригородах. Самые дорогие квартиры ЛО в Гатчине и Выборге. Квартиры с самой низкой ценой в деревнях ЛО, вдали от крупных городов."
   ]
  }
 ],
 "metadata": {
  "ExecuteTimeLog": [
   {
    "duration": 48,
    "start_time": "2022-11-06T21:23:39.898Z"
   },
   {
    "duration": 484,
    "start_time": "2022-11-06T21:23:51.097Z"
   },
   {
    "duration": 315,
    "start_time": "2022-11-06T21:23:59.106Z"
   },
   {
    "duration": 99,
    "start_time": "2022-11-06T21:24:07.586Z"
   },
   {
    "duration": 551,
    "start_time": "2022-11-07T11:39:05.219Z"
   },
   {
    "duration": 3589,
    "start_time": "2022-11-08T14:16:05.677Z"
   },
   {
    "duration": 29,
    "start_time": "2022-11-08T14:16:33.327Z"
   },
   {
    "duration": 2162,
    "start_time": "2022-11-08T14:17:15.175Z"
   },
   {
    "duration": 16,
    "start_time": "2022-11-08T14:29:09.708Z"
   },
   {
    "duration": 46,
    "start_time": "2022-11-08T14:54:59.908Z"
   },
   {
    "duration": 37,
    "start_time": "2022-11-08T14:55:16.708Z"
   },
   {
    "duration": 47,
    "start_time": "2022-11-08T14:55:28.344Z"
   },
   {
    "duration": 21,
    "start_time": "2022-11-08T14:55:47.091Z"
   },
   {
    "duration": 36,
    "start_time": "2022-11-08T14:56:05.732Z"
   },
   {
    "duration": 23,
    "start_time": "2022-11-08T14:56:15.009Z"
   },
   {
    "duration": 94,
    "start_time": "2022-11-08T14:56:27.538Z"
   },
   {
    "duration": 23,
    "start_time": "2022-11-08T14:57:41.711Z"
   },
   {
    "duration": 26,
    "start_time": "2022-11-08T14:58:07.477Z"
   },
   {
    "duration": 28,
    "start_time": "2022-11-08T14:58:11.747Z"
   },
   {
    "duration": 24,
    "start_time": "2022-11-08T14:58:35.483Z"
   },
   {
    "duration": 50,
    "start_time": "2022-11-08T17:39:22.576Z"
   },
   {
    "duration": 719,
    "start_time": "2022-11-08T17:39:28.742Z"
   },
   {
    "duration": 14,
    "start_time": "2022-11-08T17:39:32.873Z"
   },
   {
    "duration": 19,
    "start_time": "2022-11-08T17:39:36.919Z"
   },
   {
    "duration": 10,
    "start_time": "2022-11-08T17:39:49.652Z"
   },
   {
    "duration": 15,
    "start_time": "2022-11-08T17:39:59.234Z"
   },
   {
    "duration": 62,
    "start_time": "2022-11-08T17:40:11.802Z"
   },
   {
    "duration": 49,
    "start_time": "2022-11-08T17:40:19.059Z"
   },
   {
    "duration": 11,
    "start_time": "2022-11-08T17:40:23.252Z"
   },
   {
    "duration": 12,
    "start_time": "2022-11-08T17:40:53.732Z"
   },
   {
    "duration": 11,
    "start_time": "2022-11-08T17:41:02.421Z"
   },
   {
    "duration": 11,
    "start_time": "2022-11-08T17:41:06.659Z"
   },
   {
    "duration": 10,
    "start_time": "2022-11-08T17:41:15.579Z"
   },
   {
    "duration": 13,
    "start_time": "2022-11-08T18:04:49.543Z"
   },
   {
    "duration": 36,
    "start_time": "2022-11-08T18:05:12.289Z"
   },
   {
    "duration": 13,
    "start_time": "2022-11-08T18:05:22.838Z"
   },
   {
    "duration": 13,
    "start_time": "2022-11-08T18:05:31.595Z"
   },
   {
    "duration": 13,
    "start_time": "2022-11-08T18:05:36.583Z"
   },
   {
    "duration": 13,
    "start_time": "2022-11-08T18:08:16.837Z"
   },
   {
    "duration": 15,
    "start_time": "2022-11-08T18:10:51.749Z"
   },
   {
    "duration": 17,
    "start_time": "2022-11-08T18:11:09.376Z"
   },
   {
    "duration": 30,
    "start_time": "2022-11-08T18:11:42.008Z"
   },
   {
    "duration": 13,
    "start_time": "2022-11-08T18:11:57.128Z"
   },
   {
    "duration": 13,
    "start_time": "2022-11-08T18:12:08.161Z"
   },
   {
    "duration": 14,
    "start_time": "2022-11-08T18:12:19.920Z"
   },
   {
    "duration": 15,
    "start_time": "2022-11-08T18:12:56.482Z"
   },
   {
    "duration": 14,
    "start_time": "2022-11-08T18:13:00.141Z"
   },
   {
    "duration": 15,
    "start_time": "2022-11-08T18:13:09.726Z"
   },
   {
    "duration": 15,
    "start_time": "2022-11-08T18:13:19.305Z"
   },
   {
    "duration": 13,
    "start_time": "2022-11-08T18:13:36.507Z"
   },
   {
    "duration": 14,
    "start_time": "2022-11-08T18:13:43.737Z"
   },
   {
    "duration": 14,
    "start_time": "2022-11-08T18:13:53.041Z"
   },
   {
    "duration": 15,
    "start_time": "2022-11-08T18:13:58.332Z"
   },
   {
    "duration": 15,
    "start_time": "2022-11-08T18:14:03.009Z"
   },
   {
    "duration": 15,
    "start_time": "2022-11-08T18:14:07.269Z"
   },
   {
    "duration": 14,
    "start_time": "2022-11-08T18:14:38.245Z"
   },
   {
    "duration": 789,
    "start_time": "2022-11-08T18:14:49.622Z"
   },
   {
    "duration": 18,
    "start_time": "2022-11-08T18:15:10.428Z"
   },
   {
    "duration": 20,
    "start_time": "2022-11-08T18:15:15.124Z"
   },
   {
    "duration": 10,
    "start_time": "2022-11-08T18:15:38.110Z"
   },
   {
    "duration": 12,
    "start_time": "2022-11-08T18:17:26.183Z"
   },
   {
    "duration": 677,
    "start_time": "2022-11-08T18:17:40.619Z"
   },
   {
    "duration": 11,
    "start_time": "2022-11-08T18:17:49.698Z"
   },
   {
    "duration": 12,
    "start_time": "2022-11-08T18:18:21.034Z"
   },
   {
    "duration": 13,
    "start_time": "2022-11-08T18:18:46.456Z"
   },
   {
    "duration": 13,
    "start_time": "2022-11-08T18:18:51.402Z"
   },
   {
    "duration": 20,
    "start_time": "2022-11-08T18:19:10.628Z"
   },
   {
    "duration": 13,
    "start_time": "2022-11-08T18:19:54.736Z"
   },
   {
    "duration": 14,
    "start_time": "2022-11-08T18:20:19.061Z"
   },
   {
    "duration": 13,
    "start_time": "2022-11-08T18:20:20.117Z"
   },
   {
    "duration": 15,
    "start_time": "2022-11-08T18:21:15.224Z"
   },
   {
    "duration": 15,
    "start_time": "2022-11-08T18:21:31.449Z"
   },
   {
    "duration": 16,
    "start_time": "2022-11-08T18:21:35.672Z"
   },
   {
    "duration": 20,
    "start_time": "2022-11-08T18:30:00.920Z"
   },
   {
    "duration": 946,
    "start_time": "2022-11-08T18:31:17.057Z"
   },
   {
    "duration": 17,
    "start_time": "2022-11-08T18:31:30.286Z"
   },
   {
    "duration": 15,
    "start_time": "2022-11-08T18:32:23.632Z"
   },
   {
    "duration": 10,
    "start_time": "2022-11-08T18:32:32.418Z"
   },
   {
    "duration": 13,
    "start_time": "2022-11-08T18:32:37.517Z"
   },
   {
    "duration": 13,
    "start_time": "2022-11-08T18:32:54.143Z"
   },
   {
    "duration": 13,
    "start_time": "2022-11-08T18:33:03.597Z"
   },
   {
    "duration": 14,
    "start_time": "2022-11-08T18:33:08.822Z"
   },
   {
    "duration": 14,
    "start_time": "2022-11-08T18:37:09.680Z"
   },
   {
    "duration": 19,
    "start_time": "2022-11-08T18:37:13.602Z"
   },
   {
    "duration": 19,
    "start_time": "2022-11-08T18:37:28.855Z"
   },
   {
    "duration": 11,
    "start_time": "2022-11-08T19:10:51.701Z"
   },
   {
    "duration": 14,
    "start_time": "2022-11-08T19:12:12.912Z"
   },
   {
    "duration": 13,
    "start_time": "2022-11-08T19:12:24.169Z"
   },
   {
    "duration": 14,
    "start_time": "2022-11-08T19:12:31.293Z"
   },
   {
    "duration": 556,
    "start_time": "2022-11-08T19:12:43.754Z"
   },
   {
    "duration": 144,
    "start_time": "2022-11-08T19:12:52.053Z"
   },
   {
    "duration": 148,
    "start_time": "2022-11-08T19:13:08.532Z"
   },
   {
    "duration": 14,
    "start_time": "2022-11-08T19:13:19.935Z"
   },
   {
    "duration": 208,
    "start_time": "2022-11-08T19:13:44.458Z"
   },
   {
    "duration": 132,
    "start_time": "2022-11-08T19:13:57.723Z"
   },
   {
    "duration": 138,
    "start_time": "2022-11-08T19:14:01.947Z"
   },
   {
    "duration": 145,
    "start_time": "2022-11-08T19:14:06.742Z"
   },
   {
    "duration": 11,
    "start_time": "2022-11-08T19:23:12.267Z"
   },
   {
    "duration": 137,
    "start_time": "2022-11-08T19:45:09.957Z"
   },
   {
    "duration": 22,
    "start_time": "2022-11-08T19:45:24.729Z"
   },
   {
    "duration": 137,
    "start_time": "2022-11-08T19:45:35.810Z"
   },
   {
    "duration": 152,
    "start_time": "2022-11-08T19:45:47.935Z"
   },
   {
    "duration": 142,
    "start_time": "2022-11-08T19:45:51.991Z"
   },
   {
    "duration": 12,
    "start_time": "2022-11-08T19:46:42.838Z"
   },
   {
    "duration": 11,
    "start_time": "2022-11-08T19:46:47.604Z"
   },
   {
    "duration": 11,
    "start_time": "2022-11-08T19:46:52.223Z"
   },
   {
    "duration": 11,
    "start_time": "2022-11-08T19:46:57.404Z"
   },
   {
    "duration": 14,
    "start_time": "2022-11-08T19:57:43.678Z"
   },
   {
    "duration": 11,
    "start_time": "2022-11-08T20:10:54.593Z"
   },
   {
    "duration": 136,
    "start_time": "2022-11-08T20:11:01.698Z"
   },
   {
    "duration": 9,
    "start_time": "2022-11-08T20:11:12.605Z"
   },
   {
    "duration": 13,
    "start_time": "2022-11-08T20:11:16.562Z"
   },
   {
    "duration": 138,
    "start_time": "2022-11-08T20:11:23.142Z"
   },
   {
    "duration": 11,
    "start_time": "2022-11-08T20:11:31.127Z"
   },
   {
    "duration": 142,
    "start_time": "2022-11-08T20:11:35.243Z"
   },
   {
    "duration": 10,
    "start_time": "2022-11-08T20:18:34.048Z"
   },
   {
    "duration": 1947,
    "start_time": "2022-11-08T20:34:37.245Z"
   },
   {
    "duration": 1996,
    "start_time": "2022-11-08T20:35:05.854Z"
   },
   {
    "duration": 1966,
    "start_time": "2022-11-08T20:35:17.013Z"
   },
   {
    "duration": 130,
    "start_time": "2022-11-08T20:35:23.725Z"
   },
   {
    "duration": 133,
    "start_time": "2022-11-08T20:35:40.875Z"
   },
   {
    "duration": 15,
    "start_time": "2022-11-08T20:35:52.687Z"
   },
   {
    "duration": 129,
    "start_time": "2022-11-08T20:40:04.595Z"
   },
   {
    "duration": 161,
    "start_time": "2022-11-08T20:40:15.407Z"
   },
   {
    "duration": 134,
    "start_time": "2022-11-08T20:40:19.893Z"
   },
   {
    "duration": 10,
    "start_time": "2022-11-08T20:41:39.990Z"
   },
   {
    "duration": 140,
    "start_time": "2022-11-08T20:45:28.794Z"
   },
   {
    "duration": 131,
    "start_time": "2022-11-08T20:45:41.975Z"
   },
   {
    "duration": 261,
    "start_time": "2022-11-08T20:47:03.380Z"
   },
   {
    "duration": 149,
    "start_time": "2022-11-08T20:47:17.710Z"
   },
   {
    "duration": 57,
    "start_time": "2022-11-08T20:48:09.756Z"
   },
   {
    "duration": 52,
    "start_time": "2022-11-08T20:48:14.671Z"
   },
   {
    "duration": 20,
    "start_time": "2022-11-08T20:48:20.501Z"
   },
   {
    "duration": 14,
    "start_time": "2022-11-08T20:48:55.080Z"
   },
   {
    "duration": 16,
    "start_time": "2022-11-08T20:48:59.393Z"
   },
   {
    "duration": 19,
    "start_time": "2022-11-08T20:49:13.933Z"
   },
   {
    "duration": 130,
    "start_time": "2022-11-08T20:49:20.792Z"
   },
   {
    "duration": 182,
    "start_time": "2022-11-08T20:49:47.832Z"
   },
   {
    "duration": 15,
    "start_time": "2022-11-08T20:49:58.458Z"
   },
   {
    "duration": 695,
    "start_time": "2022-11-08T20:51:10.154Z"
   },
   {
    "duration": 16,
    "start_time": "2022-11-08T20:51:14.417Z"
   },
   {
    "duration": 13,
    "start_time": "2022-11-08T20:51:19.058Z"
   },
   {
    "duration": 14,
    "start_time": "2022-11-08T20:51:30.237Z"
   },
   {
    "duration": 14,
    "start_time": "2022-11-08T20:51:38.232Z"
   },
   {
    "duration": 14,
    "start_time": "2022-11-08T20:51:53.396Z"
   },
   {
    "duration": 13,
    "start_time": "2022-11-08T20:53:12.049Z"
   },
   {
    "duration": 16,
    "start_time": "2022-11-08T20:53:18.624Z"
   },
   {
    "duration": 24,
    "start_time": "2022-11-08T20:53:29.368Z"
   },
   {
    "duration": 15,
    "start_time": "2022-11-08T20:53:36.169Z"
   },
   {
    "duration": 10,
    "start_time": "2022-11-08T20:54:37.730Z"
   },
   {
    "duration": 730,
    "start_time": "2022-11-09T09:09:42.056Z"
   },
   {
    "duration": 69,
    "start_time": "2022-11-09T09:25:29.551Z"
   },
   {
    "duration": 16,
    "start_time": "2022-11-09T09:25:34.649Z"
   },
   {
    "duration": 37,
    "start_time": "2022-11-09T09:25:40.815Z"
   },
   {
    "duration": 7,
    "start_time": "2022-11-09T09:26:07.776Z"
   },
   {
    "duration": 82,
    "start_time": "2022-11-09T09:26:20.416Z"
   },
   {
    "duration": 6,
    "start_time": "2022-11-09T09:26:24.020Z"
   },
   {
    "duration": 5,
    "start_time": "2022-11-09T09:26:59.697Z"
   },
   {
    "duration": 162,
    "start_time": "2022-11-09T10:01:44.445Z"
   },
   {
    "duration": 9,
    "start_time": "2022-11-09T10:03:39.133Z"
   },
   {
    "duration": 5,
    "start_time": "2022-11-09T10:03:47.590Z"
   },
   {
    "duration": 7,
    "start_time": "2022-11-09T10:04:02.798Z"
   },
   {
    "duration": 11,
    "start_time": "2022-11-09T10:04:11.830Z"
   },
   {
    "duration": 8,
    "start_time": "2022-11-09T10:04:20.529Z"
   },
   {
    "duration": 6,
    "start_time": "2022-11-09T10:04:54.445Z"
   },
   {
    "duration": 6,
    "start_time": "2022-11-09T10:05:17.259Z"
   },
   {
    "duration": 5,
    "start_time": "2022-11-09T10:05:23.518Z"
   },
   {
    "duration": 7,
    "start_time": "2022-11-09T10:06:05.091Z"
   },
   {
    "duration": 6,
    "start_time": "2022-11-09T10:06:48.536Z"
   },
   {
    "duration": 7,
    "start_time": "2022-11-09T10:07:41.473Z"
   },
   {
    "duration": 7,
    "start_time": "2022-11-09T10:07:48.981Z"
   },
   {
    "duration": 10,
    "start_time": "2022-11-09T10:08:23.814Z"
   },
   {
    "duration": 6,
    "start_time": "2022-11-09T10:08:31.962Z"
   },
   {
    "duration": 7,
    "start_time": "2022-11-09T10:08:40.882Z"
   },
   {
    "duration": 7,
    "start_time": "2022-11-09T10:13:45.906Z"
   },
   {
    "duration": 7,
    "start_time": "2022-11-09T10:13:55.364Z"
   },
   {
    "duration": 4,
    "start_time": "2022-11-09T10:14:03.902Z"
   },
   {
    "duration": 8,
    "start_time": "2022-11-09T10:14:24.248Z"
   },
   {
    "duration": 6,
    "start_time": "2022-11-09T10:14:37.950Z"
   },
   {
    "duration": 7,
    "start_time": "2022-11-09T10:14:48.682Z"
   },
   {
    "duration": 7,
    "start_time": "2022-11-09T10:14:58.815Z"
   },
   {
    "duration": 7,
    "start_time": "2022-11-09T10:15:08.311Z"
   },
   {
    "duration": 532,
    "start_time": "2022-11-09T10:23:15.514Z"
   },
   {
    "duration": 11,
    "start_time": "2022-11-09T10:23:26.414Z"
   },
   {
    "duration": 23,
    "start_time": "2022-11-09T10:32:09.516Z"
   },
   {
    "duration": 17,
    "start_time": "2022-11-09T10:32:21.002Z"
   },
   {
    "duration": 17,
    "start_time": "2022-11-09T10:32:43.654Z"
   },
   {
    "duration": 14,
    "start_time": "2022-11-09T10:32:55.692Z"
   },
   {
    "duration": 19,
    "start_time": "2022-11-09T10:35:01.723Z"
   },
   {
    "duration": 22,
    "start_time": "2022-11-09T10:35:10.603Z"
   },
   {
    "duration": 21,
    "start_time": "2022-11-09T10:35:30.126Z"
   },
   {
    "duration": 21,
    "start_time": "2022-11-09T10:35:53.758Z"
   },
   {
    "duration": 9,
    "start_time": "2022-11-09T10:36:11.921Z"
   },
   {
    "duration": 18,
    "start_time": "2022-11-09T10:36:49.443Z"
   },
   {
    "duration": 38,
    "start_time": "2022-11-09T10:37:15.054Z"
   },
   {
    "duration": 42,
    "start_time": "2022-11-09T10:37:36.443Z"
   },
   {
    "duration": 22,
    "start_time": "2022-11-09T10:37:45.057Z"
   },
   {
    "duration": 9,
    "start_time": "2022-11-09T11:08:25.933Z"
   },
   {
    "duration": 21,
    "start_time": "2022-11-09T11:08:55.527Z"
   },
   {
    "duration": 20,
    "start_time": "2022-11-09T11:09:51.611Z"
   },
   {
    "duration": 149,
    "start_time": "2022-11-09T11:10:02.639Z"
   },
   {
    "duration": 20,
    "start_time": "2022-11-09T11:10:56.895Z"
   },
   {
    "duration": 136,
    "start_time": "2022-11-09T11:11:17.427Z"
   },
   {
    "duration": 11,
    "start_time": "2022-11-09T11:11:36.602Z"
   },
   {
    "duration": 99,
    "start_time": "2022-11-09T11:11:42.296Z"
   },
   {
    "duration": 10,
    "start_time": "2022-11-09T11:11:47.436Z"
   },
   {
    "duration": 100,
    "start_time": "2022-11-09T11:13:35.890Z"
   },
   {
    "duration": 10,
    "start_time": "2022-11-09T11:13:41.531Z"
   },
   {
    "duration": 9,
    "start_time": "2022-11-09T11:14:28.823Z"
   },
   {
    "duration": 21,
    "start_time": "2022-11-09T11:14:30.317Z"
   },
   {
    "duration": 20,
    "start_time": "2022-11-09T11:14:51.504Z"
   },
   {
    "duration": 10,
    "start_time": "2022-11-09T11:15:47.356Z"
   },
   {
    "duration": 155,
    "start_time": "2022-11-09T11:19:10.652Z"
   },
   {
    "duration": 216,
    "start_time": "2022-11-09T11:21:22.627Z"
   },
   {
    "duration": 138,
    "start_time": "2022-11-09T11:21:33.236Z"
   },
   {
    "duration": 166,
    "start_time": "2022-11-09T11:21:46.381Z"
   },
   {
    "duration": 132,
    "start_time": "2022-11-09T11:24:31.866Z"
   },
   {
    "duration": 176,
    "start_time": "2022-11-09T11:25:29.199Z"
   },
   {
    "duration": 332,
    "start_time": "2022-11-09T11:48:24.067Z"
   },
   {
    "duration": 16,
    "start_time": "2022-11-09T11:49:49.174Z"
   },
   {
    "duration": 12,
    "start_time": "2022-11-09T11:49:54.991Z"
   },
   {
    "duration": 13,
    "start_time": "2022-11-09T11:50:06.864Z"
   },
   {
    "duration": 12,
    "start_time": "2022-11-09T11:50:55.354Z"
   },
   {
    "duration": 16,
    "start_time": "2022-11-09T11:51:04.088Z"
   },
   {
    "duration": 144,
    "start_time": "2022-11-09T11:51:34.983Z"
   },
   {
    "duration": 136,
    "start_time": "2022-11-09T11:51:52.523Z"
   },
   {
    "duration": 135,
    "start_time": "2022-11-09T11:51:57.759Z"
   },
   {
    "duration": 147,
    "start_time": "2022-11-09T11:52:21.929Z"
   },
   {
    "duration": 135,
    "start_time": "2022-11-09T11:53:07.476Z"
   },
   {
    "duration": 201,
    "start_time": "2022-11-09T12:06:30.045Z"
   },
   {
    "duration": 156,
    "start_time": "2022-11-09T12:06:42.128Z"
   },
   {
    "duration": 155,
    "start_time": "2022-11-09T12:06:51.057Z"
   },
   {
    "duration": 769,
    "start_time": "2022-11-09T12:07:15.531Z"
   },
   {
    "duration": 397,
    "start_time": "2022-11-09T12:07:48.070Z"
   },
   {
    "duration": 152,
    "start_time": "2022-11-09T12:07:57.985Z"
   },
   {
    "duration": 131,
    "start_time": "2022-11-09T12:08:03.517Z"
   },
   {
    "duration": 324,
    "start_time": "2022-11-09T12:08:12.983Z"
   },
   {
    "duration": 361,
    "start_time": "2022-11-09T12:08:59.891Z"
   },
   {
    "duration": 13,
    "start_time": "2022-11-09T12:09:18.954Z"
   },
   {
    "duration": 10,
    "start_time": "2022-11-09T12:09:27.618Z"
   },
   {
    "duration": 10,
    "start_time": "2022-11-09T12:09:31.821Z"
   },
   {
    "duration": 10,
    "start_time": "2022-11-09T12:10:59.023Z"
   },
   {
    "duration": 10,
    "start_time": "2022-11-09T12:11:23.892Z"
   },
   {
    "duration": 6,
    "start_time": "2022-11-09T12:11:46.294Z"
   },
   {
    "duration": 4,
    "start_time": "2022-11-09T12:11:49.881Z"
   },
   {
    "duration": 32,
    "start_time": "2022-11-09T12:11:56.392Z"
   },
   {
    "duration": 10,
    "start_time": "2022-11-09T12:12:10.535Z"
   },
   {
    "duration": 11,
    "start_time": "2022-11-09T12:12:46.317Z"
   },
   {
    "duration": 26,
    "start_time": "2022-11-09T12:13:05.607Z"
   },
   {
    "duration": 10,
    "start_time": "2022-11-09T12:14:03.799Z"
   },
   {
    "duration": 17,
    "start_time": "2022-11-09T12:26:01.167Z"
   },
   {
    "duration": 19,
    "start_time": "2022-11-09T12:26:15.518Z"
   },
   {
    "duration": 27,
    "start_time": "2022-11-09T12:26:21.331Z"
   },
   {
    "duration": 22,
    "start_time": "2022-11-09T12:26:57.525Z"
   },
   {
    "duration": 32,
    "start_time": "2022-11-09T12:27:16.989Z"
   },
   {
    "duration": 27,
    "start_time": "2022-11-09T12:27:40.709Z"
   },
   {
    "duration": 139,
    "start_time": "2022-11-09T12:32:58.295Z"
   },
   {
    "duration": 343,
    "start_time": "2022-11-09T12:33:16.478Z"
   },
   {
    "duration": 136,
    "start_time": "2022-11-09T12:33:25.996Z"
   },
   {
    "duration": 203,
    "start_time": "2022-11-09T12:33:37.770Z"
   },
   {
    "duration": 146,
    "start_time": "2022-11-09T12:33:48.380Z"
   },
   {
    "duration": 186,
    "start_time": "2022-11-09T12:34:15.640Z"
   },
   {
    "duration": 11,
    "start_time": "2022-11-09T12:34:20.936Z"
   },
   {
    "duration": 139,
    "start_time": "2022-11-09T12:34:27.544Z"
   },
   {
    "duration": 178,
    "start_time": "2022-11-09T12:35:11.655Z"
   },
   {
    "duration": 142,
    "start_time": "2022-11-09T12:35:17.634Z"
   },
   {
    "duration": 138,
    "start_time": "2022-11-09T12:35:29.896Z"
   },
   {
    "duration": 141,
    "start_time": "2022-11-09T12:35:43.166Z"
   },
   {
    "duration": 133,
    "start_time": "2022-11-09T12:35:48.497Z"
   },
   {
    "duration": 112,
    "start_time": "2022-11-09T12:39:39.080Z"
   },
   {
    "duration": 123,
    "start_time": "2022-11-09T12:53:58.023Z"
   },
   {
    "duration": 199,
    "start_time": "2022-11-09T12:54:34.635Z"
   },
   {
    "duration": 149,
    "start_time": "2022-11-09T12:54:36.867Z"
   },
   {
    "duration": 119,
    "start_time": "2022-11-09T12:54:40.196Z"
   },
   {
    "duration": 213,
    "start_time": "2022-11-09T12:57:35.411Z"
   },
   {
    "duration": 32,
    "start_time": "2022-11-09T12:57:52.335Z"
   },
   {
    "duration": 41,
    "start_time": "2022-11-09T12:58:18.083Z"
   },
   {
    "duration": 6,
    "start_time": "2022-11-09T13:00:00.091Z"
   },
   {
    "duration": 14,
    "start_time": "2022-11-09T13:02:49.326Z"
   },
   {
    "duration": 35,
    "start_time": "2022-11-09T13:03:39.374Z"
   },
   {
    "duration": 11,
    "start_time": "2022-11-09T13:04:19.377Z"
   },
   {
    "duration": 14,
    "start_time": "2022-11-09T13:05:16.627Z"
   },
   {
    "duration": 48,
    "start_time": "2022-11-09T13:05:48.965Z"
   },
   {
    "duration": 43,
    "start_time": "2022-11-09T13:05:57.394Z"
   },
   {
    "duration": 51,
    "start_time": "2022-11-09T13:06:03.340Z"
   },
   {
    "duration": 13,
    "start_time": "2022-11-09T13:06:07.519Z"
   },
   {
    "duration": 14,
    "start_time": "2022-11-09T13:06:14.310Z"
   },
   {
    "duration": 12,
    "start_time": "2022-11-09T13:06:34.868Z"
   },
   {
    "duration": 9,
    "start_time": "2022-11-09T13:21:42.159Z"
   },
   {
    "duration": 13,
    "start_time": "2022-11-09T13:21:45.667Z"
   },
   {
    "duration": 739,
    "start_time": "2022-11-09T13:21:56.496Z"
   },
   {
    "duration": 910,
    "start_time": "2022-11-09T13:22:00.608Z"
   },
   {
    "duration": 782,
    "start_time": "2022-11-09T13:22:05.052Z"
   },
   {
    "duration": 1092,
    "start_time": "2022-11-09T13:22:19.645Z"
   },
   {
    "duration": 13,
    "start_time": "2022-11-09T13:22:23.518Z"
   },
   {
    "duration": 999,
    "start_time": "2022-11-09T13:22:29.799Z"
   },
   {
    "duration": 12,
    "start_time": "2022-11-09T13:22:34.909Z"
   },
   {
    "duration": 14,
    "start_time": "2022-11-09T13:22:48.345Z"
   },
   {
    "duration": 12,
    "start_time": "2022-11-09T13:22:55.334Z"
   },
   {
    "duration": 16,
    "start_time": "2022-11-09T13:23:05.605Z"
   },
   {
    "duration": 12,
    "start_time": "2022-11-09T13:23:08.978Z"
   },
   {
    "duration": 18,
    "start_time": "2022-11-09T13:23:14.988Z"
   },
   {
    "duration": 16,
    "start_time": "2022-11-09T13:23:19.272Z"
   },
   {
    "duration": 14,
    "start_time": "2022-11-09T13:23:28.978Z"
   },
   {
    "duration": 13,
    "start_time": "2022-11-09T13:23:36.126Z"
   },
   {
    "duration": 10,
    "start_time": "2022-11-09T13:23:43.273Z"
   },
   {
    "duration": 11,
    "start_time": "2022-11-09T13:23:53.717Z"
   },
   {
    "duration": 18,
    "start_time": "2022-11-09T13:24:09.579Z"
   },
   {
    "duration": 16,
    "start_time": "2022-11-09T13:24:14.365Z"
   },
   {
    "duration": 16,
    "start_time": "2022-11-09T13:24:17.991Z"
   },
   {
    "duration": 751,
    "start_time": "2022-11-09T13:24:23.258Z"
   },
   {
    "duration": 12,
    "start_time": "2022-11-09T13:24:32.107Z"
   },
   {
    "duration": 14,
    "start_time": "2022-11-09T13:24:35.959Z"
   },
   {
    "duration": 16,
    "start_time": "2022-11-09T13:25:06.431Z"
   },
   {
    "duration": 15,
    "start_time": "2022-11-09T13:25:42.002Z"
   },
   {
    "duration": 15,
    "start_time": "2022-11-09T13:25:47.505Z"
   },
   {
    "duration": 23,
    "start_time": "2022-11-09T13:25:53.747Z"
   },
   {
    "duration": 12,
    "start_time": "2022-11-09T13:26:10.389Z"
   },
   {
    "duration": 10,
    "start_time": "2022-11-09T13:31:10.097Z"
   },
   {
    "duration": 10,
    "start_time": "2022-11-09T13:42:54.541Z"
   },
   {
    "duration": 296,
    "start_time": "2022-11-09T15:19:10.927Z"
   },
   {
    "duration": 193,
    "start_time": "2022-11-09T15:38:59.343Z"
   },
   {
    "duration": 206,
    "start_time": "2022-11-09T15:39:16.086Z"
   },
   {
    "duration": 204,
    "start_time": "2022-11-09T15:41:27.463Z"
   },
   {
    "duration": 221,
    "start_time": "2022-11-09T15:41:50.364Z"
   },
   {
    "duration": 194,
    "start_time": "2022-11-09T15:41:52.277Z"
   },
   {
    "duration": 14,
    "start_time": "2022-11-09T15:42:09.418Z"
   },
   {
    "duration": 12,
    "start_time": "2022-11-09T15:42:22.473Z"
   },
   {
    "duration": 12,
    "start_time": "2022-11-09T15:42:30.824Z"
   },
   {
    "duration": 18,
    "start_time": "2022-11-09T15:42:42.669Z"
   },
   {
    "duration": 10,
    "start_time": "2022-11-09T15:42:53.220Z"
   },
   {
    "duration": 12,
    "start_time": "2022-11-09T15:43:02.790Z"
   },
   {
    "duration": 12,
    "start_time": "2022-11-09T15:43:07.773Z"
   },
   {
    "duration": 99,
    "start_time": "2022-11-09T15:47:42.106Z"
   },
   {
    "duration": 15,
    "start_time": "2022-11-09T15:47:46.089Z"
   },
   {
    "duration": 122,
    "start_time": "2022-11-09T15:48:36.332Z"
   },
   {
    "duration": 118,
    "start_time": "2022-11-09T15:48:40.305Z"
   },
   {
    "duration": 121,
    "start_time": "2022-11-09T15:48:43.492Z"
   },
   {
    "duration": 123,
    "start_time": "2022-11-09T15:48:48.460Z"
   },
   {
    "duration": 148,
    "start_time": "2022-11-09T15:48:57.497Z"
   },
   {
    "duration": 160,
    "start_time": "2022-11-09T15:49:04.319Z"
   },
   {
    "duration": 133,
    "start_time": "2022-11-09T15:49:13.147Z"
   },
   {
    "duration": 577,
    "start_time": "2022-11-09T19:09:16.009Z"
   },
   {
    "duration": 10,
    "start_time": "2022-11-09T19:18:11.373Z"
   },
   {
    "duration": 6,
    "start_time": "2022-11-09T19:18:26.890Z"
   },
   {
    "duration": 5,
    "start_time": "2022-11-09T19:18:39.196Z"
   },
   {
    "duration": 18,
    "start_time": "2022-11-09T19:19:23.285Z"
   },
   {
    "duration": 71,
    "start_time": "2022-11-09T19:19:43.690Z"
   },
   {
    "duration": 17,
    "start_time": "2022-11-09T19:19:47.772Z"
   },
   {
    "duration": 465,
    "start_time": "2022-11-09T19:20:21.073Z"
   },
   {
    "duration": 86,
    "start_time": "2022-11-09T19:21:04.226Z"
   },
   {
    "duration": 113,
    "start_time": "2022-11-09T19:21:10.833Z"
   },
   {
    "duration": 7,
    "start_time": "2022-11-09T19:23:29.383Z"
   },
   {
    "duration": 8,
    "start_time": "2022-11-09T19:23:47.713Z"
   },
   {
    "duration": 37,
    "start_time": "2022-11-09T19:24:12.691Z"
   },
   {
    "duration": 7,
    "start_time": "2022-11-09T19:24:22.227Z"
   },
   {
    "duration": 29,
    "start_time": "2022-11-09T19:28:46.540Z"
   },
   {
    "duration": 16,
    "start_time": "2022-11-09T19:29:14.833Z"
   },
   {
    "duration": 29,
    "start_time": "2022-11-09T19:29:37.730Z"
   },
   {
    "duration": 25,
    "start_time": "2022-11-09T19:29:53.877Z"
   },
   {
    "duration": 45,
    "start_time": "2022-11-09T19:30:12.133Z"
   },
   {
    "duration": 10,
    "start_time": "2022-11-09T19:30:23.173Z"
   },
   {
    "duration": 12,
    "start_time": "2022-11-09T19:32:46.430Z"
   },
   {
    "duration": 129,
    "start_time": "2022-11-09T19:33:44.491Z"
   },
   {
    "duration": 116,
    "start_time": "2022-11-09T19:33:49.331Z"
   },
   {
    "duration": 173,
    "start_time": "2022-11-09T19:33:54.451Z"
   },
   {
    "duration": 139,
    "start_time": "2022-11-09T19:34:01.368Z"
   },
   {
    "duration": 104,
    "start_time": "2022-11-09T19:34:20.639Z"
   },
   {
    "duration": 105,
    "start_time": "2022-11-09T19:34:23.547Z"
   },
   {
    "duration": 124,
    "start_time": "2022-11-09T19:34:27.130Z"
   },
   {
    "duration": 136,
    "start_time": "2022-11-09T19:34:34.591Z"
   },
   {
    "duration": 144,
    "start_time": "2022-11-09T19:34:37.783Z"
   },
   {
    "duration": 129,
    "start_time": "2022-11-09T19:34:40.579Z"
   },
   {
    "duration": 114,
    "start_time": "2022-11-09T19:34:45.960Z"
   },
   {
    "duration": 156,
    "start_time": "2022-11-09T19:34:49.686Z"
   },
   {
    "duration": 13,
    "start_time": "2022-11-09T19:35:21.551Z"
   },
   {
    "duration": 13,
    "start_time": "2022-11-09T19:38:14.878Z"
   },
   {
    "duration": 13,
    "start_time": "2022-11-09T19:38:43.386Z"
   },
   {
    "duration": 130,
    "start_time": "2022-11-09T19:40:24.344Z"
   },
   {
    "duration": 13,
    "start_time": "2022-11-09T19:44:19.967Z"
   },
   {
    "duration": 1091,
    "start_time": "2022-11-09T19:44:28.595Z"
   },
   {
    "duration": 13,
    "start_time": "2022-11-09T19:44:42.958Z"
   },
   {
    "duration": 13,
    "start_time": "2022-11-09T19:45:11.420Z"
   },
   {
    "duration": 339,
    "start_time": "2022-11-09T19:58:39.146Z"
   },
   {
    "duration": 70,
    "start_time": "2022-11-09T20:01:59.831Z"
   },
   {
    "duration": 68,
    "start_time": "2022-11-09T20:02:05.381Z"
   },
   {
    "duration": 20,
    "start_time": "2022-11-09T20:02:20.631Z"
   },
   {
    "duration": 16,
    "start_time": "2022-11-09T20:02:28.099Z"
   },
   {
    "duration": 73,
    "start_time": "2022-11-09T20:11:02.410Z"
   },
   {
    "duration": 29,
    "start_time": "2022-11-09T20:11:07.250Z"
   },
   {
    "duration": 11,
    "start_time": "2022-11-09T20:11:10.702Z"
   },
   {
    "duration": 15,
    "start_time": "2022-11-09T20:11:14.683Z"
   },
   {
    "duration": 314,
    "start_time": "2022-11-09T20:14:36.059Z"
   },
   {
    "duration": 16,
    "start_time": "2022-11-09T20:15:02.798Z"
   },
   {
    "duration": 15,
    "start_time": "2022-11-09T20:15:10.886Z"
   },
   {
    "duration": 65,
    "start_time": "2022-11-09T20:15:25.644Z"
   },
   {
    "duration": 69,
    "start_time": "2022-11-09T20:15:33.216Z"
   },
   {
    "duration": 13,
    "start_time": "2022-11-09T20:15:58.375Z"
   },
   {
    "duration": 14,
    "start_time": "2022-11-09T20:16:28.590Z"
   },
   {
    "duration": 65,
    "start_time": "2022-11-09T20:16:37.959Z"
   },
   {
    "duration": 10,
    "start_time": "2022-11-09T20:16:59.079Z"
   },
   {
    "duration": 14,
    "start_time": "2022-11-09T20:17:17.312Z"
   },
   {
    "duration": 14,
    "start_time": "2022-11-09T20:17:23.816Z"
   },
   {
    "duration": 12,
    "start_time": "2022-11-09T20:21:41.672Z"
   },
   {
    "duration": 13,
    "start_time": "2022-11-09T20:22:05.394Z"
   },
   {
    "duration": 11,
    "start_time": "2022-11-09T20:22:10.097Z"
   },
   {
    "duration": 11,
    "start_time": "2022-11-09T20:22:14.890Z"
   },
   {
    "duration": 12,
    "start_time": "2022-11-09T20:22:18.642Z"
   },
   {
    "duration": 293,
    "start_time": "2022-11-09T20:24:32.827Z"
   },
   {
    "duration": 14,
    "start_time": "2022-11-09T20:25:36.545Z"
   },
   {
    "duration": 13,
    "start_time": "2022-11-09T20:25:48.928Z"
   },
   {
    "duration": 303,
    "start_time": "2022-11-09T20:38:09.592Z"
   },
   {
    "duration": 791,
    "start_time": "2022-11-09T20:39:09.811Z"
   },
   {
    "duration": 152,
    "start_time": "2022-11-09T20:40:01.156Z"
   },
   {
    "duration": 273,
    "start_time": "2022-11-09T20:40:23.571Z"
   },
   {
    "duration": 137,
    "start_time": "2022-11-09T20:42:21.314Z"
   },
   {
    "duration": 324,
    "start_time": "2022-11-09T20:42:53.892Z"
   },
   {
    "duration": 273,
    "start_time": "2022-11-09T20:43:36.395Z"
   },
   {
    "duration": 14,
    "start_time": "2022-11-09T20:59:11.222Z"
   },
   {
    "duration": 119,
    "start_time": "2022-11-09T20:59:38.160Z"
   },
   {
    "duration": 127,
    "start_time": "2022-11-09T20:59:56.702Z"
   },
   {
    "duration": 131,
    "start_time": "2022-11-09T21:00:01.971Z"
   },
   {
    "duration": 117,
    "start_time": "2022-11-09T21:00:07.235Z"
   },
   {
    "duration": 124,
    "start_time": "2022-11-09T21:00:11.299Z"
   },
   {
    "duration": 112,
    "start_time": "2022-11-09T21:00:16.788Z"
   },
   {
    "duration": 17,
    "start_time": "2022-11-09T21:00:34.117Z"
   },
   {
    "duration": 6,
    "start_time": "2022-11-09T21:13:42.004Z"
   },
   {
    "duration": 590,
    "start_time": "2022-11-10T10:33:24.319Z"
   },
   {
    "duration": 16,
    "start_time": "2022-11-10T10:33:45.359Z"
   },
   {
    "duration": 627,
    "start_time": "2022-11-10T10:34:13.204Z"
   },
   {
    "duration": 194,
    "start_time": "2022-11-10T10:34:40.436Z"
   },
   {
    "duration": 203,
    "start_time": "2022-11-10T10:36:11.682Z"
   },
   {
    "duration": 194,
    "start_time": "2022-11-10T14:21:00.653Z"
   },
   {
    "duration": 245,
    "start_time": "2022-11-10T14:34:31.132Z"
   },
   {
    "duration": 184,
    "start_time": "2022-11-10T14:34:52.756Z"
   },
   {
    "duration": 186,
    "start_time": "2022-11-10T14:43:10.797Z"
   },
   {
    "duration": 88,
    "start_time": "2022-11-10T14:59:54.720Z"
   },
   {
    "duration": 144,
    "start_time": "2022-11-10T15:00:17.270Z"
   },
   {
    "duration": 140,
    "start_time": "2022-11-10T15:00:35.280Z"
   },
   {
    "duration": 142,
    "start_time": "2022-11-10T15:01:00.263Z"
   },
   {
    "duration": 9,
    "start_time": "2022-11-10T15:03:50.388Z"
   },
   {
    "duration": 12,
    "start_time": "2022-11-10T15:04:17.224Z"
   },
   {
    "duration": 171,
    "start_time": "2022-11-10T15:20:13.936Z"
   },
   {
    "duration": 9,
    "start_time": "2022-11-10T15:21:17.096Z"
   },
   {
    "duration": 9,
    "start_time": "2022-11-10T15:21:22.209Z"
   },
   {
    "duration": 81,
    "start_time": "2022-11-10T15:21:37.888Z"
   },
   {
    "duration": 15,
    "start_time": "2022-11-10T15:23:57.987Z"
   },
   {
    "duration": 9,
    "start_time": "2022-11-10T15:24:08.443Z"
   },
   {
    "duration": 125,
    "start_time": "2022-11-10T15:24:24.485Z"
   },
   {
    "duration": 152,
    "start_time": "2022-11-10T15:24:37.214Z"
   },
   {
    "duration": 15,
    "start_time": "2022-11-10T15:24:46.328Z"
   },
   {
    "duration": 98,
    "start_time": "2022-11-10T15:24:58.408Z"
   },
   {
    "duration": 17,
    "start_time": "2022-11-10T15:25:20.961Z"
   },
   {
    "duration": 47,
    "start_time": "2022-11-10T15:25:32.962Z"
   },
   {
    "duration": 16,
    "start_time": "2022-11-10T15:25:54.071Z"
   },
   {
    "duration": 26,
    "start_time": "2022-11-10T15:38:25.067Z"
   },
   {
    "duration": 13,
    "start_time": "2022-11-10T15:38:31.822Z"
   },
   {
    "duration": 12,
    "start_time": "2022-11-10T15:38:41.099Z"
   },
   {
    "duration": 159,
    "start_time": "2022-11-10T15:38:48.837Z"
   },
   {
    "duration": 15,
    "start_time": "2022-11-10T15:38:51.002Z"
   },
   {
    "duration": 11,
    "start_time": "2022-11-10T15:39:08.594Z"
   },
   {
    "duration": 83,
    "start_time": "2022-11-10T15:40:02.814Z"
   },
   {
    "duration": 5,
    "start_time": "2022-11-10T15:40:07.117Z"
   },
   {
    "duration": 73,
    "start_time": "2022-11-10T15:40:12.846Z"
   },
   {
    "duration": 33,
    "start_time": "2022-11-10T15:40:19.586Z"
   },
   {
    "duration": 21,
    "start_time": "2022-11-10T15:41:09.967Z"
   },
   {
    "duration": 8,
    "start_time": "2022-11-10T15:41:34.891Z"
   },
   {
    "duration": 731,
    "start_time": "2022-11-11T06:16:27.650Z"
   },
   {
    "duration": 98,
    "start_time": "2022-11-11T06:17:43.286Z"
   },
   {
    "duration": 11,
    "start_time": "2022-11-11T06:17:50.243Z"
   },
   {
    "duration": 54,
    "start_time": "2022-11-11T06:17:55.838Z"
   },
   {
    "duration": 22,
    "start_time": "2022-11-11T06:18:00.398Z"
   },
   {
    "duration": 547,
    "start_time": "2022-11-11T06:18:16.268Z"
   },
   {
    "duration": 86,
    "start_time": "2022-11-11T06:19:15.743Z"
   },
   {
    "duration": 16,
    "start_time": "2022-11-11T06:19:33.028Z"
   },
   {
    "duration": 60,
    "start_time": "2022-11-11T06:19:40.188Z"
   },
   {
    "duration": 146,
    "start_time": "2022-11-11T06:19:53.424Z"
   },
   {
    "duration": 54,
    "start_time": "2022-11-11T06:20:18.440Z"
   },
   {
    "duration": 81,
    "start_time": "2022-11-11T06:20:55.048Z"
   },
   {
    "duration": 11,
    "start_time": "2022-11-11T06:25:11.287Z"
   },
   {
    "duration": 12,
    "start_time": "2022-11-11T06:25:15.464Z"
   },
   {
    "duration": 16,
    "start_time": "2022-11-11T06:25:24.686Z"
   },
   {
    "duration": 19,
    "start_time": "2022-11-11T06:58:59.870Z"
   },
   {
    "duration": 62,
    "start_time": "2022-11-11T06:59:04.466Z"
   },
   {
    "duration": 15,
    "start_time": "2022-11-11T06:59:53.642Z"
   },
   {
    "duration": 16,
    "start_time": "2022-11-11T07:02:26.181Z"
   },
   {
    "duration": 151,
    "start_time": "2022-11-11T07:02:35.444Z"
   },
   {
    "duration": 63,
    "start_time": "2022-11-11T07:03:00.868Z"
   },
   {
    "duration": 154,
    "start_time": "2022-11-11T07:03:32.760Z"
   },
   {
    "duration": 36,
    "start_time": "2022-11-11T07:03:54.213Z"
   },
   {
    "duration": 40,
    "start_time": "2022-11-11T07:34:12.247Z"
   },
   {
    "duration": 25,
    "start_time": "2022-11-11T07:37:10.559Z"
   },
   {
    "duration": 106,
    "start_time": "2022-11-11T07:39:09.896Z"
   },
   {
    "duration": 12,
    "start_time": "2022-11-11T07:41:37.613Z"
   },
   {
    "duration": 18,
    "start_time": "2022-11-11T07:41:44.879Z"
   },
   {
    "duration": 108,
    "start_time": "2022-11-11T07:42:13.706Z"
   },
   {
    "duration": 60,
    "start_time": "2022-11-11T07:42:53.130Z"
   },
   {
    "duration": 42,
    "start_time": "2022-11-11T07:43:05.198Z"
   },
   {
    "duration": 69,
    "start_time": "2022-11-11T07:56:04.709Z"
   },
   {
    "duration": 10,
    "start_time": "2022-11-11T07:56:14.582Z"
   },
   {
    "duration": 15,
    "start_time": "2022-11-11T08:00:48.782Z"
   },
   {
    "duration": 30,
    "start_time": "2022-11-11T08:01:30.731Z"
   },
   {
    "duration": 103,
    "start_time": "2022-11-11T08:01:44.922Z"
   },
   {
    "duration": 34,
    "start_time": "2022-11-11T08:01:53.845Z"
   },
   {
    "duration": 99,
    "start_time": "2022-11-11T10:36:30.638Z"
   },
   {
    "duration": 20,
    "start_time": "2022-11-11T10:36:39.623Z"
   },
   {
    "duration": 11,
    "start_time": "2022-11-11T10:37:57.657Z"
   },
   {
    "duration": 24,
    "start_time": "2022-11-11T10:38:02.511Z"
   },
   {
    "duration": 74,
    "start_time": "2022-11-11T10:38:44.058Z"
   },
   {
    "duration": 36,
    "start_time": "2022-11-11T10:38:49.549Z"
   },
   {
    "duration": 100,
    "start_time": "2022-11-11T10:39:44.553Z"
   },
   {
    "duration": 10,
    "start_time": "2022-11-11T10:39:50.182Z"
   },
   {
    "duration": 114,
    "start_time": "2022-11-11T10:39:51.817Z"
   },
   {
    "duration": 170,
    "start_time": "2022-11-11T10:40:15.649Z"
   },
   {
    "duration": 12,
    "start_time": "2022-11-11T10:40:19.747Z"
   },
   {
    "duration": 15,
    "start_time": "2022-11-11T10:40:22.870Z"
   },
   {
    "duration": 10,
    "start_time": "2022-11-11T10:40:24.886Z"
   },
   {
    "duration": 47,
    "start_time": "2022-11-11T10:40:32.762Z"
   },
   {
    "duration": 47,
    "start_time": "2022-11-11T10:41:03.942Z"
   },
   {
    "duration": 5,
    "start_time": "2022-11-11T10:41:22.026Z"
   },
   {
    "duration": 43,
    "start_time": "2022-11-11T10:41:27.205Z"
   },
   {
    "duration": 144,
    "start_time": "2022-11-11T10:41:46.425Z"
   },
   {
    "duration": 10,
    "start_time": "2022-11-11T10:41:55.630Z"
   },
   {
    "duration": 136,
    "start_time": "2022-11-11T10:42:03.233Z"
   },
   {
    "duration": 46,
    "start_time": "2022-11-11T10:42:28.985Z"
   },
   {
    "duration": 11,
    "start_time": "2022-11-11T10:43:48.317Z"
   },
   {
    "duration": 9,
    "start_time": "2022-11-11T10:44:05.171Z"
   },
   {
    "duration": 98,
    "start_time": "2022-11-11T10:44:08.100Z"
   },
   {
    "duration": 10,
    "start_time": "2022-11-11T10:44:17.280Z"
   },
   {
    "duration": 109,
    "start_time": "2022-11-11T10:44:18.520Z"
   },
   {
    "duration": 149,
    "start_time": "2022-11-11T10:44:23.325Z"
   },
   {
    "duration": 12,
    "start_time": "2022-11-11T10:44:30.106Z"
   },
   {
    "duration": 5,
    "start_time": "2022-11-11T10:45:22.882Z"
   },
   {
    "duration": 97,
    "start_time": "2022-11-11T10:45:29.660Z"
   },
   {
    "duration": 5,
    "start_time": "2022-11-11T10:45:40.938Z"
   },
   {
    "duration": 144,
    "start_time": "2022-11-11T10:46:05.550Z"
   },
   {
    "duration": 5,
    "start_time": "2022-11-11T10:46:10.129Z"
   },
   {
    "duration": 99,
    "start_time": "2022-11-11T10:46:13.544Z"
   },
   {
    "duration": 11,
    "start_time": "2022-11-11T10:46:52.104Z"
   },
   {
    "duration": 40,
    "start_time": "2022-11-11T10:47:07.689Z"
   },
   {
    "duration": 9,
    "start_time": "2022-11-11T10:47:25.595Z"
   },
   {
    "duration": 121,
    "start_time": "2022-11-11T10:47:27.656Z"
   },
   {
    "duration": 9,
    "start_time": "2022-11-11T10:48:06.713Z"
   },
   {
    "duration": 126,
    "start_time": "2022-11-11T10:48:08.209Z"
   },
   {
    "duration": 119,
    "start_time": "2022-11-11T10:48:26.500Z"
   },
   {
    "duration": 131,
    "start_time": "2022-11-11T10:48:30.201Z"
   },
   {
    "duration": 209,
    "start_time": "2022-11-11T10:48:38.264Z"
   },
   {
    "duration": 140,
    "start_time": "2022-11-11T10:48:43.909Z"
   },
   {
    "duration": 120,
    "start_time": "2022-11-11T10:48:47.307Z"
   },
   {
    "duration": 11,
    "start_time": "2022-11-11T10:49:18.326Z"
   },
   {
    "duration": 100,
    "start_time": "2022-11-11T10:49:21.316Z"
   },
   {
    "duration": 11,
    "start_time": "2022-11-11T10:49:28.502Z"
   },
   {
    "duration": 134,
    "start_time": "2022-11-11T10:49:29.655Z"
   },
   {
    "duration": 13,
    "start_time": "2022-11-11T10:49:33.631Z"
   },
   {
    "duration": 13,
    "start_time": "2022-11-11T10:49:42.420Z"
   },
   {
    "duration": 15,
    "start_time": "2022-11-11T10:49:54.322Z"
   },
   {
    "duration": 3,
    "start_time": "2022-11-11T10:50:47.733Z"
   },
   {
    "duration": 10,
    "start_time": "2022-11-11T10:50:50.182Z"
   },
   {
    "duration": 43,
    "start_time": "2022-11-11T10:50:55.485Z"
   },
   {
    "duration": 56,
    "start_time": "2022-11-11T10:50:57.045Z"
   },
   {
    "duration": 100,
    "start_time": "2022-11-11T10:51:03.747Z"
   },
   {
    "duration": 10,
    "start_time": "2022-11-11T10:58:04.094Z"
   },
   {
    "duration": 10,
    "start_time": "2022-11-11T11:06:14.548Z"
   },
   {
    "duration": 5,
    "start_time": "2022-11-11T11:07:24.532Z"
   },
   {
    "duration": 4,
    "start_time": "2022-11-11T11:07:32.477Z"
   },
   {
    "duration": 5,
    "start_time": "2022-11-11T11:07:52.061Z"
   },
   {
    "duration": 4,
    "start_time": "2022-11-11T11:07:57.603Z"
   },
   {
    "duration": 11,
    "start_time": "2022-11-11T11:08:15.765Z"
   },
   {
    "duration": 40,
    "start_time": "2022-11-11T11:08:35.639Z"
   },
   {
    "duration": 47,
    "start_time": "2022-11-11T11:08:36.112Z"
   },
   {
    "duration": 41,
    "start_time": "2022-11-11T11:08:36.382Z"
   },
   {
    "duration": 43,
    "start_time": "2022-11-11T11:08:36.611Z"
   },
   {
    "duration": 43,
    "start_time": "2022-11-11T11:08:36.860Z"
   },
   {
    "duration": 40,
    "start_time": "2022-11-11T11:08:37.107Z"
   },
   {
    "duration": 101,
    "start_time": "2022-11-11T11:08:42.067Z"
   },
   {
    "duration": 5,
    "start_time": "2022-11-11T11:09:13.306Z"
   },
   {
    "duration": 43,
    "start_time": "2022-11-11T11:09:15.285Z"
   },
   {
    "duration": 13,
    "start_time": "2022-11-11T11:09:19.810Z"
   },
   {
    "duration": 37,
    "start_time": "2022-11-11T11:09:23.848Z"
   },
   {
    "duration": 98,
    "start_time": "2022-11-11T11:10:51.730Z"
   },
   {
    "duration": 9,
    "start_time": "2022-11-11T11:11:14.900Z"
   },
   {
    "duration": 10,
    "start_time": "2022-11-11T11:11:19.515Z"
   },
   {
    "duration": 157,
    "start_time": "2022-11-11T11:11:30.945Z"
   },
   {
    "duration": 125,
    "start_time": "2022-11-11T11:11:55.751Z"
   },
   {
    "duration": 14,
    "start_time": "2022-11-11T11:13:28.945Z"
   },
   {
    "duration": 91,
    "start_time": "2022-11-11T11:13:53.559Z"
   },
   {
    "duration": 13,
    "start_time": "2022-11-11T11:13:58.219Z"
   },
   {
    "duration": 12,
    "start_time": "2022-11-11T11:14:24.031Z"
   },
   {
    "duration": 16,
    "start_time": "2022-11-11T11:14:30.570Z"
   },
   {
    "duration": 5,
    "start_time": "2022-11-11T11:14:50.915Z"
   },
   {
    "duration": 41,
    "start_time": "2022-11-11T11:15:56.656Z"
   },
   {
    "duration": 60,
    "start_time": "2022-11-11T11:16:06.280Z"
   },
   {
    "duration": 10,
    "start_time": "2022-11-11T11:16:15.765Z"
   },
   {
    "duration": 23,
    "start_time": "2022-11-11T11:16:18.288Z"
   },
   {
    "duration": 11,
    "start_time": "2022-11-11T11:16:57.900Z"
   },
   {
    "duration": 15,
    "start_time": "2022-11-11T11:17:00.296Z"
   },
   {
    "duration": 10,
    "start_time": "2022-11-11T11:17:03.631Z"
   },
   {
    "duration": 18,
    "start_time": "2022-11-11T11:17:06.094Z"
   },
   {
    "duration": 4,
    "start_time": "2022-11-11T11:17:19.810Z"
   },
   {
    "duration": 3,
    "start_time": "2022-11-11T11:17:27.806Z"
   },
   {
    "duration": 30,
    "start_time": "2022-11-11T11:17:40.496Z"
   },
   {
    "duration": 34,
    "start_time": "2022-11-11T11:17:41.893Z"
   },
   {
    "duration": 32,
    "start_time": "2022-11-11T11:17:42.049Z"
   },
   {
    "duration": 30,
    "start_time": "2022-11-11T11:17:42.191Z"
   },
   {
    "duration": 30,
    "start_time": "2022-11-11T11:17:42.313Z"
   },
   {
    "duration": 29,
    "start_time": "2022-11-11T11:17:42.426Z"
   },
   {
    "duration": 48,
    "start_time": "2022-11-11T11:17:42.552Z"
   },
   {
    "duration": 29,
    "start_time": "2022-11-11T11:17:42.658Z"
   },
   {
    "duration": 32,
    "start_time": "2022-11-11T11:17:42.770Z"
   },
   {
    "duration": 33,
    "start_time": "2022-11-11T11:17:42.886Z"
   },
   {
    "duration": 31,
    "start_time": "2022-11-11T11:17:42.992Z"
   },
   {
    "duration": 31,
    "start_time": "2022-11-11T11:17:43.079Z"
   },
   {
    "duration": 156,
    "start_time": "2022-11-11T11:18:10.381Z"
   },
   {
    "duration": 30,
    "start_time": "2022-11-11T11:19:01.654Z"
   },
   {
    "duration": 8,
    "start_time": "2022-11-11T11:19:47.972Z"
   },
   {
    "duration": 14,
    "start_time": "2022-11-11T11:19:50.800Z"
   },
   {
    "duration": 94,
    "start_time": "2022-11-11T11:19:54.169Z"
   },
   {
    "duration": 10,
    "start_time": "2022-11-11T11:20:09.012Z"
   },
   {
    "duration": 124,
    "start_time": "2022-11-11T11:20:12.705Z"
   },
   {
    "duration": 12,
    "start_time": "2022-11-11T11:21:00.023Z"
   },
   {
    "duration": 37,
    "start_time": "2022-11-11T11:21:40.209Z"
   },
   {
    "duration": 36,
    "start_time": "2022-11-11T11:21:42.015Z"
   },
   {
    "duration": 93,
    "start_time": "2022-11-11T11:21:45.210Z"
   },
   {
    "duration": 34,
    "start_time": "2022-11-11T11:21:58.544Z"
   },
   {
    "duration": 35,
    "start_time": "2022-11-11T11:21:59.273Z"
   },
   {
    "duration": 35,
    "start_time": "2022-11-11T11:21:59.478Z"
   },
   {
    "duration": 36,
    "start_time": "2022-11-11T11:21:59.642Z"
   },
   {
    "duration": 33,
    "start_time": "2022-11-11T11:21:59.804Z"
   },
   {
    "duration": 33,
    "start_time": "2022-11-11T11:21:59.947Z"
   },
   {
    "duration": 38,
    "start_time": "2022-11-11T11:22:00.057Z"
   },
   {
    "duration": 40,
    "start_time": "2022-11-11T11:22:00.168Z"
   },
   {
    "duration": 38,
    "start_time": "2022-11-11T11:22:00.415Z"
   },
   {
    "duration": 38,
    "start_time": "2022-11-11T11:22:00.541Z"
   },
   {
    "duration": 39,
    "start_time": "2022-11-11T11:22:00.636Z"
   },
   {
    "duration": 41,
    "start_time": "2022-11-11T11:22:00.970Z"
   },
   {
    "duration": 42,
    "start_time": "2022-11-11T11:22:01.088Z"
   },
   {
    "duration": 42,
    "start_time": "2022-11-11T11:22:01.196Z"
   },
   {
    "duration": 41,
    "start_time": "2022-11-11T11:22:01.309Z"
   },
   {
    "duration": 40,
    "start_time": "2022-11-11T11:22:01.423Z"
   },
   {
    "duration": 43,
    "start_time": "2022-11-11T11:22:01.536Z"
   },
   {
    "duration": 35,
    "start_time": "2022-11-11T11:22:01.775Z"
   },
   {
    "duration": 37,
    "start_time": "2022-11-11T11:22:01.902Z"
   },
   {
    "duration": 37,
    "start_time": "2022-11-11T11:22:02.038Z"
   },
   {
    "duration": 35,
    "start_time": "2022-11-11T11:22:02.173Z"
   },
   {
    "duration": 0,
    "start_time": "2022-11-11T11:22:03.206Z"
   },
   {
    "duration": 38,
    "start_time": "2022-11-11T11:22:04.492Z"
   },
   {
    "duration": 88,
    "start_time": "2022-11-11T11:22:16.493Z"
   },
   {
    "duration": 16,
    "start_time": "2022-11-11T11:22:25.373Z"
   },
   {
    "duration": 181,
    "start_time": "2022-11-11T11:22:31.132Z"
   },
   {
    "duration": 31,
    "start_time": "2022-11-11T11:22:38.765Z"
   },
   {
    "duration": 37,
    "start_time": "2022-11-11T11:22:39.670Z"
   },
   {
    "duration": 35,
    "start_time": "2022-11-11T11:22:40.212Z"
   },
   {
    "duration": 39,
    "start_time": "2022-11-11T11:22:40.517Z"
   },
   {
    "duration": 37,
    "start_time": "2022-11-11T11:22:40.782Z"
   },
   {
    "duration": 36,
    "start_time": "2022-11-11T11:22:41.043Z"
   },
   {
    "duration": 36,
    "start_time": "2022-11-11T11:22:41.318Z"
   },
   {
    "duration": 37,
    "start_time": "2022-11-11T11:22:41.589Z"
   },
   {
    "duration": 36,
    "start_time": "2022-11-11T11:22:41.880Z"
   },
   {
    "duration": 36,
    "start_time": "2022-11-11T11:22:42.257Z"
   },
   {
    "duration": 36,
    "start_time": "2022-11-11T11:22:42.790Z"
   },
   {
    "duration": 42,
    "start_time": "2022-11-11T11:22:43.197Z"
   },
   {
    "duration": 36,
    "start_time": "2022-11-11T11:22:44.946Z"
   },
   {
    "duration": 17,
    "start_time": "2022-11-11T11:22:53.435Z"
   },
   {
    "duration": 93,
    "start_time": "2022-11-11T11:23:00.168Z"
   },
   {
    "duration": 195,
    "start_time": "2022-11-11T11:24:00.226Z"
   },
   {
    "duration": 21,
    "start_time": "2022-11-11T11:24:02.172Z"
   },
   {
    "duration": 12,
    "start_time": "2022-11-11T11:24:04.684Z"
   },
   {
    "duration": 236,
    "start_time": "2022-11-11T11:24:11.878Z"
   },
   {
    "duration": 91,
    "start_time": "2022-11-11T11:41:53.261Z"
   },
   {
    "duration": 10,
    "start_time": "2022-11-11T11:42:03.468Z"
   },
   {
    "duration": 132,
    "start_time": "2022-11-11T11:42:07.579Z"
   },
   {
    "duration": 15,
    "start_time": "2022-11-11T11:43:58.743Z"
   },
   {
    "duration": 10,
    "start_time": "2022-11-11T11:44:04.600Z"
   },
   {
    "duration": 142,
    "start_time": "2022-11-11T11:44:07.458Z"
   },
   {
    "duration": 33,
    "start_time": "2022-11-11T11:44:26.197Z"
   },
   {
    "duration": 90,
    "start_time": "2022-11-11T11:44:36.946Z"
   },
   {
    "duration": 15,
    "start_time": "2022-11-11T11:44:56.352Z"
   },
   {
    "duration": 9,
    "start_time": "2022-11-11T11:45:41.430Z"
   },
   {
    "duration": 90,
    "start_time": "2022-11-11T11:45:51.496Z"
   },
   {
    "duration": 34,
    "start_time": "2022-11-11T11:46:41.966Z"
   },
   {
    "duration": 36,
    "start_time": "2022-11-11T11:46:43.544Z"
   },
   {
    "duration": 91,
    "start_time": "2022-11-11T11:46:46.578Z"
   },
   {
    "duration": 14,
    "start_time": "2022-11-11T11:48:43.216Z"
   },
   {
    "duration": 32,
    "start_time": "2022-11-11T11:49:04.982Z"
   },
   {
    "duration": 31,
    "start_time": "2022-11-11T11:49:05.809Z"
   },
   {
    "duration": 32,
    "start_time": "2022-11-11T11:49:06.006Z"
   },
   {
    "duration": 37,
    "start_time": "2022-11-11T11:49:06.216Z"
   },
   {
    "duration": 31,
    "start_time": "2022-11-11T11:49:06.394Z"
   },
   {
    "duration": 10,
    "start_time": "2022-11-11T11:52:59.788Z"
   },
   {
    "duration": 110,
    "start_time": "2022-11-11T11:53:05.544Z"
   },
   {
    "duration": 9,
    "start_time": "2022-11-11T11:53:14.116Z"
   },
   {
    "duration": 12,
    "start_time": "2022-11-11T11:53:54.926Z"
   },
   {
    "duration": 20,
    "start_time": "2022-11-11T11:54:27.142Z"
   },
   {
    "duration": 47,
    "start_time": "2022-11-11T11:54:38.762Z"
   },
   {
    "duration": 69,
    "start_time": "2022-11-11T11:54:46.988Z"
   },
   {
    "duration": 69,
    "start_time": "2022-11-11T11:54:54.949Z"
   },
   {
    "duration": 15,
    "start_time": "2022-11-11T11:55:14.424Z"
   },
   {
    "duration": 15,
    "start_time": "2022-11-11T11:55:24.809Z"
   },
   {
    "duration": 90,
    "start_time": "2022-11-11T11:55:45.475Z"
   },
   {
    "duration": 9,
    "start_time": "2022-11-11T11:56:24.390Z"
   },
   {
    "duration": 13,
    "start_time": "2022-11-11T11:56:40.031Z"
   },
   {
    "duration": 13,
    "start_time": "2022-11-11T11:56:48.080Z"
   },
   {
    "duration": 12,
    "start_time": "2022-11-11T11:56:52.705Z"
   },
   {
    "duration": 13,
    "start_time": "2022-11-11T11:56:57.222Z"
   },
   {
    "duration": 12,
    "start_time": "2022-11-11T11:57:04.739Z"
   },
   {
    "duration": 13,
    "start_time": "2022-11-11T11:57:14.134Z"
   },
   {
    "duration": 14,
    "start_time": "2022-11-11T11:57:20.470Z"
   },
   {
    "duration": 14,
    "start_time": "2022-11-11T11:57:30.038Z"
   },
   {
    "duration": 13,
    "start_time": "2022-11-11T11:57:37.058Z"
   },
   {
    "duration": 16,
    "start_time": "2022-11-11T11:58:29.410Z"
   },
   {
    "duration": 5,
    "start_time": "2022-11-11T11:58:46.384Z"
   },
   {
    "duration": 9,
    "start_time": "2022-11-11T11:58:52.620Z"
   },
   {
    "duration": 30,
    "start_time": "2022-11-11T11:59:17.165Z"
   },
   {
    "duration": 30,
    "start_time": "2022-11-11T11:59:17.676Z"
   },
   {
    "duration": 31,
    "start_time": "2022-11-11T11:59:17.883Z"
   },
   {
    "duration": 31,
    "start_time": "2022-11-11T11:59:18.066Z"
   },
   {
    "duration": 31,
    "start_time": "2022-11-11T11:59:18.203Z"
   },
   {
    "duration": 30,
    "start_time": "2022-11-11T11:59:18.344Z"
   },
   {
    "duration": 53,
    "start_time": "2022-11-11T11:59:18.460Z"
   },
   {
    "duration": 29,
    "start_time": "2022-11-11T11:59:18.583Z"
   },
   {
    "duration": 33,
    "start_time": "2022-11-11T11:59:18.700Z"
   },
   {
    "duration": 33,
    "start_time": "2022-11-11T11:59:18.845Z"
   },
   {
    "duration": 30,
    "start_time": "2022-11-11T11:59:30.411Z"
   },
   {
    "duration": 93,
    "start_time": "2022-11-11T11:59:40.011Z"
   },
   {
    "duration": 16,
    "start_time": "2022-11-11T11:59:52.246Z"
   },
   {
    "duration": 9,
    "start_time": "2022-11-11T12:00:13.462Z"
   },
   {
    "duration": 5,
    "start_time": "2022-11-11T12:00:21.207Z"
   },
   {
    "duration": 56,
    "start_time": "2022-11-11T12:00:43.862Z"
   },
   {
    "duration": 8,
    "start_time": "2022-11-11T12:00:53.729Z"
   },
   {
    "duration": 5,
    "start_time": "2022-11-11T12:00:58.362Z"
   },
   {
    "duration": 148,
    "start_time": "2022-11-11T12:01:11.764Z"
   },
   {
    "duration": 139,
    "start_time": "2022-11-11T12:01:25.115Z"
   },
   {
    "duration": 13,
    "start_time": "2022-11-11T12:01:35.152Z"
   },
   {
    "duration": 17,
    "start_time": "2022-11-11T12:01:38.337Z"
   },
   {
    "duration": 16,
    "start_time": "2022-11-11T12:04:52.377Z"
   },
   {
    "duration": 44,
    "start_time": "2022-11-11T12:05:00.816Z"
   },
   {
    "duration": 13,
    "start_time": "2022-11-11T12:05:16.284Z"
   },
   {
    "duration": 13,
    "start_time": "2022-11-11T12:08:45.275Z"
   },
   {
    "duration": 5,
    "start_time": "2022-11-11T12:08:50.864Z"
   },
   {
    "duration": 9,
    "start_time": "2022-11-11T12:09:02.941Z"
   },
   {
    "duration": 5,
    "start_time": "2022-11-11T12:09:05.608Z"
   },
   {
    "duration": 5,
    "start_time": "2022-11-11T12:09:34.546Z"
   },
   {
    "duration": 5,
    "start_time": "2022-11-11T12:09:38.154Z"
   },
   {
    "duration": 7,
    "start_time": "2022-11-11T12:10:40.330Z"
   },
   {
    "duration": 3,
    "start_time": "2022-11-11T12:10:44.477Z"
   },
   {
    "duration": 28,
    "start_time": "2022-11-11T12:10:53.438Z"
   },
   {
    "duration": 15,
    "start_time": "2022-11-11T12:10:57.433Z"
   },
   {
    "duration": 92,
    "start_time": "2022-11-11T12:11:09.590Z"
   },
   {
    "duration": 16,
    "start_time": "2022-11-11T12:11:14.765Z"
   },
   {
    "duration": 141,
    "start_time": "2022-11-11T12:11:26.011Z"
   },
   {
    "duration": 5,
    "start_time": "2022-11-11T12:11:31.328Z"
   },
   {
    "duration": 8,
    "start_time": "2022-11-11T12:11:34.164Z"
   },
   {
    "duration": 6,
    "start_time": "2022-11-11T12:13:16.724Z"
   },
   {
    "duration": 10,
    "start_time": "2022-11-11T12:13:23.682Z"
   },
   {
    "duration": 8,
    "start_time": "2022-11-11T12:13:27.128Z"
   },
   {
    "duration": 6,
    "start_time": "2022-11-11T12:13:39.238Z"
   },
   {
    "duration": 8,
    "start_time": "2022-11-11T12:13:42.461Z"
   },
   {
    "duration": 46,
    "start_time": "2022-11-11T12:13:49.761Z"
   },
   {
    "duration": 26,
    "start_time": "2022-11-11T12:13:57.027Z"
   },
   {
    "duration": 93,
    "start_time": "2022-11-11T12:14:02.910Z"
   },
   {
    "duration": 127,
    "start_time": "2022-11-11T12:14:13.792Z"
   },
   {
    "duration": 15,
    "start_time": "2022-11-11T12:14:15.948Z"
   },
   {
    "duration": 4,
    "start_time": "2022-11-11T12:14:20.511Z"
   },
   {
    "duration": 9,
    "start_time": "2022-11-11T12:14:22.113Z"
   },
   {
    "duration": 7,
    "start_time": "2022-11-11T12:14:56.703Z"
   },
   {
    "duration": 46,
    "start_time": "2022-11-11T12:15:07.421Z"
   },
   {
    "duration": 5,
    "start_time": "2022-11-11T12:15:30.255Z"
   },
   {
    "duration": 30,
    "start_time": "2022-11-11T12:15:40.621Z"
   },
   {
    "duration": 31,
    "start_time": "2022-11-11T12:15:41.390Z"
   },
   {
    "duration": 30,
    "start_time": "2022-11-11T12:15:41.559Z"
   },
   {
    "duration": 31,
    "start_time": "2022-11-11T12:15:41.686Z"
   },
   {
    "duration": 40,
    "start_time": "2022-11-11T12:15:41.816Z"
   },
   {
    "duration": 32,
    "start_time": "2022-11-11T12:15:42.037Z"
   },
   {
    "duration": 95,
    "start_time": "2022-11-11T12:15:49.226Z"
   },
   {
    "duration": 15,
    "start_time": "2022-11-11T12:15:54.265Z"
   },
   {
    "duration": 3,
    "start_time": "2022-11-11T12:15:57.457Z"
   },
   {
    "duration": 9,
    "start_time": "2022-11-11T12:15:59.625Z"
   },
   {
    "duration": 31,
    "start_time": "2022-11-11T12:16:14.769Z"
   },
   {
    "duration": 32,
    "start_time": "2022-11-11T12:16:15.822Z"
   },
   {
    "duration": 40,
    "start_time": "2022-11-11T12:16:16.158Z"
   },
   {
    "duration": 31,
    "start_time": "2022-11-11T12:16:16.484Z"
   },
   {
    "duration": 51,
    "start_time": "2022-11-11T12:16:16.785Z"
   },
   {
    "duration": 30,
    "start_time": "2022-11-11T12:16:17.085Z"
   },
   {
    "duration": 33,
    "start_time": "2022-11-11T12:16:17.374Z"
   },
   {
    "duration": 31,
    "start_time": "2022-11-11T12:16:18.091Z"
   },
   {
    "duration": 30,
    "start_time": "2022-11-11T12:16:18.271Z"
   },
   {
    "duration": 29,
    "start_time": "2022-11-11T12:16:18.425Z"
   },
   {
    "duration": 30,
    "start_time": "2022-11-11T12:16:18.581Z"
   },
   {
    "duration": 31,
    "start_time": "2022-11-11T12:16:18.718Z"
   },
   {
    "duration": 56,
    "start_time": "2022-11-11T12:16:18.844Z"
   },
   {
    "duration": 31,
    "start_time": "2022-11-11T12:16:18.999Z"
   },
   {
    "duration": 30,
    "start_time": "2022-11-11T12:16:22.056Z"
   },
   {
    "duration": 30,
    "start_time": "2022-11-11T12:16:22.264Z"
   },
   {
    "duration": 30,
    "start_time": "2022-11-11T12:16:22.878Z"
   },
   {
    "duration": 29,
    "start_time": "2022-11-11T12:16:23.279Z"
   },
   {
    "duration": 0,
    "start_time": "2022-11-11T12:16:23.797Z"
   },
   {
    "duration": 37,
    "start_time": "2022-11-11T12:16:26.075Z"
   },
   {
    "duration": 53,
    "start_time": "2022-11-11T12:16:28.560Z"
   },
   {
    "duration": 29,
    "start_time": "2022-11-11T12:16:28.981Z"
   },
   {
    "duration": 32,
    "start_time": "2022-11-11T12:16:30.043Z"
   },
   {
    "duration": 92,
    "start_time": "2022-11-11T12:17:10.861Z"
   },
   {
    "duration": 165,
    "start_time": "2022-11-11T12:17:23.510Z"
   },
   {
    "duration": 13,
    "start_time": "2022-11-11T12:17:28.720Z"
   },
   {
    "duration": 16,
    "start_time": "2022-11-11T12:17:31.348Z"
   },
   {
    "duration": 3,
    "start_time": "2022-11-11T12:17:33.977Z"
   },
   {
    "duration": 11,
    "start_time": "2022-11-11T12:17:35.453Z"
   },
   {
    "duration": 31,
    "start_time": "2022-11-11T12:17:36.501Z"
   },
   {
    "duration": 90,
    "start_time": "2022-11-11T12:17:40.616Z"
   },
   {
    "duration": 10,
    "start_time": "2022-11-11T12:17:47.173Z"
   },
   {
    "duration": 127,
    "start_time": "2022-11-11T12:17:48.660Z"
   },
   {
    "duration": 126,
    "start_time": "2022-11-11T12:17:50.977Z"
   },
   {
    "duration": 125,
    "start_time": "2022-11-11T12:17:56.858Z"
   },
   {
    "duration": 125,
    "start_time": "2022-11-11T12:17:59.477Z"
   },
   {
    "duration": 14,
    "start_time": "2022-11-11T12:18:06.487Z"
   },
   {
    "duration": 15,
    "start_time": "2022-11-11T12:18:14.595Z"
   },
   {
    "duration": 4,
    "start_time": "2022-11-11T12:18:26.221Z"
   },
   {
    "duration": 4,
    "start_time": "2022-11-11T12:18:56.939Z"
   },
   {
    "duration": 15,
    "start_time": "2022-11-11T12:19:05.838Z"
   },
   {
    "duration": 6,
    "start_time": "2022-11-11T12:19:16.976Z"
   },
   {
    "duration": 91,
    "start_time": "2022-11-11T12:19:27.250Z"
   },
   {
    "duration": 6,
    "start_time": "2022-11-11T12:19:32.916Z"
   },
   {
    "duration": 241,
    "start_time": "2022-11-11T12:19:39.629Z"
   },
   {
    "duration": 15,
    "start_time": "2022-11-11T12:19:43.917Z"
   },
   {
    "duration": 3,
    "start_time": "2022-11-11T12:19:46.802Z"
   },
   {
    "duration": 5,
    "start_time": "2022-11-11T12:19:50.812Z"
   },
   {
    "duration": 51,
    "start_time": "2022-11-11T12:20:29.260Z"
   },
   {
    "duration": 38,
    "start_time": "2022-11-11T12:21:01.391Z"
   },
   {
    "duration": 52,
    "start_time": "2022-11-11T12:21:16.739Z"
   },
   {
    "duration": 6,
    "start_time": "2022-11-11T12:21:23.209Z"
   },
   {
    "duration": 382,
    "start_time": "2022-11-11T12:21:29.241Z"
   },
   {
    "duration": 6,
    "start_time": "2022-11-11T12:21:36.954Z"
   },
   {
    "duration": 5,
    "start_time": "2022-11-11T12:21:45.460Z"
   },
   {
    "duration": 27,
    "start_time": "2022-11-11T12:22:10.246Z"
   },
   {
    "duration": 24,
    "start_time": "2022-11-11T12:22:10.745Z"
   },
   {
    "duration": 29,
    "start_time": "2022-11-11T12:22:11.062Z"
   },
   {
    "duration": 6,
    "start_time": "2022-11-11T12:22:47.269Z"
   },
   {
    "duration": 5,
    "start_time": "2022-11-11T12:22:51.996Z"
   },
   {
    "duration": 32,
    "start_time": "2022-11-11T12:22:59.370Z"
   },
   {
    "duration": 76154,
    "start_time": "2022-11-11T12:23:05.223Z"
   },
   {
    "duration": 93,
    "start_time": "2022-11-11T12:24:21.379Z"
   },
   {
    "duration": 10,
    "start_time": "2022-11-11T12:24:21.484Z"
   },
   {
    "duration": 118,
    "start_time": "2022-11-11T12:25:11.322Z"
   },
   {
    "duration": 129,
    "start_time": "2022-11-11T12:25:14.023Z"
   },
   {
    "duration": 12,
    "start_time": "2022-11-11T12:25:15.754Z"
   },
   {
    "duration": 15,
    "start_time": "2022-11-11T12:25:19.778Z"
   },
   {
    "duration": 105,
    "start_time": "2022-11-11T12:58:13.916Z"
   },
   {
    "duration": 11,
    "start_time": "2022-11-11T12:58:22.145Z"
   },
   {
    "duration": 126,
    "start_time": "2022-11-11T12:58:24.213Z"
   },
   {
    "duration": 124,
    "start_time": "2022-11-11T12:58:26.799Z"
   },
   {
    "duration": 14,
    "start_time": "2022-11-11T12:58:30.021Z"
   },
   {
    "duration": 21,
    "start_time": "2022-11-11T12:58:32.368Z"
   },
   {
    "duration": 9,
    "start_time": "2022-11-11T12:58:44.223Z"
   },
   {
    "duration": 79758,
    "start_time": "2022-11-11T12:58:51.492Z"
   },
   {
    "duration": 402,
    "start_time": "2022-11-11T13:00:27.882Z"
   },
   {
    "duration": 249,
    "start_time": "2022-11-11T13:00:43.986Z"
   },
   {
    "duration": 111,
    "start_time": "2022-11-11T13:00:52.745Z"
   },
   {
    "duration": 130,
    "start_time": "2022-11-11T13:01:30.030Z"
   },
   {
    "duration": 125,
    "start_time": "2022-11-11T13:01:32.240Z"
   },
   {
    "duration": 132,
    "start_time": "2022-11-11T13:01:37.001Z"
   },
   {
    "duration": 135,
    "start_time": "2022-11-11T13:01:41.231Z"
   },
   {
    "duration": 14,
    "start_time": "2022-11-11T13:16:34.189Z"
   },
   {
    "duration": 10,
    "start_time": "2022-11-11T13:18:29.196Z"
   },
   {
    "duration": 91,
    "start_time": "2022-11-11T13:18:32.865Z"
   },
   {
    "duration": 122,
    "start_time": "2022-11-11T13:18:41.588Z"
   },
   {
    "duration": 15,
    "start_time": "2022-11-11T13:18:44.409Z"
   },
   {
    "duration": 10,
    "start_time": "2022-11-11T13:18:46.369Z"
   },
   {
    "duration": 75208,
    "start_time": "2022-11-11T13:18:49.206Z"
   },
   {
    "duration": 6,
    "start_time": "2022-11-11T13:42:00.574Z"
   },
   {
    "duration": 169,
    "start_time": "2022-11-11T13:47:44.521Z"
   },
   {
    "duration": 10,
    "start_time": "2022-11-11T13:47:59.866Z"
   },
   {
    "duration": 124,
    "start_time": "2022-11-11T14:06:47.624Z"
   },
   {
    "duration": 10,
    "start_time": "2022-11-11T14:06:57.501Z"
   },
   {
    "duration": 314,
    "start_time": "2022-11-11T14:07:08.707Z"
   },
   {
    "duration": 134,
    "start_time": "2022-11-11T14:07:17.103Z"
   },
   {
    "duration": 147,
    "start_time": "2022-11-11T14:07:24.315Z"
   },
   {
    "duration": 150,
    "start_time": "2022-11-11T14:07:30.786Z"
   },
   {
    "duration": 10,
    "start_time": "2022-11-11T14:21:36.702Z"
   },
   {
    "duration": 6,
    "start_time": "2022-11-11T14:23:52.017Z"
   },
   {
    "duration": 13,
    "start_time": "2022-11-11T14:23:55.968Z"
   },
   {
    "duration": 145,
    "start_time": "2022-11-11T14:24:02.748Z"
   },
   {
    "duration": 125,
    "start_time": "2022-11-11T14:24:15.326Z"
   },
   {
    "duration": 136,
    "start_time": "2022-11-11T14:24:21.876Z"
   },
   {
    "duration": 180,
    "start_time": "2022-11-11T14:31:26.006Z"
   },
   {
    "duration": 168,
    "start_time": "2022-11-11T14:32:23.223Z"
   },
   {
    "duration": 9,
    "start_time": "2022-11-11T14:32:26.564Z"
   },
   {
    "duration": 159,
    "start_time": "2022-11-11T14:32:40.475Z"
   },
   {
    "duration": 12,
    "start_time": "2022-11-11T14:35:17.784Z"
   },
   {
    "duration": 13,
    "start_time": "2022-11-11T14:35:35.864Z"
   },
   {
    "duration": 22,
    "start_time": "2022-11-11T14:37:09.634Z"
   },
   {
    "duration": 12,
    "start_time": "2022-11-11T14:37:19.227Z"
   },
   {
    "duration": 162,
    "start_time": "2022-11-11T14:37:27.106Z"
   },
   {
    "duration": 142,
    "start_time": "2022-11-11T14:37:40.091Z"
   },
   {
    "duration": 15,
    "start_time": "2022-11-11T14:37:49.941Z"
   },
   {
    "duration": 20,
    "start_time": "2022-11-11T14:52:20.127Z"
   },
   {
    "duration": 20,
    "start_time": "2022-11-11T14:53:56.192Z"
   },
   {
    "duration": 18,
    "start_time": "2022-11-11T14:54:12.286Z"
   },
   {
    "duration": 14,
    "start_time": "2022-11-11T14:55:05.275Z"
   },
   {
    "duration": 9,
    "start_time": "2022-11-11T14:55:26.936Z"
   },
   {
    "duration": 7,
    "start_time": "2022-11-11T14:55:30.186Z"
   },
   {
    "duration": 8,
    "start_time": "2022-11-11T14:55:36.605Z"
   },
   {
    "duration": 12,
    "start_time": "2022-11-11T14:55:54.027Z"
   },
   {
    "duration": 15,
    "start_time": "2022-11-11T14:56:08.241Z"
   },
   {
    "duration": 23,
    "start_time": "2022-11-11T14:56:14.776Z"
   },
   {
    "duration": 23,
    "start_time": "2022-11-11T14:56:51.629Z"
   },
   {
    "duration": 21,
    "start_time": "2022-11-11T14:56:58.051Z"
   },
   {
    "duration": 15,
    "start_time": "2022-11-11T14:57:34.765Z"
   },
   {
    "duration": 25,
    "start_time": "2022-11-11T14:57:37.095Z"
   },
   {
    "duration": 23,
    "start_time": "2022-11-11T14:59:50.222Z"
   },
   {
    "duration": 16,
    "start_time": "2022-11-11T15:00:48.002Z"
   },
   {
    "duration": 15,
    "start_time": "2022-11-11T15:00:57.166Z"
   },
   {
    "duration": 14,
    "start_time": "2022-11-11T15:01:16.941Z"
   },
   {
    "duration": 16,
    "start_time": "2022-11-11T15:01:22.045Z"
   },
   {
    "duration": 25,
    "start_time": "2022-11-11T15:08:59.649Z"
   },
   {
    "duration": 18810,
    "start_time": "2022-11-11T15:09:33.288Z"
   },
   {
    "duration": 1927,
    "start_time": "2022-11-11T15:17:54.732Z"
   },
   {
    "duration": 45,
    "start_time": "2022-11-11T15:30:30.882Z"
   },
   {
    "duration": 7,
    "start_time": "2022-11-11T15:31:20.854Z"
   },
   {
    "duration": 7,
    "start_time": "2022-11-11T15:31:23.304Z"
   },
   {
    "duration": 8,
    "start_time": "2022-11-11T15:32:07.061Z"
   },
   {
    "duration": 15,
    "start_time": "2022-11-11T15:33:44.465Z"
   },
   {
    "duration": 714,
    "start_time": "2022-11-12T19:34:20.469Z"
   },
   {
    "duration": 62,
    "start_time": "2022-11-12T19:38:29.769Z"
   },
   {
    "duration": 96,
    "start_time": "2022-11-12T19:38:42.809Z"
   },
   {
    "duration": 10,
    "start_time": "2022-11-12T19:38:51.589Z"
   },
   {
    "duration": 11,
    "start_time": "2022-11-12T19:39:15.712Z"
   },
   {
    "duration": 10,
    "start_time": "2022-11-12T19:39:54.920Z"
   },
   {
    "duration": 8,
    "start_time": "2022-11-12T19:40:04.416Z"
   },
   {
    "duration": 94,
    "start_time": "2022-11-12T19:40:15.823Z"
   },
   {
    "duration": 9,
    "start_time": "2022-11-12T19:40:36.834Z"
   },
   {
    "duration": 10,
    "start_time": "2022-11-12T19:40:38.021Z"
   },
   {
    "duration": 9,
    "start_time": "2022-11-12T19:41:00.053Z"
   },
   {
    "duration": 10,
    "start_time": "2022-11-12T19:42:33.295Z"
   },
   {
    "duration": 4,
    "start_time": "2022-11-12T19:42:44.667Z"
   },
   {
    "duration": 4,
    "start_time": "2022-11-12T19:43:15.667Z"
   },
   {
    "duration": 9,
    "start_time": "2022-11-12T19:48:53.551Z"
   },
   {
    "duration": 504,
    "start_time": "2022-11-12T19:49:59.730Z"
   },
   {
    "duration": 20,
    "start_time": "2022-11-12T19:52:09.271Z"
   },
   {
    "duration": 37,
    "start_time": "2022-11-12T19:52:14.932Z"
   },
   {
    "duration": 37,
    "start_time": "2022-11-12T19:52:26.534Z"
   },
   {
    "duration": 12,
    "start_time": "2022-11-12T19:53:16.887Z"
   },
   {
    "duration": 13,
    "start_time": "2022-11-12T19:53:47.095Z"
   },
   {
    "duration": 18,
    "start_time": "2022-11-12T19:54:27.017Z"
   },
   {
    "duration": 12,
    "start_time": "2022-11-12T19:55:28.618Z"
   },
   {
    "duration": 12,
    "start_time": "2022-11-12T19:55:35.555Z"
   },
   {
    "duration": 13,
    "start_time": "2022-11-12T20:00:18.686Z"
   },
   {
    "duration": 6,
    "start_time": "2022-11-12T20:14:23.608Z"
   },
   {
    "duration": 7,
    "start_time": "2022-11-12T20:14:27.858Z"
   },
   {
    "duration": 136,
    "start_time": "2022-11-12T20:14:30.645Z"
   },
   {
    "duration": 104,
    "start_time": "2022-11-12T20:37:54.319Z"
   },
   {
    "duration": 12,
    "start_time": "2022-11-12T20:38:12.811Z"
   },
   {
    "duration": 220,
    "start_time": "2022-11-12T20:38:15.523Z"
   },
   {
    "duration": 20,
    "start_time": "2022-11-12T20:38:27.264Z"
   },
   {
    "duration": 45,
    "start_time": "2022-11-12T20:42:11.443Z"
   },
   {
    "duration": 49,
    "start_time": "2022-11-12T20:42:30.657Z"
   },
   {
    "duration": 138,
    "start_time": "2022-11-12T20:43:23.108Z"
   },
   {
    "duration": 180,
    "start_time": "2022-11-12T20:43:36.151Z"
   },
   {
    "duration": 157,
    "start_time": "2022-11-12T20:43:42.948Z"
   },
   {
    "duration": 144,
    "start_time": "2022-11-12T20:43:49.830Z"
   },
   {
    "duration": 8,
    "start_time": "2022-11-12T20:44:24.300Z"
   },
   {
    "duration": 17,
    "start_time": "2022-11-12T20:44:31.573Z"
   },
   {
    "duration": 5,
    "start_time": "2022-11-12T20:44:51.120Z"
   },
   {
    "duration": 10,
    "start_time": "2022-11-12T20:44:55.152Z"
   },
   {
    "duration": 5,
    "start_time": "2022-11-12T20:44:58.718Z"
   },
   {
    "duration": 11,
    "start_time": "2022-11-12T20:45:09.102Z"
   },
   {
    "duration": 14,
    "start_time": "2022-11-12T20:46:21.293Z"
   },
   {
    "duration": 12,
    "start_time": "2022-11-12T20:47:13.220Z"
   },
   {
    "duration": 10,
    "start_time": "2022-11-12T20:47:21.745Z"
   },
   {
    "duration": 11,
    "start_time": "2022-11-12T20:47:34.335Z"
   },
   {
    "duration": 148,
    "start_time": "2022-11-12T20:48:16.200Z"
   },
   {
    "duration": 131,
    "start_time": "2022-11-12T20:48:26.173Z"
   },
   {
    "duration": 125,
    "start_time": "2022-11-12T20:48:34.560Z"
   },
   {
    "duration": 43,
    "start_time": "2022-11-12T20:49:42.951Z"
   },
   {
    "duration": 53,
    "start_time": "2022-11-12T20:49:48.823Z"
   },
   {
    "duration": 81,
    "start_time": "2022-11-12T20:50:01.521Z"
   },
   {
    "duration": 1035,
    "start_time": "2022-11-12T20:50:11.653Z"
   },
   {
    "duration": 37,
    "start_time": "2022-11-12T20:50:26.453Z"
   },
   {
    "duration": 8,
    "start_time": "2022-11-12T20:51:14.583Z"
   },
   {
    "duration": 12,
    "start_time": "2022-11-12T20:51:29.757Z"
   },
   {
    "duration": 9,
    "start_time": "2022-11-12T20:51:33.108Z"
   },
   {
    "duration": 13,
    "start_time": "2022-11-12T20:51:52.236Z"
   },
   {
    "duration": 13,
    "start_time": "2022-11-12T20:52:01.242Z"
   },
   {
    "duration": 8,
    "start_time": "2022-11-12T20:52:11.796Z"
   },
   {
    "duration": 106,
    "start_time": "2022-11-12T20:52:25.010Z"
   },
   {
    "duration": 742,
    "start_time": "2022-11-12T20:52:44.735Z"
   },
   {
    "duration": 164,
    "start_time": "2022-11-12T20:52:50.397Z"
   },
   {
    "duration": 10,
    "start_time": "2022-11-12T20:52:52.513Z"
   },
   {
    "duration": 8,
    "start_time": "2022-11-12T20:53:02.012Z"
   },
   {
    "duration": 4,
    "start_time": "2022-11-12T20:53:17.218Z"
   },
   {
    "duration": 7,
    "start_time": "2022-11-12T20:53:20.165Z"
   },
   {
    "duration": 8,
    "start_time": "2022-11-12T20:53:29.500Z"
   },
   {
    "duration": 9,
    "start_time": "2022-11-12T20:53:41.636Z"
   },
   {
    "duration": 47,
    "start_time": "2022-11-12T20:54:10.963Z"
   },
   {
    "duration": 8,
    "start_time": "2022-11-12T20:54:28.161Z"
   },
   {
    "duration": 8,
    "start_time": "2022-11-12T20:54:59.396Z"
   },
   {
    "duration": 9,
    "start_time": "2022-11-12T20:55:12.015Z"
   },
   {
    "duration": 667,
    "start_time": "2022-11-12T20:55:37.487Z"
   },
   {
    "duration": 11,
    "start_time": "2022-11-12T20:55:50.771Z"
   },
   {
    "duration": 16,
    "start_time": "2022-11-12T20:59:06.243Z"
   },
   {
    "duration": 15681,
    "start_time": "2022-11-12T21:00:52.183Z"
   },
   {
    "duration": 11,
    "start_time": "2022-11-12T21:03:01.621Z"
   },
   {
    "duration": 10,
    "start_time": "2022-11-12T21:03:17.315Z"
   },
   {
    "duration": 9,
    "start_time": "2022-11-12T21:03:19.209Z"
   },
   {
    "duration": 126,
    "start_time": "2022-11-12T21:03:33.364Z"
   },
   {
    "duration": 10,
    "start_time": "2022-11-12T21:04:14.264Z"
   },
   {
    "duration": 10,
    "start_time": "2022-11-12T21:05:34.735Z"
   },
   {
    "duration": 9,
    "start_time": "2022-11-12T21:05:49.155Z"
   },
   {
    "duration": 45,
    "start_time": "2022-11-12T21:05:52.839Z"
   },
   {
    "duration": 9,
    "start_time": "2022-11-12T21:05:58.161Z"
   },
   {
    "duration": 10,
    "start_time": "2022-11-12T21:08:56.752Z"
   },
   {
    "duration": 8,
    "start_time": "2022-11-12T21:09:10.631Z"
   },
   {
    "duration": 6,
    "start_time": "2022-11-12T21:10:30.672Z"
   },
   {
    "duration": 640,
    "start_time": "2022-11-12T21:10:57.062Z"
   },
   {
    "duration": 614,
    "start_time": "2022-11-12T21:11:18.954Z"
   },
   {
    "duration": 490,
    "start_time": "2022-11-12T21:11:31.390Z"
   },
   {
    "duration": 11,
    "start_time": "2022-11-12T21:12:08.079Z"
   },
   {
    "duration": 11,
    "start_time": "2022-11-12T21:12:16.732Z"
   },
   {
    "duration": 584,
    "start_time": "2022-11-12T21:12:22.996Z"
   },
   {
    "duration": 10,
    "start_time": "2022-11-12T21:13:43.509Z"
   },
   {
    "duration": 10,
    "start_time": "2022-11-12T21:14:07.289Z"
   },
   {
    "duration": 7,
    "start_time": "2022-11-12T21:14:46.537Z"
   },
   {
    "duration": 10,
    "start_time": "2022-11-12T21:14:57.754Z"
   },
   {
    "duration": 7,
    "start_time": "2022-11-12T21:18:21.740Z"
   },
   {
    "duration": 8,
    "start_time": "2022-11-12T21:18:32.212Z"
   },
   {
    "duration": 6,
    "start_time": "2022-11-12T21:18:39.526Z"
   },
   {
    "duration": 8,
    "start_time": "2022-11-12T21:18:44.777Z"
   },
   {
    "duration": 10,
    "start_time": "2022-11-12T21:19:01.420Z"
   },
   {
    "duration": 6,
    "start_time": "2022-11-12T21:19:39.149Z"
   },
   {
    "duration": 109,
    "start_time": "2022-11-12T21:19:48.761Z"
   },
   {
    "duration": 37,
    "start_time": "2022-11-12T21:19:58.960Z"
   },
   {
    "duration": 48,
    "start_time": "2022-11-12T21:21:13.384Z"
   },
   {
    "duration": 11,
    "start_time": "2022-11-12T21:22:02.136Z"
   },
   {
    "duration": 8,
    "start_time": "2022-11-12T21:22:47.772Z"
   },
   {
    "duration": 7,
    "start_time": "2022-11-12T21:23:03.064Z"
   },
   {
    "duration": 15,
    "start_time": "2022-11-12T21:24:57.288Z"
   },
   {
    "duration": 14,
    "start_time": "2022-11-12T21:25:08.611Z"
   },
   {
    "duration": 6,
    "start_time": "2022-11-12T21:48:55.890Z"
   },
   {
    "duration": 16,
    "start_time": "2022-11-12T21:49:04.225Z"
   },
   {
    "duration": 17,
    "start_time": "2022-11-12T21:49:22.715Z"
   },
   {
    "duration": 99,
    "start_time": "2022-11-12T21:49:37.817Z"
   },
   {
    "duration": 30,
    "start_time": "2022-11-12T21:50:01.746Z"
   },
   {
    "duration": 7,
    "start_time": "2022-11-12T21:50:45.829Z"
   },
   {
    "duration": 10,
    "start_time": "2022-11-12T21:50:58.182Z"
   },
   {
    "duration": 8,
    "start_time": "2022-11-12T21:57:15.057Z"
   },
   {
    "duration": 5,
    "start_time": "2022-11-12T21:57:24.090Z"
   },
   {
    "duration": 12,
    "start_time": "2022-11-12T21:57:37.346Z"
   },
   {
    "duration": 16,
    "start_time": "2022-11-12T21:58:07.702Z"
   },
   {
    "duration": 52,
    "start_time": "2022-11-12T21:58:34.161Z"
   },
   {
    "duration": 8,
    "start_time": "2022-11-12T21:58:47.569Z"
   },
   {
    "duration": 12,
    "start_time": "2022-11-12T21:59:01.030Z"
   },
   {
    "duration": 291,
    "start_time": "2022-11-12T21:59:43.416Z"
   },
   {
    "duration": 4,
    "start_time": "2022-11-12T22:00:15.973Z"
   },
   {
    "duration": 313,
    "start_time": "2022-11-12T22:00:19.928Z"
   },
   {
    "duration": 202,
    "start_time": "2022-11-12T22:00:33.662Z"
   },
   {
    "duration": 219,
    "start_time": "2022-11-12T22:00:46.171Z"
   },
   {
    "duration": 98,
    "start_time": "2022-11-12T22:00:54.377Z"
   },
   {
    "duration": 6,
    "start_time": "2022-11-12T22:01:07.424Z"
   },
   {
    "duration": 4,
    "start_time": "2022-11-12T22:01:12.218Z"
   },
   {
    "duration": 9,
    "start_time": "2022-11-12T22:01:16.708Z"
   },
   {
    "duration": 274,
    "start_time": "2022-11-12T22:02:53.722Z"
   },
   {
    "duration": 227,
    "start_time": "2022-11-12T22:04:02.508Z"
   },
   {
    "duration": 201,
    "start_time": "2022-11-12T22:04:08.977Z"
   },
   {
    "duration": 197,
    "start_time": "2022-11-12T22:04:14.450Z"
   },
   {
    "duration": 216,
    "start_time": "2022-11-12T22:04:52.716Z"
   },
   {
    "duration": 256,
    "start_time": "2022-11-12T22:06:24.189Z"
   },
   {
    "duration": 247,
    "start_time": "2022-11-12T22:06:43.625Z"
   },
   {
    "duration": 216,
    "start_time": "2022-11-12T22:08:03.386Z"
   },
   {
    "duration": 202,
    "start_time": "2022-11-12T22:08:20.063Z"
   },
   {
    "duration": 211,
    "start_time": "2022-11-12T22:08:37.252Z"
   },
   {
    "duration": 8,
    "start_time": "2022-11-12T22:08:45.051Z"
   },
   {
    "duration": 8,
    "start_time": "2022-11-12T22:09:17.402Z"
   },
   {
    "duration": 107,
    "start_time": "2022-11-12T22:09:23.485Z"
   },
   {
    "duration": 547,
    "start_time": "2022-11-12T22:09:52.376Z"
   },
   {
    "duration": 127,
    "start_time": "2022-11-12T22:10:19.015Z"
   },
   {
    "duration": 67,
    "start_time": "2022-11-12T22:10:30.448Z"
   },
   {
    "duration": 426,
    "start_time": "2022-11-12T22:10:34.210Z"
   },
   {
    "duration": 281,
    "start_time": "2022-11-12T22:10:57.324Z"
   },
   {
    "duration": 17,
    "start_time": "2022-11-12T22:11:07.535Z"
   },
   {
    "duration": 99,
    "start_time": "2022-11-12T22:11:17.780Z"
   },
   {
    "duration": 30,
    "start_time": "2022-11-12T22:11:26.518Z"
   },
   {
    "duration": 315,
    "start_time": "2022-11-12T22:11:30.326Z"
   },
   {
    "duration": 32,
    "start_time": "2022-11-12T22:11:43.322Z"
   },
   {
    "duration": 25,
    "start_time": "2022-11-12T22:14:13.137Z"
   },
   {
    "duration": 19,
    "start_time": "2022-11-12T22:16:34.845Z"
   },
   {
    "duration": 5,
    "start_time": "2022-11-12T22:18:30.472Z"
   },
   {
    "duration": 4,
    "start_time": "2022-11-12T22:18:39.156Z"
   },
   {
    "duration": 203,
    "start_time": "2022-11-12T22:19:31.466Z"
   },
   {
    "duration": 20,
    "start_time": "2022-11-12T22:22:53.986Z"
   },
   {
    "duration": 17854,
    "start_time": "2022-11-12T22:22:55.819Z"
   },
   {
    "duration": 146,
    "start_time": "2022-11-12T22:23:31.117Z"
   },
   {
    "duration": 141,
    "start_time": "2022-11-12T22:23:50.388Z"
   },
   {
    "duration": 221,
    "start_time": "2022-11-12T22:24:01.223Z"
   },
   {
    "duration": 190,
    "start_time": "2022-11-12T22:24:17.164Z"
   },
   {
    "duration": 144,
    "start_time": "2022-11-12T22:24:55.646Z"
   },
   {
    "duration": 141,
    "start_time": "2022-11-12T22:25:04.347Z"
   },
   {
    "duration": 57,
    "start_time": "2022-11-12T22:30:07.626Z"
   },
   {
    "duration": 49,
    "start_time": "2022-11-12T22:30:17.912Z"
   },
   {
    "duration": 12,
    "start_time": "2022-11-12T22:30:29.823Z"
   },
   {
    "duration": 13,
    "start_time": "2022-11-12T22:33:56.321Z"
   },
   {
    "duration": 10,
    "start_time": "2022-11-12T22:34:08.699Z"
   },
   {
    "duration": 10,
    "start_time": "2022-11-12T22:34:09.529Z"
   },
   {
    "duration": 10,
    "start_time": "2022-11-12T22:34:09.712Z"
   },
   {
    "duration": 9,
    "start_time": "2022-11-12T22:34:09.856Z"
   },
   {
    "duration": 0,
    "start_time": "2022-11-12T22:35:17.423Z"
   },
   {
    "duration": 2882,
    "start_time": "2022-11-12T22:36:52.866Z"
   },
   {
    "duration": 11,
    "start_time": "2022-11-12T22:37:51.203Z"
   },
   {
    "duration": 11,
    "start_time": "2022-11-12T22:38:02.366Z"
   },
   {
    "duration": 2612,
    "start_time": "2022-11-12T22:38:19.933Z"
   },
   {
    "duration": 2657,
    "start_time": "2022-11-12T22:44:03.168Z"
   },
   {
    "duration": 2817,
    "start_time": "2022-11-12T22:45:46.176Z"
   },
   {
    "duration": 29,
    "start_time": "2022-11-12T22:48:52.926Z"
   },
   {
    "duration": 9,
    "start_time": "2022-11-12T22:49:24.342Z"
   },
   {
    "duration": 106,
    "start_time": "2022-11-12T22:57:12.480Z"
   },
   {
    "duration": 54,
    "start_time": "2022-11-12T23:04:21.117Z"
   },
   {
    "duration": 850,
    "start_time": "2022-11-12T23:04:28.765Z"
   },
   {
    "duration": 113,
    "start_time": "2022-11-12T23:04:59.028Z"
   },
   {
    "duration": 4107,
    "start_time": "2022-11-12T23:05:12.330Z"
   },
   {
    "duration": 275,
    "start_time": "2022-11-12T23:05:23.863Z"
   },
   {
    "duration": 352,
    "start_time": "2022-11-12T23:05:30.582Z"
   },
   {
    "duration": 6,
    "start_time": "2022-11-12T23:08:20.813Z"
   },
   {
    "duration": 13,
    "start_time": "2022-11-12T23:10:07.130Z"
   },
   {
    "duration": 7,
    "start_time": "2022-11-12T23:13:00.822Z"
   },
   {
    "duration": 144,
    "start_time": "2022-11-12T23:13:08.785Z"
   },
   {
    "duration": 32,
    "start_time": "2022-11-12T23:13:30.143Z"
   },
   {
    "duration": 7,
    "start_time": "2022-11-12T23:15:46.694Z"
   },
   {
    "duration": 7,
    "start_time": "2022-11-12T23:17:53.083Z"
   },
   {
    "duration": 7,
    "start_time": "2022-11-12T23:17:57.228Z"
   },
   {
    "duration": 7,
    "start_time": "2022-11-12T23:18:02.701Z"
   },
   {
    "duration": 9,
    "start_time": "2022-11-12T23:18:45.791Z"
   },
   {
    "duration": 10,
    "start_time": "2022-11-12T23:19:05.085Z"
   },
   {
    "duration": 16,
    "start_time": "2022-11-12T23:20:15.409Z"
   },
   {
    "duration": 47,
    "start_time": "2022-11-12T23:24:39.493Z"
   },
   {
    "duration": 257,
    "start_time": "2022-11-12T23:24:46.681Z"
   },
   {
    "duration": 96,
    "start_time": "2022-11-12T23:25:30.549Z"
   },
   {
    "duration": 14,
    "start_time": "2022-11-12T23:25:43.826Z"
   },
   {
    "duration": 17093,
    "start_time": "2022-11-12T23:25:45.974Z"
   },
   {
    "duration": 2678,
    "start_time": "2022-11-12T23:26:10.112Z"
   },
   {
    "duration": 218,
    "start_time": "2022-11-12T23:26:36.653Z"
   },
   {
    "duration": 96,
    "start_time": "2022-11-12T23:27:10.906Z"
   },
   {
    "duration": 14,
    "start_time": "2022-11-12T23:27:20.978Z"
   },
   {
    "duration": 17105,
    "start_time": "2022-11-12T23:27:23.605Z"
   },
   {
    "duration": 2667,
    "start_time": "2022-11-12T23:27:51.407Z"
   },
   {
    "duration": 230,
    "start_time": "2022-11-12T23:28:28.960Z"
   },
   {
    "duration": 274,
    "start_time": "2022-11-12T23:29:05.201Z"
   },
   {
    "duration": 8,
    "start_time": "2022-11-12T23:32:23.679Z"
   },
   {
    "duration": 11,
    "start_time": "2022-11-12T23:32:40.181Z"
   },
   {
    "duration": 13,
    "start_time": "2022-11-12T23:33:20.441Z"
   },
   {
    "duration": 6,
    "start_time": "2022-11-12T23:33:32.696Z"
   },
   {
    "duration": 7,
    "start_time": "2022-11-12T23:33:35.968Z"
   },
   {
    "duration": 8,
    "start_time": "2022-11-12T23:33:39.533Z"
   },
   {
    "duration": 128,
    "start_time": "2022-11-12T23:34:15.312Z"
   },
   {
    "duration": 14,
    "start_time": "2022-11-12T23:34:20.419Z"
   },
   {
    "duration": 2117,
    "start_time": "2022-11-12T23:34:24.444Z"
   },
   {
    "duration": 10,
    "start_time": "2022-11-12T23:34:27.366Z"
   },
   {
    "duration": 11,
    "start_time": "2022-11-12T23:34:29.800Z"
   },
   {
    "duration": 8,
    "start_time": "2022-11-12T23:34:38.205Z"
   },
   {
    "duration": 9,
    "start_time": "2022-11-12T23:34:41.130Z"
   },
   {
    "duration": 26,
    "start_time": "2022-11-12T23:34:42.741Z"
   },
   {
    "duration": 12,
    "start_time": "2022-11-12T23:34:47.448Z"
   },
   {
    "duration": 29,
    "start_time": "2022-11-12T23:34:49.032Z"
   },
   {
    "duration": 37,
    "start_time": "2022-11-12T23:34:52.682Z"
   },
   {
    "duration": 281,
    "start_time": "2022-11-12T23:34:55.434Z"
   },
   {
    "duration": 9,
    "start_time": "2022-11-12T23:35:01.833Z"
   },
   {
    "duration": 322,
    "start_time": "2022-11-12T23:35:04.123Z"
   },
   {
    "duration": 121,
    "start_time": "2022-11-12T23:35:06.378Z"
   },
   {
    "duration": 12,
    "start_time": "2022-11-12T23:35:08.502Z"
   },
   {
    "duration": 18,
    "start_time": "2022-11-12T23:35:10.876Z"
   },
   {
    "duration": 14,
    "start_time": "2022-11-12T23:35:13.112Z"
   },
   {
    "duration": 74604,
    "start_time": "2022-11-12T23:35:17.167Z"
   },
   {
    "duration": 31,
    "start_time": "2022-11-12T23:46:02.777Z"
   },
   {
    "duration": 9,
    "start_time": "2022-11-12T23:46:06.437Z"
   },
   {
    "duration": 9,
    "start_time": "2022-11-12T23:46:07.491Z"
   },
   {
    "duration": 7,
    "start_time": "2022-11-12T23:46:31.127Z"
   },
   {
    "duration": 12,
    "start_time": "2022-11-12T23:46:36.901Z"
   },
   {
    "duration": 9,
    "start_time": "2022-11-12T23:46:55.974Z"
   },
   {
    "duration": 38,
    "start_time": "2022-11-12T23:47:05.147Z"
   },
   {
    "duration": 22560,
    "start_time": "2022-11-12T23:47:07.646Z"
   },
   {
    "duration": 3247,
    "start_time": "2022-11-12T23:47:34.081Z"
   },
   {
    "duration": 288,
    "start_time": "2022-11-12T23:47:37.770Z"
   },
   {
    "duration": 21,
    "start_time": "2022-11-12T23:47:44.674Z"
   },
   {
    "duration": 16643,
    "start_time": "2022-11-12T23:47:46.619Z"
   },
   {
    "duration": 122,
    "start_time": "2022-11-12T23:48:07.932Z"
   },
   {
    "duration": 13,
    "start_time": "2022-11-12T23:48:12.568Z"
   },
   {
    "duration": 9,
    "start_time": "2022-11-12T23:48:21.845Z"
   },
   {
    "duration": 7,
    "start_time": "2022-11-12T23:48:27.616Z"
   },
   {
    "duration": 14,
    "start_time": "2022-11-12T23:48:29.162Z"
   },
   {
    "duration": 11,
    "start_time": "2022-11-12T23:48:31.176Z"
   },
   {
    "duration": 11,
    "start_time": "2022-11-12T23:48:33.718Z"
   },
   {
    "duration": 13,
    "start_time": "2022-11-12T23:48:36.510Z"
   },
   {
    "duration": 241,
    "start_time": "2022-11-12T23:48:37.481Z"
   },
   {
    "duration": 13,
    "start_time": "2022-11-12T23:48:52.922Z"
   },
   {
    "duration": 8,
    "start_time": "2022-11-12T23:49:08.703Z"
   },
   {
    "duration": 7,
    "start_time": "2022-11-12T23:49:16.728Z"
   },
   {
    "duration": 13,
    "start_time": "2022-11-12T23:49:32.033Z"
   },
   {
    "duration": 671,
    "start_time": "2022-11-12T23:50:49.295Z"
   },
   {
    "duration": 6,
    "start_time": "2022-11-12T23:50:59.776Z"
   },
   {
    "duration": 6,
    "start_time": "2022-11-12T23:51:10.309Z"
   },
   {
    "duration": 981,
    "start_time": "2022-11-12T23:51:32.792Z"
   },
   {
    "duration": 9,
    "start_time": "2022-11-12T23:52:58.079Z"
   },
   {
    "duration": 8,
    "start_time": "2022-11-12T23:55:18.701Z"
   },
   {
    "duration": 7,
    "start_time": "2022-11-12T23:55:22.098Z"
   },
   {
    "duration": 7,
    "start_time": "2022-11-12T23:58:14.948Z"
   },
   {
    "duration": 11,
    "start_time": "2022-11-12T23:59:12.303Z"
   },
   {
    "duration": 7,
    "start_time": "2022-11-12T23:59:22.094Z"
   },
   {
    "duration": 463,
    "start_time": "2022-11-13T00:03:36.306Z"
   },
   {
    "duration": 452,
    "start_time": "2022-11-13T00:04:04.650Z"
   },
   {
    "duration": 23,
    "start_time": "2022-11-13T00:04:21.398Z"
   },
   {
    "duration": 15,
    "start_time": "2022-11-13T00:04:54.072Z"
   },
   {
    "duration": 16,
    "start_time": "2022-11-13T00:05:03.803Z"
   },
   {
    "duration": 14,
    "start_time": "2022-11-13T00:06:41.653Z"
   },
   {
    "duration": 149,
    "start_time": "2022-11-13T00:08:36.339Z"
   },
   {
    "duration": 9,
    "start_time": "2022-11-13T00:09:36.648Z"
   },
   {
    "duration": 133,
    "start_time": "2022-11-13T00:10:04.285Z"
   },
   {
    "duration": 131,
    "start_time": "2022-11-13T00:10:21.748Z"
   },
   {
    "duration": 124,
    "start_time": "2022-11-13T00:11:30.600Z"
   },
   {
    "duration": 182,
    "start_time": "2022-11-13T00:11:40.353Z"
   },
   {
    "duration": 110,
    "start_time": "2022-11-13T00:11:46.094Z"
   },
   {
    "duration": 138,
    "start_time": "2022-11-13T00:12:01.786Z"
   },
   {
    "duration": 141,
    "start_time": "2022-11-13T00:12:20.943Z"
   },
   {
    "duration": 163,
    "start_time": "2022-11-13T00:12:34.938Z"
   },
   {
    "duration": 108,
    "start_time": "2022-11-13T00:14:05.728Z"
   },
   {
    "duration": 145,
    "start_time": "2022-11-13T00:14:16.841Z"
   },
   {
    "duration": 140,
    "start_time": "2022-11-13T00:15:15.574Z"
   },
   {
    "duration": 9,
    "start_time": "2022-11-13T00:17:16.896Z"
   },
   {
    "duration": 10,
    "start_time": "2022-11-13T00:17:19.269Z"
   },
   {
    "duration": 137,
    "start_time": "2022-11-13T00:17:49.917Z"
   },
   {
    "duration": 283,
    "start_time": "2022-11-13T00:18:29.318Z"
   },
   {
    "duration": 115,
    "start_time": "2022-11-13T00:18:37.094Z"
   },
   {
    "duration": 268,
    "start_time": "2022-11-13T00:25:51.731Z"
   },
   {
    "duration": 139,
    "start_time": "2022-11-13T00:29:42.060Z"
   },
   {
    "duration": 10,
    "start_time": "2022-11-13T00:29:59.174Z"
   },
   {
    "duration": 134,
    "start_time": "2022-11-13T00:30:26.985Z"
   },
   {
    "duration": 152,
    "start_time": "2022-11-13T00:32:12.294Z"
   },
   {
    "duration": 132,
    "start_time": "2022-11-13T00:32:29.686Z"
   },
   {
    "duration": 140,
    "start_time": "2022-11-13T00:33:47.178Z"
   },
   {
    "duration": 131,
    "start_time": "2022-11-13T00:34:00.869Z"
   },
   {
    "duration": 2708,
    "start_time": "2022-11-13T00:35:57.254Z"
   },
   {
    "duration": 456,
    "start_time": "2022-11-13T00:36:04.201Z"
   },
   {
    "duration": 251,
    "start_time": "2022-11-13T00:36:19.715Z"
   },
   {
    "duration": 136,
    "start_time": "2022-11-13T00:36:31.533Z"
   },
   {
    "duration": 143,
    "start_time": "2022-11-13T00:36:55.789Z"
   },
   {
    "duration": 9,
    "start_time": "2022-11-13T00:37:23.310Z"
   },
   {
    "duration": 140,
    "start_time": "2022-11-13T00:37:42.373Z"
   },
   {
    "duration": 137,
    "start_time": "2022-11-13T00:37:51.763Z"
   },
   {
    "duration": 53,
    "start_time": "2022-11-13T00:38:01.993Z"
   },
   {
    "duration": 320,
    "start_time": "2022-11-13T00:38:13.029Z"
   },
   {
    "duration": 142,
    "start_time": "2022-11-13T00:38:23.427Z"
   },
   {
    "duration": 162,
    "start_time": "2022-11-13T00:38:30.141Z"
   },
   {
    "duration": 229,
    "start_time": "2022-11-13T00:38:45.838Z"
   },
   {
    "duration": 138,
    "start_time": "2022-11-13T00:38:57.625Z"
   },
   {
    "duration": 131,
    "start_time": "2022-11-13T00:39:03.765Z"
   },
   {
    "duration": 142,
    "start_time": "2022-11-13T00:39:08.608Z"
   },
   {
    "duration": 134,
    "start_time": "2022-11-13T00:39:12.316Z"
   },
   {
    "duration": 121,
    "start_time": "2022-11-13T00:42:17.787Z"
   },
   {
    "duration": 136,
    "start_time": "2022-11-13T00:43:46.040Z"
   },
   {
    "duration": 114,
    "start_time": "2022-11-13T00:44:14.812Z"
   },
   {
    "duration": 141,
    "start_time": "2022-11-13T00:44:18.618Z"
   },
   {
    "duration": 164,
    "start_time": "2022-11-13T00:44:36.417Z"
   },
   {
    "duration": 122,
    "start_time": "2022-11-13T00:44:46.912Z"
   },
   {
    "duration": 160,
    "start_time": "2022-11-13T00:50:31.261Z"
   },
   {
    "duration": 9,
    "start_time": "2022-11-13T00:50:55.680Z"
   },
   {
    "duration": 168,
    "start_time": "2022-11-13T00:51:03.523Z"
   },
   {
    "duration": 127,
    "start_time": "2022-11-13T00:51:16.249Z"
   },
   {
    "duration": 115,
    "start_time": "2022-11-13T00:51:23.506Z"
   },
   {
    "duration": 123,
    "start_time": "2022-11-13T00:51:29.159Z"
   },
   {
    "duration": 123,
    "start_time": "2022-11-13T00:51:32.446Z"
   },
   {
    "duration": 124,
    "start_time": "2022-11-13T00:51:47.614Z"
   },
   {
    "duration": 106,
    "start_time": "2022-11-13T00:51:50.923Z"
   },
   {
    "duration": 10,
    "start_time": "2022-11-13T00:52:09.909Z"
   },
   {
    "duration": 23,
    "start_time": "2022-11-13T00:52:53.307Z"
   },
   {
    "duration": 7,
    "start_time": "2022-11-13T00:53:08.540Z"
   },
   {
    "duration": 22,
    "start_time": "2022-11-13T00:53:14.862Z"
   },
   {
    "duration": 9,
    "start_time": "2022-11-13T00:54:17.721Z"
   },
   {
    "duration": 276,
    "start_time": "2022-11-13T00:54:26.608Z"
   },
   {
    "duration": 76,
    "start_time": "2022-11-13T00:54:35.821Z"
   },
   {
    "duration": 171,
    "start_time": "2022-11-13T00:54:42.564Z"
   },
   {
    "duration": 151,
    "start_time": "2022-11-13T00:54:52.282Z"
   },
   {
    "duration": 48,
    "start_time": "2022-11-13T00:56:03.004Z"
   },
   {
    "duration": 33,
    "start_time": "2022-11-13T00:56:08.686Z"
   },
   {
    "duration": 34,
    "start_time": "2022-11-13T00:56:13.149Z"
   },
   {
    "duration": 15,
    "start_time": "2022-11-13T00:56:44.454Z"
   },
   {
    "duration": 20,
    "start_time": "2022-11-13T00:56:52.585Z"
   },
   {
    "duration": 18,
    "start_time": "2022-11-13T00:57:17.715Z"
   },
   {
    "duration": 129,
    "start_time": "2022-11-13T00:57:41.576Z"
   },
   {
    "duration": 19,
    "start_time": "2022-11-13T00:58:31.504Z"
   },
   {
    "duration": 13,
    "start_time": "2022-11-13T00:58:49.357Z"
   },
   {
    "duration": 47,
    "start_time": "2022-11-13T01:00:37.355Z"
   },
   {
    "duration": 129,
    "start_time": "2022-11-13T01:01:23.079Z"
   },
   {
    "duration": 145,
    "start_time": "2022-11-13T01:01:45.792Z"
   },
   {
    "duration": 140,
    "start_time": "2022-11-13T01:01:50.028Z"
   },
   {
    "duration": 140,
    "start_time": "2022-11-13T01:02:05.687Z"
   },
   {
    "duration": 130,
    "start_time": "2022-11-13T01:02:08.806Z"
   },
   {
    "duration": 8,
    "start_time": "2022-11-13T01:02:32.808Z"
   },
   {
    "duration": 140,
    "start_time": "2022-11-13T01:02:47.873Z"
   },
   {
    "duration": 126,
    "start_time": "2022-11-13T01:02:52.535Z"
   },
   {
    "duration": 126,
    "start_time": "2022-11-13T01:03:03.519Z"
   },
   {
    "duration": 138,
    "start_time": "2022-11-13T01:03:14.038Z"
   },
   {
    "duration": 128,
    "start_time": "2022-11-13T01:04:44.327Z"
   },
   {
    "duration": 107,
    "start_time": "2022-11-13T01:04:49.478Z"
   },
   {
    "duration": 121,
    "start_time": "2022-11-13T01:05:48.683Z"
   },
   {
    "duration": 10,
    "start_time": "2022-11-13T01:06:02.344Z"
   },
   {
    "duration": 353,
    "start_time": "2022-11-13T01:06:32.687Z"
   },
   {
    "duration": 534,
    "start_time": "2022-11-13T01:06:38.887Z"
   },
   {
    "duration": 364,
    "start_time": "2022-11-13T01:06:54.427Z"
   },
   {
    "duration": 357,
    "start_time": "2022-11-13T01:06:59.704Z"
   },
   {
    "duration": 352,
    "start_time": "2022-11-13T01:07:04.186Z"
   },
   {
    "duration": 402,
    "start_time": "2022-11-13T01:08:15.039Z"
   },
   {
    "duration": 346,
    "start_time": "2022-11-13T01:08:19.569Z"
   },
   {
    "duration": 545,
    "start_time": "2022-11-13T01:08:25.456Z"
   },
   {
    "duration": 91,
    "start_time": "2022-11-13T01:08:38.841Z"
   },
   {
    "duration": 15,
    "start_time": "2022-11-13T01:08:54.439Z"
   },
   {
    "duration": 10,
    "start_time": "2022-11-13T01:08:56.684Z"
   },
   {
    "duration": 65909,
    "start_time": "2022-11-13T01:09:01.320Z"
   },
   {
    "duration": 348,
    "start_time": "2022-11-13T01:10:14.826Z"
   },
   {
    "duration": 335,
    "start_time": "2022-11-13T01:10:21.170Z"
   },
   {
    "duration": 327,
    "start_time": "2022-11-13T01:10:27.708Z"
   },
   {
    "duration": 322,
    "start_time": "2022-11-13T01:10:39.639Z"
   },
   {
    "duration": 194,
    "start_time": "2022-11-13T01:11:06.070Z"
   },
   {
    "duration": 138,
    "start_time": "2022-11-13T01:11:34.121Z"
   },
   {
    "duration": 129,
    "start_time": "2022-11-13T01:11:36.364Z"
   },
   {
    "duration": 8,
    "start_time": "2022-11-13T01:11:38.491Z"
   },
   {
    "duration": 42,
    "start_time": "2022-11-13T01:11:48.804Z"
   },
   {
    "duration": 141,
    "start_time": "2022-11-13T01:11:52.367Z"
   },
   {
    "duration": 139,
    "start_time": "2022-11-13T01:12:21.286Z"
   },
   {
    "duration": 11,
    "start_time": "2022-11-13T01:12:25.257Z"
   },
   {
    "duration": 127,
    "start_time": "2022-11-13T01:14:39.306Z"
   },
   {
    "duration": 8,
    "start_time": "2022-11-13T01:14:56.483Z"
   },
   {
    "duration": 113,
    "start_time": "2022-11-13T01:17:02.345Z"
   },
   {
    "duration": 128,
    "start_time": "2022-11-13T01:17:08.568Z"
   },
   {
    "duration": 118,
    "start_time": "2022-11-13T01:18:37.709Z"
   },
   {
    "duration": 137,
    "start_time": "2022-11-13T01:18:49.257Z"
   },
   {
    "duration": 115,
    "start_time": "2022-11-13T01:19:02.301Z"
   },
   {
    "duration": 108,
    "start_time": "2022-11-13T01:19:05.887Z"
   },
   {
    "duration": 131,
    "start_time": "2022-11-13T01:19:10.408Z"
   },
   {
    "duration": 116,
    "start_time": "2022-11-13T01:19:20.410Z"
   },
   {
    "duration": 127,
    "start_time": "2022-11-13T01:19:24.514Z"
   },
   {
    "duration": 127,
    "start_time": "2022-11-13T01:19:27.903Z"
   },
   {
    "duration": 127,
    "start_time": "2022-11-13T01:19:39.639Z"
   },
   {
    "duration": 109,
    "start_time": "2022-11-13T01:19:55.705Z"
   },
   {
    "duration": 826,
    "start_time": "2022-11-13T01:20:44.834Z"
   },
   {
    "duration": 658,
    "start_time": "2022-11-13T01:21:09.699Z"
   },
   {
    "duration": 684,
    "start_time": "2022-11-13T01:21:15.834Z"
   },
   {
    "duration": 759,
    "start_time": "2022-11-13T01:24:06.248Z"
   },
   {
    "duration": 229,
    "start_time": "2022-11-13T01:24:20.237Z"
   },
   {
    "duration": 7,
    "start_time": "2022-11-13T01:24:27.620Z"
   },
   {
    "duration": 126,
    "start_time": "2022-11-13T01:26:02.127Z"
   },
   {
    "duration": 108,
    "start_time": "2022-11-13T02:17:07.068Z"
   },
   {
    "duration": 114,
    "start_time": "2022-11-13T02:17:19.270Z"
   },
   {
    "duration": 553,
    "start_time": "2022-11-13T02:17:29.941Z"
   },
   {
    "duration": 14,
    "start_time": "2022-11-13T02:17:30.495Z"
   },
   {
    "duration": 2156,
    "start_time": "2022-11-13T02:17:30.511Z"
   },
   {
    "duration": 12,
    "start_time": "2022-11-13T02:17:32.669Z"
   },
   {
    "duration": 10,
    "start_time": "2022-11-13T02:17:32.683Z"
   },
   {
    "duration": 12,
    "start_time": "2022-11-13T02:17:32.694Z"
   },
   {
    "duration": 17,
    "start_time": "2022-11-13T02:17:32.708Z"
   },
   {
    "duration": 8,
    "start_time": "2022-11-13T02:17:32.727Z"
   },
   {
    "duration": 17,
    "start_time": "2022-11-13T02:17:32.747Z"
   },
   {
    "duration": 30,
    "start_time": "2022-11-13T02:17:32.767Z"
   },
   {
    "duration": 241,
    "start_time": "2022-11-13T02:17:32.798Z"
   },
   {
    "duration": 9,
    "start_time": "2022-11-13T02:17:33.041Z"
   },
   {
    "duration": 130,
    "start_time": "2022-11-13T02:17:33.051Z"
   },
   {
    "duration": 128,
    "start_time": "2022-11-13T02:17:33.183Z"
   },
   {
    "duration": 11,
    "start_time": "2022-11-13T02:17:33.313Z"
   },
   {
    "duration": 26,
    "start_time": "2022-11-13T02:17:33.326Z"
   },
   {
    "duration": 9,
    "start_time": "2022-11-13T02:17:33.353Z"
   },
   {
    "duration": 64703,
    "start_time": "2022-11-13T02:17:33.364Z"
   },
   {
    "duration": 16,
    "start_time": "2022-11-13T02:18:38.069Z"
   },
   {
    "duration": 5,
    "start_time": "2022-11-13T02:18:38.087Z"
   },
   {
    "duration": 6,
    "start_time": "2022-11-13T02:18:38.094Z"
   },
   {
    "duration": 11,
    "start_time": "2022-11-13T02:18:38.101Z"
   },
   {
    "duration": 34,
    "start_time": "2022-11-13T02:18:38.114Z"
   },
   {
    "duration": 9,
    "start_time": "2022-11-13T02:18:38.150Z"
   },
   {
    "duration": 135,
    "start_time": "2022-11-13T02:18:38.160Z"
   },
   {
    "duration": 18,
    "start_time": "2022-11-13T02:18:38.296Z"
   },
   {
    "duration": 36,
    "start_time": "2022-11-13T02:18:38.315Z"
   },
   {
    "duration": 23,
    "start_time": "2022-11-13T02:18:38.356Z"
   },
   {
    "duration": 15275,
    "start_time": "2022-11-13T02:18:38.380Z"
   },
   {
    "duration": 2627,
    "start_time": "2022-11-13T02:18:53.657Z"
   },
   {
    "duration": 234,
    "start_time": "2022-11-13T02:18:56.285Z"
   },
   {
    "duration": 10,
    "start_time": "2022-11-13T02:18:56.520Z"
   },
   {
    "duration": 155,
    "start_time": "2022-11-13T02:18:56.531Z"
   },
   {
    "duration": 13,
    "start_time": "2022-11-13T02:18:56.688Z"
   },
   {
    "duration": 27,
    "start_time": "2022-11-13T02:18:56.703Z"
   },
   {
    "duration": 10758,
    "start_time": "2022-11-13T02:18:56.731Z"
   },
   {
    "duration": 138,
    "start_time": "2022-11-13T02:19:07.490Z"
   },
   {
    "duration": 23,
    "start_time": "2022-11-13T02:19:07.629Z"
   },
   {
    "duration": 7,
    "start_time": "2022-11-13T02:19:07.654Z"
   },
   {
    "duration": 7,
    "start_time": "2022-11-13T02:19:07.663Z"
   },
   {
    "duration": 15,
    "start_time": "2022-11-13T02:19:07.672Z"
   },
   {
    "duration": 25,
    "start_time": "2022-11-13T02:19:07.689Z"
   },
   {
    "duration": 12,
    "start_time": "2022-11-13T02:19:07.716Z"
   },
   {
    "duration": 146,
    "start_time": "2022-11-13T02:19:07.730Z"
   },
   {
    "duration": 19,
    "start_time": "2022-11-13T02:19:07.878Z"
   },
   {
    "duration": 19,
    "start_time": "2022-11-13T02:19:07.899Z"
   },
   {
    "duration": 30,
    "start_time": "2022-11-13T02:19:07.920Z"
   },
   {
    "duration": 15,
    "start_time": "2022-11-13T02:19:07.952Z"
   },
   {
    "duration": 382,
    "start_time": "2022-11-13T02:19:07.969Z"
   },
   {
    "duration": 7,
    "start_time": "2022-11-13T02:19:08.352Z"
   },
   {
    "duration": 130,
    "start_time": "2022-11-13T02:19:08.361Z"
   },
   {
    "duration": 8,
    "start_time": "2022-11-13T02:19:08.493Z"
   },
   {
    "duration": 2,
    "start_time": "2022-11-13T02:19:08.503Z"
   },
   {
    "duration": 11,
    "start_time": "2022-11-13T02:19:08.507Z"
   },
   {
    "duration": 150,
    "start_time": "2022-11-13T02:19:08.520Z"
   },
   {
    "duration": 9,
    "start_time": "2022-11-13T02:19:08.672Z"
   },
   {
    "duration": 138,
    "start_time": "2022-11-13T02:19:08.682Z"
   },
   {
    "duration": 9,
    "start_time": "2022-11-13T02:19:08.821Z"
   },
   {
    "duration": 3,
    "start_time": "2022-11-13T02:19:08.831Z"
   },
   {
    "duration": 20,
    "start_time": "2022-11-13T02:19:08.835Z"
   },
   {
    "duration": 144,
    "start_time": "2022-11-13T02:19:08.856Z"
   },
   {
    "duration": 8,
    "start_time": "2022-11-13T02:19:09.002Z"
   },
   {
    "duration": 125,
    "start_time": "2022-11-13T02:19:09.012Z"
   },
   {
    "duration": 15,
    "start_time": "2022-11-13T02:19:09.139Z"
   },
   {
    "duration": 6,
    "start_time": "2022-11-13T02:19:09.156Z"
   },
   {
    "duration": 157,
    "start_time": "2022-11-13T02:19:09.164Z"
   },
   {
    "duration": 136,
    "start_time": "2022-11-13T02:20:12.744Z"
   },
   {
    "duration": 135,
    "start_time": "2022-11-13T02:20:19.995Z"
   },
   {
    "duration": 155,
    "start_time": "2022-11-13T02:20:30.608Z"
   },
   {
    "duration": 127,
    "start_time": "2022-11-13T02:20:39.536Z"
   },
   {
    "duration": 8,
    "start_time": "2022-11-13T02:21:23.201Z"
   },
   {
    "duration": 119,
    "start_time": "2022-11-13T02:30:04.042Z"
   },
   {
    "duration": 125,
    "start_time": "2022-11-13T02:30:41.084Z"
   },
   {
    "duration": 146,
    "start_time": "2022-11-13T02:31:46.431Z"
   },
   {
    "duration": 9,
    "start_time": "2022-11-13T02:32:31.269Z"
   },
   {
    "duration": 116,
    "start_time": "2022-11-13T02:38:04.519Z"
   },
   {
    "duration": 203,
    "start_time": "2022-11-13T02:38:11.285Z"
   },
   {
    "duration": 122,
    "start_time": "2022-11-13T02:40:23.799Z"
   },
   {
    "duration": 250,
    "start_time": "2022-11-13T02:40:38.800Z"
   },
   {
    "duration": 118,
    "start_time": "2022-11-13T02:40:43.434Z"
   },
   {
    "duration": 109,
    "start_time": "2022-11-13T02:40:50.432Z"
   },
   {
    "duration": 8,
    "start_time": "2022-11-13T02:41:12.090Z"
   },
   {
    "duration": 6,
    "start_time": "2022-11-13T02:41:32.484Z"
   },
   {
    "duration": 6,
    "start_time": "2022-11-13T02:41:40.551Z"
   },
   {
    "duration": 109,
    "start_time": "2022-11-13T02:42:11.212Z"
   },
   {
    "duration": 107,
    "start_time": "2022-11-13T02:42:14.576Z"
   },
   {
    "duration": 114,
    "start_time": "2022-11-13T02:42:46.583Z"
   },
   {
    "duration": 133,
    "start_time": "2022-11-13T02:45:10.944Z"
   },
   {
    "duration": 122,
    "start_time": "2022-11-13T02:45:50.403Z"
   },
   {
    "duration": 106,
    "start_time": "2022-11-13T02:46:56.303Z"
   },
   {
    "duration": 123,
    "start_time": "2022-11-13T02:47:44.445Z"
   },
   {
    "duration": 124,
    "start_time": "2022-11-13T02:47:47.839Z"
   },
   {
    "duration": 113,
    "start_time": "2022-11-13T02:47:59.574Z"
   },
   {
    "duration": 125,
    "start_time": "2022-11-13T02:48:06.735Z"
   },
   {
    "duration": 110,
    "start_time": "2022-11-13T02:48:10.843Z"
   },
   {
    "duration": 129,
    "start_time": "2022-11-13T02:48:15.269Z"
   },
   {
    "duration": 119,
    "start_time": "2022-11-13T02:49:42.990Z"
   },
   {
    "duration": 9,
    "start_time": "2022-11-13T02:52:11.356Z"
   },
   {
    "duration": 214,
    "start_time": "2022-11-13T02:53:06.297Z"
   },
   {
    "duration": 155,
    "start_time": "2022-11-13T02:53:32.728Z"
   },
   {
    "duration": 8,
    "start_time": "2022-11-13T02:53:58.095Z"
   },
   {
    "duration": 8,
    "start_time": "2022-11-13T02:55:01.966Z"
   },
   {
    "duration": 6,
    "start_time": "2022-11-13T02:55:36.035Z"
   },
   {
    "duration": 6,
    "start_time": "2022-11-13T02:55:37.377Z"
   },
   {
    "duration": 19,
    "start_time": "2022-11-13T02:57:41.629Z"
   },
   {
    "duration": 8,
    "start_time": "2022-11-13T02:57:43.264Z"
   },
   {
    "duration": 10,
    "start_time": "2022-11-13T02:57:59.024Z"
   },
   {
    "duration": 11,
    "start_time": "2022-11-13T02:58:01.562Z"
   },
   {
    "duration": 11,
    "start_time": "2022-11-13T02:59:36.926Z"
   },
   {
    "duration": 11,
    "start_time": "2022-11-13T02:59:45.436Z"
   },
   {
    "duration": 9,
    "start_time": "2022-11-13T02:59:46.308Z"
   },
   {
    "duration": 9,
    "start_time": "2022-11-13T03:00:01.760Z"
   },
   {
    "duration": 11,
    "start_time": "2022-11-13T03:00:07.901Z"
   },
   {
    "duration": 9,
    "start_time": "2022-11-13T03:00:19.441Z"
   },
   {
    "duration": 14,
    "start_time": "2022-11-13T03:00:30.910Z"
   },
   {
    "duration": 11,
    "start_time": "2022-11-13T03:00:35.802Z"
   },
   {
    "duration": 9,
    "start_time": "2022-11-13T03:00:40.706Z"
   },
   {
    "duration": 14,
    "start_time": "2022-11-13T03:00:45.141Z"
   },
   {
    "duration": 115,
    "start_time": "2022-11-13T03:01:14.630Z"
   },
   {
    "duration": 12,
    "start_time": "2022-11-13T03:01:32.215Z"
   },
   {
    "duration": 13,
    "start_time": "2022-11-13T03:01:40.225Z"
   },
   {
    "duration": 136,
    "start_time": "2022-11-13T03:04:20.871Z"
   },
   {
    "duration": 119,
    "start_time": "2022-11-13T03:04:37.201Z"
   },
   {
    "duration": 98,
    "start_time": "2022-11-13T03:04:43.152Z"
   },
   {
    "duration": 142,
    "start_time": "2022-11-13T03:04:49.010Z"
   },
   {
    "duration": 161,
    "start_time": "2022-11-13T03:06:25.282Z"
   },
   {
    "duration": 131,
    "start_time": "2022-11-13T03:06:34.428Z"
   },
   {
    "duration": 113,
    "start_time": "2022-11-13T03:06:54.739Z"
   },
   {
    "duration": 125,
    "start_time": "2022-11-13T03:06:57.908Z"
   },
   {
    "duration": 8,
    "start_time": "2022-11-13T03:07:00.511Z"
   },
   {
    "duration": 128,
    "start_time": "2022-11-13T03:07:52.735Z"
   },
   {
    "duration": 109,
    "start_time": "2022-11-13T03:08:08.956Z"
   },
   {
    "duration": 112,
    "start_time": "2022-11-13T03:08:21.140Z"
   },
   {
    "duration": 127,
    "start_time": "2022-11-13T03:08:31.476Z"
   },
   {
    "duration": 114,
    "start_time": "2022-11-13T03:09:38.257Z"
   },
   {
    "duration": 127,
    "start_time": "2022-11-13T03:10:02.467Z"
   },
   {
    "duration": 101,
    "start_time": "2022-11-13T03:14:37.751Z"
   },
   {
    "duration": 7,
    "start_time": "2022-11-13T03:14:56.516Z"
   },
   {
    "duration": 7,
    "start_time": "2022-11-13T03:24:00.818Z"
   },
   {
    "duration": 113,
    "start_time": "2022-11-13T03:25:39.859Z"
   },
   {
    "duration": 126,
    "start_time": "2022-11-13T03:26:26.207Z"
   },
   {
    "duration": 126,
    "start_time": "2022-11-13T03:26:31.381Z"
   },
   {
    "duration": 573,
    "start_time": "2022-11-13T09:53:32.016Z"
   },
   {
    "duration": 567,
    "start_time": "2022-11-13T13:03:16.207Z"
   },
   {
    "duration": 572,
    "start_time": "2022-11-13T13:17:33.609Z"
   },
   {
    "duration": 39,
    "start_time": "2022-11-13T13:17:34.184Z"
   },
   {
    "duration": 2340,
    "start_time": "2022-11-13T13:17:34.225Z"
   },
   {
    "duration": 12,
    "start_time": "2022-11-13T13:17:36.567Z"
   },
   {
    "duration": 7,
    "start_time": "2022-11-13T13:17:36.581Z"
   },
   {
    "duration": 37,
    "start_time": "2022-11-13T13:17:36.589Z"
   },
   {
    "duration": 19,
    "start_time": "2022-11-13T13:17:36.628Z"
   },
   {
    "duration": 10,
    "start_time": "2022-11-13T13:17:36.648Z"
   },
   {
    "duration": 18,
    "start_time": "2022-11-13T13:17:36.660Z"
   },
   {
    "duration": 69,
    "start_time": "2022-11-13T13:17:36.681Z"
   },
   {
    "duration": 251,
    "start_time": "2022-11-13T13:17:36.752Z"
   },
   {
    "duration": 18,
    "start_time": "2022-11-13T13:17:37.005Z"
   },
   {
    "duration": 136,
    "start_time": "2022-11-13T13:17:37.024Z"
   },
   {
    "duration": 141,
    "start_time": "2022-11-13T13:17:37.162Z"
   },
   {
    "duration": 27,
    "start_time": "2022-11-13T13:17:37.305Z"
   },
   {
    "duration": 16,
    "start_time": "2022-11-13T13:17:37.334Z"
   },
   {
    "duration": 12,
    "start_time": "2022-11-13T13:17:37.352Z"
   },
   {
    "duration": 71998,
    "start_time": "2022-11-13T13:17:37.366Z"
   },
   {
    "duration": 18,
    "start_time": "2022-11-13T13:18:49.366Z"
   },
   {
    "duration": 6,
    "start_time": "2022-11-13T13:18:49.386Z"
   },
   {
    "duration": 32,
    "start_time": "2022-11-13T13:18:49.394Z"
   },
   {
    "duration": 9,
    "start_time": "2022-11-13T13:18:49.428Z"
   },
   {
    "duration": 4,
    "start_time": "2022-11-13T13:18:49.439Z"
   },
   {
    "duration": 177,
    "start_time": "2022-11-13T13:18:49.445Z"
   },
   {
    "duration": 10,
    "start_time": "2022-11-13T13:18:49.624Z"
   },
   {
    "duration": 162,
    "start_time": "2022-11-13T13:18:49.635Z"
   },
   {
    "duration": 31,
    "start_time": "2022-11-13T13:18:49.798Z"
   },
   {
    "duration": 28,
    "start_time": "2022-11-13T13:18:49.834Z"
   },
   {
    "duration": 23,
    "start_time": "2022-11-13T13:18:49.864Z"
   },
   {
    "duration": 16272,
    "start_time": "2022-11-13T13:18:49.889Z"
   },
   {
    "duration": 2541,
    "start_time": "2022-11-13T13:19:06.164Z"
   },
   {
    "duration": 241,
    "start_time": "2022-11-13T13:19:08.707Z"
   },
   {
    "duration": 10,
    "start_time": "2022-11-13T13:19:08.950Z"
   },
   {
    "duration": 174,
    "start_time": "2022-11-13T13:19:08.962Z"
   },
   {
    "duration": 14,
    "start_time": "2022-11-13T13:19:09.138Z"
   },
   {
    "duration": 29,
    "start_time": "2022-11-13T13:19:09.153Z"
   },
   {
    "duration": 11643,
    "start_time": "2022-11-13T13:19:09.184Z"
   },
   {
    "duration": 152,
    "start_time": "2022-11-13T13:19:20.829Z"
   },
   {
    "duration": 14,
    "start_time": "2022-11-13T13:19:20.982Z"
   },
   {
    "duration": 24,
    "start_time": "2022-11-13T13:19:20.998Z"
   },
   {
    "duration": 8,
    "start_time": "2022-11-13T13:19:21.024Z"
   },
   {
    "duration": 18,
    "start_time": "2022-11-13T13:19:21.033Z"
   },
   {
    "duration": 10,
    "start_time": "2022-11-13T13:19:21.053Z"
   },
   {
    "duration": 14,
    "start_time": "2022-11-13T13:19:21.065Z"
   },
   {
    "duration": 180,
    "start_time": "2022-11-13T13:19:21.081Z"
   },
   {
    "duration": 18,
    "start_time": "2022-11-13T13:19:21.263Z"
   },
   {
    "duration": 17,
    "start_time": "2022-11-13T13:19:21.282Z"
   },
   {
    "duration": 34,
    "start_time": "2022-11-13T13:19:21.301Z"
   },
   {
    "duration": 15,
    "start_time": "2022-11-13T13:19:21.336Z"
   },
   {
    "duration": 416,
    "start_time": "2022-11-13T13:19:21.352Z"
   },
   {
    "duration": 8,
    "start_time": "2022-11-13T13:19:21.770Z"
   },
   {
    "duration": 165,
    "start_time": "2022-11-13T13:19:21.779Z"
   },
   {
    "duration": 8,
    "start_time": "2022-11-13T13:19:21.946Z"
   },
   {
    "duration": 159,
    "start_time": "2022-11-13T13:19:21.956Z"
   },
   {
    "duration": 11,
    "start_time": "2022-11-13T13:19:22.117Z"
   },
   {
    "duration": 143,
    "start_time": "2022-11-13T13:19:22.129Z"
   },
   {
    "duration": 9,
    "start_time": "2022-11-13T13:19:22.274Z"
   },
   {
    "duration": 148,
    "start_time": "2022-11-13T13:19:22.284Z"
   },
   {
    "duration": 9,
    "start_time": "2022-11-13T13:19:22.435Z"
   },
   {
    "duration": 17,
    "start_time": "2022-11-13T13:19:22.445Z"
   },
   {
    "duration": 14,
    "start_time": "2022-11-13T13:19:22.463Z"
   },
   {
    "duration": 164,
    "start_time": "2022-11-13T13:19:22.479Z"
   },
   {
    "duration": 9,
    "start_time": "2022-11-13T13:19:22.645Z"
   },
   {
    "duration": 147,
    "start_time": "2022-11-13T13:19:22.656Z"
   },
   {
    "duration": 21,
    "start_time": "2022-11-13T13:19:22.805Z"
   },
   {
    "duration": 34,
    "start_time": "2022-11-13T13:19:22.828Z"
   },
   {
    "duration": 183,
    "start_time": "2022-11-13T13:19:22.864Z"
   },
   {
    "duration": 8,
    "start_time": "2022-11-13T13:19:23.049Z"
   },
   {
    "duration": 156,
    "start_time": "2022-11-13T13:19:23.059Z"
   },
   {
    "duration": 11,
    "start_time": "2022-11-13T13:19:23.217Z"
   },
   {
    "duration": 137,
    "start_time": "2022-11-13T13:19:23.230Z"
   },
   {
    "duration": 7,
    "start_time": "2022-11-13T13:19:23.369Z"
   },
   {
    "duration": 94,
    "start_time": "2022-11-13T13:19:23.378Z"
   },
   {
    "duration": 150,
    "start_time": "2022-11-13T13:19:23.474Z"
   },
   {
    "duration": 146,
    "start_time": "2022-11-13T13:19:23.626Z"
   },
   {
    "duration": 174,
    "start_time": "2022-11-13T13:19:23.775Z"
   },
   {
    "duration": 157,
    "start_time": "2022-11-13T13:19:23.951Z"
   },
   {
    "duration": 214,
    "start_time": "2022-11-13T13:19:24.110Z"
   },
   {
    "duration": 12,
    "start_time": "2022-11-13T13:19:24.326Z"
   },
   {
    "duration": 257,
    "start_time": "2022-11-13T13:20:46.760Z"
   },
   {
    "duration": 8,
    "start_time": "2022-11-13T13:31:43.049Z"
   },
   {
    "duration": 140,
    "start_time": "2022-11-13T13:31:50.051Z"
   },
   {
    "duration": 22,
    "start_time": "2022-11-13T13:37:07.673Z"
   },
   {
    "duration": 21,
    "start_time": "2022-11-13T13:37:14.818Z"
   },
   {
    "duration": 168,
    "start_time": "2022-11-13T13:44:50.025Z"
   },
   {
    "duration": 153,
    "start_time": "2022-11-13T13:45:02.785Z"
   },
   {
    "duration": 146,
    "start_time": "2022-11-13T13:45:08.126Z"
   },
   {
    "duration": 157,
    "start_time": "2022-11-13T13:45:13.508Z"
   },
   {
    "duration": 163,
    "start_time": "2022-11-13T13:45:59.415Z"
   },
   {
    "duration": 120,
    "start_time": "2022-11-13T13:46:47.835Z"
   },
   {
    "duration": 154,
    "start_time": "2022-11-13T13:47:00.324Z"
   },
   {
    "duration": 128,
    "start_time": "2022-11-13T13:47:04.699Z"
   },
   {
    "duration": 123,
    "start_time": "2022-11-13T13:47:09.900Z"
   },
   {
    "duration": 145,
    "start_time": "2022-11-13T13:47:50.405Z"
   },
   {
    "duration": 10,
    "start_time": "2022-11-13T13:49:04.306Z"
   },
   {
    "duration": 25,
    "start_time": "2022-11-13T13:49:14.152Z"
   },
   {
    "duration": 508,
    "start_time": "2022-11-13T13:49:28.945Z"
   },
   {
    "duration": 15,
    "start_time": "2022-11-13T13:49:29.456Z"
   },
   {
    "duration": 2376,
    "start_time": "2022-11-13T13:49:29.473Z"
   },
   {
    "duration": 13,
    "start_time": "2022-11-13T13:49:31.852Z"
   },
   {
    "duration": 29,
    "start_time": "2022-11-13T13:49:31.867Z"
   },
   {
    "duration": 28,
    "start_time": "2022-11-13T13:49:31.898Z"
   },
   {
    "duration": 25,
    "start_time": "2022-11-13T13:49:31.927Z"
   },
   {
    "duration": 34,
    "start_time": "2022-11-13T13:49:31.954Z"
   },
   {
    "duration": 44,
    "start_time": "2022-11-13T13:49:31.991Z"
   },
   {
    "duration": 10,
    "start_time": "2022-11-13T13:49:32.038Z"
   },
   {
    "duration": 36,
    "start_time": "2022-11-13T13:49:32.049Z"
   },
   {
    "duration": 69,
    "start_time": "2022-11-13T13:49:32.087Z"
   },
   {
    "duration": 254,
    "start_time": "2022-11-13T13:49:32.158Z"
   },
   {
    "duration": 10,
    "start_time": "2022-11-13T13:49:32.421Z"
   },
   {
    "duration": 142,
    "start_time": "2022-11-13T13:49:32.433Z"
   },
   {
    "duration": 146,
    "start_time": "2022-11-13T13:49:32.577Z"
   },
   {
    "duration": 13,
    "start_time": "2022-11-13T13:49:32.725Z"
   },
   {
    "duration": 39,
    "start_time": "2022-11-13T13:49:32.740Z"
   },
   {
    "duration": 35,
    "start_time": "2022-11-13T13:49:32.781Z"
   },
   {
    "duration": 34518,
    "start_time": "2022-11-13T13:49:32.818Z"
   },
   {
    "duration": 17,
    "start_time": "2022-11-13T13:50:07.338Z"
   },
   {
    "duration": 5,
    "start_time": "2022-11-13T13:50:07.357Z"
   },
   {
    "duration": 7,
    "start_time": "2022-11-13T13:50:07.364Z"
   },
   {
    "duration": 9,
    "start_time": "2022-11-13T13:50:07.373Z"
   },
   {
    "duration": 41,
    "start_time": "2022-11-13T13:50:07.383Z"
   },
   {
    "duration": 164,
    "start_time": "2022-11-13T13:50:07.426Z"
   },
   {
    "duration": 10,
    "start_time": "2022-11-13T13:50:07.592Z"
   },
   {
    "duration": 144,
    "start_time": "2022-11-13T13:50:07.621Z"
   },
   {
    "duration": 19,
    "start_time": "2022-11-13T13:50:07.767Z"
   },
   {
    "duration": 42,
    "start_time": "2022-11-13T13:50:07.787Z"
   },
   {
    "duration": 20,
    "start_time": "2022-11-13T13:50:07.831Z"
   },
   {
    "duration": 7143,
    "start_time": "2022-11-13T13:50:07.852Z"
   },
   {
    "duration": 1257,
    "start_time": "2022-11-13T13:50:14.996Z"
   },
   {
    "duration": 235,
    "start_time": "2022-11-13T13:50:16.255Z"
   },
   {
    "duration": 9,
    "start_time": "2022-11-13T13:50:16.491Z"
   },
   {
    "duration": 155,
    "start_time": "2022-11-13T13:50:16.502Z"
   },
   {
    "duration": 15,
    "start_time": "2022-11-13T13:50:16.659Z"
   },
   {
    "duration": 42,
    "start_time": "2022-11-13T13:50:16.675Z"
   },
   {
    "duration": 5838,
    "start_time": "2022-11-13T13:50:16.719Z"
   },
   {
    "duration": 149,
    "start_time": "2022-11-13T13:50:22.558Z"
   },
   {
    "duration": 20,
    "start_time": "2022-11-13T13:50:22.709Z"
   },
   {
    "duration": 9,
    "start_time": "2022-11-13T13:50:22.730Z"
   },
   {
    "duration": 11,
    "start_time": "2022-11-13T13:50:22.740Z"
   },
   {
    "duration": 17,
    "start_time": "2022-11-13T13:50:22.752Z"
   },
   {
    "duration": 11,
    "start_time": "2022-11-13T13:50:22.771Z"
   },
   {
    "duration": 43,
    "start_time": "2022-11-13T13:50:22.784Z"
   },
   {
    "duration": 157,
    "start_time": "2022-11-13T13:50:22.828Z"
   },
   {
    "duration": 18,
    "start_time": "2022-11-13T13:50:22.987Z"
   },
   {
    "duration": 12,
    "start_time": "2022-11-13T13:50:23.021Z"
   },
   {
    "duration": 19,
    "start_time": "2022-11-13T13:50:23.035Z"
   },
   {
    "duration": 19,
    "start_time": "2022-11-13T13:50:23.055Z"
   },
   {
    "duration": 287,
    "start_time": "2022-11-13T13:50:23.076Z"
   },
   {
    "duration": 7,
    "start_time": "2022-11-13T13:50:23.364Z"
   },
   {
    "duration": 152,
    "start_time": "2022-11-13T13:50:23.373Z"
   },
   {
    "duration": 10,
    "start_time": "2022-11-13T13:50:23.527Z"
   },
   {
    "duration": 160,
    "start_time": "2022-11-13T13:50:23.539Z"
   },
   {
    "duration": 22,
    "start_time": "2022-11-13T13:50:23.700Z"
   },
   {
    "duration": 141,
    "start_time": "2022-11-13T13:50:23.724Z"
   },
   {
    "duration": 11,
    "start_time": "2022-11-13T13:50:23.867Z"
   },
   {
    "duration": 266,
    "start_time": "2022-11-13T13:50:23.879Z"
   },
   {
    "duration": 12,
    "start_time": "2022-11-13T13:50:24.146Z"
   },
   {
    "duration": 29,
    "start_time": "2022-11-13T13:50:24.160Z"
   },
   {
    "duration": 44,
    "start_time": "2022-11-13T13:50:24.191Z"
   },
   {
    "duration": 186,
    "start_time": "2022-11-13T13:50:24.237Z"
   },
   {
    "duration": 10,
    "start_time": "2022-11-13T13:50:24.425Z"
   },
   {
    "duration": 155,
    "start_time": "2022-11-13T13:50:24.436Z"
   },
   {
    "duration": 9,
    "start_time": "2022-11-13T13:50:24.593Z"
   },
   {
    "duration": 10,
    "start_time": "2022-11-13T13:50:24.623Z"
   },
   {
    "duration": 186,
    "start_time": "2022-11-13T13:50:24.635Z"
   },
   {
    "duration": 9,
    "start_time": "2022-11-13T13:50:24.823Z"
   },
   {
    "duration": 169,
    "start_time": "2022-11-13T13:50:24.834Z"
   },
   {
    "duration": 22,
    "start_time": "2022-11-13T13:50:25.005Z"
   },
   {
    "duration": 143,
    "start_time": "2022-11-13T13:50:25.029Z"
   },
   {
    "duration": 7,
    "start_time": "2022-11-13T13:50:25.174Z"
   },
   {
    "duration": 37,
    "start_time": "2022-11-13T13:50:25.183Z"
   },
   {
    "duration": 149,
    "start_time": "2022-11-13T13:50:25.221Z"
   },
   {
    "duration": 150,
    "start_time": "2022-11-13T13:50:25.372Z"
   },
   {
    "duration": 165,
    "start_time": "2022-11-13T13:50:25.523Z"
   },
   {
    "duration": 155,
    "start_time": "2022-11-13T13:50:25.690Z"
   },
   {
    "duration": 166,
    "start_time": "2022-11-13T13:50:25.847Z"
   },
   {
    "duration": 10,
    "start_time": "2022-11-13T13:50:26.021Z"
   },
   {
    "duration": 24,
    "start_time": "2022-11-13T13:50:26.037Z"
   },
   {
    "duration": 973,
    "start_time": "2022-11-13T13:52:45.398Z"
   },
   {
    "duration": 332,
    "start_time": "2022-11-13T13:52:55.656Z"
   },
   {
    "duration": 355,
    "start_time": "2022-11-13T13:53:48.007Z"
   },
   {
    "duration": 101,
    "start_time": "2022-11-13T14:10:01.314Z"
   },
   {
    "duration": 14,
    "start_time": "2022-11-13T14:10:04.874Z"
   },
   {
    "duration": 16,
    "start_time": "2022-11-13T14:10:09.666Z"
   },
   {
    "duration": 19,
    "start_time": "2022-11-13T14:10:16.436Z"
   },
   {
    "duration": 17,
    "start_time": "2022-11-13T14:10:24.600Z"
   },
   {
    "duration": 16,
    "start_time": "2022-11-13T14:10:30.883Z"
   },
   {
    "duration": 17,
    "start_time": "2022-11-13T14:10:39.563Z"
   },
   {
    "duration": 16,
    "start_time": "2022-11-13T14:10:49.438Z"
   },
   {
    "duration": 15,
    "start_time": "2022-11-13T14:11:09.191Z"
   },
   {
    "duration": 77,
    "start_time": "2022-11-13T14:12:44.004Z"
   },
   {
    "duration": 24,
    "start_time": "2022-11-13T14:12:48.578Z"
   },
   {
    "duration": 23,
    "start_time": "2022-11-13T14:13:23.592Z"
   },
   {
    "duration": 28,
    "start_time": "2022-11-13T14:13:49.998Z"
   },
   {
    "duration": 30,
    "start_time": "2022-11-13T14:14:57.293Z"
   },
   {
    "duration": 69,
    "start_time": "2022-11-13T14:15:20.685Z"
   },
   {
    "duration": 69,
    "start_time": "2022-11-13T14:15:28.200Z"
   },
   {
    "duration": 72,
    "start_time": "2022-11-13T14:15:36.251Z"
   },
   {
    "duration": 74,
    "start_time": "2022-11-13T14:15:46.024Z"
   },
   {
    "duration": 17,
    "start_time": "2022-11-13T14:15:55.959Z"
   },
   {
    "duration": 28,
    "start_time": "2022-11-13T14:17:59.870Z"
   },
   {
    "duration": 27,
    "start_time": "2022-11-13T14:19:01.380Z"
   },
   {
    "duration": 25,
    "start_time": "2022-11-13T14:19:10.576Z"
   },
   {
    "duration": 26,
    "start_time": "2022-11-13T14:19:19.874Z"
   },
   {
    "duration": 29,
    "start_time": "2022-11-13T14:19:24.071Z"
   },
   {
    "duration": 21,
    "start_time": "2022-11-13T14:20:01.115Z"
   },
   {
    "duration": 27,
    "start_time": "2022-11-13T14:20:42.634Z"
   },
   {
    "duration": 25,
    "start_time": "2022-11-13T14:22:56.100Z"
   },
   {
    "duration": 25,
    "start_time": "2022-11-13T14:23:31.867Z"
   },
   {
    "duration": 24,
    "start_time": "2022-11-13T14:24:22.219Z"
   },
   {
    "duration": 17,
    "start_time": "2022-11-13T14:24:47.963Z"
   },
   {
    "duration": 16,
    "start_time": "2022-11-13T14:25:04.970Z"
   },
   {
    "duration": 97,
    "start_time": "2022-11-13T14:25:34.601Z"
   },
   {
    "duration": 290,
    "start_time": "2022-11-13T14:25:40.465Z"
   },
   {
    "duration": 109,
    "start_time": "2022-11-13T14:25:54.180Z"
   },
   {
    "duration": 72,
    "start_time": "2022-11-13T14:25:57.495Z"
   },
   {
    "duration": 8,
    "start_time": "2022-11-13T14:26:03.286Z"
   },
   {
    "duration": 7,
    "start_time": "2022-11-13T14:28:38.413Z"
   },
   {
    "duration": 10,
    "start_time": "2022-11-13T14:28:57.652Z"
   },
   {
    "duration": 69,
    "start_time": "2022-11-13T14:29:36.168Z"
   },
   {
    "duration": 6,
    "start_time": "2022-11-13T14:29:44.635Z"
   },
   {
    "duration": 6,
    "start_time": "2022-11-13T14:30:35.248Z"
   },
   {
    "duration": 7,
    "start_time": "2022-11-13T14:30:47.270Z"
   },
   {
    "duration": 11,
    "start_time": "2022-11-13T14:30:51.871Z"
   },
   {
    "duration": 13,
    "start_time": "2022-11-13T14:32:36.979Z"
   },
   {
    "duration": 12,
    "start_time": "2022-11-13T14:32:48.069Z"
   },
   {
    "duration": 71,
    "start_time": "2022-11-13T14:33:33.394Z"
   },
   {
    "duration": 8,
    "start_time": "2022-11-13T14:33:39.280Z"
   },
   {
    "duration": 14,
    "start_time": "2022-11-13T14:33:56.927Z"
   },
   {
    "duration": 9,
    "start_time": "2022-11-13T14:34:40.429Z"
   },
   {
    "duration": 427,
    "start_time": "2022-11-13T14:35:08.009Z"
   },
   {
    "duration": 12,
    "start_time": "2022-11-13T14:35:20.464Z"
   },
   {
    "duration": 11,
    "start_time": "2022-11-13T14:36:08.133Z"
   },
   {
    "duration": 11,
    "start_time": "2022-11-13T14:36:15.346Z"
   },
   {
    "duration": 7,
    "start_time": "2022-11-13T14:36:51.801Z"
   },
   {
    "duration": 11,
    "start_time": "2022-11-13T14:37:08.956Z"
   },
   {
    "duration": 18,
    "start_time": "2022-11-13T14:37:48.557Z"
   },
   {
    "duration": 17,
    "start_time": "2022-11-13T14:38:14.053Z"
   },
   {
    "duration": 281,
    "start_time": "2022-11-13T14:38:47.353Z"
   },
   {
    "duration": 11,
    "start_time": "2022-11-13T14:39:13.359Z"
   },
   {
    "duration": 13,
    "start_time": "2022-11-13T14:39:26.521Z"
   },
   {
    "duration": 299,
    "start_time": "2022-11-13T14:40:01.402Z"
   },
   {
    "duration": 24,
    "start_time": "2022-11-13T14:40:36.915Z"
   },
   {
    "duration": 31,
    "start_time": "2022-11-13T14:40:59.663Z"
   },
   {
    "duration": 11,
    "start_time": "2022-11-13T14:41:31.803Z"
   },
   {
    "duration": 9,
    "start_time": "2022-11-13T14:41:41.934Z"
   },
   {
    "duration": 12,
    "start_time": "2022-11-13T14:41:51.265Z"
   },
   {
    "duration": 16,
    "start_time": "2022-11-13T14:42:18.273Z"
   },
   {
    "duration": 23,
    "start_time": "2022-11-13T14:42:52.963Z"
   },
   {
    "duration": 94,
    "start_time": "2022-11-13T14:43:45.961Z"
   },
   {
    "duration": 25,
    "start_time": "2022-11-13T14:43:58.681Z"
   },
   {
    "duration": 14,
    "start_time": "2022-11-13T14:44:08.099Z"
   },
   {
    "duration": 133,
    "start_time": "2022-11-13T14:44:20.441Z"
   },
   {
    "duration": 136,
    "start_time": "2022-11-13T14:44:36.240Z"
   },
   {
    "duration": 13,
    "start_time": "2022-11-13T14:44:45.526Z"
   },
   {
    "duration": 25,
    "start_time": "2022-11-13T14:51:29.543Z"
   },
   {
    "duration": 1165,
    "start_time": "2022-11-13T14:52:35.468Z"
   },
   {
    "duration": 22,
    "start_time": "2022-11-13T14:52:43.424Z"
   },
   {
    "duration": 16,
    "start_time": "2022-11-13T14:52:47.733Z"
   },
   {
    "duration": 25,
    "start_time": "2022-11-13T14:53:07.060Z"
   },
   {
    "duration": 23,
    "start_time": "2022-11-13T14:53:21.496Z"
   },
   {
    "duration": 23,
    "start_time": "2022-11-13T14:53:36.922Z"
   },
   {
    "duration": 21,
    "start_time": "2022-11-13T14:57:11.526Z"
   },
   {
    "duration": 18,
    "start_time": "2022-11-13T14:57:49.388Z"
   },
   {
    "duration": 12,
    "start_time": "2022-11-13T14:58:25.303Z"
   },
   {
    "duration": 15,
    "start_time": "2022-11-13T14:58:30.727Z"
   },
   {
    "duration": 21,
    "start_time": "2022-11-13T15:00:05.446Z"
   },
   {
    "duration": 21,
    "start_time": "2022-11-13T15:00:26.488Z"
   },
   {
    "duration": 30,
    "start_time": "2022-11-13T15:00:37.787Z"
   },
   {
    "duration": 20,
    "start_time": "2022-11-13T15:00:50.410Z"
   },
   {
    "duration": 14,
    "start_time": "2022-11-13T15:01:55.923Z"
   },
   {
    "duration": 19,
    "start_time": "2022-11-13T15:02:09.359Z"
   },
   {
    "duration": 15,
    "start_time": "2022-11-13T15:02:16.916Z"
   },
   {
    "duration": 10,
    "start_time": "2022-11-13T15:03:45.045Z"
   },
   {
    "duration": 9,
    "start_time": "2022-11-13T15:03:56.668Z"
   },
   {
    "duration": 14,
    "start_time": "2022-11-13T15:04:00.908Z"
   },
   {
    "duration": 13,
    "start_time": "2022-11-13T15:06:24.641Z"
   },
   {
    "duration": 14,
    "start_time": "2022-11-13T15:09:21.103Z"
   },
   {
    "duration": 19,
    "start_time": "2022-11-13T15:10:11.801Z"
   },
   {
    "duration": 22,
    "start_time": "2022-11-13T15:11:09.827Z"
   },
   {
    "duration": 24,
    "start_time": "2022-11-13T15:11:46.107Z"
   },
   {
    "duration": 22,
    "start_time": "2022-11-13T15:11:59.391Z"
   },
   {
    "duration": 22,
    "start_time": "2022-11-13T15:12:49.546Z"
   },
   {
    "duration": 23,
    "start_time": "2022-11-13T15:14:10.931Z"
   },
   {
    "duration": 20,
    "start_time": "2022-11-13T15:14:20.960Z"
   },
   {
    "duration": 24,
    "start_time": "2022-11-13T15:14:35.201Z"
   },
   {
    "duration": 72,
    "start_time": "2022-11-13T15:20:27.633Z"
   },
   {
    "duration": 24,
    "start_time": "2022-11-13T15:20:38.059Z"
   },
   {
    "duration": 21,
    "start_time": "2022-11-13T15:21:14.469Z"
   },
   {
    "duration": 21,
    "start_time": "2022-11-13T15:21:35.689Z"
   },
   {
    "duration": 22,
    "start_time": "2022-11-13T15:21:44.290Z"
   },
   {
    "duration": 17,
    "start_time": "2022-11-13T15:22:17.022Z"
   },
   {
    "duration": 28,
    "start_time": "2022-11-13T15:24:20.985Z"
   },
   {
    "duration": 29,
    "start_time": "2022-11-13T15:24:39.470Z"
   },
   {
    "duration": 22,
    "start_time": "2022-11-13T15:26:07.492Z"
   },
   {
    "duration": 26,
    "start_time": "2022-11-13T15:27:16.488Z"
   },
   {
    "duration": 20,
    "start_time": "2022-11-13T15:37:28.459Z"
   },
   {
    "duration": 22,
    "start_time": "2022-11-13T15:37:38.060Z"
   },
   {
    "duration": 51,
    "start_time": "2022-11-13T15:38:33.839Z"
   },
   {
    "duration": 43,
    "start_time": "2022-11-13T15:38:47.002Z"
   },
   {
    "duration": 21,
    "start_time": "2022-11-13T15:39:14.336Z"
   },
   {
    "duration": 17,
    "start_time": "2022-11-13T15:43:11.419Z"
   },
   {
    "duration": 16,
    "start_time": "2022-11-13T15:43:19.294Z"
   },
   {
    "duration": 11,
    "start_time": "2022-11-13T15:43:45.386Z"
   },
   {
    "duration": 22,
    "start_time": "2022-11-13T15:46:39.120Z"
   },
   {
    "duration": 31,
    "start_time": "2022-11-13T15:46:45.093Z"
   },
   {
    "duration": 100,
    "start_time": "2022-11-13T15:46:55.357Z"
   },
   {
    "duration": 12,
    "start_time": "2022-11-13T15:47:02.058Z"
   },
   {
    "duration": 43,
    "start_time": "2022-11-13T15:47:06.582Z"
   },
   {
    "duration": 18,
    "start_time": "2022-11-13T15:47:28.549Z"
   },
   {
    "duration": 13,
    "start_time": "2022-11-13T15:47:39.477Z"
   },
   {
    "duration": 14,
    "start_time": "2022-11-13T15:47:58.386Z"
   },
   {
    "duration": 494,
    "start_time": "2022-11-13T15:48:10.457Z"
   },
   {
    "duration": 15,
    "start_time": "2022-11-13T15:48:10.953Z"
   },
   {
    "duration": 2413,
    "start_time": "2022-11-13T15:48:10.970Z"
   },
   {
    "duration": 17,
    "start_time": "2022-11-13T15:48:13.386Z"
   },
   {
    "duration": 2,
    "start_time": "2022-11-13T15:48:13.405Z"
   },
   {
    "duration": 16,
    "start_time": "2022-11-13T15:48:13.409Z"
   },
   {
    "duration": 8,
    "start_time": "2022-11-13T15:48:13.428Z"
   },
   {
    "duration": 15,
    "start_time": "2022-11-13T15:48:13.438Z"
   },
   {
    "duration": 19,
    "start_time": "2022-11-13T15:48:13.455Z"
   },
   {
    "duration": 9,
    "start_time": "2022-11-13T15:48:13.477Z"
   },
   {
    "duration": 50,
    "start_time": "2022-11-13T15:48:13.488Z"
   },
   {
    "duration": 29,
    "start_time": "2022-11-13T15:48:13.540Z"
   },
   {
    "duration": 270,
    "start_time": "2022-11-13T15:48:13.571Z"
   },
   {
    "duration": 11,
    "start_time": "2022-11-13T15:48:13.843Z"
   },
   {
    "duration": 151,
    "start_time": "2022-11-13T15:48:13.856Z"
   },
   {
    "duration": 144,
    "start_time": "2022-11-13T15:48:14.008Z"
   },
   {
    "duration": 17,
    "start_time": "2022-11-13T15:48:14.154Z"
   },
   {
    "duration": 25,
    "start_time": "2022-11-13T15:48:14.174Z"
   },
   {
    "duration": 51,
    "start_time": "2022-11-13T15:48:14.201Z"
   },
   {
    "duration": 34289,
    "start_time": "2022-11-13T15:48:14.255Z"
   },
   {
    "duration": 17,
    "start_time": "2022-11-13T15:48:48.547Z"
   },
   {
    "duration": 5,
    "start_time": "2022-11-13T15:48:48.566Z"
   },
   {
    "duration": 10,
    "start_time": "2022-11-13T15:48:48.573Z"
   },
   {
    "duration": 39,
    "start_time": "2022-11-13T15:48:48.585Z"
   },
   {
    "duration": 8,
    "start_time": "2022-11-13T15:48:48.626Z"
   },
   {
    "duration": 203,
    "start_time": "2022-11-13T15:48:48.636Z"
   },
   {
    "duration": 11,
    "start_time": "2022-11-13T15:48:48.841Z"
   },
   {
    "duration": 184,
    "start_time": "2022-11-13T15:48:48.856Z"
   },
   {
    "duration": 21,
    "start_time": "2022-11-13T15:48:49.042Z"
   },
   {
    "duration": 28,
    "start_time": "2022-11-13T15:48:49.065Z"
   },
   {
    "duration": 42,
    "start_time": "2022-11-13T15:48:49.095Z"
   },
   {
    "duration": 7739,
    "start_time": "2022-11-13T15:48:49.139Z"
   },
   {
    "duration": 1347,
    "start_time": "2022-11-13T15:48:56.879Z"
   },
   {
    "duration": 254,
    "start_time": "2022-11-13T15:48:58.228Z"
   },
   {
    "duration": 9,
    "start_time": "2022-11-13T15:48:58.484Z"
   },
   {
    "duration": 158,
    "start_time": "2022-11-13T15:48:58.495Z"
   },
   {
    "duration": 14,
    "start_time": "2022-11-13T15:48:58.656Z"
   },
   {
    "duration": 21,
    "start_time": "2022-11-13T15:48:58.672Z"
   },
   {
    "duration": 6170,
    "start_time": "2022-11-13T15:48:58.695Z"
   },
   {
    "duration": 163,
    "start_time": "2022-11-13T15:49:04.867Z"
   },
   {
    "duration": 14,
    "start_time": "2022-11-13T15:49:05.031Z"
   },
   {
    "duration": 21,
    "start_time": "2022-11-13T15:49:05.047Z"
   },
   {
    "duration": 10,
    "start_time": "2022-11-13T15:49:05.070Z"
   },
   {
    "duration": 39,
    "start_time": "2022-11-13T15:49:05.082Z"
   },
   {
    "duration": 13,
    "start_time": "2022-11-13T15:49:05.123Z"
   },
   {
    "duration": 51,
    "start_time": "2022-11-13T15:49:05.138Z"
   },
   {
    "duration": 166,
    "start_time": "2022-11-13T15:49:05.191Z"
   },
   {
    "duration": 25,
    "start_time": "2022-11-13T15:49:05.358Z"
   },
   {
    "duration": 16,
    "start_time": "2022-11-13T15:49:05.384Z"
   },
   {
    "duration": 23,
    "start_time": "2022-11-13T15:49:05.424Z"
   },
   {
    "duration": 44,
    "start_time": "2022-11-13T15:49:05.448Z"
   },
   {
    "duration": 12,
    "start_time": "2022-11-13T15:49:05.494Z"
   },
   {
    "duration": 304,
    "start_time": "2022-11-13T15:49:05.508Z"
   },
   {
    "duration": 10,
    "start_time": "2022-11-13T15:49:05.813Z"
   },
   {
    "duration": 174,
    "start_time": "2022-11-13T15:49:05.825Z"
   },
   {
    "duration": 9,
    "start_time": "2022-11-13T15:49:06.000Z"
   },
   {
    "duration": 148,
    "start_time": "2022-11-13T15:49:06.022Z"
   },
   {
    "duration": 9,
    "start_time": "2022-11-13T15:49:06.172Z"
   },
   {
    "duration": 160,
    "start_time": "2022-11-13T15:49:06.182Z"
   },
   {
    "duration": 9,
    "start_time": "2022-11-13T15:49:06.344Z"
   },
   {
    "duration": 253,
    "start_time": "2022-11-13T15:49:06.355Z"
   },
   {
    "duration": 19,
    "start_time": "2022-11-13T15:49:06.610Z"
   },
   {
    "duration": 3,
    "start_time": "2022-11-13T15:49:06.630Z"
   },
   {
    "duration": 27,
    "start_time": "2022-11-13T15:49:06.635Z"
   },
   {
    "duration": 174,
    "start_time": "2022-11-13T15:49:06.664Z"
   },
   {
    "duration": 9,
    "start_time": "2022-11-13T15:49:06.840Z"
   },
   {
    "duration": 150,
    "start_time": "2022-11-13T15:49:06.851Z"
   },
   {
    "duration": 24,
    "start_time": "2022-11-13T15:49:07.003Z"
   },
   {
    "duration": 9,
    "start_time": "2022-11-13T15:49:07.029Z"
   },
   {
    "duration": 167,
    "start_time": "2022-11-13T15:49:07.040Z"
   },
   {
    "duration": 15,
    "start_time": "2022-11-13T15:49:07.208Z"
   },
   {
    "duration": 156,
    "start_time": "2022-11-13T15:49:07.225Z"
   },
   {
    "duration": 11,
    "start_time": "2022-11-13T15:49:07.383Z"
   },
   {
    "duration": 169,
    "start_time": "2022-11-13T15:49:07.396Z"
   },
   {
    "duration": 7,
    "start_time": "2022-11-13T15:49:07.567Z"
   },
   {
    "duration": 17,
    "start_time": "2022-11-13T15:49:07.576Z"
   },
   {
    "duration": 160,
    "start_time": "2022-11-13T15:49:07.595Z"
   },
   {
    "duration": 149,
    "start_time": "2022-11-13T15:49:07.757Z"
   },
   {
    "duration": 181,
    "start_time": "2022-11-13T15:49:07.908Z"
   },
   {
    "duration": 145,
    "start_time": "2022-11-13T15:49:08.091Z"
   },
   {
    "duration": 163,
    "start_time": "2022-11-13T15:49:08.238Z"
   },
   {
    "duration": 16,
    "start_time": "2022-11-13T15:49:08.407Z"
   },
   {
    "duration": 24,
    "start_time": "2022-11-13T15:49:08.425Z"
   },
   {
    "duration": 933,
    "start_time": "2022-11-13T15:49:08.451Z"
   },
   {
    "duration": 57,
    "start_time": "2022-11-13T15:49:09.386Z"
   },
   {
    "duration": 24,
    "start_time": "2022-11-13T15:49:09.445Z"
   },
   {
    "duration": 23,
    "start_time": "2022-11-13T15:49:30.544Z"
   },
   {
    "duration": 24,
    "start_time": "2022-11-13T15:50:17.544Z"
   },
   {
    "duration": 18,
    "start_time": "2022-11-13T15:51:33.778Z"
   },
   {
    "duration": 23,
    "start_time": "2022-11-13T15:52:02.594Z"
   },
   {
    "duration": 24,
    "start_time": "2022-11-13T15:52:32.967Z"
   },
   {
    "duration": 24,
    "start_time": "2022-11-13T15:52:35.276Z"
   },
   {
    "duration": 25,
    "start_time": "2022-11-13T15:53:35.540Z"
   },
   {
    "duration": 49,
    "start_time": "2022-11-13T15:59:00.796Z"
   },
   {
    "duration": 403,
    "start_time": "2022-11-13T15:59:52.481Z"
   },
   {
    "duration": 45,
    "start_time": "2022-11-13T16:00:09.671Z"
   },
   {
    "duration": 20,
    "start_time": "2022-11-13T16:01:02.790Z"
   },
   {
    "duration": 28,
    "start_time": "2022-11-13T16:01:34.213Z"
   },
   {
    "duration": 69,
    "start_time": "2022-11-13T16:02:53.293Z"
   },
   {
    "duration": 23,
    "start_time": "2022-11-13T16:02:58.344Z"
   },
   {
    "duration": 23,
    "start_time": "2022-11-13T16:03:13.378Z"
   },
   {
    "duration": 82,
    "start_time": "2022-11-13T16:03:31.824Z"
   },
   {
    "duration": 149,
    "start_time": "2022-11-13T16:03:38.388Z"
   },
   {
    "duration": 24,
    "start_time": "2022-11-13T16:04:53.233Z"
   },
   {
    "duration": 156,
    "start_time": "2022-11-13T16:05:22.000Z"
   },
   {
    "duration": 179,
    "start_time": "2022-11-13T16:05:41.922Z"
   },
   {
    "duration": 162,
    "start_time": "2022-11-13T16:06:01.391Z"
   },
   {
    "duration": 164,
    "start_time": "2022-11-13T16:12:40.254Z"
   },
   {
    "duration": 27,
    "start_time": "2022-11-13T16:13:49.835Z"
   },
   {
    "duration": 26,
    "start_time": "2022-11-13T16:15:18.082Z"
   },
   {
    "duration": 32,
    "start_time": "2022-11-13T16:16:49.358Z"
   },
   {
    "duration": 398,
    "start_time": "2022-11-13T16:16:54.391Z"
   },
   {
    "duration": 27,
    "start_time": "2022-11-13T16:17:02.713Z"
   },
   {
    "duration": 332,
    "start_time": "2022-11-13T16:17:06.440Z"
   },
   {
    "duration": 309,
    "start_time": "2022-11-13T16:17:14.997Z"
   },
   {
    "duration": 451,
    "start_time": "2022-11-13T16:19:56.322Z"
   },
   {
    "duration": 325,
    "start_time": "2022-11-13T16:20:10.129Z"
   },
   {
    "duration": 360,
    "start_time": "2022-11-13T16:20:16.740Z"
   },
   {
    "duration": 326,
    "start_time": "2022-11-13T16:20:21.104Z"
   },
   {
    "duration": 144,
    "start_time": "2022-11-13T16:20:34.925Z"
   },
   {
    "duration": 368,
    "start_time": "2022-11-13T16:22:06.812Z"
   },
   {
    "duration": 3,
    "start_time": "2022-11-13T16:35:16.801Z"
   },
   {
    "duration": 323,
    "start_time": "2022-11-13T16:37:50.867Z"
   },
   {
    "duration": 586,
    "start_time": "2022-11-13T16:38:56.779Z"
   },
   {
    "duration": 20,
    "start_time": "2022-11-13T16:38:57.367Z"
   },
   {
    "duration": 2333,
    "start_time": "2022-11-13T16:38:57.389Z"
   },
   {
    "duration": 14,
    "start_time": "2022-11-13T16:38:59.725Z"
   },
   {
    "duration": 4,
    "start_time": "2022-11-13T16:38:59.741Z"
   },
   {
    "duration": 16,
    "start_time": "2022-11-13T16:38:59.747Z"
   },
   {
    "duration": 9,
    "start_time": "2022-11-13T16:38:59.764Z"
   },
   {
    "duration": 48,
    "start_time": "2022-11-13T16:38:59.775Z"
   },
   {
    "duration": 22,
    "start_time": "2022-11-13T16:38:59.825Z"
   },
   {
    "duration": 12,
    "start_time": "2022-11-13T16:38:59.851Z"
   },
   {
    "duration": 33,
    "start_time": "2022-11-13T16:38:59.865Z"
   },
   {
    "duration": 32,
    "start_time": "2022-11-13T16:38:59.923Z"
   },
   {
    "duration": 256,
    "start_time": "2022-11-13T16:38:59.957Z"
   },
   {
    "duration": 19,
    "start_time": "2022-11-13T16:39:00.222Z"
   },
   {
    "duration": 299,
    "start_time": "2022-11-13T16:39:00.244Z"
   },
   {
    "duration": 139,
    "start_time": "2022-11-13T16:39:00.545Z"
   },
   {
    "duration": 14,
    "start_time": "2022-11-13T16:39:00.686Z"
   },
   {
    "duration": 35,
    "start_time": "2022-11-13T16:39:00.702Z"
   },
   {
    "duration": 31,
    "start_time": "2022-11-13T16:39:00.739Z"
   },
   {
    "duration": 34839,
    "start_time": "2022-11-13T16:39:00.772Z"
   },
   {
    "duration": 27,
    "start_time": "2022-11-13T16:39:35.612Z"
   },
   {
    "duration": 21,
    "start_time": "2022-11-13T16:39:35.642Z"
   },
   {
    "duration": 31,
    "start_time": "2022-11-13T16:39:35.665Z"
   },
   {
    "duration": 23,
    "start_time": "2022-11-13T16:39:35.699Z"
   },
   {
    "duration": 16,
    "start_time": "2022-11-13T16:39:35.724Z"
   },
   {
    "duration": 265,
    "start_time": "2022-11-13T16:39:35.743Z"
   },
   {
    "duration": 21,
    "start_time": "2022-11-13T16:39:36.010Z"
   },
   {
    "duration": 160,
    "start_time": "2022-11-13T16:39:36.036Z"
   },
   {
    "duration": 27,
    "start_time": "2022-11-13T16:39:36.198Z"
   },
   {
    "duration": 30,
    "start_time": "2022-11-13T16:39:36.227Z"
   },
   {
    "duration": 14,
    "start_time": "2022-11-13T16:39:36.259Z"
   },
   {
    "duration": 7806,
    "start_time": "2022-11-13T16:39:36.275Z"
   },
   {
    "duration": 1371,
    "start_time": "2022-11-13T16:39:44.084Z"
   },
   {
    "duration": 324,
    "start_time": "2022-11-13T16:39:45.457Z"
   },
   {
    "duration": 10,
    "start_time": "2022-11-13T16:39:45.783Z"
   },
   {
    "duration": 181,
    "start_time": "2022-11-13T16:39:45.795Z"
   },
   {
    "duration": 16,
    "start_time": "2022-11-13T16:39:45.978Z"
   },
   {
    "duration": 53,
    "start_time": "2022-11-13T16:39:45.997Z"
   },
   {
    "duration": 6022,
    "start_time": "2022-11-13T16:39:46.052Z"
   },
   {
    "duration": 160,
    "start_time": "2022-11-13T16:39:52.076Z"
   },
   {
    "duration": 16,
    "start_time": "2022-11-13T16:39:52.238Z"
   },
   {
    "duration": 30,
    "start_time": "2022-11-13T16:39:52.256Z"
   },
   {
    "duration": 18,
    "start_time": "2022-11-13T16:39:52.288Z"
   },
   {
    "duration": 31,
    "start_time": "2022-11-13T16:39:52.308Z"
   },
   {
    "duration": 19,
    "start_time": "2022-11-13T16:39:52.341Z"
   },
   {
    "duration": 30,
    "start_time": "2022-11-13T16:39:52.361Z"
   },
   {
    "duration": 167,
    "start_time": "2022-11-13T16:39:52.393Z"
   },
   {
    "duration": 18,
    "start_time": "2022-11-13T16:39:52.562Z"
   },
   {
    "duration": 50,
    "start_time": "2022-11-13T16:39:52.582Z"
   },
   {
    "duration": 20,
    "start_time": "2022-11-13T16:39:52.634Z"
   },
   {
    "duration": 19,
    "start_time": "2022-11-13T16:39:52.657Z"
   },
   {
    "duration": 302,
    "start_time": "2022-11-13T16:39:52.678Z"
   },
   {
    "duration": 8,
    "start_time": "2022-11-13T16:39:52.982Z"
   },
   {
    "duration": 168,
    "start_time": "2022-11-13T16:39:52.992Z"
   },
   {
    "duration": 10,
    "start_time": "2022-11-13T16:39:53.162Z"
   },
   {
    "duration": 210,
    "start_time": "2022-11-13T16:39:53.174Z"
   },
   {
    "duration": 10,
    "start_time": "2022-11-13T16:39:53.386Z"
   },
   {
    "duration": 153,
    "start_time": "2022-11-13T16:39:53.398Z"
   },
   {
    "duration": 11,
    "start_time": "2022-11-13T16:39:53.552Z"
   },
   {
    "duration": 242,
    "start_time": "2022-11-13T16:39:53.565Z"
   },
   {
    "duration": 22,
    "start_time": "2022-11-13T16:39:53.809Z"
   },
   {
    "duration": 19,
    "start_time": "2022-11-13T16:39:53.833Z"
   },
   {
    "duration": 27,
    "start_time": "2022-11-13T16:39:53.855Z"
   },
   {
    "duration": 872,
    "start_time": "2022-11-13T16:39:53.884Z"
   },
   {
    "duration": 64,
    "start_time": "2022-11-13T16:39:54.758Z"
   },
   {
    "duration": 148,
    "start_time": "2022-11-13T16:39:54.823Z"
   },
   {
    "duration": 10,
    "start_time": "2022-11-13T16:39:54.973Z"
   },
   {
    "duration": 25,
    "start_time": "2022-11-13T16:39:54.985Z"
   },
   {
    "duration": 205,
    "start_time": "2022-11-13T16:39:55.012Z"
   },
   {
    "duration": 10,
    "start_time": "2022-11-13T16:39:55.221Z"
   },
   {
    "duration": 189,
    "start_time": "2022-11-13T16:39:55.233Z"
   },
   {
    "duration": 13,
    "start_time": "2022-11-13T16:39:55.424Z"
   },
   {
    "duration": 165,
    "start_time": "2022-11-13T16:39:55.439Z"
   },
   {
    "duration": 16,
    "start_time": "2022-11-13T16:39:55.607Z"
   },
   {
    "duration": 10,
    "start_time": "2022-11-13T16:39:55.625Z"
   },
   {
    "duration": 177,
    "start_time": "2022-11-13T16:39:55.637Z"
   },
   {
    "duration": 173,
    "start_time": "2022-11-13T16:39:55.822Z"
   },
   {
    "duration": 180,
    "start_time": "2022-11-13T16:39:55.997Z"
   },
   {
    "duration": 145,
    "start_time": "2022-11-13T16:39:56.179Z"
   },
   {
    "duration": 183,
    "start_time": "2022-11-13T16:39:56.326Z"
   },
   {
    "duration": 14,
    "start_time": "2022-11-13T16:39:56.511Z"
   },
   {
    "duration": 37,
    "start_time": "2022-11-13T16:39:56.533Z"
   },
   {
    "duration": 989,
    "start_time": "2022-11-13T16:39:56.572Z"
   },
   {
    "duration": 25,
    "start_time": "2022-11-13T16:39:57.563Z"
   },
   {
    "duration": 44,
    "start_time": "2022-11-13T16:39:57.589Z"
   },
   {
    "duration": 359,
    "start_time": "2022-11-13T16:39:57.635Z"
   },
   {
    "duration": 167,
    "start_time": "2022-11-13T16:40:27.756Z"
   },
   {
    "duration": 158,
    "start_time": "2022-11-13T16:40:39.611Z"
   },
   {
    "duration": 282,
    "start_time": "2022-11-13T16:42:35.567Z"
   },
   {
    "duration": 225,
    "start_time": "2022-11-13T16:43:13.742Z"
   },
   {
    "duration": 313,
    "start_time": "2022-11-13T16:43:18.810Z"
   },
   {
    "duration": 157,
    "start_time": "2022-11-13T16:46:21.671Z"
   },
   {
    "duration": 141,
    "start_time": "2022-11-13T16:46:25.201Z"
   },
   {
    "duration": 13,
    "start_time": "2022-11-13T18:23:13.074Z"
   },
   {
    "duration": 16,
    "start_time": "2022-11-13T18:23:20.832Z"
   },
   {
    "duration": 13,
    "start_time": "2022-11-13T18:23:26.281Z"
   },
   {
    "duration": 12,
    "start_time": "2022-11-13T18:23:35.540Z"
   },
   {
    "duration": 286,
    "start_time": "2022-11-13T18:30:17.892Z"
   },
   {
    "duration": 12,
    "start_time": "2022-11-13T18:30:44.837Z"
   },
   {
    "duration": 17,
    "start_time": "2022-11-13T18:31:00.435Z"
   },
   {
    "duration": 12,
    "start_time": "2022-11-13T18:31:07.131Z"
   },
   {
    "duration": 19,
    "start_time": "2022-11-13T18:31:25.178Z"
   },
   {
    "duration": 12,
    "start_time": "2022-11-13T18:31:40.694Z"
   },
   {
    "duration": 17,
    "start_time": "2022-11-13T18:31:44.905Z"
   },
   {
    "duration": 19,
    "start_time": "2022-11-13T18:31:51.915Z"
   },
   {
    "duration": 3719,
    "start_time": "2022-11-13T18:32:59.622Z"
   },
   {
    "duration": 3591,
    "start_time": "2022-11-13T18:33:10.320Z"
   },
   {
    "duration": 3655,
    "start_time": "2022-11-13T18:33:18.730Z"
   },
   {
    "duration": 1070,
    "start_time": "2022-11-13T18:34:05.777Z"
   },
   {
    "duration": 3578,
    "start_time": "2022-11-13T18:34:42.559Z"
   },
   {
    "duration": 3705,
    "start_time": "2022-11-13T18:34:55.959Z"
   },
   {
    "duration": 7,
    "start_time": "2022-11-13T18:35:08.196Z"
   },
   {
    "duration": 127,
    "start_time": "2022-11-13T18:36:09.957Z"
   },
   {
    "duration": 365,
    "start_time": "2022-11-13T18:41:14.033Z"
   },
   {
    "duration": 188,
    "start_time": "2022-11-13T18:41:19.064Z"
   },
   {
    "duration": 156,
    "start_time": "2022-11-13T18:41:26.185Z"
   },
   {
    "duration": 161,
    "start_time": "2022-11-13T18:41:29.573Z"
   },
   {
    "duration": 23,
    "start_time": "2022-11-13T18:43:30.921Z"
   },
   {
    "duration": 21,
    "start_time": "2022-11-13T18:43:35.030Z"
   },
   {
    "duration": 39,
    "start_time": "2022-11-13T18:45:21.577Z"
   },
   {
    "duration": 26,
    "start_time": "2022-11-13T18:45:29.162Z"
   },
   {
    "duration": 31,
    "start_time": "2022-11-13T18:46:00.112Z"
   },
   {
    "duration": 27,
    "start_time": "2022-11-13T18:46:34.392Z"
   },
   {
    "duration": 30,
    "start_time": "2022-11-13T18:46:57.347Z"
   },
   {
    "duration": 330,
    "start_time": "2022-11-13T18:47:33.105Z"
   },
   {
    "duration": 1023,
    "start_time": "2022-11-13T18:51:31.025Z"
   },
   {
    "duration": 160,
    "start_time": "2022-11-13T18:52:04.360Z"
   },
   {
    "duration": 4,
    "start_time": "2022-11-13T18:53:15.276Z"
   },
   {
    "duration": 975,
    "start_time": "2022-11-13T18:53:19.285Z"
   },
   {
    "duration": 1198,
    "start_time": "2022-11-13T18:56:20.957Z"
   },
   {
    "duration": 975,
    "start_time": "2022-11-13T18:56:35.524Z"
   },
   {
    "duration": 142,
    "start_time": "2022-11-13T19:00:45.659Z"
   },
   {
    "duration": 128,
    "start_time": "2022-11-13T19:00:49.595Z"
   },
   {
    "duration": 7,
    "start_time": "2022-11-13T19:00:57.136Z"
   },
   {
    "duration": 11,
    "start_time": "2022-11-13T19:01:45.965Z"
   },
   {
    "duration": 125,
    "start_time": "2022-11-13T19:02:08.342Z"
   },
   {
    "duration": 69,
    "start_time": "2022-11-13T19:02:24.644Z"
   },
   {
    "duration": 152,
    "start_time": "2022-11-13T19:02:28.910Z"
   },
   {
    "duration": 143,
    "start_time": "2022-11-13T19:02:33.666Z"
   },
   {
    "duration": 136,
    "start_time": "2022-11-13T19:02:36.108Z"
   },
   {
    "duration": 151,
    "start_time": "2022-11-13T19:02:39.717Z"
   },
   {
    "duration": 12,
    "start_time": "2022-11-13T19:05:11.771Z"
   },
   {
    "duration": 123,
    "start_time": "2022-11-13T19:05:34.343Z"
   },
   {
    "duration": 8,
    "start_time": "2022-11-13T19:05:40.239Z"
   },
   {
    "duration": 153,
    "start_time": "2022-11-13T19:06:09.149Z"
   },
   {
    "duration": 13,
    "start_time": "2022-11-13T19:12:51.289Z"
   },
   {
    "duration": 19,
    "start_time": "2022-11-13T19:12:56.473Z"
   },
   {
    "duration": 577,
    "start_time": "2022-11-13T19:13:15.800Z"
   },
   {
    "duration": 14,
    "start_time": "2022-11-13T19:13:16.378Z"
   },
   {
    "duration": 2162,
    "start_time": "2022-11-13T19:13:16.394Z"
   },
   {
    "duration": 11,
    "start_time": "2022-11-13T19:13:18.558Z"
   },
   {
    "duration": 14,
    "start_time": "2022-11-13T19:13:18.571Z"
   },
   {
    "duration": 13,
    "start_time": "2022-11-13T19:13:18.587Z"
   },
   {
    "duration": 7,
    "start_time": "2022-11-13T19:13:18.601Z"
   },
   {
    "duration": 16,
    "start_time": "2022-11-13T19:13:18.610Z"
   },
   {
    "duration": 18,
    "start_time": "2022-11-13T19:13:18.627Z"
   },
   {
    "duration": 9,
    "start_time": "2022-11-13T19:13:18.647Z"
   },
   {
    "duration": 17,
    "start_time": "2022-11-13T19:13:18.657Z"
   },
   {
    "duration": 62,
    "start_time": "2022-11-13T19:13:18.676Z"
   },
   {
    "duration": 218,
    "start_time": "2022-11-13T19:13:18.740Z"
   },
   {
    "duration": 8,
    "start_time": "2022-11-13T19:13:18.960Z"
   },
   {
    "duration": 152,
    "start_time": "2022-11-13T19:13:18.970Z"
   },
   {
    "duration": 147,
    "start_time": "2022-11-13T19:13:19.124Z"
   },
   {
    "duration": 13,
    "start_time": "2022-11-13T19:13:19.273Z"
   },
   {
    "duration": 19,
    "start_time": "2022-11-13T19:13:19.288Z"
   },
   {
    "duration": 11,
    "start_time": "2022-11-13T19:13:19.323Z"
   },
   {
    "duration": 32098,
    "start_time": "2022-11-13T19:13:19.336Z"
   },
   {
    "duration": 20,
    "start_time": "2022-11-13T19:13:51.436Z"
   },
   {
    "duration": 13,
    "start_time": "2022-11-13T19:13:51.457Z"
   },
   {
    "duration": 4043,
    "start_time": "2022-11-13T19:13:51.472Z"
   },
   {
    "duration": 9,
    "start_time": "2022-11-13T19:13:55.517Z"
   },
   {
    "duration": 13,
    "start_time": "2022-11-13T19:13:55.527Z"
   },
   {
    "duration": 13,
    "start_time": "2022-11-13T19:13:55.542Z"
   },
   {
    "duration": 14,
    "start_time": "2022-11-13T19:13:55.556Z"
   },
   {
    "duration": 166,
    "start_time": "2022-11-13T19:13:55.575Z"
   },
   {
    "duration": 10,
    "start_time": "2022-11-13T19:13:55.743Z"
   },
   {
    "duration": 175,
    "start_time": "2022-11-13T19:13:55.755Z"
   },
   {
    "duration": 17,
    "start_time": "2022-11-13T19:13:55.932Z"
   },
   {
    "duration": 26,
    "start_time": "2022-11-13T19:13:55.950Z"
   },
   {
    "duration": 13,
    "start_time": "2022-11-13T19:13:55.977Z"
   },
   {
    "duration": 6948,
    "start_time": "2022-11-13T19:13:55.992Z"
   },
   {
    "duration": 1193,
    "start_time": "2022-11-13T19:14:02.942Z"
   },
   {
    "duration": 268,
    "start_time": "2022-11-13T19:14:04.137Z"
   },
   {
    "duration": 20,
    "start_time": "2022-11-13T19:14:04.407Z"
   },
   {
    "duration": 137,
    "start_time": "2022-11-13T19:14:04.429Z"
   },
   {
    "duration": 13,
    "start_time": "2022-11-13T19:14:04.568Z"
   },
   {
    "duration": 16,
    "start_time": "2022-11-13T19:14:04.582Z"
   },
   {
    "duration": 5761,
    "start_time": "2022-11-13T19:14:04.599Z"
   },
   {
    "duration": 159,
    "start_time": "2022-11-13T19:14:10.363Z"
   },
   {
    "duration": 16,
    "start_time": "2022-11-13T19:14:10.523Z"
   },
   {
    "duration": 11,
    "start_time": "2022-11-13T19:14:10.541Z"
   },
   {
    "duration": 17,
    "start_time": "2022-11-13T19:14:10.554Z"
   },
   {
    "duration": 29,
    "start_time": "2022-11-13T19:14:10.573Z"
   },
   {
    "duration": 26,
    "start_time": "2022-11-13T19:14:10.604Z"
   },
   {
    "duration": 32,
    "start_time": "2022-11-13T19:14:10.632Z"
   },
   {
    "duration": 213,
    "start_time": "2022-11-13T19:14:10.666Z"
   },
   {
    "duration": 9,
    "start_time": "2022-11-13T19:14:10.880Z"
   },
   {
    "duration": 17,
    "start_time": "2022-11-13T19:14:10.891Z"
   },
   {
    "duration": 28,
    "start_time": "2022-11-13T19:14:10.909Z"
   },
   {
    "duration": 13,
    "start_time": "2022-11-13T19:14:10.939Z"
   },
   {
    "duration": 311,
    "start_time": "2022-11-13T19:14:10.955Z"
   },
   {
    "duration": 9,
    "start_time": "2022-11-13T19:14:11.268Z"
   },
   {
    "duration": 154,
    "start_time": "2022-11-13T19:14:11.278Z"
   },
   {
    "duration": 9,
    "start_time": "2022-11-13T19:14:11.434Z"
   },
   {
    "duration": 168,
    "start_time": "2022-11-13T19:14:11.445Z"
   },
   {
    "duration": 16,
    "start_time": "2022-11-13T19:14:11.615Z"
   },
   {
    "duration": 157,
    "start_time": "2022-11-13T19:14:11.633Z"
   },
   {
    "duration": 10,
    "start_time": "2022-11-13T19:14:11.792Z"
   },
   {
    "duration": 252,
    "start_time": "2022-11-13T19:14:11.804Z"
   },
   {
    "duration": 10,
    "start_time": "2022-11-13T19:14:12.058Z"
   },
   {
    "duration": 5,
    "start_time": "2022-11-13T19:14:12.070Z"
   },
   {
    "duration": 19,
    "start_time": "2022-11-13T19:14:12.076Z"
   },
   {
    "duration": 192,
    "start_time": "2022-11-13T19:14:12.096Z"
   },
   {
    "duration": 10,
    "start_time": "2022-11-13T19:14:12.290Z"
   },
   {
    "duration": 151,
    "start_time": "2022-11-13T19:14:12.302Z"
   },
   {
    "duration": 10,
    "start_time": "2022-11-13T19:14:12.455Z"
   },
   {
    "duration": 7,
    "start_time": "2022-11-13T19:14:12.466Z"
   },
   {
    "duration": 170,
    "start_time": "2022-11-13T19:14:12.475Z"
   },
   {
    "duration": 11,
    "start_time": "2022-11-13T19:14:12.647Z"
   },
   {
    "duration": 164,
    "start_time": "2022-11-13T19:14:12.660Z"
   },
   {
    "duration": 10,
    "start_time": "2022-11-13T19:14:12.826Z"
   },
   {
    "duration": 9,
    "start_time": "2022-11-13T19:14:12.837Z"
   },
   {
    "duration": 151,
    "start_time": "2022-11-13T19:14:12.848Z"
   },
   {
    "duration": 8,
    "start_time": "2022-11-13T19:14:13.001Z"
   },
   {
    "duration": 12,
    "start_time": "2022-11-13T19:14:13.021Z"
   },
   {
    "duration": 183,
    "start_time": "2022-11-13T19:14:13.035Z"
   },
   {
    "duration": 155,
    "start_time": "2022-11-13T19:14:13.222Z"
   },
   {
    "duration": 161,
    "start_time": "2022-11-13T19:14:13.379Z"
   },
   {
    "duration": 158,
    "start_time": "2022-11-13T19:14:13.545Z"
   },
   {
    "duration": 171,
    "start_time": "2022-11-13T19:14:13.705Z"
   },
   {
    "duration": 8,
    "start_time": "2022-11-13T19:14:13.877Z"
   },
   {
    "duration": 1108,
    "start_time": "2022-11-13T19:14:13.887Z"
   },
   {
    "duration": 25,
    "start_time": "2022-11-13T19:14:14.997Z"
   },
   {
    "duration": 738,
    "start_time": "2022-11-13T19:14:15.023Z"
   },
   {
    "duration": 182,
    "start_time": "2022-11-13T19:14:15.762Z"
   },
   {
    "duration": 24,
    "start_time": "2022-11-13T19:14:15.946Z"
   },
   {
    "duration": 22,
    "start_time": "2022-11-13T19:14:15.971Z"
   },
   {
    "duration": 48,
    "start_time": "2022-11-13T19:14:15.996Z"
   },
   {
    "duration": 314,
    "start_time": "2022-11-13T19:14:16.045Z"
   },
   {
    "duration": 19,
    "start_time": "2022-11-13T19:14:45.191Z"
   },
   {
    "duration": 13,
    "start_time": "2022-11-13T19:14:55.692Z"
   },
   {
    "duration": 17,
    "start_time": "2022-11-13T19:15:30.574Z"
   },
   {
    "duration": 13,
    "start_time": "2022-11-13T19:15:43.118Z"
   },
   {
    "duration": 18,
    "start_time": "2022-11-13T19:15:58.712Z"
   },
   {
    "duration": 19,
    "start_time": "2022-11-13T19:16:04.934Z"
   },
   {
    "duration": 16,
    "start_time": "2022-11-13T19:16:20.631Z"
   },
   {
    "duration": 149,
    "start_time": "2022-11-13T19:17:34.763Z"
   },
   {
    "duration": 58,
    "start_time": "2022-11-13T19:20:25.851Z"
   },
   {
    "duration": 408,
    "start_time": "2022-11-13T19:20:43.766Z"
   },
   {
    "duration": 94,
    "start_time": "2022-11-13T19:21:18.036Z"
   },
   {
    "duration": 275,
    "start_time": "2022-11-13T19:21:57.003Z"
   },
   {
    "duration": 391,
    "start_time": "2022-11-13T19:22:01.728Z"
   },
   {
    "duration": 4,
    "start_time": "2022-11-13T19:24:02.465Z"
   },
   {
    "duration": 9,
    "start_time": "2022-11-13T19:24:05.747Z"
   },
   {
    "duration": 396,
    "start_time": "2022-11-13T19:24:33.345Z"
   },
   {
    "duration": 51,
    "start_time": "2022-11-13T19:24:37.714Z"
   },
   {
    "duration": 180,
    "start_time": "2022-11-13T19:26:39.620Z"
   },
   {
    "duration": 144,
    "start_time": "2022-11-13T19:28:37.159Z"
   },
   {
    "duration": 52,
    "start_time": "2022-11-13T19:30:02.790Z"
   },
   {
    "duration": 9,
    "start_time": "2022-11-13T19:31:07.882Z"
   },
   {
    "duration": 371,
    "start_time": "2022-11-13T19:31:16.135Z"
   },
   {
    "duration": 4638,
    "start_time": "2022-11-13T19:33:55.970Z"
   },
   {
    "duration": 1096,
    "start_time": "2022-11-13T19:34:53.031Z"
   },
   {
    "duration": 4259,
    "start_time": "2022-11-13T19:35:53.231Z"
   },
   {
    "duration": 24,
    "start_time": "2022-11-13T19:36:18.410Z"
   },
   {
    "duration": 4346,
    "start_time": "2022-11-13T19:36:28.112Z"
   },
   {
    "duration": 18,
    "start_time": "2022-11-13T19:36:46.179Z"
   },
   {
    "duration": 19,
    "start_time": "2022-11-13T19:36:54.862Z"
   },
   {
    "duration": 19,
    "start_time": "2022-11-13T19:37:06.468Z"
   },
   {
    "duration": 15,
    "start_time": "2022-11-13T19:37:16.208Z"
   },
   {
    "duration": 29,
    "start_time": "2022-11-13T19:46:16.556Z"
   },
   {
    "duration": 5,
    "start_time": "2022-11-13T19:47:12.815Z"
   },
   {
    "duration": 5,
    "start_time": "2022-11-13T19:47:31.364Z"
   },
   {
    "duration": 6,
    "start_time": "2022-11-13T19:49:11.142Z"
   },
   {
    "duration": 4,
    "start_time": "2022-11-13T19:49:35.546Z"
   },
   {
    "duration": 4,
    "start_time": "2022-11-13T19:49:45.476Z"
   },
   {
    "duration": 4,
    "start_time": "2022-11-13T19:50:45.843Z"
   },
   {
    "duration": 4,
    "start_time": "2022-11-13T19:51:19.576Z"
   },
   {
    "duration": 4,
    "start_time": "2022-11-13T19:51:29.280Z"
   },
   {
    "duration": 4,
    "start_time": "2022-11-13T19:51:45.673Z"
   },
   {
    "duration": 4,
    "start_time": "2022-11-13T19:51:58.879Z"
   },
   {
    "duration": 750,
    "start_time": "2022-11-14T18:38:24.850Z"
   },
   {
    "duration": 14,
    "start_time": "2022-11-14T18:38:25.602Z"
   },
   {
    "duration": 2331,
    "start_time": "2022-11-14T18:38:25.618Z"
   },
   {
    "duration": 13,
    "start_time": "2022-11-14T18:38:27.951Z"
   },
   {
    "duration": 3,
    "start_time": "2022-11-14T18:38:27.966Z"
   },
   {
    "duration": 14,
    "start_time": "2022-11-14T18:38:27.971Z"
   },
   {
    "duration": 15,
    "start_time": "2022-11-14T18:38:27.987Z"
   },
   {
    "duration": 33,
    "start_time": "2022-11-14T18:38:28.004Z"
   },
   {
    "duration": 19,
    "start_time": "2022-11-14T18:38:28.039Z"
   },
   {
    "duration": 8,
    "start_time": "2022-11-14T18:38:28.061Z"
   },
   {
    "duration": 18,
    "start_time": "2022-11-14T18:38:28.071Z"
   },
   {
    "duration": 53,
    "start_time": "2022-11-14T18:38:28.090Z"
   },
   {
    "duration": 239,
    "start_time": "2022-11-14T18:38:28.145Z"
   },
   {
    "duration": 9,
    "start_time": "2022-11-14T18:38:28.386Z"
   },
   {
    "duration": 129,
    "start_time": "2022-11-14T18:38:28.397Z"
   },
   {
    "duration": 124,
    "start_time": "2022-11-14T18:38:28.535Z"
   },
   {
    "duration": 13,
    "start_time": "2022-11-14T18:38:28.661Z"
   },
   {
    "duration": 23,
    "start_time": "2022-11-14T18:38:28.675Z"
   },
   {
    "duration": 15,
    "start_time": "2022-11-14T18:38:28.700Z"
   },
   {
    "duration": 31413,
    "start_time": "2022-11-14T18:38:28.716Z"
   },
   {
    "duration": 17,
    "start_time": "2022-11-14T18:39:00.131Z"
   },
   {
    "duration": 50,
    "start_time": "2022-11-14T18:39:00.149Z"
   },
   {
    "duration": 4066,
    "start_time": "2022-11-14T18:39:00.200Z"
   },
   {
    "duration": 5,
    "start_time": "2022-11-14T18:39:04.268Z"
   },
   {
    "duration": 17,
    "start_time": "2022-11-14T18:39:04.275Z"
   },
   {
    "duration": 21,
    "start_time": "2022-11-14T18:39:04.294Z"
   },
   {
    "duration": 6,
    "start_time": "2022-11-14T18:39:04.316Z"
   },
   {
    "duration": 144,
    "start_time": "2022-11-14T18:39:04.326Z"
   },
   {
    "duration": 8,
    "start_time": "2022-11-14T18:39:04.472Z"
   },
   {
    "duration": 147,
    "start_time": "2022-11-14T18:39:04.482Z"
   },
   {
    "duration": 17,
    "start_time": "2022-11-14T18:39:04.634Z"
   },
   {
    "duration": 26,
    "start_time": "2022-11-14T18:39:04.653Z"
   },
   {
    "duration": 16,
    "start_time": "2022-11-14T18:39:04.680Z"
   },
   {
    "duration": 6945,
    "start_time": "2022-11-14T18:39:04.698Z"
   },
   {
    "duration": 1223,
    "start_time": "2022-11-14T18:39:11.645Z"
   },
   {
    "duration": 225,
    "start_time": "2022-11-14T18:39:12.869Z"
   },
   {
    "duration": 10,
    "start_time": "2022-11-14T18:39:13.096Z"
   },
   {
    "duration": 147,
    "start_time": "2022-11-14T18:39:13.107Z"
   },
   {
    "duration": 14,
    "start_time": "2022-11-14T18:39:13.256Z"
   },
   {
    "duration": 18,
    "start_time": "2022-11-14T18:39:13.272Z"
   },
   {
    "duration": 5772,
    "start_time": "2022-11-14T18:39:13.291Z"
   },
   {
    "duration": 162,
    "start_time": "2022-11-14T18:39:19.066Z"
   },
   {
    "duration": 18,
    "start_time": "2022-11-14T18:39:19.229Z"
   },
   {
    "duration": 9,
    "start_time": "2022-11-14T18:39:19.249Z"
   },
   {
    "duration": 24,
    "start_time": "2022-11-14T18:39:19.260Z"
   },
   {
    "duration": 16,
    "start_time": "2022-11-14T18:39:19.286Z"
   },
   {
    "duration": 13,
    "start_time": "2022-11-14T18:39:19.304Z"
   },
   {
    "duration": 13,
    "start_time": "2022-11-14T18:39:19.336Z"
   },
   {
    "duration": 150,
    "start_time": "2022-11-14T18:39:19.351Z"
   },
   {
    "duration": 10,
    "start_time": "2022-11-14T18:39:19.502Z"
   },
   {
    "duration": 27,
    "start_time": "2022-11-14T18:39:19.514Z"
   },
   {
    "duration": 18,
    "start_time": "2022-11-14T18:39:19.543Z"
   },
   {
    "duration": 14,
    "start_time": "2022-11-14T18:39:19.562Z"
   },
   {
    "duration": 275,
    "start_time": "2022-11-14T18:39:19.578Z"
   },
   {
    "duration": 7,
    "start_time": "2022-11-14T18:39:19.855Z"
   },
   {
    "duration": 152,
    "start_time": "2022-11-14T18:39:19.864Z"
   },
   {
    "duration": 17,
    "start_time": "2022-11-14T18:39:20.018Z"
   },
   {
    "duration": 148,
    "start_time": "2022-11-14T18:39:20.037Z"
   },
   {
    "duration": 9,
    "start_time": "2022-11-14T18:39:20.186Z"
   },
   {
    "duration": 282,
    "start_time": "2022-11-14T18:39:20.196Z"
   },
   {
    "duration": 9,
    "start_time": "2022-11-14T18:39:20.480Z"
   },
   {
    "duration": 136,
    "start_time": "2022-11-14T18:39:20.490Z"
   },
   {
    "duration": 10,
    "start_time": "2022-11-14T18:39:20.634Z"
   },
   {
    "duration": 19,
    "start_time": "2022-11-14T18:39:20.646Z"
   },
   {
    "duration": 23,
    "start_time": "2022-11-14T18:39:20.666Z"
   },
   {
    "duration": 155,
    "start_time": "2022-11-14T18:39:20.690Z"
   },
   {
    "duration": 9,
    "start_time": "2022-11-14T18:39:20.846Z"
   },
   {
    "duration": 134,
    "start_time": "2022-11-14T18:39:20.857Z"
   },
   {
    "duration": 9,
    "start_time": "2022-11-14T18:39:20.993Z"
   },
   {
    "duration": 45,
    "start_time": "2022-11-14T18:39:21.003Z"
   },
   {
    "duration": 160,
    "start_time": "2022-11-14T18:39:21.050Z"
   },
   {
    "duration": 8,
    "start_time": "2022-11-14T18:39:21.212Z"
   },
   {
    "duration": 149,
    "start_time": "2022-11-14T18:39:21.222Z"
   },
   {
    "duration": 10,
    "start_time": "2022-11-14T18:39:21.373Z"
   },
   {
    "duration": 10,
    "start_time": "2022-11-14T18:39:21.384Z"
   },
   {
    "duration": 142,
    "start_time": "2022-11-14T18:39:21.395Z"
   },
   {
    "duration": 7,
    "start_time": "2022-11-14T18:39:21.539Z"
   },
   {
    "duration": 23,
    "start_time": "2022-11-14T18:39:21.548Z"
   },
   {
    "duration": 163,
    "start_time": "2022-11-14T18:39:21.573Z"
   },
   {
    "duration": 154,
    "start_time": "2022-11-14T18:39:21.737Z"
   },
   {
    "duration": 187,
    "start_time": "2022-11-14T18:39:21.893Z"
   },
   {
    "duration": 156,
    "start_time": "2022-11-14T18:39:22.085Z"
   },
   {
    "duration": 176,
    "start_time": "2022-11-14T18:39:22.243Z"
   },
   {
    "duration": 22,
    "start_time": "2022-11-14T18:39:22.422Z"
   },
   {
    "duration": 1093,
    "start_time": "2022-11-14T18:39:22.446Z"
   },
   {
    "duration": 77,
    "start_time": "2022-11-14T18:39:23.540Z"
   },
   {
    "duration": 0,
    "start_time": "2022-11-14T18:39:23.619Z"
   },
   {
    "duration": 0,
    "start_time": "2022-11-14T18:39:23.620Z"
   },
   {
    "duration": 0,
    "start_time": "2022-11-14T18:39:23.621Z"
   },
   {
    "duration": 0,
    "start_time": "2022-11-14T18:39:23.623Z"
   },
   {
    "duration": 0,
    "start_time": "2022-11-14T18:39:23.635Z"
   },
   {
    "duration": 0,
    "start_time": "2022-11-14T18:39:23.636Z"
   },
   {
    "duration": 0,
    "start_time": "2022-11-14T18:39:23.637Z"
   },
   {
    "duration": 0,
    "start_time": "2022-11-14T18:39:23.638Z"
   },
   {
    "duration": 0,
    "start_time": "2022-11-14T18:39:23.639Z"
   },
   {
    "duration": 0,
    "start_time": "2022-11-14T18:39:23.641Z"
   },
   {
    "duration": 0,
    "start_time": "2022-11-14T18:39:23.642Z"
   },
   {
    "duration": 9,
    "start_time": "2022-11-14T18:42:53.083Z"
   },
   {
    "duration": 492,
    "start_time": "2022-11-14T18:42:59.336Z"
   },
   {
    "duration": 16,
    "start_time": "2022-11-14T18:43:07.040Z"
   },
   {
    "duration": 350,
    "start_time": "2022-11-14T18:43:11.008Z"
   },
   {
    "duration": 678,
    "start_time": "2022-11-14T18:43:16.374Z"
   },
   {
    "duration": 778,
    "start_time": "2022-11-14T18:43:46.389Z"
   },
   {
    "duration": 498,
    "start_time": "2022-11-14T18:43:51.911Z"
   },
   {
    "duration": 560,
    "start_time": "2022-11-14T18:44:45.014Z"
   },
   {
    "duration": 740,
    "start_time": "2022-11-14T18:44:48.964Z"
   },
   {
    "duration": 669,
    "start_time": "2022-11-14T18:44:53.375Z"
   },
   {
    "duration": 693,
    "start_time": "2022-11-14T18:45:31.783Z"
   },
   {
    "duration": 748,
    "start_time": "2022-11-14T18:45:48.335Z"
   },
   {
    "duration": 751,
    "start_time": "2022-11-14T18:46:01.414Z"
   },
   {
    "duration": 468,
    "start_time": "2022-11-14T18:46:08.569Z"
   },
   {
    "duration": 706,
    "start_time": "2022-11-14T18:46:13.029Z"
   },
   {
    "duration": 494,
    "start_time": "2022-11-14T18:46:28.083Z"
   },
   {
    "duration": 17,
    "start_time": "2022-11-14T18:46:28.579Z"
   },
   {
    "duration": 2223,
    "start_time": "2022-11-14T18:46:28.598Z"
   },
   {
    "duration": 12,
    "start_time": "2022-11-14T18:46:30.824Z"
   },
   {
    "duration": 43,
    "start_time": "2022-11-14T18:46:30.838Z"
   },
   {
    "duration": 42,
    "start_time": "2022-11-14T18:46:30.883Z"
   },
   {
    "duration": 28,
    "start_time": "2022-11-14T18:46:30.926Z"
   },
   {
    "duration": 38,
    "start_time": "2022-11-14T18:46:30.956Z"
   },
   {
    "duration": 49,
    "start_time": "2022-11-14T18:46:30.996Z"
   },
   {
    "duration": 12,
    "start_time": "2022-11-14T18:46:31.048Z"
   },
   {
    "duration": 30,
    "start_time": "2022-11-14T18:46:31.062Z"
   },
   {
    "duration": 42,
    "start_time": "2022-11-14T18:46:31.094Z"
   },
   {
    "duration": 229,
    "start_time": "2022-11-14T18:46:31.137Z"
   },
   {
    "duration": 9,
    "start_time": "2022-11-14T18:46:31.368Z"
   },
   {
    "duration": 139,
    "start_time": "2022-11-14T18:46:31.379Z"
   },
   {
    "duration": 130,
    "start_time": "2022-11-14T18:46:31.519Z"
   },
   {
    "duration": 13,
    "start_time": "2022-11-14T18:46:31.650Z"
   },
   {
    "duration": 16,
    "start_time": "2022-11-14T18:46:31.665Z"
   },
   {
    "duration": 10,
    "start_time": "2022-11-14T18:46:31.682Z"
   },
   {
    "duration": 32985,
    "start_time": "2022-11-14T18:46:31.693Z"
   },
   {
    "duration": 17,
    "start_time": "2022-11-14T18:47:04.679Z"
   },
   {
    "duration": 46,
    "start_time": "2022-11-14T18:47:04.698Z"
   },
   {
    "duration": 4538,
    "start_time": "2022-11-14T18:47:04.746Z"
   },
   {
    "duration": 7,
    "start_time": "2022-11-14T18:47:09.285Z"
   },
   {
    "duration": 7,
    "start_time": "2022-11-14T18:47:09.293Z"
   },
   {
    "duration": 25,
    "start_time": "2022-11-14T18:47:09.301Z"
   },
   {
    "duration": 9,
    "start_time": "2022-11-14T18:47:09.328Z"
   },
   {
    "duration": 157,
    "start_time": "2022-11-14T18:47:09.341Z"
   },
   {
    "duration": 9,
    "start_time": "2022-11-14T18:47:09.500Z"
   },
   {
    "duration": 156,
    "start_time": "2022-11-14T18:47:09.510Z"
   },
   {
    "duration": 18,
    "start_time": "2022-11-14T18:47:09.668Z"
   },
   {
    "duration": 24,
    "start_time": "2022-11-14T18:47:09.688Z"
   },
   {
    "duration": 33,
    "start_time": "2022-11-14T18:47:09.714Z"
   },
   {
    "duration": 7118,
    "start_time": "2022-11-14T18:47:09.749Z"
   },
   {
    "duration": 1210,
    "start_time": "2022-11-14T18:47:16.869Z"
   },
   {
    "duration": 234,
    "start_time": "2022-11-14T18:47:18.080Z"
   },
   {
    "duration": 9,
    "start_time": "2022-11-14T18:47:18.315Z"
   },
   {
    "duration": 155,
    "start_time": "2022-11-14T18:47:18.326Z"
   },
   {
    "duration": 14,
    "start_time": "2022-11-14T18:47:18.483Z"
   },
   {
    "duration": 15,
    "start_time": "2022-11-14T18:47:18.499Z"
   },
   {
    "duration": 6051,
    "start_time": "2022-11-14T18:47:18.516Z"
   },
   {
    "duration": 176,
    "start_time": "2022-11-14T18:47:24.569Z"
   },
   {
    "duration": 14,
    "start_time": "2022-11-14T18:47:24.747Z"
   },
   {
    "duration": 9,
    "start_time": "2022-11-14T18:47:24.762Z"
   },
   {
    "duration": 8,
    "start_time": "2022-11-14T18:47:24.773Z"
   },
   {
    "duration": 22,
    "start_time": "2022-11-14T18:47:24.783Z"
   },
   {
    "duration": 35,
    "start_time": "2022-11-14T18:47:24.806Z"
   },
   {
    "duration": 12,
    "start_time": "2022-11-14T18:47:24.842Z"
   },
   {
    "duration": 172,
    "start_time": "2022-11-14T18:47:24.856Z"
   },
   {
    "duration": 13,
    "start_time": "2022-11-14T18:47:25.030Z"
   },
   {
    "duration": 26,
    "start_time": "2022-11-14T18:47:25.045Z"
   },
   {
    "duration": 26,
    "start_time": "2022-11-14T18:47:25.073Z"
   },
   {
    "duration": 25,
    "start_time": "2022-11-14T18:47:25.101Z"
   },
   {
    "duration": 272,
    "start_time": "2022-11-14T18:47:25.128Z"
   },
   {
    "duration": 7,
    "start_time": "2022-11-14T18:47:25.402Z"
   },
   {
    "duration": 150,
    "start_time": "2022-11-14T18:47:25.411Z"
   },
   {
    "duration": 8,
    "start_time": "2022-11-14T18:47:25.563Z"
   },
   {
    "duration": 154,
    "start_time": "2022-11-14T18:47:25.573Z"
   },
   {
    "duration": 9,
    "start_time": "2022-11-14T18:47:25.735Z"
   },
   {
    "duration": 139,
    "start_time": "2022-11-14T18:47:25.745Z"
   },
   {
    "duration": 9,
    "start_time": "2022-11-14T18:47:25.886Z"
   },
   {
    "duration": 232,
    "start_time": "2022-11-14T18:47:25.897Z"
   },
   {
    "duration": 10,
    "start_time": "2022-11-14T18:47:26.135Z"
   },
   {
    "duration": 2,
    "start_time": "2022-11-14T18:47:26.147Z"
   },
   {
    "duration": 18,
    "start_time": "2022-11-14T18:47:26.151Z"
   },
   {
    "duration": 171,
    "start_time": "2022-11-14T18:47:26.171Z"
   },
   {
    "duration": 9,
    "start_time": "2022-11-14T18:47:26.344Z"
   },
   {
    "duration": 139,
    "start_time": "2022-11-14T18:47:26.355Z"
   },
   {
    "duration": 9,
    "start_time": "2022-11-14T18:47:26.496Z"
   },
   {
    "duration": 19,
    "start_time": "2022-11-14T18:47:26.506Z"
   },
   {
    "duration": 157,
    "start_time": "2022-11-14T18:47:26.526Z"
   },
   {
    "duration": 9,
    "start_time": "2022-11-14T18:47:26.685Z"
   },
   {
    "duration": 173,
    "start_time": "2022-11-14T18:47:26.696Z"
   },
   {
    "duration": 10,
    "start_time": "2022-11-14T18:47:26.871Z"
   },
   {
    "duration": 12,
    "start_time": "2022-11-14T18:47:26.883Z"
   },
   {
    "duration": 144,
    "start_time": "2022-11-14T18:47:26.897Z"
   },
   {
    "duration": 7,
    "start_time": "2022-11-14T18:47:27.043Z"
   },
   {
    "duration": 23,
    "start_time": "2022-11-14T18:47:27.052Z"
   },
   {
    "duration": 178,
    "start_time": "2022-11-14T18:47:27.077Z"
   },
   {
    "duration": 155,
    "start_time": "2022-11-14T18:47:27.257Z"
   },
   {
    "duration": 166,
    "start_time": "2022-11-14T18:47:27.414Z"
   },
   {
    "duration": 154,
    "start_time": "2022-11-14T18:47:27.585Z"
   },
   {
    "duration": 164,
    "start_time": "2022-11-14T18:47:27.741Z"
   },
   {
    "duration": 9,
    "start_time": "2022-11-14T18:47:27.907Z"
   },
   {
    "duration": 1108,
    "start_time": "2022-11-14T18:47:27.918Z"
   },
   {
    "duration": 78,
    "start_time": "2022-11-14T18:47:29.028Z"
   },
   {
    "duration": 0,
    "start_time": "2022-11-14T18:47:29.108Z"
   },
   {
    "duration": 0,
    "start_time": "2022-11-14T18:47:29.110Z"
   },
   {
    "duration": 0,
    "start_time": "2022-11-14T18:47:29.111Z"
   },
   {
    "duration": 0,
    "start_time": "2022-11-14T18:47:29.113Z"
   },
   {
    "duration": 0,
    "start_time": "2022-11-14T18:47:29.114Z"
   },
   {
    "duration": 0,
    "start_time": "2022-11-14T18:47:29.136Z"
   },
   {
    "duration": 0,
    "start_time": "2022-11-14T18:47:29.138Z"
   },
   {
    "duration": 0,
    "start_time": "2022-11-14T18:47:29.139Z"
   },
   {
    "duration": 0,
    "start_time": "2022-11-14T18:47:29.141Z"
   },
   {
    "duration": 0,
    "start_time": "2022-11-14T18:47:29.142Z"
   },
   {
    "duration": 0,
    "start_time": "2022-11-14T18:47:29.143Z"
   },
   {
    "duration": 153,
    "start_time": "2022-11-14T18:47:46.058Z"
   },
   {
    "duration": 8,
    "start_time": "2022-11-14T18:47:51.712Z"
   },
   {
    "duration": 491,
    "start_time": "2022-11-14T18:47:57.138Z"
   },
   {
    "duration": 16,
    "start_time": "2022-11-14T18:48:01.256Z"
   },
   {
    "duration": 106,
    "start_time": "2022-11-14T18:48:10.589Z"
   },
   {
    "duration": 13,
    "start_time": "2022-11-14T18:48:15.723Z"
   },
   {
    "duration": 515,
    "start_time": "2022-11-14T18:48:28.960Z"
   },
   {
    "duration": 16,
    "start_time": "2022-11-14T18:48:29.477Z"
   },
   {
    "duration": 2162,
    "start_time": "2022-11-14T18:48:29.495Z"
   },
   {
    "duration": 11,
    "start_time": "2022-11-14T18:48:31.659Z"
   },
   {
    "duration": 8,
    "start_time": "2022-11-14T18:48:31.672Z"
   },
   {
    "duration": 25,
    "start_time": "2022-11-14T18:48:31.681Z"
   },
   {
    "duration": 10,
    "start_time": "2022-11-14T18:48:31.708Z"
   },
   {
    "duration": 22,
    "start_time": "2022-11-14T18:48:31.719Z"
   },
   {
    "duration": 21,
    "start_time": "2022-11-14T18:48:31.742Z"
   },
   {
    "duration": 25,
    "start_time": "2022-11-14T18:48:31.765Z"
   },
   {
    "duration": 29,
    "start_time": "2022-11-14T18:48:31.792Z"
   },
   {
    "duration": 30,
    "start_time": "2022-11-14T18:48:31.822Z"
   },
   {
    "duration": 239,
    "start_time": "2022-11-14T18:48:31.853Z"
   },
   {
    "duration": 9,
    "start_time": "2022-11-14T18:48:32.095Z"
   },
   {
    "duration": 149,
    "start_time": "2022-11-14T18:48:32.105Z"
   },
   {
    "duration": 127,
    "start_time": "2022-11-14T18:48:32.255Z"
   },
   {
    "duration": 13,
    "start_time": "2022-11-14T18:48:32.385Z"
   },
   {
    "duration": 44,
    "start_time": "2022-11-14T18:48:32.400Z"
   },
   {
    "duration": 22,
    "start_time": "2022-11-14T18:48:32.446Z"
   },
   {
    "duration": 32294,
    "start_time": "2022-11-14T18:48:32.471Z"
   },
   {
    "duration": 17,
    "start_time": "2022-11-14T18:49:04.766Z"
   },
   {
    "duration": 29,
    "start_time": "2022-11-14T18:49:04.785Z"
   },
   {
    "duration": 4084,
    "start_time": "2022-11-14T18:49:04.816Z"
   },
   {
    "duration": 5,
    "start_time": "2022-11-14T18:49:08.902Z"
   },
   {
    "duration": 13,
    "start_time": "2022-11-14T18:49:08.909Z"
   },
   {
    "duration": 17,
    "start_time": "2022-11-14T18:49:08.923Z"
   },
   {
    "duration": 4,
    "start_time": "2022-11-14T18:49:08.942Z"
   },
   {
    "duration": 170,
    "start_time": "2022-11-14T18:49:08.947Z"
   },
   {
    "duration": 16,
    "start_time": "2022-11-14T18:49:09.119Z"
   },
   {
    "duration": 141,
    "start_time": "2022-11-14T18:49:09.137Z"
   },
   {
    "duration": 17,
    "start_time": "2022-11-14T18:49:09.280Z"
   },
   {
    "duration": 36,
    "start_time": "2022-11-14T18:49:09.299Z"
   },
   {
    "duration": 13,
    "start_time": "2022-11-14T18:49:09.337Z"
   },
   {
    "duration": 6894,
    "start_time": "2022-11-14T18:49:09.351Z"
   },
   {
    "duration": 1229,
    "start_time": "2022-11-14T18:49:16.249Z"
   },
   {
    "duration": 235,
    "start_time": "2022-11-14T18:49:17.480Z"
   },
   {
    "duration": 9,
    "start_time": "2022-11-14T18:49:17.716Z"
   },
   {
    "duration": 143,
    "start_time": "2022-11-14T18:49:17.727Z"
   },
   {
    "duration": 13,
    "start_time": "2022-11-14T18:49:17.872Z"
   },
   {
    "duration": 26,
    "start_time": "2022-11-14T18:49:17.886Z"
   },
   {
    "duration": 6028,
    "start_time": "2022-11-14T18:49:17.916Z"
   },
   {
    "duration": 152,
    "start_time": "2022-11-14T18:49:23.946Z"
   },
   {
    "duration": 13,
    "start_time": "2022-11-14T18:49:24.099Z"
   },
   {
    "duration": 24,
    "start_time": "2022-11-14T18:49:24.113Z"
   },
   {
    "duration": 6,
    "start_time": "2022-11-14T18:49:24.139Z"
   },
   {
    "duration": 24,
    "start_time": "2022-11-14T18:49:24.146Z"
   },
   {
    "duration": 12,
    "start_time": "2022-11-14T18:49:24.172Z"
   },
   {
    "duration": 29,
    "start_time": "2022-11-14T18:49:24.185Z"
   },
   {
    "duration": 159,
    "start_time": "2022-11-14T18:49:24.215Z"
   },
   {
    "duration": 12,
    "start_time": "2022-11-14T18:49:24.376Z"
   },
   {
    "duration": 22,
    "start_time": "2022-11-14T18:49:24.391Z"
   },
   {
    "duration": 32,
    "start_time": "2022-11-14T18:49:24.414Z"
   },
   {
    "duration": 50,
    "start_time": "2022-11-14T18:49:24.448Z"
   },
   {
    "duration": 311,
    "start_time": "2022-11-14T18:49:24.499Z"
   },
   {
    "duration": 7,
    "start_time": "2022-11-14T18:49:24.812Z"
   },
   {
    "duration": 168,
    "start_time": "2022-11-14T18:49:24.821Z"
   },
   {
    "duration": 7,
    "start_time": "2022-11-14T18:49:24.991Z"
   },
   {
    "duration": 160,
    "start_time": "2022-11-14T18:49:25.000Z"
   },
   {
    "duration": 9,
    "start_time": "2022-11-14T18:49:25.162Z"
   },
   {
    "duration": 149,
    "start_time": "2022-11-14T18:49:25.173Z"
   },
   {
    "duration": 15,
    "start_time": "2022-11-14T18:49:25.324Z"
   },
   {
    "duration": 242,
    "start_time": "2022-11-14T18:49:25.341Z"
   },
   {
    "duration": 8,
    "start_time": "2022-11-14T18:49:25.585Z"
   },
   {
    "duration": 14,
    "start_time": "2022-11-14T18:49:25.595Z"
   },
   {
    "duration": 15,
    "start_time": "2022-11-14T18:49:25.611Z"
   },
   {
    "duration": 150,
    "start_time": "2022-11-14T18:49:25.627Z"
   },
   {
    "duration": 9,
    "start_time": "2022-11-14T18:49:25.779Z"
   },
   {
    "duration": 147,
    "start_time": "2022-11-14T18:49:25.790Z"
   },
   {
    "duration": 10,
    "start_time": "2022-11-14T18:49:25.938Z"
   },
   {
    "duration": 11,
    "start_time": "2022-11-14T18:49:25.949Z"
   },
   {
    "duration": 167,
    "start_time": "2022-11-14T18:49:25.961Z"
   },
   {
    "duration": 13,
    "start_time": "2022-11-14T18:49:26.129Z"
   },
   {
    "duration": 151,
    "start_time": "2022-11-14T18:49:26.144Z"
   },
   {
    "duration": 11,
    "start_time": "2022-11-14T18:49:26.297Z"
   },
   {
    "duration": 17,
    "start_time": "2022-11-14T18:49:26.309Z"
   },
   {
    "duration": 138,
    "start_time": "2022-11-14T18:49:26.328Z"
   },
   {
    "duration": 7,
    "start_time": "2022-11-14T18:49:26.468Z"
   },
   {
    "duration": 35,
    "start_time": "2022-11-14T18:49:26.477Z"
   },
   {
    "duration": 193,
    "start_time": "2022-11-14T18:49:26.514Z"
   },
   {
    "duration": 156,
    "start_time": "2022-11-14T18:49:26.710Z"
   },
   {
    "duration": 171,
    "start_time": "2022-11-14T18:49:26.867Z"
   },
   {
    "duration": 166,
    "start_time": "2022-11-14T18:49:27.040Z"
   },
   {
    "duration": 169,
    "start_time": "2022-11-14T18:49:27.208Z"
   },
   {
    "duration": 9,
    "start_time": "2022-11-14T18:49:27.380Z"
   },
   {
    "duration": 1056,
    "start_time": "2022-11-14T18:49:27.391Z"
   },
   {
    "duration": 92,
    "start_time": "2022-11-14T18:49:28.449Z"
   },
   {
    "duration": 0,
    "start_time": "2022-11-14T18:49:28.543Z"
   },
   {
    "duration": 0,
    "start_time": "2022-11-14T18:49:28.544Z"
   },
   {
    "duration": 0,
    "start_time": "2022-11-14T18:49:28.546Z"
   },
   {
    "duration": 0,
    "start_time": "2022-11-14T18:49:28.546Z"
   },
   {
    "duration": 0,
    "start_time": "2022-11-14T18:49:28.547Z"
   },
   {
    "duration": 0,
    "start_time": "2022-11-14T18:49:28.548Z"
   },
   {
    "duration": 0,
    "start_time": "2022-11-14T18:49:28.549Z"
   },
   {
    "duration": 0,
    "start_time": "2022-11-14T18:49:28.550Z"
   },
   {
    "duration": 0,
    "start_time": "2022-11-14T18:49:28.552Z"
   },
   {
    "duration": 0,
    "start_time": "2022-11-14T18:49:28.553Z"
   },
   {
    "duration": 0,
    "start_time": "2022-11-14T18:49:28.554Z"
   },
   {
    "duration": 17,
    "start_time": "2022-11-14T18:50:25.135Z"
   },
   {
    "duration": 20,
    "start_time": "2022-11-14T18:50:31.025Z"
   },
   {
    "duration": 8,
    "start_time": "2022-11-14T18:51:05.109Z"
   },
   {
    "duration": 466,
    "start_time": "2022-11-14T18:51:24.531Z"
   },
   {
    "duration": 3,
    "start_time": "2022-11-14T18:51:44.009Z"
   },
   {
    "duration": 43,
    "start_time": "2022-11-14T18:51:51.789Z"
   },
   {
    "duration": 17,
    "start_time": "2022-11-14T18:51:55.283Z"
   },
   {
    "duration": 284,
    "start_time": "2022-11-14T18:52:11.473Z"
   },
   {
    "duration": 692,
    "start_time": "2022-11-14T18:52:23.548Z"
   },
   {
    "duration": 6,
    "start_time": "2022-11-14T18:55:47.566Z"
   },
   {
    "duration": 9,
    "start_time": "2022-11-14T19:08:42.802Z"
   },
   {
    "duration": 689,
    "start_time": "2022-11-14T19:08:47.637Z"
   },
   {
    "duration": 14,
    "start_time": "2022-11-14T19:10:26.741Z"
   },
   {
    "duration": 11,
    "start_time": "2022-11-14T19:18:22.665Z"
   },
   {
    "duration": 23,
    "start_time": "2022-11-14T19:20:26.224Z"
   },
   {
    "duration": 57,
    "start_time": "2022-11-14T19:20:32.496Z"
   },
   {
    "duration": 22,
    "start_time": "2022-11-14T19:22:47.278Z"
   },
   {
    "duration": 10,
    "start_time": "2022-11-14T19:23:38.280Z"
   },
   {
    "duration": 134,
    "start_time": "2022-11-14T19:26:11.765Z"
   },
   {
    "duration": 16,
    "start_time": "2022-11-14T19:26:25.999Z"
   },
   {
    "duration": 294,
    "start_time": "2022-11-14T19:26:29.214Z"
   },
   {
    "duration": 10,
    "start_time": "2022-11-14T19:26:46.102Z"
   },
   {
    "duration": 5,
    "start_time": "2022-11-14T19:26:48.114Z"
   },
   {
    "duration": 468,
    "start_time": "2022-11-14T19:27:25.840Z"
   },
   {
    "duration": 486,
    "start_time": "2022-11-14T19:27:30.749Z"
   },
   {
    "duration": 674,
    "start_time": "2022-11-14T19:28:22.561Z"
   },
   {
    "duration": 9,
    "start_time": "2022-11-14T19:28:47.781Z"
   },
   {
    "duration": 8,
    "start_time": "2022-11-14T19:28:50.908Z"
   },
   {
    "duration": 14262,
    "start_time": "2022-11-14T19:28:56.103Z"
   },
   {
    "duration": 16,
    "start_time": "2022-11-14T19:29:19.408Z"
   },
   {
    "duration": 12,
    "start_time": "2022-11-14T19:30:33.929Z"
   },
   {
    "duration": 9,
    "start_time": "2022-11-14T19:30:40.442Z"
   },
   {
    "duration": 6,
    "start_time": "2022-11-14T19:32:11.141Z"
   },
   {
    "duration": 1091,
    "start_time": "2022-11-14T19:35:48.816Z"
   },
   {
    "duration": 936,
    "start_time": "2022-11-14T19:35:53.749Z"
   },
   {
    "duration": 7,
    "start_time": "2022-11-14T19:39:05.726Z"
   },
   {
    "duration": 823,
    "start_time": "2022-11-14T19:42:52.579Z"
   }
  ],
  "kernelspec": {
   "display_name": "Python 3 (ipykernel)",
   "language": "python",
   "name": "python3"
  },
  "language_info": {
   "codemirror_mode": {
    "name": "ipython",
    "version": 3
   },
   "file_extension": ".py",
   "mimetype": "text/x-python",
   "name": "python",
   "nbconvert_exporter": "python",
   "pygments_lexer": "ipython3",
   "version": "3.9.12"
  },
  "toc": {
   "base_numbering": 1,
   "nav_menu": {},
   "number_sections": true,
   "sideBar": true,
   "skip_h1_title": true,
   "title_cell": "Table of Contents",
   "title_sidebar": "Contents",
   "toc_cell": false,
   "toc_position": {
    "height": "calc(100% - 180px)",
    "left": "10px",
    "top": "150px",
    "width": "285.764px"
   },
   "toc_section_display": true,
   "toc_window_display": true
  }
 },
 "nbformat": 4,
 "nbformat_minor": 2
}
